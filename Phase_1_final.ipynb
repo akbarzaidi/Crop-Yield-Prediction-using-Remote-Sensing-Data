{
  "cells": [
    {
      "cell_type": "code",
      "execution_count": 4,
      "metadata": {
        "id": "-BrDm8rqwdeT"
      },
      "outputs": [],
      "source": [
        "import numpy as np \n",
        "import pandas as pd \n",
        "from matplotlib import pyplot as plt\n",
        "from sklearn.preprocessing import StandardScaler\n",
        "from sklearn.preprocessing import MinMaxScaler\n",
        "\n",
        "import datetime as dt\n",
        "from datetime import datetime\n",
        "from keras.models import Sequential\n",
        "from keras.layers import Dense, LSTM, Dropout\n",
        "from keras.optimizers import Adam\n",
        "\n",
        "from keras.callbacks import EarlyStopping, ReduceLROnPlateau, ModelCheckpoint, TensorBoard\n",
        "\n",
        "%matplotlib inline\n"
      ]
    },
    {
      "cell_type": "markdown",
      "metadata": {
        "id": "pqx2N4uqz9mg"
      },
      "source": [
        "#Data Cleaning"
      ]
    },
    {
      "cell_type": "markdown",
      "source": [
        "###Yield data"
      ],
      "metadata": {
        "id": "h5IFOdBaC41b"
      }
    },
    {
      "cell_type": "code",
      "execution_count": null,
      "metadata": {
        "colab": {
          "base_uri": "https://localhost:8080/",
          "height": 380
        },
        "id": "SG6At1UOwiWk",
        "outputId": "ff84af50-7bb9-4721-d49e-d506bb848eb3"
      },
      "outputs": [
        {
          "output_type": "error",
          "ename": "FileNotFoundError",
          "evalue": "ignored",
          "traceback": [
            "\u001b[0;31m---------------------------------------------------------------------------\u001b[0m",
            "\u001b[0;31mFileNotFoundError\u001b[0m                         Traceback (most recent call last)",
            "\u001b[0;32m<ipython-input-2-9b312c3f1d7b>\u001b[0m in \u001b[0;36m<module>\u001b[0;34m\u001b[0m\n\u001b[1;32m      1\u001b[0m \u001b[0;31m# crop production data\u001b[0m\u001b[0;34m\u001b[0m\u001b[0;34m\u001b[0m\u001b[0;34m\u001b[0m\u001b[0m\n\u001b[0;32m----> 2\u001b[0;31m \u001b[0mcrop_yield\u001b[0m \u001b[0;34m=\u001b[0m \u001b[0mpd\u001b[0m\u001b[0;34m.\u001b[0m\u001b[0mread_csv\u001b[0m\u001b[0;34m(\u001b[0m\u001b[0;34m'/content/Production_Crops_Livestock_E_All_Data.csv'\u001b[0m\u001b[0;34m)\u001b[0m\u001b[0;34m\u001b[0m\u001b[0;34m\u001b[0m\u001b[0m\n\u001b[0m\u001b[1;32m      3\u001b[0m \u001b[0mcrop_yield\u001b[0m\u001b[0;34m[\u001b[0m\u001b[0;34m:\u001b[0m\u001b[0;36m3\u001b[0m\u001b[0;34m]\u001b[0m\u001b[0;34m\u001b[0m\u001b[0;34m\u001b[0m\u001b[0m\n",
            "\u001b[0;32m/usr/local/lib/python3.8/dist-packages/pandas/util/_decorators.py\u001b[0m in \u001b[0;36mwrapper\u001b[0;34m(*args, **kwargs)\u001b[0m\n\u001b[1;32m    309\u001b[0m                     \u001b[0mstacklevel\u001b[0m\u001b[0;34m=\u001b[0m\u001b[0mstacklevel\u001b[0m\u001b[0;34m,\u001b[0m\u001b[0;34m\u001b[0m\u001b[0;34m\u001b[0m\u001b[0m\n\u001b[1;32m    310\u001b[0m                 )\n\u001b[0;32m--> 311\u001b[0;31m             \u001b[0;32mreturn\u001b[0m \u001b[0mfunc\u001b[0m\u001b[0;34m(\u001b[0m\u001b[0;34m*\u001b[0m\u001b[0margs\u001b[0m\u001b[0;34m,\u001b[0m \u001b[0;34m**\u001b[0m\u001b[0mkwargs\u001b[0m\u001b[0;34m)\u001b[0m\u001b[0;34m\u001b[0m\u001b[0;34m\u001b[0m\u001b[0m\n\u001b[0m\u001b[1;32m    312\u001b[0m \u001b[0;34m\u001b[0m\u001b[0m\n\u001b[1;32m    313\u001b[0m         \u001b[0;32mreturn\u001b[0m \u001b[0mwrapper\u001b[0m\u001b[0;34m\u001b[0m\u001b[0;34m\u001b[0m\u001b[0m\n",
            "\u001b[0;32m/usr/local/lib/python3.8/dist-packages/pandas/io/parsers/readers.py\u001b[0m in \u001b[0;36mread_csv\u001b[0;34m(filepath_or_buffer, sep, delimiter, header, names, index_col, usecols, squeeze, prefix, mangle_dupe_cols, dtype, engine, converters, true_values, false_values, skipinitialspace, skiprows, skipfooter, nrows, na_values, keep_default_na, na_filter, verbose, skip_blank_lines, parse_dates, infer_datetime_format, keep_date_col, date_parser, dayfirst, cache_dates, iterator, chunksize, compression, thousands, decimal, lineterminator, quotechar, quoting, doublequote, escapechar, comment, encoding, encoding_errors, dialect, error_bad_lines, warn_bad_lines, on_bad_lines, delim_whitespace, low_memory, memory_map, float_precision, storage_options)\u001b[0m\n\u001b[1;32m    584\u001b[0m     \u001b[0mkwds\u001b[0m\u001b[0;34m.\u001b[0m\u001b[0mupdate\u001b[0m\u001b[0;34m(\u001b[0m\u001b[0mkwds_defaults\u001b[0m\u001b[0;34m)\u001b[0m\u001b[0;34m\u001b[0m\u001b[0;34m\u001b[0m\u001b[0m\n\u001b[1;32m    585\u001b[0m \u001b[0;34m\u001b[0m\u001b[0m\n\u001b[0;32m--> 586\u001b[0;31m     \u001b[0;32mreturn\u001b[0m \u001b[0m_read\u001b[0m\u001b[0;34m(\u001b[0m\u001b[0mfilepath_or_buffer\u001b[0m\u001b[0;34m,\u001b[0m \u001b[0mkwds\u001b[0m\u001b[0;34m)\u001b[0m\u001b[0;34m\u001b[0m\u001b[0;34m\u001b[0m\u001b[0m\n\u001b[0m\u001b[1;32m    587\u001b[0m \u001b[0;34m\u001b[0m\u001b[0m\n\u001b[1;32m    588\u001b[0m \u001b[0;34m\u001b[0m\u001b[0m\n",
            "\u001b[0;32m/usr/local/lib/python3.8/dist-packages/pandas/io/parsers/readers.py\u001b[0m in \u001b[0;36m_read\u001b[0;34m(filepath_or_buffer, kwds)\u001b[0m\n\u001b[1;32m    480\u001b[0m \u001b[0;34m\u001b[0m\u001b[0m\n\u001b[1;32m    481\u001b[0m     \u001b[0;31m# Create the parser.\u001b[0m\u001b[0;34m\u001b[0m\u001b[0;34m\u001b[0m\u001b[0;34m\u001b[0m\u001b[0m\n\u001b[0;32m--> 482\u001b[0;31m     \u001b[0mparser\u001b[0m \u001b[0;34m=\u001b[0m \u001b[0mTextFileReader\u001b[0m\u001b[0;34m(\u001b[0m\u001b[0mfilepath_or_buffer\u001b[0m\u001b[0;34m,\u001b[0m \u001b[0;34m**\u001b[0m\u001b[0mkwds\u001b[0m\u001b[0;34m)\u001b[0m\u001b[0;34m\u001b[0m\u001b[0;34m\u001b[0m\u001b[0m\n\u001b[0m\u001b[1;32m    483\u001b[0m \u001b[0;34m\u001b[0m\u001b[0m\n\u001b[1;32m    484\u001b[0m     \u001b[0;32mif\u001b[0m \u001b[0mchunksize\u001b[0m \u001b[0;32mor\u001b[0m \u001b[0miterator\u001b[0m\u001b[0;34m:\u001b[0m\u001b[0;34m\u001b[0m\u001b[0;34m\u001b[0m\u001b[0m\n",
            "\u001b[0;32m/usr/local/lib/python3.8/dist-packages/pandas/io/parsers/readers.py\u001b[0m in \u001b[0;36m__init__\u001b[0;34m(self, f, engine, **kwds)\u001b[0m\n\u001b[1;32m    809\u001b[0m             \u001b[0mself\u001b[0m\u001b[0;34m.\u001b[0m\u001b[0moptions\u001b[0m\u001b[0;34m[\u001b[0m\u001b[0;34m\"has_index_names\"\u001b[0m\u001b[0;34m]\u001b[0m \u001b[0;34m=\u001b[0m \u001b[0mkwds\u001b[0m\u001b[0;34m[\u001b[0m\u001b[0;34m\"has_index_names\"\u001b[0m\u001b[0;34m]\u001b[0m\u001b[0;34m\u001b[0m\u001b[0;34m\u001b[0m\u001b[0m\n\u001b[1;32m    810\u001b[0m \u001b[0;34m\u001b[0m\u001b[0m\n\u001b[0;32m--> 811\u001b[0;31m         \u001b[0mself\u001b[0m\u001b[0;34m.\u001b[0m\u001b[0m_engine\u001b[0m \u001b[0;34m=\u001b[0m \u001b[0mself\u001b[0m\u001b[0;34m.\u001b[0m\u001b[0m_make_engine\u001b[0m\u001b[0;34m(\u001b[0m\u001b[0mself\u001b[0m\u001b[0;34m.\u001b[0m\u001b[0mengine\u001b[0m\u001b[0;34m)\u001b[0m\u001b[0;34m\u001b[0m\u001b[0;34m\u001b[0m\u001b[0m\n\u001b[0m\u001b[1;32m    812\u001b[0m \u001b[0;34m\u001b[0m\u001b[0m\n\u001b[1;32m    813\u001b[0m     \u001b[0;32mdef\u001b[0m \u001b[0mclose\u001b[0m\u001b[0;34m(\u001b[0m\u001b[0mself\u001b[0m\u001b[0;34m)\u001b[0m\u001b[0;34m:\u001b[0m\u001b[0;34m\u001b[0m\u001b[0;34m\u001b[0m\u001b[0m\n",
            "\u001b[0;32m/usr/local/lib/python3.8/dist-packages/pandas/io/parsers/readers.py\u001b[0m in \u001b[0;36m_make_engine\u001b[0;34m(self, engine)\u001b[0m\n\u001b[1;32m   1038\u001b[0m             )\n\u001b[1;32m   1039\u001b[0m         \u001b[0;31m# error: Too many arguments for \"ParserBase\"\u001b[0m\u001b[0;34m\u001b[0m\u001b[0;34m\u001b[0m\u001b[0;34m\u001b[0m\u001b[0m\n\u001b[0;32m-> 1040\u001b[0;31m         \u001b[0;32mreturn\u001b[0m \u001b[0mmapping\u001b[0m\u001b[0;34m[\u001b[0m\u001b[0mengine\u001b[0m\u001b[0;34m]\u001b[0m\u001b[0;34m(\u001b[0m\u001b[0mself\u001b[0m\u001b[0;34m.\u001b[0m\u001b[0mf\u001b[0m\u001b[0;34m,\u001b[0m \u001b[0;34m**\u001b[0m\u001b[0mself\u001b[0m\u001b[0;34m.\u001b[0m\u001b[0moptions\u001b[0m\u001b[0;34m)\u001b[0m  \u001b[0;31m# type: ignore[call-arg]\u001b[0m\u001b[0;34m\u001b[0m\u001b[0;34m\u001b[0m\u001b[0m\n\u001b[0m\u001b[1;32m   1041\u001b[0m \u001b[0;34m\u001b[0m\u001b[0m\n\u001b[1;32m   1042\u001b[0m     \u001b[0;32mdef\u001b[0m \u001b[0m_failover_to_python\u001b[0m\u001b[0;34m(\u001b[0m\u001b[0mself\u001b[0m\u001b[0;34m)\u001b[0m\u001b[0;34m:\u001b[0m\u001b[0;34m\u001b[0m\u001b[0;34m\u001b[0m\u001b[0m\n",
            "\u001b[0;32m/usr/local/lib/python3.8/dist-packages/pandas/io/parsers/c_parser_wrapper.py\u001b[0m in \u001b[0;36m__init__\u001b[0;34m(self, src, **kwds)\u001b[0m\n\u001b[1;32m     49\u001b[0m \u001b[0;34m\u001b[0m\u001b[0m\n\u001b[1;32m     50\u001b[0m         \u001b[0;31m# open handles\u001b[0m\u001b[0;34m\u001b[0m\u001b[0;34m\u001b[0m\u001b[0;34m\u001b[0m\u001b[0m\n\u001b[0;32m---> 51\u001b[0;31m         \u001b[0mself\u001b[0m\u001b[0;34m.\u001b[0m\u001b[0m_open_handles\u001b[0m\u001b[0;34m(\u001b[0m\u001b[0msrc\u001b[0m\u001b[0;34m,\u001b[0m \u001b[0mkwds\u001b[0m\u001b[0;34m)\u001b[0m\u001b[0;34m\u001b[0m\u001b[0;34m\u001b[0m\u001b[0m\n\u001b[0m\u001b[1;32m     52\u001b[0m         \u001b[0;32massert\u001b[0m \u001b[0mself\u001b[0m\u001b[0;34m.\u001b[0m\u001b[0mhandles\u001b[0m \u001b[0;32mis\u001b[0m \u001b[0;32mnot\u001b[0m \u001b[0;32mNone\u001b[0m\u001b[0;34m\u001b[0m\u001b[0;34m\u001b[0m\u001b[0m\n\u001b[1;32m     53\u001b[0m \u001b[0;34m\u001b[0m\u001b[0m\n",
            "\u001b[0;32m/usr/local/lib/python3.8/dist-packages/pandas/io/parsers/base_parser.py\u001b[0m in \u001b[0;36m_open_handles\u001b[0;34m(self, src, kwds)\u001b[0m\n\u001b[1;32m    220\u001b[0m         \u001b[0mLet\u001b[0m \u001b[0mthe\u001b[0m \u001b[0mreaders\u001b[0m \u001b[0mopen\u001b[0m \u001b[0mIOHandles\u001b[0m \u001b[0mafter\u001b[0m \u001b[0mthey\u001b[0m \u001b[0mare\u001b[0m \u001b[0mdone\u001b[0m \u001b[0;32mwith\u001b[0m \u001b[0mtheir\u001b[0m \u001b[0mpotential\u001b[0m \u001b[0mraises\u001b[0m\u001b[0;34m.\u001b[0m\u001b[0;34m\u001b[0m\u001b[0;34m\u001b[0m\u001b[0m\n\u001b[1;32m    221\u001b[0m         \"\"\"\n\u001b[0;32m--> 222\u001b[0;31m         self.handles = get_handle(\n\u001b[0m\u001b[1;32m    223\u001b[0m             \u001b[0msrc\u001b[0m\u001b[0;34m,\u001b[0m\u001b[0;34m\u001b[0m\u001b[0;34m\u001b[0m\u001b[0m\n\u001b[1;32m    224\u001b[0m             \u001b[0;34m\"r\"\u001b[0m\u001b[0;34m,\u001b[0m\u001b[0;34m\u001b[0m\u001b[0;34m\u001b[0m\u001b[0m\n",
            "\u001b[0;32m/usr/local/lib/python3.8/dist-packages/pandas/io/common.py\u001b[0m in \u001b[0;36mget_handle\u001b[0;34m(path_or_buf, mode, encoding, compression, memory_map, is_text, errors, storage_options)\u001b[0m\n\u001b[1;32m    700\u001b[0m         \u001b[0;32mif\u001b[0m \u001b[0mioargs\u001b[0m\u001b[0;34m.\u001b[0m\u001b[0mencoding\u001b[0m \u001b[0;32mand\u001b[0m \u001b[0;34m\"b\"\u001b[0m \u001b[0;32mnot\u001b[0m \u001b[0;32min\u001b[0m \u001b[0mioargs\u001b[0m\u001b[0;34m.\u001b[0m\u001b[0mmode\u001b[0m\u001b[0;34m:\u001b[0m\u001b[0;34m\u001b[0m\u001b[0;34m\u001b[0m\u001b[0m\n\u001b[1;32m    701\u001b[0m             \u001b[0;31m# Encoding\u001b[0m\u001b[0;34m\u001b[0m\u001b[0;34m\u001b[0m\u001b[0;34m\u001b[0m\u001b[0m\n\u001b[0;32m--> 702\u001b[0;31m             handle = open(\n\u001b[0m\u001b[1;32m    703\u001b[0m                 \u001b[0mhandle\u001b[0m\u001b[0;34m,\u001b[0m\u001b[0;34m\u001b[0m\u001b[0;34m\u001b[0m\u001b[0m\n\u001b[1;32m    704\u001b[0m                 \u001b[0mioargs\u001b[0m\u001b[0;34m.\u001b[0m\u001b[0mmode\u001b[0m\u001b[0;34m,\u001b[0m\u001b[0;34m\u001b[0m\u001b[0;34m\u001b[0m\u001b[0m\n",
            "\u001b[0;31mFileNotFoundError\u001b[0m: [Errno 2] No such file or directory: '/content/Production_Crops_Livestock_E_All_Data.csv'"
          ]
        }
      ],
      "source": [
        "# crop production data\n",
        "crop_yield = pd.read_csv('/content/Production_Crops_Livestock_E_All_Data.csv')\n",
        "crop_yield[:3]"
      ]
    },
    {
      "cell_type": "code",
      "source": [
        "crop_yield['Area'].unique()"
      ],
      "metadata": {
        "id": "hJpeU_xw5soD"
      },
      "execution_count": null,
      "outputs": []
    },
    {
      "cell_type": "markdown",
      "source": [
        "The data seems to include groups of countries or regions so we will drop those "
      ],
      "metadata": {
        "id": "_ttlbGYP6eOQ"
      }
    },
    {
      "cell_type": "code",
      "source": [
        "drop_rows = ['World', 'Africa', 'Eastern Africa', 'Middle Africa', 'Northern Africa','Southern Africa', 'Western Africa', 'Americas',\\\n",
        "       'Northern America', 'Central America', 'Caribbean','South America', 'Asia', 'Central Asia', 'Eastern Asia',\\\n",
        "       'Southern Asia', 'South-eastern Asia', 'Western Asia', 'Europe', 'Eastern Europe', 'Northern Europe', 'Southern Europe',\\\n",
        "       'Western Europe', 'Oceania', 'Australia and New Zealand', 'Melanesia', 'Micronesia', 'Polynesia', 'European Union (27)',\\\n",
        "       'Least Developed Countries', 'Land Locked Developing Countries', 'Small Island Developing States',\\\n",
        "       'Low Income Food Deficit Countries', 'Net Food Importing Developing Countries']\n",
        "corp_yield_countries = crop_yield.loc[~crop_yield['Area'].isin(drop_rows)]"
      ],
      "metadata": {
        "id": "quJ7-gIC6uET"
      },
      "execution_count": null,
      "outputs": []
    },
    {
      "cell_type": "code",
      "source": [
        "# getting the yield columns with float values and renaming them\n",
        "yield_columns = list(corp_yield_countries.select_dtypes(include=[float]).columns)\n",
        "\n",
        "# getting only the columns that are going to be used for EDA and modelling\n",
        "select_columns = ['Area', 'Item', 'Element', 'Unit'] + [col[1:] for col in yield_columns]\n",
        "yield_columns = {col:col[1:] for col in yield_columns}\n",
        "corp_yield_countries = corp_yield_countries.rename(columns=yield_columns)\n",
        "corp_yield_countries = corp_yield_countries[select_columns]\n",
        "\n",
        "# As we are intrested in the yield we will drop the rows where elements are Area harvested and production\n",
        "corp_yield_by_country = corp_yield_countries[corp_yield_countries['Element'] == 'Yield']"
      ],
      "metadata": {
        "id": "4gPII83s90iw"
      },
      "execution_count": null,
      "outputs": []
    },
    {
      "cell_type": "code",
      "source": [
        "corp_yield_by_country = corp_yield_by_country.fillna(0)\n",
        "corp_yield_by_country.head()"
      ],
      "metadata": {
        "id": "rNBecL2QN9KC"
      },
      "execution_count": null,
      "outputs": []
    },
    {
      "cell_type": "code",
      "source": [
        "# Getting the top 100 crops aggregating by its production in year 2020\n",
        "top_100_items = list(corp_yield_by_country.groupby('Item')['2020'].sum().sort_values().reset_index()[-100:]['Item'])\n",
        "\n",
        "# shortening the list to essential 33 crops manually picked from the top 100 list\n",
        "essential_33 = ['Cassava, fresh', 'Wheat', 'Maize (corn)', 'Rice', 'Barley', 'Millet', 'Seed cotton, unginned', 'Groundnuts, excluding shelled', 'Oil palm fruit',\\\n",
        "       'Potatoes', 'Rye', 'Soya beans', 'Sugar cane', 'Sunflower seed', 'Cereals, Total', 'Tomatoes', 'Peas, green', 'Tea leaves', 'Beans, dry',\\\n",
        "       'Bananas', 'Oranges', 'Almonds, in shell', 'Lettuce and chicory', 'Cocoa beans', 'Coffee, green', 'Carrots and turnips', 'Mushrooms and truffles',\\\n",
        "       'Cabbages', 'Onions and shallots, dry (excluding dehydrated)', 'Bananas', 'Pumpkins, squash and gourds', 'Citrus Fruit, Total', 'Lemons and limes']\n",
        "\n",
        "# Fetching the related data\n",
        "corp_yield_by_country_33 = corp_yield_by_country.loc[corp_yield_by_country['Item'].isin(essential_33)]"
      ],
      "metadata": {
        "id": "GeB5iv3DOfe-"
      },
      "execution_count": null,
      "outputs": []
    },
    {
      "cell_type": "code",
      "source": [
        "print('Number of countries growing the essential crops:', len(corp_yield_by_country_33['Area'].unique()))"
      ],
      "metadata": {
        "id": "cSCE1VGVSUbd"
      },
      "execution_count": null,
      "outputs": []
    },
    {
      "cell_type": "code",
      "source": [
        "rename_lst = [('Maize (corn)', 'Maize'), ('Seed cotton, unginned', 'Cotton'), ('Groundnuts, excluding shelled', 'Groundnuts'), ('Tea leaves', 'Tea'),\\\n",
        "              ('Oil palm fruit', 'Oil palm'), ('Mushrooms and truffles', 'Mushrooms'), ('Onions and shallots, dry (excluding dehydrated)', 'Onions'),\\\n",
        "              ('Pumpkins, squash and gourds', 'Pumpkins'), ('Carrots and turnips', 'Carrots'), ('Lettuce and chicory', 'Lettuce'), ('Beans, dry', 'Beans'),\\\n",
        "              ('Almonds, in shell', 'Almonds'), ('Cereals, Total', 'Cereals'), ('Citrus Fruit, Total', 'Fruits'), ('Lemons and limes', 'Lemons')]\n",
        "for old, new in rename_lst:\n",
        "  corp_yield_by_country_33.loc[corp_yield_by_country_33.Item == old, 'Item'] = new\n",
        "corp_yield_by_country_33.reset_index()"
      ],
      "metadata": {
        "id": "AKSKf2AlY8-b"
      },
      "execution_count": null,
      "outputs": []
    },
    {
      "cell_type": "markdown",
      "source": [
        "#### ARIMA univarite yield prediction"
      ],
      "metadata": {
        "id": "zhBymJZm3RiE"
      }
    },
    {
      "cell_type": "code",
      "source": [
        "# Prediction of yield - country wise for each crop\n",
        "from statsmodels.tsa.arima.model import ARIMA\n",
        "from sklearn.metrics import mean_squared_error\n",
        "from tqdm import tqdm\n",
        "from math import sqrt\n",
        "\n",
        "crop_yield = []\n",
        "yield_2021 = []\n",
        "yield_rmse = []\n",
        "size = int(60 * 0.75) # test train split size\n",
        "\n",
        "for idx, row in tqdm(corp_yield_by_country_33.iterrows()):\n",
        "  X = list(row[4:])\n",
        "  crop_yield.append(X)\n",
        "  train, test = X[0:size], X[size:60]\n",
        "  history = [x for x in train if x != 0]\n",
        "  predictions = list()\n",
        "  if len(history) >= 10:\n",
        "    # walk-forward validation for past 25 years\n",
        "    for t in range(len(test)):\n",
        "      model = ARIMA(history)\n",
        "      model_fit = model.fit()\n",
        "      output = model_fit.forecast()\n",
        "      yhat = output[0]\n",
        "      predictions.append(yhat)\n",
        "      obs = test[t]\n",
        "      history.append(obs)\n",
        "\n",
        "  # future yield prediction for year 2021\n",
        "    model = ARIMA(history)\n",
        "    model_fit = model.fit()\n",
        "    yield_2021.append(model_fit.forecast()[0])\n",
        "\n",
        "    rmse = sqrt(mean_squared_error(test, predictions))\n",
        "    yield_rmse.append(rmse)\n",
        "\n",
        "  else:\n",
        "    yield_2021.append(0)\n",
        "    yield_rmse.append(0)\n",
        "\n",
        "corp_yield_by_country_33['2021'] = yield_2021\n",
        "corp_yield_by_country_33['yield_rmse'] = yield_rmse"
      ],
      "metadata": {
        "id": "BwJAkQ5Ma8iA"
      },
      "execution_count": null,
      "outputs": []
    },
    {
      "cell_type": "code",
      "source": [
        "corp_yield_by_country_33.to_csv('corp_yield_by_country_33.csv')"
      ],
      "metadata": {
        "id": "zfPymMDI8xyY"
      },
      "execution_count": null,
      "outputs": []
    },
    {
      "cell_type": "code",
      "source": [
        "corp_yield_by_country_33.head()"
      ],
      "metadata": {
        "id": "w4k2K3JeCxHR"
      },
      "execution_count": null,
      "outputs": []
    },
    {
      "cell_type": "code",
      "source": [
        "corp_yield_by_country_33.sort_values('yield_rmse')[-20:]"
      ],
      "metadata": {
        "id": "Woc9kr1kC191"
      },
      "execution_count": null,
      "outputs": []
    },
    {
      "cell_type": "markdown",
      "source": [
        "### Temperature Data"
      ],
      "metadata": {
        "id": "ldkFG0VxnFUp"
      }
    },
    {
      "cell_type": "code",
      "source": [
        "corp_yield_by_country_33 = pd.read_csv('/content/corp_yield_by_country_33.csv')\n",
        "temperature = pd.read_csv('/content/Environment_Temperature_change_E_All_Data.csv')\n",
        "temperature[:3]"
      ],
      "metadata": {
        "id": "_NjngdR7nPIS"
      },
      "execution_count": null,
      "outputs": []
    },
    {
      "cell_type": "code",
      "source": [
        "drop_rows = ['World', 'Africa', 'Eastern Africa', 'Middle Africa', 'Northern Africa','Southern Africa', 'Western Africa', 'Americas',\\\n",
        "       'Northern America', 'Central America', 'Caribbean','South America', 'Asia', 'Central Asia', 'Eastern Asia',\\\n",
        "       'Southern Asia', 'South-eastern Asia', 'Western Asia', 'Europe', 'Eastern Europe', 'Northern Europe', 'Southern Europe',\\\n",
        "       'Western Europe', 'Oceania', 'Australia and New Zealand', 'Melanesia', 'Micronesia', 'Polynesia', 'European Union (27)',\\\n",
        "       'Least Developed Countries', 'Land Locked Developing Countries', 'Small Island Developing States',\\\n",
        "       'Low Income Food Deficit Countries', 'Net Food Importing Developing Countries']\n",
        "temperature_countries = temperature.loc[~temperature['Area'].isin(drop_rows)]"
      ],
      "metadata": {
        "id": "m030VaAhpBGg"
      },
      "execution_count": null,
      "outputs": []
    },
    {
      "cell_type": "code",
      "source": [
        "# getting the temperature columns with float values and renaming them\n",
        "temp_columns = list(temperature_countries.select_dtypes(include=[float]).columns)\n",
        "\n",
        "# getting only the columns that are going to be used for EDA and modelling\n",
        "select_columns = ['Area', 'Months', 'Element', 'Unit'] + [col[1:] for col in temp_columns]\n",
        "temp_columns = {col:col[1:] for col in temp_columns}\n",
        "temperature_countries = temperature_countries.rename(columns=temp_columns)\n",
        "temperature_countries = temperature_countries[select_columns]\n",
        "\n",
        "# As we are intrested in the temperature we will drop the rows where elements is Temperature change\n",
        "temperature_by_country = temperature_countries[temperature_countries['Element'] == 'Temperature change']"
      ],
      "metadata": {
        "id": "6mkgbeNQpVTQ"
      },
      "execution_count": null,
      "outputs": []
    },
    {
      "cell_type": "code",
      "source": [
        "temperature_by_country = temperature_by_country.groupby('Area').mean().reset_index()\n",
        "countries = corp_yield_by_country_33['Area'].unique()\n",
        "\n",
        "# Fetching the related data\n",
        "temperature_by_country = temperature_by_country.loc[temperature_by_country['Area'].isin(countries)]"
      ],
      "metadata": {
        "id": "0Kci8Nnqpxqm"
      },
      "execution_count": null,
      "outputs": []
    },
    {
      "cell_type": "code",
      "source": [
        "temperature_by_country.tail()"
      ],
      "metadata": {
        "id": "tyjDh_fgrM9r"
      },
      "execution_count": null,
      "outputs": []
    },
    {
      "cell_type": "code",
      "source": [
        "# From the below chart we can see that the temperature also has been changing like yield\n",
        "# So this may be a valuable data which can help predict yield better\n",
        "print(temperature_by_country.iloc[197]['Area'])\n",
        "plt.plot(temperature_by_country.iloc[197,1:])"
      ],
      "metadata": {
        "id": "3BBBjPjirea8"
      },
      "execution_count": null,
      "outputs": []
    },
    {
      "cell_type": "code",
      "source": [
        "# imputing the Nan values using temperature of previous year\n",
        "for i, col in enumerate(temperature_by_country[temperature_by_country.columns[2:]]):\n",
        "  temperature_by_country[col] = temperature_by_country[col].fillna(temperature_by_country.iloc[:,i+1])\n",
        "\n",
        "# verifying if values are imputed\n",
        "plt.plot(list(temperature_by_country[temperature_by_country['Area']=='Yemen'].iloc[0,1:]))"
      ],
      "metadata": {
        "id": "6NPVeoXvtrc1"
      },
      "execution_count": null,
      "outputs": []
    },
    {
      "cell_type": "code",
      "source": [
        "temperature_by_country.to_csv('temperature_by_country.csv')"
      ],
      "metadata": {
        "id": "dQsnUoM88F9W"
      },
      "execution_count": null,
      "outputs": []
    },
    {
      "cell_type": "markdown",
      "source": [
        "### Pesticide"
      ],
      "metadata": {
        "id": "pbTQiWwo1xxY"
      }
    },
    {
      "cell_type": "code",
      "source": [
        "corp_yield_by_country_33 = pd.read_csv('/content/corp_yield_by_country_33.csv')\n",
        "temperature_by_country = pd.read_csv('/content/temperature_by_country.csv')\n",
        "pesticide = pd.read_csv('/content/Inputs_Pesticides_Use_E_All_Data.csv')\n",
        "pesticide.head()"
      ],
      "metadata": {
        "id": "40ezfXTH11ng"
      },
      "execution_count": null,
      "outputs": []
    },
    {
      "cell_type": "code",
      "source": [
        "drop_rows = ['World', 'Africa', 'Eastern Africa', 'Middle Africa', 'Northern Africa','Southern Africa', 'Western Africa', 'Americas',\\\n",
        "       'Northern America', 'Central America', 'Caribbean','South America', 'Asia', 'Central Asia', 'Eastern Asia',\\\n",
        "       'Southern Asia', 'South-eastern Asia', 'Western Asia', 'Europe', 'Eastern Europe', 'Northern Europe', 'Southern Europe',\\\n",
        "       'Western Europe', 'Oceania', 'Australia and New Zealand', 'Melanesia', 'Micronesia', 'Polynesia', 'European Union (27)',\\\n",
        "       'Least Developed Countries', 'Land Locked Developing Countries', 'Small Island Developing States',\\\n",
        "       'Low Income Food Deficit Countries', 'Net Food Importing Developing Countries']\n",
        "pesticide_countries = pesticide.loc[~pesticide['Area'].isin(drop_rows)]\n",
        "# getting the pesticide columns with float values and renaming them\n",
        "pest_columns = list(pesticide_countries.select_dtypes(include=[float]).columns)\n",
        "\n",
        "# getting only the columns that are going to be used for EDA and modelling\n",
        "select_columns = ['Area', 'Item'] + [col[1:] for col in pest_columns]\n",
        "pest_columns = {col:col[1:] for col in pest_columns}\n",
        "pesticide_countries = pesticide_countries.rename(columns=pest_columns)\n",
        "pesticide_countries = pesticide_countries[select_columns]\n",
        "\n",
        "pesticide_countries = pesticide_countries.fillna(0)"
      ],
      "metadata": {
        "id": "RFkqPjB52tJo"
      },
      "execution_count": null,
      "outputs": []
    },
    {
      "cell_type": "code",
      "source": [
        "# checking if pesticide use show any significant pattern across years\n",
        "plt.plot(list(pesticide_countries[pesticide_countries['Area']=='Albania'].iloc[0,2:]))"
      ],
      "metadata": {
        "id": "WH7fpB7B3VaV"
      },
      "execution_count": null,
      "outputs": []
    },
    {
      "cell_type": "code",
      "source": [
        "pesticide_countries = pesticide_countries.groupby(['Area', 'Item']).mean().reset_index()\n",
        "countries = corp_yield_by_country_33['Area'].unique()\n",
        "\n",
        "# Fetching the related data\n",
        "pesticide_countries = pesticide_countries.loc[pesticide_countries['Area'].isin(countries)]\n",
        "pesticide_countries.head()"
      ],
      "metadata": {
        "id": "h9eGNoPy4XQs"
      },
      "execution_count": null,
      "outputs": []
    },
    {
      "cell_type": "code",
      "source": [
        "pesticide_countries = pesticide_countries.groupby('Area').sum().reset_index()\n"
      ],
      "metadata": {
        "id": "JhU3eHge-VeS"
      },
      "execution_count": null,
      "outputs": []
    },
    {
      "cell_type": "code",
      "source": [
        "new_rows = {'Area': [area for area in countries if area not in pesticide_countries['Area']]}\n",
        "for i in range(1990, 2021):\n",
        "  new_rows[str(i)] = [0] * len(new_rows['Area'])\n",
        "new_rows = pd.DataFrame(new_rows)\n",
        "pesticide_countries = pesticide_countries.append(new_rows)\n",
        "pesticide_countries = pesticide_countries[pesticide_countries['Area'].isin(countries)]"
      ],
      "metadata": {
        "id": "QKo0W1Td5P77"
      },
      "execution_count": null,
      "outputs": []
    },
    {
      "cell_type": "code",
      "source": [
        "pesticide_countries = pesticide_countries.groupby(['Area']).sum().reset_index()"
      ],
      "metadata": {
        "id": "kqJC2_D91Wpx"
      },
      "execution_count": null,
      "outputs": []
    },
    {
      "cell_type": "code",
      "source": [
        "empty_vals = [0 for i in range(len(pesticide_countries))]\n",
        "for i in range(1961,1990):\n",
        "  pesticide_countries.loc[:,str(i)] = empty_vals"
      ],
      "metadata": {
        "id": "BrDSEesXDHB9"
      },
      "execution_count": null,
      "outputs": []
    },
    {
      "cell_type": "code",
      "source": [
        "pesticide_countries.to_csv('pesticide_final.csv')"
      ],
      "metadata": {
        "id": "rU5T7fgnDcqh"
      },
      "execution_count": null,
      "outputs": []
    },
    {
      "cell_type": "markdown",
      "source": [
        "### Land Use"
      ],
      "metadata": {
        "id": "S1eNxhaCDt5I"
      }
    },
    {
      "cell_type": "code",
      "source": [
        "corp_yield_by_country_33 = pd.read_csv('/content/corp_yield_by_country_33.csv')\n",
        "temperature_by_country = pd.read_csv('/content/temperature_by_country.csv')\n",
        "pesticide = pd.read_csv('/content/pesticide_final.csv')\n",
        "land_use_by_counry = pd.read_csv('/content/Inputs_LandUse_E_All_Data.csv')\n",
        "land_use_by_counry.head(5)"
      ],
      "metadata": {
        "id": "rK4_fjWWEalh"
      },
      "execution_count": null,
      "outputs": []
    },
    {
      "cell_type": "code",
      "source": [
        "selected_land = ['Agriculture area actually irrigated', 'Agriculture', 'Land area actually irrigated', 'Agriculture area actually irrigated']\n",
        "landuse_countries = land_use_by_counry.loc[land_use_by_counry['Item'].isin(selected_land)]\n"
      ],
      "metadata": {
        "id": "mC-T9cjnkWgy"
      },
      "execution_count": null,
      "outputs": []
    },
    {
      "cell_type": "code",
      "source": [
        "drop_rows = ['World', 'Africa', 'Eastern Africa', 'Middle Africa', 'Northern Africa','Southern Africa', 'Western Africa', 'Americas',\\\n",
        "       'Northern America', 'Central America', 'Caribbean','South America', 'Asia', 'Central Asia', 'Eastern Asia',\\\n",
        "       'Southern Asia', 'South-eastern Asia', 'Western Asia', 'Europe', 'Eastern Europe', 'Northern Europe', 'Southern Europe',\\\n",
        "       'Western Europe', 'Oceania', 'Australia and New Zealand', 'Melanesia', 'Micronesia', 'Polynesia', 'European Union (27)',\\\n",
        "       'Least Developed Countries', 'Land Locked Developing Countries', 'Small Island Developing States',\\\n",
        "       'Low Income Food Deficit Countries', 'Net Food Importing Developing Countries']\n",
        "landuse_countries = landuse_countries.loc[~landuse_countries['Area'].isin(drop_rows)]\n",
        "# getting the pesticide columns with float values and renaming them\n",
        "land_columns = list(landuse_countries.select_dtypes(include=[float]).columns)\n",
        "\n",
        "# getting only the columns that are going to be used for EDA and modelling\n",
        "select_columns = ['Area'] + [col[1:] for col in land_columns]\n",
        "land_columns = {col:col[1:] for col in land_columns}\n",
        "landuse_countries = landuse_countries.rename(columns=land_columns)\n",
        "landuse_countries = landuse_countries[select_columns]\n",
        "\n",
        "landuse_countries = landuse_countries.fillna(0)"
      ],
      "metadata": {
        "id": "V0Qm_7RZj104"
      },
      "execution_count": null,
      "outputs": []
    },
    {
      "cell_type": "code",
      "source": [
        "landuse_countries = landuse_countries.groupby(['Area']).sum().reset_index()\n",
        "countries = corp_yield_by_country_33['Area'].unique()\n",
        "\n",
        "# Fetching the related data\n",
        "landuse_countries = landuse_countries.loc[landuse_countries['Area'].isin(countries)]\n",
        "landuse_countries.head()"
      ],
      "metadata": {
        "id": "cCKsOTxM49Ao"
      },
      "execution_count": null,
      "outputs": []
    },
    {
      "cell_type": "code",
      "source": [
        "# checking if land use show any significant pattern across years\n",
        "plt.plot(list(landuse_countries[landuse_countries['Area']=='India'].iloc[0,2:]))"
      ],
      "metadata": {
        "id": "SA3thJqO5G_w"
      },
      "execution_count": null,
      "outputs": []
    },
    {
      "cell_type": "code",
      "source": [
        "landuse_countries.to_csv('landuse_countries_final.csv')"
      ],
      "metadata": {
        "id": "8FOmq2Cx6Pia"
      },
      "execution_count": null,
      "outputs": []
    },
    {
      "cell_type": "markdown",
      "source": [
        "### Fertilizer"
      ],
      "metadata": {
        "id": "GiIXOKNy6Y8Y"
      }
    },
    {
      "cell_type": "code",
      "source": [
        "corp_yield_by_country = pd.read_csv('/content/Crop_by_country_final.csv')\n",
        "temperature_by_country = pd.read_csv('/content/temperature_by_country.csv')\n",
        "pesticide = pd.read_csv('/content/pesticide_final.csv')\n",
        "land_use_by_counry = pd.read_csv('/content/landuse_countries_final.csv')\n",
        "fertilizer_by_counry = pd.read_csv('/content/fertilizer_by_counry.csv')\n",
        "fertilizer_by_counry.head(5)"
      ],
      "metadata": {
        "id": "g62B00Au6kci",
        "colab": {
          "base_uri": "https://localhost:8080/",
          "height": 235
        },
        "outputId": "1b25cb5f-48fb-4d4d-fa06-c397c7ec1ad4"
      },
      "execution_count": 2,
      "outputs": [
        {
          "output_type": "error",
          "ename": "NameError",
          "evalue": "ignored",
          "traceback": [
            "\u001b[0;31m---------------------------------------------------------------------------\u001b[0m",
            "\u001b[0;31mNameError\u001b[0m                                 Traceback (most recent call last)",
            "\u001b[0;32m<ipython-input-2-cbfeabe4eb72>\u001b[0m in \u001b[0;36m<module>\u001b[0;34m\u001b[0m\n\u001b[0;32m----> 1\u001b[0;31m \u001b[0mcorp_yield_by_country\u001b[0m \u001b[0;34m=\u001b[0m \u001b[0mpd\u001b[0m\u001b[0;34m.\u001b[0m\u001b[0mread_csv\u001b[0m\u001b[0;34m(\u001b[0m\u001b[0;34m'/content/Crop_by_country_final.csv'\u001b[0m\u001b[0;34m)\u001b[0m\u001b[0;34m\u001b[0m\u001b[0;34m\u001b[0m\u001b[0m\n\u001b[0m\u001b[1;32m      2\u001b[0m \u001b[0mtemperature_by_country\u001b[0m \u001b[0;34m=\u001b[0m \u001b[0mpd\u001b[0m\u001b[0;34m.\u001b[0m\u001b[0mread_csv\u001b[0m\u001b[0;34m(\u001b[0m\u001b[0;34m'/content/temperature_by_country.csv'\u001b[0m\u001b[0;34m)\u001b[0m\u001b[0;34m\u001b[0m\u001b[0;34m\u001b[0m\u001b[0m\n\u001b[1;32m      3\u001b[0m \u001b[0mpesticide\u001b[0m \u001b[0;34m=\u001b[0m \u001b[0mpd\u001b[0m\u001b[0;34m.\u001b[0m\u001b[0mread_csv\u001b[0m\u001b[0;34m(\u001b[0m\u001b[0;34m'/content/pesticide_final.csv'\u001b[0m\u001b[0;34m)\u001b[0m\u001b[0;34m\u001b[0m\u001b[0;34m\u001b[0m\u001b[0m\n\u001b[1;32m      4\u001b[0m \u001b[0mland_use_by_counry\u001b[0m \u001b[0;34m=\u001b[0m \u001b[0mpd\u001b[0m\u001b[0;34m.\u001b[0m\u001b[0mread_csv\u001b[0m\u001b[0;34m(\u001b[0m\u001b[0;34m'/content/landuse_countries_final.csv'\u001b[0m\u001b[0;34m)\u001b[0m\u001b[0;34m\u001b[0m\u001b[0;34m\u001b[0m\u001b[0m\n\u001b[1;32m      5\u001b[0m \u001b[0mfertilizer_by_counry\u001b[0m \u001b[0;34m=\u001b[0m \u001b[0mpd\u001b[0m\u001b[0;34m.\u001b[0m\u001b[0mread_csv\u001b[0m\u001b[0;34m(\u001b[0m\u001b[0;34m'/content/fertilizer_by_counry.csv'\u001b[0m\u001b[0;34m)\u001b[0m\u001b[0;34m\u001b[0m\u001b[0;34m\u001b[0m\u001b[0m\n",
            "\u001b[0;31mNameError\u001b[0m: name 'pd' is not defined"
          ]
        }
      ]
    },
    {
      "cell_type": "code",
      "source": [
        "fertilizer_by_counry.fillna(0, inplace=True)\n",
        "fertilizer_by_counry = fertilizer_by_counry.loc[fertilizer_by_counry['Element'] == 'Agricultural Use']"
      ],
      "metadata": {
        "id": "L_JzVgRu6zKd"
      },
      "execution_count": null,
      "outputs": []
    },
    {
      "cell_type": "code",
      "source": [
        "drop_rows = ['World', 'Africa', 'Eastern Africa', 'Middle Africa', 'Northern Africa','Southern Africa', 'Western Africa', 'Americas',\\\n",
        "       'Northern America', 'Central America', 'Caribbean','South America', 'Asia', 'Central Asia', 'Eastern Asia',\\\n",
        "       'Southern Asia', 'South-eastern Asia', 'Western Asia', 'Europe', 'Eastern Europe', 'Northern Europe', 'Southern Europe',\\\n",
        "       'Western Europe', 'Oceania', 'Australia and New Zealand', 'Melanesia', 'Micronesia', 'Polynesia', 'European Union (27)',\\\n",
        "       'Least Developed Countries', 'Land Locked Developing Countries', 'Small Island Developing States',\\\n",
        "       'Low Income Food Deficit Countries', 'Net Food Importing Developing Countries']\n",
        "fertilizer_by_counry = fertilizer_by_counry.loc[~fertilizer_by_counry['Area'].isin(drop_rows)]\n",
        "# getting the pesticide columns with float values and renaming them\n",
        "fert_columns = list(fertilizer_by_counry.select_dtypes(include=[float]).columns)\n",
        "\n",
        "# getting only the columns that are going to be used for EDA and modelling\n",
        "select_columns = ['Area'] + [col[1:] for col in fert_columns]\n",
        "fert_columns = {col:col[1:] for col in fert_columns}\n",
        "fertilizer_by_counry = fertilizer_by_counry.rename(columns=fert_columns)\n",
        "fertilizer_by_counry = fertilizer_by_counry[select_columns]"
      ],
      "metadata": {
        "id": "VF7ag62B7Npt"
      },
      "execution_count": null,
      "outputs": []
    },
    {
      "cell_type": "code",
      "source": [
        "fertilizer_by_counry = fertilizer_by_counry.groupby(['Area']).sum().reset_index()\n",
        "countries = corp_yield_by_country_33['Area'].unique()\n",
        "\n",
        "# Fetching the related data\n",
        "fertilizer_by_counry = fertilizer_by_counry.loc[fertilizer_by_counry['Area'].isin(countries)]\n",
        "fertilizer_by_counry.head()"
      ],
      "metadata": {
        "id": "QApwmyfg7nmy"
      },
      "execution_count": null,
      "outputs": []
    },
    {
      "cell_type": "code",
      "source": [
        "new_rows = {'Area': [area for area in countries if area not in fertilizer_by_counry['Area']]}\n",
        "for i in range(1961, 2021):\n",
        "  new_rows[str(i)] = [0] * len(new_rows['Area'])\n",
        "new_rows = pd.DataFrame(new_rows)\n",
        "fertilizer_by_counry = fertilizer_by_counry.append(new_rows)\n",
        "fertilizer_by_counry = fertilizer_by_counry[fertilizer_by_counry['Area'].isin(countries)]"
      ],
      "metadata": {
        "id": "tcm_Cttu71b6"
      },
      "execution_count": null,
      "outputs": []
    },
    {
      "cell_type": "code",
      "source": [
        "fertilizer_by_counry = fertilizer_by_counry.groupby(['Area']).sum().reset_index()"
      ],
      "metadata": {
        "id": "U96Us_uk8g9z"
      },
      "execution_count": null,
      "outputs": []
    },
    {
      "cell_type": "code",
      "source": [
        "# checking if pesticide use show any significant pattern across years\n",
        "plt.plot(list(fertilizer_by_counry[fertilizer_by_counry['Area']=='India'].iloc[0,2:]))"
      ],
      "metadata": {
        "id": "EsNaRnOQ83Z6"
      },
      "execution_count": null,
      "outputs": []
    },
    {
      "cell_type": "code",
      "source": [
        "fertilizer_by_counry.to_csv('fertilizer_by_counry.csv')"
      ],
      "metadata": {
        "id": "zI6C6RDy8XjM"
      },
      "execution_count": null,
      "outputs": []
    },
    {
      "cell_type": "markdown",
      "source": [
        "### Rainfall"
      ],
      "metadata": {
        "id": "YvWFpoKM8t-M"
      }
    },
    {
      "cell_type": "markdown",
      "metadata": {
        "id": "eQEfBqux4gcB"
      },
      "source": [
        "Data Exploration"
      ]
    },
    {
      "cell_type": "markdown",
      "source": [
        "## Modeling"
      ],
      "metadata": {
        "id": "FOeTK5ZTQsoG"
      }
    },
    {
      "cell_type": "code",
      "source": [
        "corp_yield_by_country = pd.read_csv('/content/Crop_by_country_final.csv')\n",
        "temperature_by_country = pd.read_csv('/content/temperature_by_country.csv')\n",
        "pesticide = pd.read_csv('/content/pesticide_final.csv')\n",
        "land_use_by_counry = pd.read_csv('/content/landuse_countries_final.csv')\n",
        "fertilizer_by_counry = pd.read_csv('/content/fertilizer_by_counry.csv')"
      ],
      "metadata": {
        "id": "b3QE_Pb3-Czm"
      },
      "execution_count": 5,
      "outputs": []
    },
    {
      "cell_type": "code",
      "source": [
        "corp_yield_by_country.head()"
      ],
      "metadata": {
        "colab": {
          "base_uri": "https://localhost:8080/",
          "height": 317
        },
        "id": "VVJNxbtxS3kt",
        "outputId": "d32d63ad-03c3-4055-ad58-cbe0f0cd6cfc"
      },
      "execution_count": 5,
      "outputs": [
        {
          "output_type": "execute_result",
          "data": {
            "text/plain": [
              "   Unnamed: 0         Area     Item Element   Unit     1961     1962     1963  \\\n",
              "0           0  Afghanistan  Almonds   Yield  hg/ha      0.0      0.0      0.0   \n",
              "1           1  Afghanistan   Barley   Yield  hg/ha  10800.0  10800.0  10800.0   \n",
              "2           2  Afghanistan    Maize   Yield  hg/ha  14000.0  14000.0  14260.0   \n",
              "3           3  Afghanistan   Millet   Yield  hg/ha   8085.0   8163.0   8235.0   \n",
              "4           4  Afghanistan   Onions   Yield  hg/ha      0.0      0.0      0.0   \n",
              "\n",
              "      1964     1965  ...      2014      2015      2016      2017      2018  \\\n",
              "0      0.0      0.0  ...   19996.0   16521.0   16859.0   13788.0   17161.0   \n",
              "1  10857.0  10857.0  ...   15213.0   14291.0   13770.0   13933.0    6748.0   \n",
              "2  14257.0  14400.0  ...   24882.0   21457.0   20517.0   12957.0   14727.0   \n",
              "3   8302.0   8364.0  ...   24845.0   23201.0   22269.0   21865.0   20729.0   \n",
              "4      0.0      0.0  ...  138337.0  138357.0  106223.0  119632.0  146201.0   \n",
              "\n",
              "       2019      2020           2021    yield_rmse  CID  \n",
              "0   13083.0   17759.0   20324.400000  15077.145923  AFG  \n",
              "1   14699.0   14838.0   11932.921758   4998.769347  AFG  \n",
              "2   19457.0   19344.0   17156.389623   5830.088479  AFG  \n",
              "3   19372.0   13187.0   11730.271760  12993.961276  AFG  \n",
              "4  192294.0  168470.0  160326.766667  29639.046714  AFG  \n",
              "\n",
              "[5 rows x 68 columns]"
            ],
            "text/html": [
              "\n",
              "  <div id=\"df-38d04191-e471-456c-a8dc-d4b29063c2ae\">\n",
              "    <div class=\"colab-df-container\">\n",
              "      <div>\n",
              "<style scoped>\n",
              "    .dataframe tbody tr th:only-of-type {\n",
              "        vertical-align: middle;\n",
              "    }\n",
              "\n",
              "    .dataframe tbody tr th {\n",
              "        vertical-align: top;\n",
              "    }\n",
              "\n",
              "    .dataframe thead th {\n",
              "        text-align: right;\n",
              "    }\n",
              "</style>\n",
              "<table border=\"1\" class=\"dataframe\">\n",
              "  <thead>\n",
              "    <tr style=\"text-align: right;\">\n",
              "      <th></th>\n",
              "      <th>Unnamed: 0</th>\n",
              "      <th>Area</th>\n",
              "      <th>Item</th>\n",
              "      <th>Element</th>\n",
              "      <th>Unit</th>\n",
              "      <th>1961</th>\n",
              "      <th>1962</th>\n",
              "      <th>1963</th>\n",
              "      <th>1964</th>\n",
              "      <th>1965</th>\n",
              "      <th>...</th>\n",
              "      <th>2014</th>\n",
              "      <th>2015</th>\n",
              "      <th>2016</th>\n",
              "      <th>2017</th>\n",
              "      <th>2018</th>\n",
              "      <th>2019</th>\n",
              "      <th>2020</th>\n",
              "      <th>2021</th>\n",
              "      <th>yield_rmse</th>\n",
              "      <th>CID</th>\n",
              "    </tr>\n",
              "  </thead>\n",
              "  <tbody>\n",
              "    <tr>\n",
              "      <th>0</th>\n",
              "      <td>0</td>\n",
              "      <td>Afghanistan</td>\n",
              "      <td>Almonds</td>\n",
              "      <td>Yield</td>\n",
              "      <td>hg/ha</td>\n",
              "      <td>0.0</td>\n",
              "      <td>0.0</td>\n",
              "      <td>0.0</td>\n",
              "      <td>0.0</td>\n",
              "      <td>0.0</td>\n",
              "      <td>...</td>\n",
              "      <td>19996.0</td>\n",
              "      <td>16521.0</td>\n",
              "      <td>16859.0</td>\n",
              "      <td>13788.0</td>\n",
              "      <td>17161.0</td>\n",
              "      <td>13083.0</td>\n",
              "      <td>17759.0</td>\n",
              "      <td>20324.400000</td>\n",
              "      <td>15077.145923</td>\n",
              "      <td>AFG</td>\n",
              "    </tr>\n",
              "    <tr>\n",
              "      <th>1</th>\n",
              "      <td>1</td>\n",
              "      <td>Afghanistan</td>\n",
              "      <td>Barley</td>\n",
              "      <td>Yield</td>\n",
              "      <td>hg/ha</td>\n",
              "      <td>10800.0</td>\n",
              "      <td>10800.0</td>\n",
              "      <td>10800.0</td>\n",
              "      <td>10857.0</td>\n",
              "      <td>10857.0</td>\n",
              "      <td>...</td>\n",
              "      <td>15213.0</td>\n",
              "      <td>14291.0</td>\n",
              "      <td>13770.0</td>\n",
              "      <td>13933.0</td>\n",
              "      <td>6748.0</td>\n",
              "      <td>14699.0</td>\n",
              "      <td>14838.0</td>\n",
              "      <td>11932.921758</td>\n",
              "      <td>4998.769347</td>\n",
              "      <td>AFG</td>\n",
              "    </tr>\n",
              "    <tr>\n",
              "      <th>2</th>\n",
              "      <td>2</td>\n",
              "      <td>Afghanistan</td>\n",
              "      <td>Maize</td>\n",
              "      <td>Yield</td>\n",
              "      <td>hg/ha</td>\n",
              "      <td>14000.0</td>\n",
              "      <td>14000.0</td>\n",
              "      <td>14260.0</td>\n",
              "      <td>14257.0</td>\n",
              "      <td>14400.0</td>\n",
              "      <td>...</td>\n",
              "      <td>24882.0</td>\n",
              "      <td>21457.0</td>\n",
              "      <td>20517.0</td>\n",
              "      <td>12957.0</td>\n",
              "      <td>14727.0</td>\n",
              "      <td>19457.0</td>\n",
              "      <td>19344.0</td>\n",
              "      <td>17156.389623</td>\n",
              "      <td>5830.088479</td>\n",
              "      <td>AFG</td>\n",
              "    </tr>\n",
              "    <tr>\n",
              "      <th>3</th>\n",
              "      <td>3</td>\n",
              "      <td>Afghanistan</td>\n",
              "      <td>Millet</td>\n",
              "      <td>Yield</td>\n",
              "      <td>hg/ha</td>\n",
              "      <td>8085.0</td>\n",
              "      <td>8163.0</td>\n",
              "      <td>8235.0</td>\n",
              "      <td>8302.0</td>\n",
              "      <td>8364.0</td>\n",
              "      <td>...</td>\n",
              "      <td>24845.0</td>\n",
              "      <td>23201.0</td>\n",
              "      <td>22269.0</td>\n",
              "      <td>21865.0</td>\n",
              "      <td>20729.0</td>\n",
              "      <td>19372.0</td>\n",
              "      <td>13187.0</td>\n",
              "      <td>11730.271760</td>\n",
              "      <td>12993.961276</td>\n",
              "      <td>AFG</td>\n",
              "    </tr>\n",
              "    <tr>\n",
              "      <th>4</th>\n",
              "      <td>4</td>\n",
              "      <td>Afghanistan</td>\n",
              "      <td>Onions</td>\n",
              "      <td>Yield</td>\n",
              "      <td>hg/ha</td>\n",
              "      <td>0.0</td>\n",
              "      <td>0.0</td>\n",
              "      <td>0.0</td>\n",
              "      <td>0.0</td>\n",
              "      <td>0.0</td>\n",
              "      <td>...</td>\n",
              "      <td>138337.0</td>\n",
              "      <td>138357.0</td>\n",
              "      <td>106223.0</td>\n",
              "      <td>119632.0</td>\n",
              "      <td>146201.0</td>\n",
              "      <td>192294.0</td>\n",
              "      <td>168470.0</td>\n",
              "      <td>160326.766667</td>\n",
              "      <td>29639.046714</td>\n",
              "      <td>AFG</td>\n",
              "    </tr>\n",
              "  </tbody>\n",
              "</table>\n",
              "<p>5 rows × 68 columns</p>\n",
              "</div>\n",
              "      <button class=\"colab-df-convert\" onclick=\"convertToInteractive('df-38d04191-e471-456c-a8dc-d4b29063c2ae')\"\n",
              "              title=\"Convert this dataframe to an interactive table.\"\n",
              "              style=\"display:none;\">\n",
              "        \n",
              "  <svg xmlns=\"http://www.w3.org/2000/svg\" height=\"24px\"viewBox=\"0 0 24 24\"\n",
              "       width=\"24px\">\n",
              "    <path d=\"M0 0h24v24H0V0z\" fill=\"none\"/>\n",
              "    <path d=\"M18.56 5.44l.94 2.06.94-2.06 2.06-.94-2.06-.94-.94-2.06-.94 2.06-2.06.94zm-11 1L8.5 8.5l.94-2.06 2.06-.94-2.06-.94L8.5 2.5l-.94 2.06-2.06.94zm10 10l.94 2.06.94-2.06 2.06-.94-2.06-.94-.94-2.06-.94 2.06-2.06.94z\"/><path d=\"M17.41 7.96l-1.37-1.37c-.4-.4-.92-.59-1.43-.59-.52 0-1.04.2-1.43.59L10.3 9.45l-7.72 7.72c-.78.78-.78 2.05 0 2.83L4 21.41c.39.39.9.59 1.41.59.51 0 1.02-.2 1.41-.59l7.78-7.78 2.81-2.81c.8-.78.8-2.07 0-2.86zM5.41 20L4 18.59l7.72-7.72 1.47 1.35L5.41 20z\"/>\n",
              "  </svg>\n",
              "      </button>\n",
              "      \n",
              "  <style>\n",
              "    .colab-df-container {\n",
              "      display:flex;\n",
              "      flex-wrap:wrap;\n",
              "      gap: 12px;\n",
              "    }\n",
              "\n",
              "    .colab-df-convert {\n",
              "      background-color: #E8F0FE;\n",
              "      border: none;\n",
              "      border-radius: 50%;\n",
              "      cursor: pointer;\n",
              "      display: none;\n",
              "      fill: #1967D2;\n",
              "      height: 32px;\n",
              "      padding: 0 0 0 0;\n",
              "      width: 32px;\n",
              "    }\n",
              "\n",
              "    .colab-df-convert:hover {\n",
              "      background-color: #E2EBFA;\n",
              "      box-shadow: 0px 1px 2px rgba(60, 64, 67, 0.3), 0px 1px 3px 1px rgba(60, 64, 67, 0.15);\n",
              "      fill: #174EA6;\n",
              "    }\n",
              "\n",
              "    [theme=dark] .colab-df-convert {\n",
              "      background-color: #3B4455;\n",
              "      fill: #D2E3FC;\n",
              "    }\n",
              "\n",
              "    [theme=dark] .colab-df-convert:hover {\n",
              "      background-color: #434B5C;\n",
              "      box-shadow: 0px 1px 3px 1px rgba(0, 0, 0, 0.15);\n",
              "      filter: drop-shadow(0px 1px 2px rgba(0, 0, 0, 0.3));\n",
              "      fill: #FFFFFF;\n",
              "    }\n",
              "  </style>\n",
              "\n",
              "      <script>\n",
              "        const buttonEl =\n",
              "          document.querySelector('#df-38d04191-e471-456c-a8dc-d4b29063c2ae button.colab-df-convert');\n",
              "        buttonEl.style.display =\n",
              "          google.colab.kernel.accessAllowed ? 'block' : 'none';\n",
              "\n",
              "        async function convertToInteractive(key) {\n",
              "          const element = document.querySelector('#df-38d04191-e471-456c-a8dc-d4b29063c2ae');\n",
              "          const dataTable =\n",
              "            await google.colab.kernel.invokeFunction('convertToInteractive',\n",
              "                                                     [key], {});\n",
              "          if (!dataTable) return;\n",
              "\n",
              "          const docLinkHtml = 'Like what you see? Visit the ' +\n",
              "            '<a target=\"_blank\" href=https://colab.research.google.com/notebooks/data_table.ipynb>data table notebook</a>'\n",
              "            + ' to learn more about interactive tables.';\n",
              "          element.innerHTML = '';\n",
              "          dataTable['output_type'] = 'display_data';\n",
              "          await google.colab.output.renderOutput(dataTable, element);\n",
              "          const docLink = document.createElement('div');\n",
              "          docLink.innerHTML = docLinkHtml;\n",
              "          element.appendChild(docLink);\n",
              "        }\n",
              "      </script>\n",
              "    </div>\n",
              "  </div>\n",
              "  "
            ]
          },
          "metadata": {},
          "execution_count": 5
        }
      ]
    },
    {
      "cell_type": "code",
      "source": [
        "scaled_corp_yield_by_country = corp_yield_by_country.copy(deep = True)"
      ],
      "metadata": {
        "id": "n_eDimqSTBe2"
      },
      "execution_count": 6,
      "outputs": []
    },
    {
      "cell_type": "code",
      "source": [
        "cols = ['yield_rmse']"
      ],
      "metadata": {
        "id": "pUltGvl8T-Z6"
      },
      "execution_count": 7,
      "outputs": []
    },
    {
      "cell_type": "code",
      "source": [
        "ss = MinMaxScaler()\n",
        "yield_scaled = pd.DataFrame(ss.fit_transform(scaled_corp_yield_by_country[['yield_rmse']]),columns = cols)\n",
        "\n",
        "rmse = np.mean(yield_scaled['yield_rmse'])\n",
        "print(\"Avg RMSE for ARIMA Model is:\", round(rmse, 5))"
      ],
      "metadata": {
        "colab": {
          "base_uri": "https://localhost:8080/"
        },
        "id": "HHTKTycjTe7z",
        "outputId": "afbcdf02-15c0-4142-d85a-60be0cca0adc"
      },
      "execution_count": 8,
      "outputs": [
        {
          "output_type": "stream",
          "name": "stdout",
          "text": [
            "Avg RMSE for ARIMA Model is: 0.0035\n"
          ]
        }
      ]
    },
    {
      "cell_type": "code",
      "source": [
        "data = corp_yield_by_country\n",
        "value_vars = [str(val) for val in range(1961,2022)]\n",
        "data = data.drop(['Unnamed: 0', 'Element', 'Unit', 'yield_rmse'], axis=1)\n",
        "data = data.melt(id_vars=[\"Area\", \"CID\", \"Item\"], \n",
        "        var_name=\"Date\", \n",
        "        value_name=\"Yield\")\n",
        "data = data.sort_values(['Area', 'Item']).reset_index()\n",
        "crop_data = data.drop('index', axis=1)"
      ],
      "metadata": {
        "id": "qlP8ulbI9wSc"
      },
      "execution_count": 9,
      "outputs": []
    },
    {
      "cell_type": "code",
      "source": [
        "def change_data(data, column):\n",
        "  value_vars = [str(val) for val in range(1961,2022)]\n",
        "  data = data.drop(['Unnamed: 0'], axis=1)\n",
        "  data = data.melt(id_vars=[\"Area\"], \n",
        "          var_name=\"Date\", \n",
        "          value_name=column)\n",
        "  data = data.sort_values(['Area']).reset_index()\n",
        "  return data.drop('index', axis=1)"
      ],
      "metadata": {
        "id": "l3fiK0kOCvkY"
      },
      "execution_count": 10,
      "outputs": []
    },
    {
      "cell_type": "code",
      "source": [
        "pest_data = change_data(pesticide, 'pesticide')\n",
        "land_data = change_data(land_use_by_counry, 'land_use')\n",
        "fertilize_data = change_data(fertilizer_by_counry, 'fertilizer')\n",
        "temperature_data = change_data(temperature_by_country, 'temperature')"
      ],
      "metadata": {
        "id": "CyPlg349-Olt"
      },
      "execution_count": 11,
      "outputs": []
    },
    {
      "cell_type": "code",
      "source": [
        "merged_left = pd.merge(left=crop_data, right=pest_data, how='left', left_on=['Area', 'Date'], right_on=['Area', 'Date'])\n",
        "merged_left = pd.merge(left=merged_left, right=land_data, how='left', left_on=['Area', 'Date'], right_on=['Area', 'Date'])\n",
        "merged_left = pd.merge(left=merged_left, right=fertilize_data, how='left', left_on=['Area', 'Date'], right_on=['Area', 'Date'])\n",
        "merged_left = pd.merge(left=merged_left, right=temperature_data, how='left', left_on=['Area', 'Date'], right_on=['Area', 'Date'])"
      ],
      "metadata": {
        "id": "U_O5D5CQ-kL1"
      },
      "execution_count": 12,
      "outputs": []
    },
    {
      "cell_type": "code",
      "source": [
        "final_df = merged_left"
      ],
      "metadata": {
        "id": "7XMcYTk5AFSn"
      },
      "execution_count": 13,
      "outputs": []
    },
    {
      "cell_type": "code",
      "source": [
        "final_df.fillna(0, inplace=True)"
      ],
      "metadata": {
        "id": "kb4MfR1UJfEe"
      },
      "execution_count": 14,
      "outputs": []
    },
    {
      "cell_type": "code",
      "source": [
        "final_df.head()"
      ],
      "metadata": {
        "colab": {
          "base_uri": "https://localhost:8080/",
          "height": 206
        },
        "id": "AvASZwsyEi_6",
        "outputId": "0bb7e186-fc55-4b5c-cc58-18d8437be0df"
      },
      "execution_count": 15,
      "outputs": [
        {
          "output_type": "execute_result",
          "data": {
            "text/plain": [
              "          Area  CID     Item  Date  Yield  pesticide  land_use  fertilizer  \\\n",
              "0  Afghanistan  AFG  Almonds  1961    0.0        0.0   37700.0      1100.0   \n",
              "1  Afghanistan  AFG  Almonds  1962    0.0        0.0   37760.0      1100.0   \n",
              "2  Afghanistan  AFG  Almonds  1963    0.0        0.0   37810.0      1100.0   \n",
              "3  Afghanistan  AFG  Almonds  1964    0.0        0.0   37873.0      1100.0   \n",
              "4  Afghanistan  AFG  Almonds  1965    0.0        0.0   37875.0      1100.0   \n",
              "\n",
              "   temperature  \n",
              "0     0.000706  \n",
              "1    -0.235235  \n",
              "2     0.860647  \n",
              "3    -0.921765  \n",
              "4    -0.062941  "
            ],
            "text/html": [
              "\n",
              "  <div id=\"df-f12e66e5-aa45-4b1c-83e9-b6fcc050696c\">\n",
              "    <div class=\"colab-df-container\">\n",
              "      <div>\n",
              "<style scoped>\n",
              "    .dataframe tbody tr th:only-of-type {\n",
              "        vertical-align: middle;\n",
              "    }\n",
              "\n",
              "    .dataframe tbody tr th {\n",
              "        vertical-align: top;\n",
              "    }\n",
              "\n",
              "    .dataframe thead th {\n",
              "        text-align: right;\n",
              "    }\n",
              "</style>\n",
              "<table border=\"1\" class=\"dataframe\">\n",
              "  <thead>\n",
              "    <tr style=\"text-align: right;\">\n",
              "      <th></th>\n",
              "      <th>Area</th>\n",
              "      <th>CID</th>\n",
              "      <th>Item</th>\n",
              "      <th>Date</th>\n",
              "      <th>Yield</th>\n",
              "      <th>pesticide</th>\n",
              "      <th>land_use</th>\n",
              "      <th>fertilizer</th>\n",
              "      <th>temperature</th>\n",
              "    </tr>\n",
              "  </thead>\n",
              "  <tbody>\n",
              "    <tr>\n",
              "      <th>0</th>\n",
              "      <td>Afghanistan</td>\n",
              "      <td>AFG</td>\n",
              "      <td>Almonds</td>\n",
              "      <td>1961</td>\n",
              "      <td>0.0</td>\n",
              "      <td>0.0</td>\n",
              "      <td>37700.0</td>\n",
              "      <td>1100.0</td>\n",
              "      <td>0.000706</td>\n",
              "    </tr>\n",
              "    <tr>\n",
              "      <th>1</th>\n",
              "      <td>Afghanistan</td>\n",
              "      <td>AFG</td>\n",
              "      <td>Almonds</td>\n",
              "      <td>1962</td>\n",
              "      <td>0.0</td>\n",
              "      <td>0.0</td>\n",
              "      <td>37760.0</td>\n",
              "      <td>1100.0</td>\n",
              "      <td>-0.235235</td>\n",
              "    </tr>\n",
              "    <tr>\n",
              "      <th>2</th>\n",
              "      <td>Afghanistan</td>\n",
              "      <td>AFG</td>\n",
              "      <td>Almonds</td>\n",
              "      <td>1963</td>\n",
              "      <td>0.0</td>\n",
              "      <td>0.0</td>\n",
              "      <td>37810.0</td>\n",
              "      <td>1100.0</td>\n",
              "      <td>0.860647</td>\n",
              "    </tr>\n",
              "    <tr>\n",
              "      <th>3</th>\n",
              "      <td>Afghanistan</td>\n",
              "      <td>AFG</td>\n",
              "      <td>Almonds</td>\n",
              "      <td>1964</td>\n",
              "      <td>0.0</td>\n",
              "      <td>0.0</td>\n",
              "      <td>37873.0</td>\n",
              "      <td>1100.0</td>\n",
              "      <td>-0.921765</td>\n",
              "    </tr>\n",
              "    <tr>\n",
              "      <th>4</th>\n",
              "      <td>Afghanistan</td>\n",
              "      <td>AFG</td>\n",
              "      <td>Almonds</td>\n",
              "      <td>1965</td>\n",
              "      <td>0.0</td>\n",
              "      <td>0.0</td>\n",
              "      <td>37875.0</td>\n",
              "      <td>1100.0</td>\n",
              "      <td>-0.062941</td>\n",
              "    </tr>\n",
              "  </tbody>\n",
              "</table>\n",
              "</div>\n",
              "      <button class=\"colab-df-convert\" onclick=\"convertToInteractive('df-f12e66e5-aa45-4b1c-83e9-b6fcc050696c')\"\n",
              "              title=\"Convert this dataframe to an interactive table.\"\n",
              "              style=\"display:none;\">\n",
              "        \n",
              "  <svg xmlns=\"http://www.w3.org/2000/svg\" height=\"24px\"viewBox=\"0 0 24 24\"\n",
              "       width=\"24px\">\n",
              "    <path d=\"M0 0h24v24H0V0z\" fill=\"none\"/>\n",
              "    <path d=\"M18.56 5.44l.94 2.06.94-2.06 2.06-.94-2.06-.94-.94-2.06-.94 2.06-2.06.94zm-11 1L8.5 8.5l.94-2.06 2.06-.94-2.06-.94L8.5 2.5l-.94 2.06-2.06.94zm10 10l.94 2.06.94-2.06 2.06-.94-2.06-.94-.94-2.06-.94 2.06-2.06.94z\"/><path d=\"M17.41 7.96l-1.37-1.37c-.4-.4-.92-.59-1.43-.59-.52 0-1.04.2-1.43.59L10.3 9.45l-7.72 7.72c-.78.78-.78 2.05 0 2.83L4 21.41c.39.39.9.59 1.41.59.51 0 1.02-.2 1.41-.59l7.78-7.78 2.81-2.81c.8-.78.8-2.07 0-2.86zM5.41 20L4 18.59l7.72-7.72 1.47 1.35L5.41 20z\"/>\n",
              "  </svg>\n",
              "      </button>\n",
              "      \n",
              "  <style>\n",
              "    .colab-df-container {\n",
              "      display:flex;\n",
              "      flex-wrap:wrap;\n",
              "      gap: 12px;\n",
              "    }\n",
              "\n",
              "    .colab-df-convert {\n",
              "      background-color: #E8F0FE;\n",
              "      border: none;\n",
              "      border-radius: 50%;\n",
              "      cursor: pointer;\n",
              "      display: none;\n",
              "      fill: #1967D2;\n",
              "      height: 32px;\n",
              "      padding: 0 0 0 0;\n",
              "      width: 32px;\n",
              "    }\n",
              "\n",
              "    .colab-df-convert:hover {\n",
              "      background-color: #E2EBFA;\n",
              "      box-shadow: 0px 1px 2px rgba(60, 64, 67, 0.3), 0px 1px 3px 1px rgba(60, 64, 67, 0.15);\n",
              "      fill: #174EA6;\n",
              "    }\n",
              "\n",
              "    [theme=dark] .colab-df-convert {\n",
              "      background-color: #3B4455;\n",
              "      fill: #D2E3FC;\n",
              "    }\n",
              "\n",
              "    [theme=dark] .colab-df-convert:hover {\n",
              "      background-color: #434B5C;\n",
              "      box-shadow: 0px 1px 3px 1px rgba(0, 0, 0, 0.15);\n",
              "      filter: drop-shadow(0px 1px 2px rgba(0, 0, 0, 0.3));\n",
              "      fill: #FFFFFF;\n",
              "    }\n",
              "  </style>\n",
              "\n",
              "      <script>\n",
              "        const buttonEl =\n",
              "          document.querySelector('#df-f12e66e5-aa45-4b1c-83e9-b6fcc050696c button.colab-df-convert');\n",
              "        buttonEl.style.display =\n",
              "          google.colab.kernel.accessAllowed ? 'block' : 'none';\n",
              "\n",
              "        async function convertToInteractive(key) {\n",
              "          const element = document.querySelector('#df-f12e66e5-aa45-4b1c-83e9-b6fcc050696c');\n",
              "          const dataTable =\n",
              "            await google.colab.kernel.invokeFunction('convertToInteractive',\n",
              "                                                     [key], {});\n",
              "          if (!dataTable) return;\n",
              "\n",
              "          const docLinkHtml = 'Like what you see? Visit the ' +\n",
              "            '<a target=\"_blank\" href=https://colab.research.google.com/notebooks/data_table.ipynb>data table notebook</a>'\n",
              "            + ' to learn more about interactive tables.';\n",
              "          element.innerHTML = '';\n",
              "          dataTable['output_type'] = 'display_data';\n",
              "          await google.colab.output.renderOutput(dataTable, element);\n",
              "          const docLink = document.createElement('div');\n",
              "          docLink.innerHTML = docLinkHtml;\n",
              "          element.appendChild(docLink);\n",
              "        }\n",
              "      </script>\n",
              "    </div>\n",
              "  </div>\n",
              "  "
            ]
          },
          "metadata": {},
          "execution_count": 15
        }
      ]
    },
    {
      "cell_type": "markdown",
      "source": [
        "##EDA "
      ],
      "metadata": {
        "id": "I1l3wXWyWhyr"
      }
    },
    {
      "cell_type": "markdown",
      "source": [
        "We begin with Exploratory Data Analysis (EDA). The goal of this procedure is to get a feel of the data: What features are present, how do they differ between each other, are there any interesting relationships between variables, is data missing?"
      ],
      "metadata": {
        "id": "HauXIBS6WkSG"
      }
    },
    {
      "cell_type": "code",
      "source": [
        "final_df.info()"
      ],
      "metadata": {
        "colab": {
          "base_uri": "https://localhost:8080/"
        },
        "id": "xbqLsjxpW0e2",
        "outputId": "9f8a17e5-deb8-408d-ecb9-3a49c8879f9e"
      },
      "execution_count": null,
      "outputs": [
        {
          "output_type": "stream",
          "name": "stdout",
          "text": [
            "<class 'pandas.core.frame.DataFrame'>\n",
            "Int64Index: 221674 entries, 0 to 221673\n",
            "Data columns (total 9 columns):\n",
            " #   Column       Non-Null Count   Dtype  \n",
            "---  ------       --------------   -----  \n",
            " 0   Area         221674 non-null  object \n",
            " 1   CID          221674 non-null  object \n",
            " 2   Item         221674 non-null  object \n",
            " 3   Date         221674 non-null  object \n",
            " 4   Yield        221674 non-null  float64\n",
            " 5   pesticide    221674 non-null  float64\n",
            " 6   land_use     221674 non-null  float64\n",
            " 7   fertilizer   221674 non-null  float64\n",
            " 8   temperature  221674 non-null  float64\n",
            "dtypes: float64(5), object(4)\n",
            "memory usage: 16.9+ MB\n"
          ]
        }
      ]
    },
    {
      "cell_type": "code",
      "source": [
        "final_df[\"Item\"].nunique()"
      ],
      "metadata": {
        "colab": {
          "base_uri": "https://localhost:8080/"
        },
        "id": "ePEOJSjyWmQL",
        "outputId": "b7a567b3-0fb4-4231-a63c-adb3280ad6a5"
      },
      "execution_count": null,
      "outputs": [
        {
          "output_type": "execute_result",
          "data": {
            "text/plain": [
              "32"
            ]
          },
          "metadata": {},
          "execution_count": 29
        }
      ]
    },
    {
      "cell_type": "code",
      "source": [
        "final_df[\"Item\"].unique()"
      ],
      "metadata": {
        "colab": {
          "base_uri": "https://localhost:8080/"
        },
        "id": "O0gnNhQLWtsl",
        "outputId": "f26eb93d-6450-4705-e811-209088ca7a0a"
      },
      "execution_count": null,
      "outputs": [
        {
          "output_type": "execute_result",
          "data": {
            "text/plain": [
              "array(['Almonds', 'Barley', 'Cereals', 'Cotton', 'Fruits', 'Maize',\n",
              "       'Millet', 'Onions', 'Oranges', 'Potatoes', 'Rice', 'Sugar cane',\n",
              "       'Sunflower seed', 'Wheat', 'Beans', 'Cabbages', 'Carrots',\n",
              "       'Lemons', 'Lettuce', 'Peas, green', 'Pumpkins', 'Rye',\n",
              "       'Soya beans', 'Tomatoes', 'Bananas', 'Groundnuts',\n",
              "       'Cassava, fresh', 'Cocoa beans', 'Coffee, green', 'Oil palm',\n",
              "       'Tea', 'Mushrooms'], dtype=object)"
            ]
          },
          "metadata": {},
          "execution_count": 30
        }
      ]
    },
    {
      "cell_type": "code",
      "source": [
        "final_df[\"Item\"].value_counts()"
      ],
      "metadata": {
        "colab": {
          "base_uri": "https://localhost:8080/"
        },
        "id": "y2CsCpzlW7ci",
        "outputId": "b5b9eb3a-8cf4-4ec4-fbaa-5372a900dbe1"
      },
      "execution_count": null,
      "outputs": [
        {
          "output_type": "execute_result",
          "data": {
            "text/plain": [
              "Cereals           11773\n",
              "Maize             10858\n",
              "Tomatoes          10797\n",
              "Potatoes          10187\n",
              "Cabbages           9638\n",
              "Onions             9089\n",
              "Fruits             8906\n",
              "Carrots            8418\n",
              "Beans              8357\n",
              "Wheat              8113\n",
              "Bananas            7930\n",
              "Rice               7747\n",
              "Oranges            7686\n",
              "Groundnuts         7564\n",
              "Pumpkins           7564\n",
              "Barley             6954\n",
              "Soya beans         6893\n",
              "Sugar cane         6771\n",
              "Lemons             6771\n",
              "Lettuce            6771\n",
              "Cotton             6405\n",
              "Cassava, fresh     6222\n",
              "Millet             5795\n",
              "Peas, green        5734\n",
              "Sunflower seed     5185\n",
              "Coffee, green      5185\n",
              "Rye                4270\n",
              "Cocoa beans        3660\n",
              "Tea                3172\n",
              "Almonds            3050\n",
              "Oil palm           2745\n",
              "Mushrooms          1464\n",
              "Name: Item, dtype: int64"
            ]
          },
          "metadata": {},
          "execution_count": 31
        }
      ]
    },
    {
      "cell_type": "code",
      "source": [
        "import seaborn as sns \n",
        "plt.figure(figsize=(14,10))\n",
        "corr = final_df.corr()\n",
        "map = sns.heatmap(corr, cmap='coolwarm', annot=True)"
      ],
      "metadata": {
        "colab": {
          "base_uri": "https://localhost:8080/",
          "height": 537
        },
        "id": "MAErHQPD6FeN",
        "outputId": "def47b78-ea4c-4178-e3fe-7322e184c5a9"
      },
      "execution_count": null,
      "outputs": [
        {
          "output_type": "display_data",
          "data": {
            "text/plain": [
              "<Figure size 1008x720 with 2 Axes>"
            ],
            "image/png": "[encoded data removed]"
          },
          "metadata": {
            "needs_background": "light"
          }
        }
      ]
    },
    {
      "cell_type": "code",
      "source": [
        "sns.pairplot(final_df,hue = 'Item')"
      ],
      "metadata": {
        "colab": {
          "base_uri": "https://localhost:8080/",
          "height": 998
        },
        "id": "Gtj8NNj-LyxC",
        "outputId": "ea40c732-ce2a-46d9-8e0b-4db630da6552"
      },
      "execution_count": null,
      "outputs": [
        {
          "output_type": "error",
          "ename": "KeyboardInterrupt",
          "evalue": "ignored",
          "traceback": [
            "\u001b[0;31m---------------------------------------------------------------------------\u001b[0m",
            "\u001b[0;31mKeyboardInterrupt\u001b[0m                         Traceback (most recent call last)",
            "\u001b[0;32m<ipython-input-33-fb2d51dcbedc>\u001b[0m in \u001b[0;36m<module>\u001b[0;34m\u001b[0m\n\u001b[0;32m----> 1\u001b[0;31m \u001b[0msns\u001b[0m\u001b[0;34m.\u001b[0m\u001b[0mpairplot\u001b[0m\u001b[0;34m(\u001b[0m\u001b[0mfinal_df\u001b[0m\u001b[0;34m,\u001b[0m\u001b[0mhue\u001b[0m \u001b[0;34m=\u001b[0m \u001b[0;34m'Item'\u001b[0m\u001b[0;34m)\u001b[0m\u001b[0;34m\u001b[0m\u001b[0;34m\u001b[0m\u001b[0m\n\u001b[0m",
            "\u001b[0;32m/usr/local/lib/python3.8/dist-packages/seaborn/_decorators.py\u001b[0m in \u001b[0;36minner_f\u001b[0;34m(*args, **kwargs)\u001b[0m\n\u001b[1;32m     44\u001b[0m             )\n\u001b[1;32m     45\u001b[0m         \u001b[0mkwargs\u001b[0m\u001b[0;34m.\u001b[0m\u001b[0mupdate\u001b[0m\u001b[0;34m(\u001b[0m\u001b[0;34m{\u001b[0m\u001b[0mk\u001b[0m\u001b[0;34m:\u001b[0m \u001b[0marg\u001b[0m \u001b[0;32mfor\u001b[0m \u001b[0mk\u001b[0m\u001b[0;34m,\u001b[0m \u001b[0marg\u001b[0m \u001b[0;32min\u001b[0m \u001b[0mzip\u001b[0m\u001b[0;34m(\u001b[0m\u001b[0msig\u001b[0m\u001b[0;34m.\u001b[0m\u001b[0mparameters\u001b[0m\u001b[0;34m,\u001b[0m \u001b[0margs\u001b[0m\u001b[0;34m)\u001b[0m\u001b[0;34m}\u001b[0m\u001b[0;34m)\u001b[0m\u001b[0;34m\u001b[0m\u001b[0;34m\u001b[0m\u001b[0m\n\u001b[0;32m---> 46\u001b[0;31m         \u001b[0;32mreturn\u001b[0m \u001b[0mf\u001b[0m\u001b[0;34m(\u001b[0m\u001b[0;34m**\u001b[0m\u001b[0mkwargs\u001b[0m\u001b[0;34m)\u001b[0m\u001b[0;34m\u001b[0m\u001b[0;34m\u001b[0m\u001b[0m\n\u001b[0m\u001b[1;32m     47\u001b[0m     \u001b[0;32mreturn\u001b[0m \u001b[0minner_f\u001b[0m\u001b[0;34m\u001b[0m\u001b[0;34m\u001b[0m\u001b[0m\n\u001b[1;32m     48\u001b[0m \u001b[0;34m\u001b[0m\u001b[0m\n",
            "\u001b[0;32m/usr/local/lib/python3.8/dist-packages/seaborn/axisgrid.py\u001b[0m in \u001b[0;36mpairplot\u001b[0;34m(data, hue, hue_order, palette, vars, x_vars, y_vars, kind, diag_kind, markers, height, aspect, corner, dropna, plot_kws, diag_kws, grid_kws, size)\u001b[0m\n\u001b[1;32m   2128\u001b[0m         \u001b[0mdiag_kws\u001b[0m\u001b[0;34m.\u001b[0m\u001b[0msetdefault\u001b[0m\u001b[0;34m(\u001b[0m\u001b[0;34m\"fill\"\u001b[0m\u001b[0;34m,\u001b[0m \u001b[0;32mTrue\u001b[0m\u001b[0;34m)\u001b[0m\u001b[0;34m\u001b[0m\u001b[0;34m\u001b[0m\u001b[0m\n\u001b[1;32m   2129\u001b[0m         \u001b[0mdiag_kws\u001b[0m\u001b[0;34m.\u001b[0m\u001b[0msetdefault\u001b[0m\u001b[0;34m(\u001b[0m\u001b[0;34m\"warn_singular\"\u001b[0m\u001b[0;34m,\u001b[0m \u001b[0;32mFalse\u001b[0m\u001b[0;34m)\u001b[0m\u001b[0;34m\u001b[0m\u001b[0;34m\u001b[0m\u001b[0m\n\u001b[0;32m-> 2130\u001b[0;31m         \u001b[0mgrid\u001b[0m\u001b[0;34m.\u001b[0m\u001b[0mmap_diag\u001b[0m\u001b[0;34m(\u001b[0m\u001b[0mkdeplot\u001b[0m\u001b[0;34m,\u001b[0m \u001b[0;34m**\u001b[0m\u001b[0mdiag_kws\u001b[0m\u001b[0;34m)\u001b[0m\u001b[0;34m\u001b[0m\u001b[0;34m\u001b[0m\u001b[0m\n\u001b[0m\u001b[1;32m   2131\u001b[0m \u001b[0;34m\u001b[0m\u001b[0m\n\u001b[1;32m   2132\u001b[0m     \u001b[0;31m# Maybe plot on the off-diagonals\u001b[0m\u001b[0;34m\u001b[0m\u001b[0;34m\u001b[0m\u001b[0;34m\u001b[0m\u001b[0m\n",
            "\u001b[0;32m/usr/local/lib/python3.8/dist-packages/seaborn/axisgrid.py\u001b[0m in \u001b[0;36mmap_diag\u001b[0;34m(self, func, **kwargs)\u001b[0m\n\u001b[1;32m   1476\u001b[0m             \u001b[0mplot_kwargs\u001b[0m\u001b[0;34m.\u001b[0m\u001b[0msetdefault\u001b[0m\u001b[0;34m(\u001b[0m\u001b[0;34m\"hue_order\"\u001b[0m\u001b[0;34m,\u001b[0m \u001b[0mself\u001b[0m\u001b[0;34m.\u001b[0m\u001b[0m_hue_order\u001b[0m\u001b[0;34m)\u001b[0m\u001b[0;34m\u001b[0m\u001b[0;34m\u001b[0m\u001b[0m\n\u001b[1;32m   1477\u001b[0m             \u001b[0mplot_kwargs\u001b[0m\u001b[0;34m.\u001b[0m\u001b[0msetdefault\u001b[0m\u001b[0;34m(\u001b[0m\u001b[0;34m\"palette\"\u001b[0m\u001b[0;34m,\u001b[0m \u001b[0mself\u001b[0m\u001b[0;34m.\u001b[0m\u001b[0m_orig_palette\u001b[0m\u001b[0;34m)\u001b[0m\u001b[0;34m\u001b[0m\u001b[0;34m\u001b[0m\u001b[0m\n\u001b[0;32m-> 1478\u001b[0;31m             \u001b[0mfunc\u001b[0m\u001b[0;34m(\u001b[0m\u001b[0mx\u001b[0m\u001b[0;34m=\u001b[0m\u001b[0mvector\u001b[0m\u001b[0;34m,\u001b[0m \u001b[0;34m**\u001b[0m\u001b[0mplot_kwargs\u001b[0m\u001b[0;34m)\u001b[0m\u001b[0;34m\u001b[0m\u001b[0;34m\u001b[0m\u001b[0m\n\u001b[0m\u001b[1;32m   1479\u001b[0m             \u001b[0max\u001b[0m\u001b[0;34m.\u001b[0m\u001b[0mlegend_\u001b[0m \u001b[0;34m=\u001b[0m \u001b[0;32mNone\u001b[0m\u001b[0;34m\u001b[0m\u001b[0;34m\u001b[0m\u001b[0m\n\u001b[1;32m   1480\u001b[0m \u001b[0;34m\u001b[0m\u001b[0m\n",
            "\u001b[0;32m/usr/local/lib/python3.8/dist-packages/seaborn/_decorators.py\u001b[0m in \u001b[0;36minner_f\u001b[0;34m(*args, **kwargs)\u001b[0m\n\u001b[1;32m     44\u001b[0m             )\n\u001b[1;32m     45\u001b[0m         \u001b[0mkwargs\u001b[0m\u001b[0;34m.\u001b[0m\u001b[0mupdate\u001b[0m\u001b[0;34m(\u001b[0m\u001b[0;34m{\u001b[0m\u001b[0mk\u001b[0m\u001b[0;34m:\u001b[0m \u001b[0marg\u001b[0m \u001b[0;32mfor\u001b[0m \u001b[0mk\u001b[0m\u001b[0;34m,\u001b[0m \u001b[0marg\u001b[0m \u001b[0;32min\u001b[0m \u001b[0mzip\u001b[0m\u001b[0;34m(\u001b[0m\u001b[0msig\u001b[0m\u001b[0;34m.\u001b[0m\u001b[0mparameters\u001b[0m\u001b[0;34m,\u001b[0m \u001b[0margs\u001b[0m\u001b[0;34m)\u001b[0m\u001b[0;34m}\u001b[0m\u001b[0;34m)\u001b[0m\u001b[0;34m\u001b[0m\u001b[0;34m\u001b[0m\u001b[0m\n\u001b[0;32m---> 46\u001b[0;31m         \u001b[0;32mreturn\u001b[0m \u001b[0mf\u001b[0m\u001b[0;34m(\u001b[0m\u001b[0;34m**\u001b[0m\u001b[0mkwargs\u001b[0m\u001b[0;34m)\u001b[0m\u001b[0;34m\u001b[0m\u001b[0;34m\u001b[0m\u001b[0m\n\u001b[0m\u001b[1;32m     47\u001b[0m     \u001b[0;32mreturn\u001b[0m \u001b[0minner_f\u001b[0m\u001b[0;34m\u001b[0m\u001b[0;34m\u001b[0m\u001b[0m\n\u001b[1;32m     48\u001b[0m \u001b[0;34m\u001b[0m\u001b[0m\n",
            "\u001b[0;32m/usr/local/lib/python3.8/dist-packages/seaborn/distributions.py\u001b[0m in \u001b[0;36mkdeplot\u001b[0;34m(x, y, shade, vertical, kernel, bw, gridsize, cut, clip, legend, cumulative, shade_lowest, cbar, cbar_ax, cbar_kws, ax, weights, hue, palette, hue_order, hue_norm, multiple, common_norm, common_grid, levels, thresh, bw_method, bw_adjust, log_scale, color, fill, data, data2, warn_singular, **kwargs)\u001b[0m\n\u001b[1;32m   1768\u001b[0m             \u001b[0mplot_kws\u001b[0m\u001b[0;34m[\u001b[0m\u001b[0;34m\"color\"\u001b[0m\u001b[0;34m]\u001b[0m \u001b[0;34m=\u001b[0m \u001b[0mcolor\u001b[0m\u001b[0;34m\u001b[0m\u001b[0;34m\u001b[0m\u001b[0m\n\u001b[1;32m   1769\u001b[0m \u001b[0;34m\u001b[0m\u001b[0m\n\u001b[0;32m-> 1770\u001b[0;31m         p.plot_univariate_density(\n\u001b[0m\u001b[1;32m   1771\u001b[0m             \u001b[0mmultiple\u001b[0m\u001b[0;34m=\u001b[0m\u001b[0mmultiple\u001b[0m\u001b[0;34m,\u001b[0m\u001b[0;34m\u001b[0m\u001b[0;34m\u001b[0m\u001b[0m\n\u001b[1;32m   1772\u001b[0m             \u001b[0mcommon_norm\u001b[0m\u001b[0;34m=\u001b[0m\u001b[0mcommon_norm\u001b[0m\u001b[0;34m,\u001b[0m\u001b[0;34m\u001b[0m\u001b[0;34m\u001b[0m\u001b[0m\n",
            "\u001b[0;32m/usr/local/lib/python3.8/dist-packages/seaborn/distributions.py\u001b[0m in \u001b[0;36mplot_univariate_density\u001b[0;34m(self, multiple, common_norm, common_grid, warn_singular, fill, legend, estimate_kws, **plot_kws)\u001b[0m\n\u001b[1;32m    926\u001b[0m \u001b[0;34m\u001b[0m\u001b[0m\n\u001b[1;32m    927\u001b[0m         \u001b[0;31m# Do the computation\u001b[0m\u001b[0;34m\u001b[0m\u001b[0;34m\u001b[0m\u001b[0;34m\u001b[0m\u001b[0m\n\u001b[0;32m--> 928\u001b[0;31m         densities = self._compute_univariate_density(\n\u001b[0m\u001b[1;32m    929\u001b[0m             \u001b[0mself\u001b[0m\u001b[0;34m.\u001b[0m\u001b[0mdata_variable\u001b[0m\u001b[0;34m,\u001b[0m\u001b[0;34m\u001b[0m\u001b[0;34m\u001b[0m\u001b[0m\n\u001b[1;32m    930\u001b[0m             \u001b[0mcommon_norm\u001b[0m\u001b[0;34m,\u001b[0m\u001b[0;34m\u001b[0m\u001b[0;34m\u001b[0m\u001b[0m\n",
            "\u001b[0;32m/usr/local/lib/python3.8/dist-packages/seaborn/distributions.py\u001b[0m in \u001b[0;36m_compute_univariate_density\u001b[0;34m(self, data_variable, common_norm, common_grid, estimate_kws, log_scale, warn_singular)\u001b[0m\n\u001b[1;32m    324\u001b[0m \u001b[0;34m\u001b[0m\u001b[0m\n\u001b[1;32m    325\u001b[0m             \u001b[0;31m# Estimate the density of observations at this level\u001b[0m\u001b[0;34m\u001b[0m\u001b[0;34m\u001b[0m\u001b[0;34m\u001b[0m\u001b[0m\n\u001b[0;32m--> 326\u001b[0;31m             \u001b[0mdensity\u001b[0m\u001b[0;34m,\u001b[0m \u001b[0msupport\u001b[0m \u001b[0;34m=\u001b[0m \u001b[0mestimator\u001b[0m\u001b[0;34m(\u001b[0m\u001b[0mobservations\u001b[0m\u001b[0;34m,\u001b[0m \u001b[0mweights\u001b[0m\u001b[0;34m=\u001b[0m\u001b[0mweights\u001b[0m\u001b[0;34m)\u001b[0m\u001b[0;34m\u001b[0m\u001b[0;34m\u001b[0m\u001b[0m\n\u001b[0m\u001b[1;32m    327\u001b[0m \u001b[0;34m\u001b[0m\u001b[0m\n\u001b[1;32m    328\u001b[0m             \u001b[0;32mif\u001b[0m \u001b[0mlog_scale\u001b[0m\u001b[0;34m:\u001b[0m\u001b[0;34m\u001b[0m\u001b[0;34m\u001b[0m\u001b[0m\n",
            "\u001b[0;32m/usr/local/lib/python3.8/dist-packages/seaborn/_statistics.py\u001b[0m in \u001b[0;36m__call__\u001b[0;34m(self, x1, x2, weights)\u001b[0m\n\u001b[1;32m    185\u001b[0m         \u001b[0;34m\"\"\"Fit and evaluate on univariate or bivariate data.\"\"\"\u001b[0m\u001b[0;34m\u001b[0m\u001b[0;34m\u001b[0m\u001b[0m\n\u001b[1;32m    186\u001b[0m         \u001b[0;32mif\u001b[0m \u001b[0mx2\u001b[0m \u001b[0;32mis\u001b[0m \u001b[0;32mNone\u001b[0m\u001b[0;34m:\u001b[0m\u001b[0;34m\u001b[0m\u001b[0;34m\u001b[0m\u001b[0m\n\u001b[0;32m--> 187\u001b[0;31m             \u001b[0;32mreturn\u001b[0m \u001b[0mself\u001b[0m\u001b[0;34m.\u001b[0m\u001b[0m_eval_univariate\u001b[0m\u001b[0;34m(\u001b[0m\u001b[0mx1\u001b[0m\u001b[0;34m,\u001b[0m \u001b[0mweights\u001b[0m\u001b[0;34m)\u001b[0m\u001b[0;34m\u001b[0m\u001b[0;34m\u001b[0m\u001b[0m\n\u001b[0m\u001b[1;32m    188\u001b[0m         \u001b[0;32melse\u001b[0m\u001b[0;34m:\u001b[0m\u001b[0;34m\u001b[0m\u001b[0;34m\u001b[0m\u001b[0m\n\u001b[1;32m    189\u001b[0m             \u001b[0;32mreturn\u001b[0m \u001b[0mself\u001b[0m\u001b[0;34m.\u001b[0m\u001b[0m_eval_bivariate\u001b[0m\u001b[0;34m(\u001b[0m\u001b[0mx1\u001b[0m\u001b[0;34m,\u001b[0m \u001b[0mx2\u001b[0m\u001b[0;34m,\u001b[0m \u001b[0mweights\u001b[0m\u001b[0;34m)\u001b[0m\u001b[0;34m\u001b[0m\u001b[0;34m\u001b[0m\u001b[0m\n",
            "\u001b[0;32m/usr/local/lib/python3.8/dist-packages/seaborn/_statistics.py\u001b[0m in \u001b[0;36m_eval_univariate\u001b[0;34m(self, x, weights)\u001b[0m\n\u001b[1;32m    154\u001b[0m             ])\n\u001b[1;32m    155\u001b[0m         \u001b[0;32melse\u001b[0m\u001b[0;34m:\u001b[0m\u001b[0;34m\u001b[0m\u001b[0;34m\u001b[0m\u001b[0m\n\u001b[0;32m--> 156\u001b[0;31m             \u001b[0mdensity\u001b[0m \u001b[0;34m=\u001b[0m \u001b[0mkde\u001b[0m\u001b[0;34m(\u001b[0m\u001b[0msupport\u001b[0m\u001b[0;34m)\u001b[0m\u001b[0;34m\u001b[0m\u001b[0;34m\u001b[0m\u001b[0m\n\u001b[0m\u001b[1;32m    157\u001b[0m \u001b[0;34m\u001b[0m\u001b[0m\n\u001b[1;32m    158\u001b[0m         \u001b[0;32mreturn\u001b[0m \u001b[0mdensity\u001b[0m\u001b[0;34m,\u001b[0m \u001b[0msupport\u001b[0m\u001b[0;34m\u001b[0m\u001b[0;34m\u001b[0m\u001b[0m\n",
            "\u001b[0;32m/usr/local/lib/python3.8/dist-packages/scipy/stats/kde.py\u001b[0m in \u001b[0;36mevaluate\u001b[0;34m(self, points)\u001b[0m\n\u001b[1;32m    250\u001b[0m             raise TypeError('%s has unexpected item size %d' %\n\u001b[1;32m    251\u001b[0m                             (output_dtype, itemsize))\n\u001b[0;32m--> 252\u001b[0;31m         result = gaussian_kernel_estimate[spec](self.dataset.T, self.weights[:, None],\n\u001b[0m\u001b[1;32m    253\u001b[0m                                                 points.T, self.inv_cov, output_dtype)\n\u001b[1;32m    254\u001b[0m         \u001b[0;32mreturn\u001b[0m \u001b[0mresult\u001b[0m\u001b[0;34m[\u001b[0m\u001b[0;34m:\u001b[0m\u001b[0;34m,\u001b[0m \u001b[0;36m0\u001b[0m\u001b[0;34m]\u001b[0m\u001b[0;34m\u001b[0m\u001b[0;34m\u001b[0m\u001b[0m\n",
            "\u001b[0;31mKeyboardInterrupt\u001b[0m: "
          ]
        },
        {
          "output_type": "display_data",
          "data": {
            "text/plain": [
              "<Figure size 900x900 with 30 Axes>"
            ],
            "image/png": "[encoded data removed]"
          },
          "metadata": {
            "needs_background": "light"
          }
        }
      ]
    },
    {
      "cell_type": "code",
      "source": [
        "final = final_df.groupby(\"Item\").mean().reset_index()\n",
        "sns.pairplot(final,hue = 'Item')"
      ],
      "metadata": {
        "id": "EBUBDrRV9SgI"
      },
      "execution_count": null,
      "outputs": []
    },
    {
      "cell_type": "code",
      "source": [
        "import warnings\n",
        "warnings.filterwarnings(\"ignore\")\n",
        "plt.figure(figsize=(20,20))\n",
        "\n",
        "g= sns.FacetGrid(final_df, col='Item')\n",
        "g = g.map(sns.distplot, \"Date\")\n",
        "plt.show()"
      ],
      "metadata": {
        "id": "jq_39lBSNIZU"
      },
      "execution_count": null,
      "outputs": []
    },
    {
      "cell_type": "code",
      "source": [
        "df = final_df[(final_df['Area'] == 'Afghanistan')]\n",
        "df = df[(df['Item'] == 'Almonds')]\n",
        "df.plot(kind=\"box\",subplots=True,layout=(5,5),figsize=(15,15))"
      ],
      "metadata": {
        "colab": {
          "base_uri": "https://localhost:8080/",
          "height": 251
        },
        "id": "Bz6sn1mzTP7r",
        "outputId": "a37dfdd0-4bb2-4154-eb7e-807765e43fab"
      },
      "execution_count": null,
      "outputs": [
        {
          "output_type": "execute_result",
          "data": {
            "text/plain": [
              "Yield             AxesSubplot(0.125,0.749828;0.133621x0.130172)\n",
              "pesticide      AxesSubplot(0.285345,0.749828;0.133621x0.130172)\n",
              "land_use        AxesSubplot(0.44569,0.749828;0.133621x0.130172)\n",
              "fertilizer     AxesSubplot(0.606034,0.749828;0.133621x0.130172)\n",
              "temperature    AxesSubplot(0.766379,0.749828;0.133621x0.130172)\n",
              "dtype: object"
            ]
          },
          "metadata": {},
          "execution_count": 34
        },
        {
          "output_type": "display_data",
          "data": {
            "text/plain": [
              "<Figure size 1080x1080 with 25 Axes>"
            ],
            "image/png": "[encoded data removed]"
          },
          "metadata": {
            "needs_background": "light"
          }
        }
      ]
    },
    {
      "cell_type": "code",
      "source": [
        "final_df.hist(figsize=(15,15), layout=(6,4), bins=20 )"
      ],
      "metadata": {
        "colab": {
          "base_uri": "https://localhost:8080/",
          "height": 673
        },
        "id": "EbY1munDVQ35",
        "outputId": "24769e13-f94b-4107-e5f8-abf02fe5591f"
      },
      "execution_count": null,
      "outputs": [
        {
          "output_type": "execute_result",
          "data": {
            "text/plain": [
              "array([[<matplotlib.axes._subplots.AxesSubplot object at 0x7f03cd07fa30>,\n",
              "        <matplotlib.axes._subplots.AxesSubplot object at 0x7f03cd08ffa0>,\n",
              "        <matplotlib.axes._subplots.AxesSubplot object at 0x7f03cd046400>,\n",
              "        <matplotlib.axes._subplots.AxesSubplot object at 0x7f03ccff27f0>],\n",
              "       [<matplotlib.axes._subplots.AxesSubplot object at 0x7f03cd020be0>,\n",
              "        <matplotlib.axes._subplots.AxesSubplot object at 0x7f03ccfda070>,\n",
              "        <matplotlib.axes._subplots.AxesSubplot object at 0x7f03ccfda040>,\n",
              "        <matplotlib.axes._subplots.AxesSubplot object at 0x7f03ccf894f0>],\n",
              "       [<matplotlib.axes._subplots.AxesSubplot object at 0x7f03ccf57cd0>,\n",
              "        <matplotlib.axes._subplots.AxesSubplot object at 0x7f03ccf12100>,\n",
              "        <matplotlib.axes._subplots.AxesSubplot object at 0x7f03ccec04f0>,\n",
              "        <matplotlib.axes._subplots.AxesSubplot object at 0x7f03cce6c8e0>],\n",
              "       [<matplotlib.axes._subplots.AxesSubplot object at 0x7f03ccea3ca0>,\n",
              "        <matplotlib.axes._subplots.AxesSubplot object at 0x7f03cce5d0d0>,\n",
              "        <matplotlib.axes._subplots.AxesSubplot object at 0x7f03cce0b4c0>,\n",
              "        <matplotlib.axes._subplots.AxesSubplot object at 0x7f03ccdb98b0>],\n",
              "       [<matplotlib.axes._subplots.AxesSubplot object at 0x7f03ccd67cd0>,\n",
              "        <matplotlib.axes._subplots.AxesSubplot object at 0x7f03ccda3100>,\n",
              "        <matplotlib.axes._subplots.AxesSubplot object at 0x7f03ccd4f4f0>,\n",
              "        <matplotlib.axes._subplots.AxesSubplot object at 0x7f03cccfb8e0>],\n",
              "       [<matplotlib.axes._subplots.AxesSubplot object at 0x7f03cccabcd0>,\n",
              "        <matplotlib.axes._subplots.AxesSubplot object at 0x7f03ccce3100>,\n",
              "        <matplotlib.axes._subplots.AxesSubplot object at 0x7f03ccc924f0>,\n",
              "        <matplotlib.axes._subplots.AxesSubplot object at 0x7f03ccc3f8e0>]],\n",
              "      dtype=object)"
            ]
          },
          "metadata": {},
          "execution_count": 20
        },
        {
          "output_type": "display_data",
          "data": {
            "text/plain": [
              "<Figure size 1080x1080 with 24 Axes>"
            ],
            "image/png": "[encoded data removed]"
          },
          "metadata": {
            "needs_background": "light"
          }
        }
      ]
    },
    {
      "cell_type": "code",
      "source": [
        "df = final_df[(final_df['Area'] == 'Afghanistan')]\n",
        "fig, axes = plt.subplots(1, 1, figsize = (20, 20))\n",
        "sns.violinplot( x=df[\"Yield\"],y=df[\"Item\"],inner=\"quartile\",axes=axes)\n",
        "ax.set(xlabel=None)\n",
        "plt.show()"
      ],
      "metadata": {
        "colab": {
          "base_uri": "https://localhost:8080/",
          "height": 834
        },
        "id": "JWZMTu9--o5Z",
        "outputId": "e4d91813-1670-4f68-a15b-ae9970a4e1ad"
      },
      "execution_count": null,
      "outputs": [
        {
          "output_type": "error",
          "ename": "NameError",
          "evalue": "ignored",
          "traceback": [
            "\u001b[0;31m---------------------------------------------------------------------------\u001b[0m",
            "\u001b[0;31mNameError\u001b[0m                                 Traceback (most recent call last)",
            "\u001b[0;32m<ipython-input-21-2c8dc204a0f5>\u001b[0m in \u001b[0;36m<module>\u001b[0;34m\u001b[0m\n\u001b[1;32m      2\u001b[0m \u001b[0mfig\u001b[0m\u001b[0;34m,\u001b[0m \u001b[0maxes\u001b[0m \u001b[0;34m=\u001b[0m \u001b[0mplt\u001b[0m\u001b[0;34m.\u001b[0m\u001b[0msubplots\u001b[0m\u001b[0;34m(\u001b[0m\u001b[0;36m1\u001b[0m\u001b[0;34m,\u001b[0m \u001b[0;36m1\u001b[0m\u001b[0;34m,\u001b[0m \u001b[0mfigsize\u001b[0m \u001b[0;34m=\u001b[0m \u001b[0;34m(\u001b[0m\u001b[0;36m20\u001b[0m\u001b[0;34m,\u001b[0m \u001b[0;36m20\u001b[0m\u001b[0;34m)\u001b[0m\u001b[0;34m)\u001b[0m\u001b[0;34m\u001b[0m\u001b[0;34m\u001b[0m\u001b[0m\n\u001b[1;32m      3\u001b[0m \u001b[0msns\u001b[0m\u001b[0;34m.\u001b[0m\u001b[0mviolinplot\u001b[0m\u001b[0;34m(\u001b[0m \u001b[0mx\u001b[0m\u001b[0;34m=\u001b[0m\u001b[0mdf\u001b[0m\u001b[0;34m[\u001b[0m\u001b[0;34m\"Yield\"\u001b[0m\u001b[0;34m]\u001b[0m\u001b[0;34m,\u001b[0m\u001b[0my\u001b[0m\u001b[0;34m=\u001b[0m\u001b[0mdf\u001b[0m\u001b[0;34m[\u001b[0m\u001b[0;34m\"Item\"\u001b[0m\u001b[0;34m]\u001b[0m\u001b[0;34m,\u001b[0m\u001b[0minner\u001b[0m\u001b[0;34m=\u001b[0m\u001b[0;34m\"quartile\"\u001b[0m\u001b[0;34m,\u001b[0m\u001b[0maxes\u001b[0m\u001b[0;34m=\u001b[0m\u001b[0maxes\u001b[0m\u001b[0;34m)\u001b[0m\u001b[0;34m\u001b[0m\u001b[0;34m\u001b[0m\u001b[0m\n\u001b[0;32m----> 4\u001b[0;31m \u001b[0max\u001b[0m\u001b[0;34m.\u001b[0m\u001b[0mset\u001b[0m\u001b[0;34m(\u001b[0m\u001b[0mxlabel\u001b[0m\u001b[0;34m=\u001b[0m\u001b[0;32mNone\u001b[0m\u001b[0;34m)\u001b[0m\u001b[0;34m\u001b[0m\u001b[0;34m\u001b[0m\u001b[0m\n\u001b[0m\u001b[1;32m      5\u001b[0m \u001b[0mplt\u001b[0m\u001b[0;34m.\u001b[0m\u001b[0mshow\u001b[0m\u001b[0;34m(\u001b[0m\u001b[0;34m)\u001b[0m\u001b[0;34m\u001b[0m\u001b[0;34m\u001b[0m\u001b[0m\n",
            "\u001b[0;31mNameError\u001b[0m: name 'ax' is not defined"
          ]
        },
        {
          "output_type": "display_data",
          "data": {
            "text/plain": [
              "<Figure size 1440x1440 with 1 Axes>"
            ],
            "image/png": "[encoded data removed]"
          },
          "metadata": {
            "needs_background": "light"
          }
        }
      ]
    },
    {
      "cell_type": "code",
      "source": [
        "cols = ['Yield', 'pesticide', 'land_use', 'fertilizer', 'temperature']\n",
        "ss = MinMaxScaler()\n",
        "df = final_df[(final_df['Area'] != 'Netherlands')]\n",
        "df_scaled = pd.DataFrame(ss.fit_transform(df[cols]),columns = cols)"
      ],
      "metadata": {
        "id": "43zzNpGfNh3M"
      },
      "execution_count": 16,
      "outputs": []
    },
    {
      "cell_type": "code",
      "source": [
        "df_scaled['Area'] = df['Area']\n",
        "df_scaled['CID'] = df['CID']\n",
        "df_scaled['Item'] = df['Item']\n",
        "df_scaled['Date'] = df['Date']"
      ],
      "metadata": {
        "id": "ro293vEmOJTh"
      },
      "execution_count": 17,
      "outputs": []
    },
    {
      "cell_type": "code",
      "source": [
        "df_scaled.head()"
      ],
      "metadata": {
        "colab": {
          "base_uri": "https://localhost:8080/",
          "height": 206
        },
        "id": "07E5UWMWvxrR",
        "outputId": "cdd91647-9ee2-44d6-fd5a-d48c54af3053"
      },
      "execution_count": 18,
      "outputs": [
        {
          "output_type": "execute_result",
          "data": {
            "text/plain": [
              "   Yield  pesticide  land_use  fertilizer  temperature         Area  CID  \\\n",
              "0    0.0        0.0  0.067511     0.00002     0.339904  Afghanistan  AFG   \n",
              "1    0.0        0.0  0.067619     0.00002     0.296628  Afghanistan  AFG   \n",
              "2    0.0        0.0  0.067708     0.00002     0.497632  Afghanistan  AFG   \n",
              "3    0.0        0.0  0.067821     0.00002     0.170707  Afghanistan  AFG   \n",
              "4    0.0        0.0  0.067825     0.00002     0.328230  Afghanistan  AFG   \n",
              "\n",
              "      Item  Date  \n",
              "0  Almonds  1961  \n",
              "1  Almonds  1962  \n",
              "2  Almonds  1963  \n",
              "3  Almonds  1964  \n",
              "4  Almonds  1965  "
            ],
            "text/html": [
              "\n",
              "  <div id=\"df-f7a9d1ab-7269-4d9c-a67e-3e43faa81914\">\n",
              "    <div class=\"colab-df-container\">\n",
              "      <div>\n",
              "<style scoped>\n",
              "    .dataframe tbody tr th:only-of-type {\n",
              "        vertical-align: middle;\n",
              "    }\n",
              "\n",
              "    .dataframe tbody tr th {\n",
              "        vertical-align: top;\n",
              "    }\n",
              "\n",
              "    .dataframe thead th {\n",
              "        text-align: right;\n",
              "    }\n",
              "</style>\n",
              "<table border=\"1\" class=\"dataframe\">\n",
              "  <thead>\n",
              "    <tr style=\"text-align: right;\">\n",
              "      <th></th>\n",
              "      <th>Yield</th>\n",
              "      <th>pesticide</th>\n",
              "      <th>land_use</th>\n",
              "      <th>fertilizer</th>\n",
              "      <th>temperature</th>\n",
              "      <th>Area</th>\n",
              "      <th>CID</th>\n",
              "      <th>Item</th>\n",
              "      <th>Date</th>\n",
              "    </tr>\n",
              "  </thead>\n",
              "  <tbody>\n",
              "    <tr>\n",
              "      <th>0</th>\n",
              "      <td>0.0</td>\n",
              "      <td>0.0</td>\n",
              "      <td>0.067511</td>\n",
              "      <td>0.00002</td>\n",
              "      <td>0.339904</td>\n",
              "      <td>Afghanistan</td>\n",
              "      <td>AFG</td>\n",
              "      <td>Almonds</td>\n",
              "      <td>1961</td>\n",
              "    </tr>\n",
              "    <tr>\n",
              "      <th>1</th>\n",
              "      <td>0.0</td>\n",
              "      <td>0.0</td>\n",
              "      <td>0.067619</td>\n",
              "      <td>0.00002</td>\n",
              "      <td>0.296628</td>\n",
              "      <td>Afghanistan</td>\n",
              "      <td>AFG</td>\n",
              "      <td>Almonds</td>\n",
              "      <td>1962</td>\n",
              "    </tr>\n",
              "    <tr>\n",
              "      <th>2</th>\n",
              "      <td>0.0</td>\n",
              "      <td>0.0</td>\n",
              "      <td>0.067708</td>\n",
              "      <td>0.00002</td>\n",
              "      <td>0.497632</td>\n",
              "      <td>Afghanistan</td>\n",
              "      <td>AFG</td>\n",
              "      <td>Almonds</td>\n",
              "      <td>1963</td>\n",
              "    </tr>\n",
              "    <tr>\n",
              "      <th>3</th>\n",
              "      <td>0.0</td>\n",
              "      <td>0.0</td>\n",
              "      <td>0.067821</td>\n",
              "      <td>0.00002</td>\n",
              "      <td>0.170707</td>\n",
              "      <td>Afghanistan</td>\n",
              "      <td>AFG</td>\n",
              "      <td>Almonds</td>\n",
              "      <td>1964</td>\n",
              "    </tr>\n",
              "    <tr>\n",
              "      <th>4</th>\n",
              "      <td>0.0</td>\n",
              "      <td>0.0</td>\n",
              "      <td>0.067825</td>\n",
              "      <td>0.00002</td>\n",
              "      <td>0.328230</td>\n",
              "      <td>Afghanistan</td>\n",
              "      <td>AFG</td>\n",
              "      <td>Almonds</td>\n",
              "      <td>1965</td>\n",
              "    </tr>\n",
              "  </tbody>\n",
              "</table>\n",
              "</div>\n",
              "      <button class=\"colab-df-convert\" onclick=\"convertToInteractive('df-f7a9d1ab-7269-4d9c-a67e-3e43faa81914')\"\n",
              "              title=\"Convert this dataframe to an interactive table.\"\n",
              "              style=\"display:none;\">\n",
              "        \n",
              "  <svg xmlns=\"http://www.w3.org/2000/svg\" height=\"24px\"viewBox=\"0 0 24 24\"\n",
              "       width=\"24px\">\n",
              "    <path d=\"M0 0h24v24H0V0z\" fill=\"none\"/>\n",
              "    <path d=\"M18.56 5.44l.94 2.06.94-2.06 2.06-.94-2.06-.94-.94-2.06-.94 2.06-2.06.94zm-11 1L8.5 8.5l.94-2.06 2.06-.94-2.06-.94L8.5 2.5l-.94 2.06-2.06.94zm10 10l.94 2.06.94-2.06 2.06-.94-2.06-.94-.94-2.06-.94 2.06-2.06.94z\"/><path d=\"M17.41 7.96l-1.37-1.37c-.4-.4-.92-.59-1.43-.59-.52 0-1.04.2-1.43.59L10.3 9.45l-7.72 7.72c-.78.78-.78 2.05 0 2.83L4 21.41c.39.39.9.59 1.41.59.51 0 1.02-.2 1.41-.59l7.78-7.78 2.81-2.81c.8-.78.8-2.07 0-2.86zM5.41 20L4 18.59l7.72-7.72 1.47 1.35L5.41 20z\"/>\n",
              "  </svg>\n",
              "      </button>\n",
              "      \n",
              "  <style>\n",
              "    .colab-df-container {\n",
              "      display:flex;\n",
              "      flex-wrap:wrap;\n",
              "      gap: 12px;\n",
              "    }\n",
              "\n",
              "    .colab-df-convert {\n",
              "      background-color: #E8F0FE;\n",
              "      border: none;\n",
              "      border-radius: 50%;\n",
              "      cursor: pointer;\n",
              "      display: none;\n",
              "      fill: #1967D2;\n",
              "      height: 32px;\n",
              "      padding: 0 0 0 0;\n",
              "      width: 32px;\n",
              "    }\n",
              "\n",
              "    .colab-df-convert:hover {\n",
              "      background-color: #E2EBFA;\n",
              "      box-shadow: 0px 1px 2px rgba(60, 64, 67, 0.3), 0px 1px 3px 1px rgba(60, 64, 67, 0.15);\n",
              "      fill: #174EA6;\n",
              "    }\n",
              "\n",
              "    [theme=dark] .colab-df-convert {\n",
              "      background-color: #3B4455;\n",
              "      fill: #D2E3FC;\n",
              "    }\n",
              "\n",
              "    [theme=dark] .colab-df-convert:hover {\n",
              "      background-color: #434B5C;\n",
              "      box-shadow: 0px 1px 3px 1px rgba(0, 0, 0, 0.15);\n",
              "      filter: drop-shadow(0px 1px 2px rgba(0, 0, 0, 0.3));\n",
              "      fill: #FFFFFF;\n",
              "    }\n",
              "  </style>\n",
              "\n",
              "      <script>\n",
              "        const buttonEl =\n",
              "          document.querySelector('#df-f7a9d1ab-7269-4d9c-a67e-3e43faa81914 button.colab-df-convert');\n",
              "        buttonEl.style.display =\n",
              "          google.colab.kernel.accessAllowed ? 'block' : 'none';\n",
              "\n",
              "        async function convertToInteractive(key) {\n",
              "          const element = document.querySelector('#df-f7a9d1ab-7269-4d9c-a67e-3e43faa81914');\n",
              "          const dataTable =\n",
              "            await google.colab.kernel.invokeFunction('convertToInteractive',\n",
              "                                                     [key], {});\n",
              "          if (!dataTable) return;\n",
              "\n",
              "          const docLinkHtml = 'Like what you see? Visit the ' +\n",
              "            '<a target=\"_blank\" href=https://colab.research.google.com/notebooks/data_table.ipynb>data table notebook</a>'\n",
              "            + ' to learn more about interactive tables.';\n",
              "          element.innerHTML = '';\n",
              "          dataTable['output_type'] = 'display_data';\n",
              "          await google.colab.output.renderOutput(dataTable, element);\n",
              "          const docLink = document.createElement('div');\n",
              "          docLink.innerHTML = docLinkHtml;\n",
              "          element.appendChild(docLink);\n",
              "        }\n",
              "      </script>\n",
              "    </div>\n",
              "  </div>\n",
              "  "
            ]
          },
          "metadata": {},
          "execution_count": 18
        }
      ]
    },
    {
      "cell_type": "code",
      "source": [
        "# d = final_df[(final_df['Area']=='India') & (final_df['Item'] == 'Rice')]\n",
        "# plt.plot(kind = 'bar',x = d['Yield'] , y = d['Date'])"
      ],
      "metadata": {
        "id": "Df5nd0JhRRWJ"
      },
      "execution_count": null,
      "outputs": []
    },
    {
      "cell_type": "markdown",
      "source": [
        "# Machine Learning Models"
      ],
      "metadata": {
        "id": "F7Kg_LJhuggP"
      }
    },
    {
      "cell_type": "code",
      "source": [
        "final_df.head()"
      ],
      "metadata": {
        "colab": {
          "base_uri": "https://localhost:8080/",
          "height": 206
        },
        "id": "uGV3JF4Bu-73",
        "outputId": "42665399-d883-4010-aacc-2226c60ef32a"
      },
      "execution_count": 19,
      "outputs": [
        {
          "output_type": "execute_result",
          "data": {
            "text/plain": [
              "          Area  CID     Item  Date  Yield  pesticide  land_use  fertilizer  \\\n",
              "0  Afghanistan  AFG  Almonds  1961    0.0        0.0   37700.0      1100.0   \n",
              "1  Afghanistan  AFG  Almonds  1962    0.0        0.0   37760.0      1100.0   \n",
              "2  Afghanistan  AFG  Almonds  1963    0.0        0.0   37810.0      1100.0   \n",
              "3  Afghanistan  AFG  Almonds  1964    0.0        0.0   37873.0      1100.0   \n",
              "4  Afghanistan  AFG  Almonds  1965    0.0        0.0   37875.0      1100.0   \n",
              "\n",
              "   temperature  \n",
              "0     0.000706  \n",
              "1    -0.235235  \n",
              "2     0.860647  \n",
              "3    -0.921765  \n",
              "4    -0.062941  "
            ],
            "text/html": [
              "\n",
              "  <div id=\"df-05ba5fbb-2942-4c95-9a7e-398cea27ea7f\">\n",
              "    <div class=\"colab-df-container\">\n",
              "      <div>\n",
              "<style scoped>\n",
              "    .dataframe tbody tr th:only-of-type {\n",
              "        vertical-align: middle;\n",
              "    }\n",
              "\n",
              "    .dataframe tbody tr th {\n",
              "        vertical-align: top;\n",
              "    }\n",
              "\n",
              "    .dataframe thead th {\n",
              "        text-align: right;\n",
              "    }\n",
              "</style>\n",
              "<table border=\"1\" class=\"dataframe\">\n",
              "  <thead>\n",
              "    <tr style=\"text-align: right;\">\n",
              "      <th></th>\n",
              "      <th>Area</th>\n",
              "      <th>CID</th>\n",
              "      <th>Item</th>\n",
              "      <th>Date</th>\n",
              "      <th>Yield</th>\n",
              "      <th>pesticide</th>\n",
              "      <th>land_use</th>\n",
              "      <th>fertilizer</th>\n",
              "      <th>temperature</th>\n",
              "    </tr>\n",
              "  </thead>\n",
              "  <tbody>\n",
              "    <tr>\n",
              "      <th>0</th>\n",
              "      <td>Afghanistan</td>\n",
              "      <td>AFG</td>\n",
              "      <td>Almonds</td>\n",
              "      <td>1961</td>\n",
              "      <td>0.0</td>\n",
              "      <td>0.0</td>\n",
              "      <td>37700.0</td>\n",
              "      <td>1100.0</td>\n",
              "      <td>0.000706</td>\n",
              "    </tr>\n",
              "    <tr>\n",
              "      <th>1</th>\n",
              "      <td>Afghanistan</td>\n",
              "      <td>AFG</td>\n",
              "      <td>Almonds</td>\n",
              "      <td>1962</td>\n",
              "      <td>0.0</td>\n",
              "      <td>0.0</td>\n",
              "      <td>37760.0</td>\n",
              "      <td>1100.0</td>\n",
              "      <td>-0.235235</td>\n",
              "    </tr>\n",
              "    <tr>\n",
              "      <th>2</th>\n",
              "      <td>Afghanistan</td>\n",
              "      <td>AFG</td>\n",
              "      <td>Almonds</td>\n",
              "      <td>1963</td>\n",
              "      <td>0.0</td>\n",
              "      <td>0.0</td>\n",
              "      <td>37810.0</td>\n",
              "      <td>1100.0</td>\n",
              "      <td>0.860647</td>\n",
              "    </tr>\n",
              "    <tr>\n",
              "      <th>3</th>\n",
              "      <td>Afghanistan</td>\n",
              "      <td>AFG</td>\n",
              "      <td>Almonds</td>\n",
              "      <td>1964</td>\n",
              "      <td>0.0</td>\n",
              "      <td>0.0</td>\n",
              "      <td>37873.0</td>\n",
              "      <td>1100.0</td>\n",
              "      <td>-0.921765</td>\n",
              "    </tr>\n",
              "    <tr>\n",
              "      <th>4</th>\n",
              "      <td>Afghanistan</td>\n",
              "      <td>AFG</td>\n",
              "      <td>Almonds</td>\n",
              "      <td>1965</td>\n",
              "      <td>0.0</td>\n",
              "      <td>0.0</td>\n",
              "      <td>37875.0</td>\n",
              "      <td>1100.0</td>\n",
              "      <td>-0.062941</td>\n",
              "    </tr>\n",
              "  </tbody>\n",
              "</table>\n",
              "</div>\n",
              "      <button class=\"colab-df-convert\" onclick=\"convertToInteractive('df-05ba5fbb-2942-4c95-9a7e-398cea27ea7f')\"\n",
              "              title=\"Convert this dataframe to an interactive table.\"\n",
              "              style=\"display:none;\">\n",
              "        \n",
              "  <svg xmlns=\"http://www.w3.org/2000/svg\" height=\"24px\"viewBox=\"0 0 24 24\"\n",
              "       width=\"24px\">\n",
              "    <path d=\"M0 0h24v24H0V0z\" fill=\"none\"/>\n",
              "    <path d=\"M18.56 5.44l.94 2.06.94-2.06 2.06-.94-2.06-.94-.94-2.06-.94 2.06-2.06.94zm-11 1L8.5 8.5l.94-2.06 2.06-.94-2.06-.94L8.5 2.5l-.94 2.06-2.06.94zm10 10l.94 2.06.94-2.06 2.06-.94-2.06-.94-.94-2.06-.94 2.06-2.06.94z\"/><path d=\"M17.41 7.96l-1.37-1.37c-.4-.4-.92-.59-1.43-.59-.52 0-1.04.2-1.43.59L10.3 9.45l-7.72 7.72c-.78.78-.78 2.05 0 2.83L4 21.41c.39.39.9.59 1.41.59.51 0 1.02-.2 1.41-.59l7.78-7.78 2.81-2.81c.8-.78.8-2.07 0-2.86zM5.41 20L4 18.59l7.72-7.72 1.47 1.35L5.41 20z\"/>\n",
              "  </svg>\n",
              "      </button>\n",
              "      \n",
              "  <style>\n",
              "    .colab-df-container {\n",
              "      display:flex;\n",
              "      flex-wrap:wrap;\n",
              "      gap: 12px;\n",
              "    }\n",
              "\n",
              "    .colab-df-convert {\n",
              "      background-color: #E8F0FE;\n",
              "      border: none;\n",
              "      border-radius: 50%;\n",
              "      cursor: pointer;\n",
              "      display: none;\n",
              "      fill: #1967D2;\n",
              "      height: 32px;\n",
              "      padding: 0 0 0 0;\n",
              "      width: 32px;\n",
              "    }\n",
              "\n",
              "    .colab-df-convert:hover {\n",
              "      background-color: #E2EBFA;\n",
              "      box-shadow: 0px 1px 2px rgba(60, 64, 67, 0.3), 0px 1px 3px 1px rgba(60, 64, 67, 0.15);\n",
              "      fill: #174EA6;\n",
              "    }\n",
              "\n",
              "    [theme=dark] .colab-df-convert {\n",
              "      background-color: #3B4455;\n",
              "      fill: #D2E3FC;\n",
              "    }\n",
              "\n",
              "    [theme=dark] .colab-df-convert:hover {\n",
              "      background-color: #434B5C;\n",
              "      box-shadow: 0px 1px 3px 1px rgba(0, 0, 0, 0.15);\n",
              "      filter: drop-shadow(0px 1px 2px rgba(0, 0, 0, 0.3));\n",
              "      fill: #FFFFFF;\n",
              "    }\n",
              "  </style>\n",
              "\n",
              "      <script>\n",
              "        const buttonEl =\n",
              "          document.querySelector('#df-05ba5fbb-2942-4c95-9a7e-398cea27ea7f button.colab-df-convert');\n",
              "        buttonEl.style.display =\n",
              "          google.colab.kernel.accessAllowed ? 'block' : 'none';\n",
              "\n",
              "        async function convertToInteractive(key) {\n",
              "          const element = document.querySelector('#df-05ba5fbb-2942-4c95-9a7e-398cea27ea7f');\n",
              "          const dataTable =\n",
              "            await google.colab.kernel.invokeFunction('convertToInteractive',\n",
              "                                                     [key], {});\n",
              "          if (!dataTable) return;\n",
              "\n",
              "          const docLinkHtml = 'Like what you see? Visit the ' +\n",
              "            '<a target=\"_blank\" href=https://colab.research.google.com/notebooks/data_table.ipynb>data table notebook</a>'\n",
              "            + ' to learn more about interactive tables.';\n",
              "          element.innerHTML = '';\n",
              "          dataTable['output_type'] = 'display_data';\n",
              "          await google.colab.output.renderOutput(dataTable, element);\n",
              "          const docLink = document.createElement('div');\n",
              "          docLink.innerHTML = docLinkHtml;\n",
              "          element.appendChild(docLink);\n",
              "        }\n",
              "      </script>\n",
              "    </div>\n",
              "  </div>\n",
              "  "
            ]
          },
          "metadata": {},
          "execution_count": 19
        }
      ]
    },
    {
      "cell_type": "code",
      "source": [
        "df_scaled.head()"
      ],
      "metadata": {
        "colab": {
          "base_uri": "https://localhost:8080/",
          "height": 206
        },
        "id": "yroeWnmkvFgC",
        "outputId": "c9b8bf1a-645e-4b02-a08a-d32044f6345d"
      },
      "execution_count": 21,
      "outputs": [
        {
          "output_type": "execute_result",
          "data": {
            "text/plain": [
              "   Yield  pesticide  land_use  fertilizer  temperature         Area  CID  \\\n",
              "0    0.0        0.0  0.067511     0.00002     0.339904  Afghanistan  AFG   \n",
              "1    0.0        0.0  0.067619     0.00002     0.296628  Afghanistan  AFG   \n",
              "2    0.0        0.0  0.067708     0.00002     0.497632  Afghanistan  AFG   \n",
              "3    0.0        0.0  0.067821     0.00002     0.170707  Afghanistan  AFG   \n",
              "4    0.0        0.0  0.067825     0.00002     0.328230  Afghanistan  AFG   \n",
              "\n",
              "      Item  Date  \n",
              "0  Almonds  1961  \n",
              "1  Almonds  1962  \n",
              "2  Almonds  1963  \n",
              "3  Almonds  1964  \n",
              "4  Almonds  1965  "
            ],
            "text/html": [
              "\n",
              "  <div id=\"df-e69541d0-f45a-4cfc-afb5-7cade850e001\">\n",
              "    <div class=\"colab-df-container\">\n",
              "      <div>\n",
              "<style scoped>\n",
              "    .dataframe tbody tr th:only-of-type {\n",
              "        vertical-align: middle;\n",
              "    }\n",
              "\n",
              "    .dataframe tbody tr th {\n",
              "        vertical-align: top;\n",
              "    }\n",
              "\n",
              "    .dataframe thead th {\n",
              "        text-align: right;\n",
              "    }\n",
              "</style>\n",
              "<table border=\"1\" class=\"dataframe\">\n",
              "  <thead>\n",
              "    <tr style=\"text-align: right;\">\n",
              "      <th></th>\n",
              "      <th>Yield</th>\n",
              "      <th>pesticide</th>\n",
              "      <th>land_use</th>\n",
              "      <th>fertilizer</th>\n",
              "      <th>temperature</th>\n",
              "      <th>Area</th>\n",
              "      <th>CID</th>\n",
              "      <th>Item</th>\n",
              "      <th>Date</th>\n",
              "    </tr>\n",
              "  </thead>\n",
              "  <tbody>\n",
              "    <tr>\n",
              "      <th>0</th>\n",
              "      <td>0.0</td>\n",
              "      <td>0.0</td>\n",
              "      <td>0.067511</td>\n",
              "      <td>0.00002</td>\n",
              "      <td>0.339904</td>\n",
              "      <td>Afghanistan</td>\n",
              "      <td>AFG</td>\n",
              "      <td>Almonds</td>\n",
              "      <td>1961</td>\n",
              "    </tr>\n",
              "    <tr>\n",
              "      <th>1</th>\n",
              "      <td>0.0</td>\n",
              "      <td>0.0</td>\n",
              "      <td>0.067619</td>\n",
              "      <td>0.00002</td>\n",
              "      <td>0.296628</td>\n",
              "      <td>Afghanistan</td>\n",
              "      <td>AFG</td>\n",
              "      <td>Almonds</td>\n",
              "      <td>1962</td>\n",
              "    </tr>\n",
              "    <tr>\n",
              "      <th>2</th>\n",
              "      <td>0.0</td>\n",
              "      <td>0.0</td>\n",
              "      <td>0.067708</td>\n",
              "      <td>0.00002</td>\n",
              "      <td>0.497632</td>\n",
              "      <td>Afghanistan</td>\n",
              "      <td>AFG</td>\n",
              "      <td>Almonds</td>\n",
              "      <td>1963</td>\n",
              "    </tr>\n",
              "    <tr>\n",
              "      <th>3</th>\n",
              "      <td>0.0</td>\n",
              "      <td>0.0</td>\n",
              "      <td>0.067821</td>\n",
              "      <td>0.00002</td>\n",
              "      <td>0.170707</td>\n",
              "      <td>Afghanistan</td>\n",
              "      <td>AFG</td>\n",
              "      <td>Almonds</td>\n",
              "      <td>1964</td>\n",
              "    </tr>\n",
              "    <tr>\n",
              "      <th>4</th>\n",
              "      <td>0.0</td>\n",
              "      <td>0.0</td>\n",
              "      <td>0.067825</td>\n",
              "      <td>0.00002</td>\n",
              "      <td>0.328230</td>\n",
              "      <td>Afghanistan</td>\n",
              "      <td>AFG</td>\n",
              "      <td>Almonds</td>\n",
              "      <td>1965</td>\n",
              "    </tr>\n",
              "  </tbody>\n",
              "</table>\n",
              "</div>\n",
              "      <button class=\"colab-df-convert\" onclick=\"convertToInteractive('df-e69541d0-f45a-4cfc-afb5-7cade850e001')\"\n",
              "              title=\"Convert this dataframe to an interactive table.\"\n",
              "              style=\"display:none;\">\n",
              "        \n",
              "  <svg xmlns=\"http://www.w3.org/2000/svg\" height=\"24px\"viewBox=\"0 0 24 24\"\n",
              "       width=\"24px\">\n",
              "    <path d=\"M0 0h24v24H0V0z\" fill=\"none\"/>\n",
              "    <path d=\"M18.56 5.44l.94 2.06.94-2.06 2.06-.94-2.06-.94-.94-2.06-.94 2.06-2.06.94zm-11 1L8.5 8.5l.94-2.06 2.06-.94-2.06-.94L8.5 2.5l-.94 2.06-2.06.94zm10 10l.94 2.06.94-2.06 2.06-.94-2.06-.94-.94-2.06-.94 2.06-2.06.94z\"/><path d=\"M17.41 7.96l-1.37-1.37c-.4-.4-.92-.59-1.43-.59-.52 0-1.04.2-1.43.59L10.3 9.45l-7.72 7.72c-.78.78-.78 2.05 0 2.83L4 21.41c.39.39.9.59 1.41.59.51 0 1.02-.2 1.41-.59l7.78-7.78 2.81-2.81c.8-.78.8-2.07 0-2.86zM5.41 20L4 18.59l7.72-7.72 1.47 1.35L5.41 20z\"/>\n",
              "  </svg>\n",
              "      </button>\n",
              "      \n",
              "  <style>\n",
              "    .colab-df-container {\n",
              "      display:flex;\n",
              "      flex-wrap:wrap;\n",
              "      gap: 12px;\n",
              "    }\n",
              "\n",
              "    .colab-df-convert {\n",
              "      background-color: #E8F0FE;\n",
              "      border: none;\n",
              "      border-radius: 50%;\n",
              "      cursor: pointer;\n",
              "      display: none;\n",
              "      fill: #1967D2;\n",
              "      height: 32px;\n",
              "      padding: 0 0 0 0;\n",
              "      width: 32px;\n",
              "    }\n",
              "\n",
              "    .colab-df-convert:hover {\n",
              "      background-color: #E2EBFA;\n",
              "      box-shadow: 0px 1px 2px rgba(60, 64, 67, 0.3), 0px 1px 3px 1px rgba(60, 64, 67, 0.15);\n",
              "      fill: #174EA6;\n",
              "    }\n",
              "\n",
              "    [theme=dark] .colab-df-convert {\n",
              "      background-color: #3B4455;\n",
              "      fill: #D2E3FC;\n",
              "    }\n",
              "\n",
              "    [theme=dark] .colab-df-convert:hover {\n",
              "      background-color: #434B5C;\n",
              "      box-shadow: 0px 1px 3px 1px rgba(0, 0, 0, 0.15);\n",
              "      filter: drop-shadow(0px 1px 2px rgba(0, 0, 0, 0.3));\n",
              "      fill: #FFFFFF;\n",
              "    }\n",
              "  </style>\n",
              "\n",
              "      <script>\n",
              "        const buttonEl =\n",
              "          document.querySelector('#df-e69541d0-f45a-4cfc-afb5-7cade850e001 button.colab-df-convert');\n",
              "        buttonEl.style.display =\n",
              "          google.colab.kernel.accessAllowed ? 'block' : 'none';\n",
              "\n",
              "        async function convertToInteractive(key) {\n",
              "          const element = document.querySelector('#df-e69541d0-f45a-4cfc-afb5-7cade850e001');\n",
              "          const dataTable =\n",
              "            await google.colab.kernel.invokeFunction('convertToInteractive',\n",
              "                                                     [key], {});\n",
              "          if (!dataTable) return;\n",
              "\n",
              "          const docLinkHtml = 'Like what you see? Visit the ' +\n",
              "            '<a target=\"_blank\" href=https://colab.research.google.com/notebooks/data_table.ipynb>data table notebook</a>'\n",
              "            + ' to learn more about interactive tables.';\n",
              "          element.innerHTML = '';\n",
              "          dataTable['output_type'] = 'display_data';\n",
              "          await google.colab.output.renderOutput(dataTable, element);\n",
              "          const docLink = document.createElement('div');\n",
              "          docLink.innerHTML = docLinkHtml;\n",
              "          element.appendChild(docLink);\n",
              "        }\n",
              "      </script>\n",
              "    </div>\n",
              "  </div>\n",
              "  "
            ]
          },
          "metadata": {},
          "execution_count": 21
        }
      ]
    },
    {
      "cell_type": "code",
      "source": [
        "df_scaled_grp = df_scaled.groupby(by = ['Date', 'Item'], axis = 0).agg({'Yield' : 'sum', 'pesticide' : 'sum', 'land_use': 'sum', 'fertilizer': 'sum', \n",
        "                                                                        'temperature': 'mean'})\n",
        "df_scaled_grp = df_scaled_grp.reset_index()\n",
        "\n",
        "df_scaled_grp\n",
        "\n"
      ],
      "metadata": {
        "colab": {
          "base_uri": "https://localhost:8080/",
          "height": 424
        },
        "id": "Q1vKsEukw9W6",
        "outputId": "b188ce9f-6a9d-4165-c0ee-26012df0294f"
      },
      "execution_count": 22,
      "outputs": [
        {
          "output_type": "execute_result",
          "data": {
            "text/plain": [
              "      Date            Item     Yield  pesticide  land_use  fertilizer  \\\n",
              "0     1961         Almonds  0.036508        0.0  5.230818    0.347006   \n",
              "1     1961         Bananas  0.357571        0.0  6.682884    0.365904   \n",
              "2     1961          Barley  0.087678        0.0  7.625225    0.549722   \n",
              "3     1961           Beans  0.115841        0.0  7.908330    0.530407   \n",
              "4     1961        Cabbages  0.504602        0.0  7.699254    0.561840   \n",
              "...    ...             ...       ...        ...       ...         ...   \n",
              "1947  2021      Sugar cane  1.509458        0.0  0.000000    0.000000   \n",
              "1948  2021  Sunflower seed  0.205848        0.0  0.000000    0.000000   \n",
              "1949  2021             Tea  0.060803        0.0  0.000000    0.000000   \n",
              "1950  2021        Tomatoes  1.354134        0.0  0.000000    0.000000   \n",
              "1951  2021           Wheat  0.318977        0.0  0.000000    0.000000   \n",
              "\n",
              "      temperature  \n",
              "0        0.364666  \n",
              "1        0.348380  \n",
              "2        0.374977  \n",
              "3        0.364213  \n",
              "4        0.364758  \n",
              "...           ...  \n",
              "1947     0.567847  \n",
              "1948     0.592202  \n",
              "1949     0.557300  \n",
              "1950     0.582437  \n",
              "1951     0.590045  \n",
              "\n",
              "[1952 rows x 7 columns]"
            ],
            "text/html": [
              "\n",
              "  <div id=\"df-7c12cf87-8f35-4aff-8928-c88a6ecd3acd\">\n",
              "    <div class=\"colab-df-container\">\n",
              "      <div>\n",
              "<style scoped>\n",
              "    .dataframe tbody tr th:only-of-type {\n",
              "        vertical-align: middle;\n",
              "    }\n",
              "\n",
              "    .dataframe tbody tr th {\n",
              "        vertical-align: top;\n",
              "    }\n",
              "\n",
              "    .dataframe thead th {\n",
              "        text-align: right;\n",
              "    }\n",
              "</style>\n",
              "<table border=\"1\" class=\"dataframe\">\n",
              "  <thead>\n",
              "    <tr style=\"text-align: right;\">\n",
              "      <th></th>\n",
              "      <th>Date</th>\n",
              "      <th>Item</th>\n",
              "      <th>Yield</th>\n",
              "      <th>pesticide</th>\n",
              "      <th>land_use</th>\n",
              "      <th>fertilizer</th>\n",
              "      <th>temperature</th>\n",
              "    </tr>\n",
              "  </thead>\n",
              "  <tbody>\n",
              "    <tr>\n",
              "      <th>0</th>\n",
              "      <td>1961</td>\n",
              "      <td>Almonds</td>\n",
              "      <td>0.036508</td>\n",
              "      <td>0.0</td>\n",
              "      <td>5.230818</td>\n",
              "      <td>0.347006</td>\n",
              "      <td>0.364666</td>\n",
              "    </tr>\n",
              "    <tr>\n",
              "      <th>1</th>\n",
              "      <td>1961</td>\n",
              "      <td>Bananas</td>\n",
              "      <td>0.357571</td>\n",
              "      <td>0.0</td>\n",
              "      <td>6.682884</td>\n",
              "      <td>0.365904</td>\n",
              "      <td>0.348380</td>\n",
              "    </tr>\n",
              "    <tr>\n",
              "      <th>2</th>\n",
              "      <td>1961</td>\n",
              "      <td>Barley</td>\n",
              "      <td>0.087678</td>\n",
              "      <td>0.0</td>\n",
              "      <td>7.625225</td>\n",
              "      <td>0.549722</td>\n",
              "      <td>0.374977</td>\n",
              "    </tr>\n",
              "    <tr>\n",
              "      <th>3</th>\n",
              "      <td>1961</td>\n",
              "      <td>Beans</td>\n",
              "      <td>0.115841</td>\n",
              "      <td>0.0</td>\n",
              "      <td>7.908330</td>\n",
              "      <td>0.530407</td>\n",
              "      <td>0.364213</td>\n",
              "    </tr>\n",
              "    <tr>\n",
              "      <th>4</th>\n",
              "      <td>1961</td>\n",
              "      <td>Cabbages</td>\n",
              "      <td>0.504602</td>\n",
              "      <td>0.0</td>\n",
              "      <td>7.699254</td>\n",
              "      <td>0.561840</td>\n",
              "      <td>0.364758</td>\n",
              "    </tr>\n",
              "    <tr>\n",
              "      <th>...</th>\n",
              "      <td>...</td>\n",
              "      <td>...</td>\n",
              "      <td>...</td>\n",
              "      <td>...</td>\n",
              "      <td>...</td>\n",
              "      <td>...</td>\n",
              "      <td>...</td>\n",
              "    </tr>\n",
              "    <tr>\n",
              "      <th>1947</th>\n",
              "      <td>2021</td>\n",
              "      <td>Sugar cane</td>\n",
              "      <td>1.509458</td>\n",
              "      <td>0.0</td>\n",
              "      <td>0.000000</td>\n",
              "      <td>0.000000</td>\n",
              "      <td>0.567847</td>\n",
              "    </tr>\n",
              "    <tr>\n",
              "      <th>1948</th>\n",
              "      <td>2021</td>\n",
              "      <td>Sunflower seed</td>\n",
              "      <td>0.205848</td>\n",
              "      <td>0.0</td>\n",
              "      <td>0.000000</td>\n",
              "      <td>0.000000</td>\n",
              "      <td>0.592202</td>\n",
              "    </tr>\n",
              "    <tr>\n",
              "      <th>1949</th>\n",
              "      <td>2021</td>\n",
              "      <td>Tea</td>\n",
              "      <td>0.060803</td>\n",
              "      <td>0.0</td>\n",
              "      <td>0.000000</td>\n",
              "      <td>0.000000</td>\n",
              "      <td>0.557300</td>\n",
              "    </tr>\n",
              "    <tr>\n",
              "      <th>1950</th>\n",
              "      <td>2021</td>\n",
              "      <td>Tomatoes</td>\n",
              "      <td>1.354134</td>\n",
              "      <td>0.0</td>\n",
              "      <td>0.000000</td>\n",
              "      <td>0.000000</td>\n",
              "      <td>0.582437</td>\n",
              "    </tr>\n",
              "    <tr>\n",
              "      <th>1951</th>\n",
              "      <td>2021</td>\n",
              "      <td>Wheat</td>\n",
              "      <td>0.318977</td>\n",
              "      <td>0.0</td>\n",
              "      <td>0.000000</td>\n",
              "      <td>0.000000</td>\n",
              "      <td>0.590045</td>\n",
              "    </tr>\n",
              "  </tbody>\n",
              "</table>\n",
              "<p>1952 rows × 7 columns</p>\n",
              "</div>\n",
              "      <button class=\"colab-df-convert\" onclick=\"convertToInteractive('df-7c12cf87-8f35-4aff-8928-c88a6ecd3acd')\"\n",
              "              title=\"Convert this dataframe to an interactive table.\"\n",
              "              style=\"display:none;\">\n",
              "        \n",
              "  <svg xmlns=\"http://www.w3.org/2000/svg\" height=\"24px\"viewBox=\"0 0 24 24\"\n",
              "       width=\"24px\">\n",
              "    <path d=\"M0 0h24v24H0V0z\" fill=\"none\"/>\n",
              "    <path d=\"M18.56 5.44l.94 2.06.94-2.06 2.06-.94-2.06-.94-.94-2.06-.94 2.06-2.06.94zm-11 1L8.5 8.5l.94-2.06 2.06-.94-2.06-.94L8.5 2.5l-.94 2.06-2.06.94zm10 10l.94 2.06.94-2.06 2.06-.94-2.06-.94-.94-2.06-.94 2.06-2.06.94z\"/><path d=\"M17.41 7.96l-1.37-1.37c-.4-.4-.92-.59-1.43-.59-.52 0-1.04.2-1.43.59L10.3 9.45l-7.72 7.72c-.78.78-.78 2.05 0 2.83L4 21.41c.39.39.9.59 1.41.59.51 0 1.02-.2 1.41-.59l7.78-7.78 2.81-2.81c.8-.78.8-2.07 0-2.86zM5.41 20L4 18.59l7.72-7.72 1.47 1.35L5.41 20z\"/>\n",
              "  </svg>\n",
              "      </button>\n",
              "      \n",
              "  <style>\n",
              "    .colab-df-container {\n",
              "      display:flex;\n",
              "      flex-wrap:wrap;\n",
              "      gap: 12px;\n",
              "    }\n",
              "\n",
              "    .colab-df-convert {\n",
              "      background-color: #E8F0FE;\n",
              "      border: none;\n",
              "      border-radius: 50%;\n",
              "      cursor: pointer;\n",
              "      display: none;\n",
              "      fill: #1967D2;\n",
              "      height: 32px;\n",
              "      padding: 0 0 0 0;\n",
              "      width: 32px;\n",
              "    }\n",
              "\n",
              "    .colab-df-convert:hover {\n",
              "      background-color: #E2EBFA;\n",
              "      box-shadow: 0px 1px 2px rgba(60, 64, 67, 0.3), 0px 1px 3px 1px rgba(60, 64, 67, 0.15);\n",
              "      fill: #174EA6;\n",
              "    }\n",
              "\n",
              "    [theme=dark] .colab-df-convert {\n",
              "      background-color: #3B4455;\n",
              "      fill: #D2E3FC;\n",
              "    }\n",
              "\n",
              "    [theme=dark] .colab-df-convert:hover {\n",
              "      background-color: #434B5C;\n",
              "      box-shadow: 0px 1px 3px 1px rgba(0, 0, 0, 0.15);\n",
              "      filter: drop-shadow(0px 1px 2px rgba(0, 0, 0, 0.3));\n",
              "      fill: #FFFFFF;\n",
              "    }\n",
              "  </style>\n",
              "\n",
              "      <script>\n",
              "        const buttonEl =\n",
              "          document.querySelector('#df-7c12cf87-8f35-4aff-8928-c88a6ecd3acd button.colab-df-convert');\n",
              "        buttonEl.style.display =\n",
              "          google.colab.kernel.accessAllowed ? 'block' : 'none';\n",
              "\n",
              "        async function convertToInteractive(key) {\n",
              "          const element = document.querySelector('#df-7c12cf87-8f35-4aff-8928-c88a6ecd3acd');\n",
              "          const dataTable =\n",
              "            await google.colab.kernel.invokeFunction('convertToInteractive',\n",
              "                                                     [key], {});\n",
              "          if (!dataTable) return;\n",
              "\n",
              "          const docLinkHtml = 'Like what you see? Visit the ' +\n",
              "            '<a target=\"_blank\" href=https://colab.research.google.com/notebooks/data_table.ipynb>data table notebook</a>'\n",
              "            + ' to learn more about interactive tables.';\n",
              "          element.innerHTML = '';\n",
              "          dataTable['output_type'] = 'display_data';\n",
              "          await google.colab.output.renderOutput(dataTable, element);\n",
              "          const docLink = document.createElement('div');\n",
              "          docLink.innerHTML = docLinkHtml;\n",
              "          element.appendChild(docLink);\n",
              "        }\n",
              "      </script>\n",
              "    </div>\n",
              "  </div>\n",
              "  "
            ]
          },
          "metadata": {},
          "execution_count": 22
        }
      ]
    },
    {
      "cell_type": "code",
      "source": [
        "import plotly.express as px\n",
        "fig = px.box(df_scaled_grp, y=[\"Yield\",'pesticide','land_use', 'fertilizer', 'temperature'] )\n",
        "fig.show()\n"
      ],
      "metadata": {
        "colab": {
          "base_uri": "https://localhost:8080/",
          "height": 542
        },
        "id": "TcQZvp-w2hhz",
        "outputId": "475e8495-7b43-49c2-edea-d05565e90963"
      },
      "execution_count": 23,
      "outputs": [
        {
          "output_type": "display_data",
          "data": {
            "text/html": [
              "<html>\n",
              "<head><meta charset=\"utf-8\" /></head>\n",
              "<body>\n",
              "    <div>            <script src=\"https://cdnjs.cloudflare.com/ajax/libs/mathjax/2.7.5/MathJax.js?config=TeX-AMS-MML_SVG\"></script><script type=\"text/javascript\">if (window.MathJax) {MathJax.Hub.Config({SVG: {font: \"STIX-Web\"}});}</script>                <script type=\"text/javascript\">window.PlotlyConfig = {MathJaxConfig: 'local'};</script>\n",
              "        <script src=\"https://cdn.plot.ly/plotly-2.8.3.min.js\"></script>                <div id=\"374fd395-e22f-4541-ade5-85f68516a9bf\" class=\"plotly-graph-div\" style=\"height:525px; width:100%;\"></div>            <script type=\"text/javascript\">                                    window.PLOTLYENV=window.PLOTLYENV || {};                                    if (document.getElementById(\"374fd395-e22f-4541-ade5-85f68516a9bf\")) {                    Plotly.newPlot(                        \"374fd395-e22f-4541-ade5-85f68516a9bf\",                        [{\"alignmentgroup\":\"True\",\"hovertemplate\":\"variable=%{x}<br>value=%{y}<extra></extra>\",\"legendgroup\":\"\",\"marker\":{\"color\":\"#636efa\"},\"name\":\"\",\"notched\":false,\"offsetgroup\":\"\",\"orientation\":\"v\",\"showlegend\":false,\"x\":[\"Yield\",\"Yield\",\"Yield\",\"Yield\",\"Yield\",\"Yield\",\"Yield\",\"Yield\",\"Yield\",\"Yield\",\"Yield\",\"Yield\",\"Yield\",\"Yield\",\"Yield\",\"Yield\",\"Yield\",\"Yield\",\"Yield\",\"Yield\",\"Yield\",\"Yield\",\"Yield\",\"Yield\",\"Yield\",\"Yield\",\"Yield\",\"Yield\",\"Yield\",\"Yield\",\"Yield\",\"Yield\",\"Yield\",\"Yield\",\"Yield\",\"Yield\",\"Yield\",\"Yield\",\"Yield\",\"Yield\",\"Yield\",\"Yield\",\"Yield\",\"Yield\",\"Yield\",\"Yield\",\"Yield\",\"Yield\",\"Yield\",\"Yield\",\"Yield\",\"Yield\",\"Yield\",\"Yield\",\"Yield\",\"Yield\",\"Yield\",\"Yield\",\"Yield\",\"Yield\",\"Yield\",\"Yield\",\"Yield\",\"Yield\",\"Yield\",\"Yield\",\"Yield\",\"Yield\",\"Yield\",\"Yield\",\"Yield\",\"Yield\",\"Yield\",\"Yield\",\"Yield\",\"Yield\",\"Yield\",\"Yield\",\"Yield\",\"Yield\",\"Yield\",\"Yield\",\"Yield\",\"Yield\",\"Yield\",\"Yield\",\"Yield\",\"Yield\",\"Yield\",\"Yield\",\"Yield\",\"Yield\",\"Yield\",\"Yield\",\"Yield\",\"Yield\",\"Yield\",\"Yield\",\"Yield\",\"Yield\",\"Yield\",\"Yield\",\"Yield\",\"Yield\",\"Yield\",\"Yield\",\"Yield\",\"Yield\",\"Yield\",\"Yield\",\"Yield\",\"Yield\",\"Yield\",\"Yield\",\"Yield\",\"Yield\",\"Yield\",\"Yield\",\"Yield\",\"Yield\",\"Yield\",\"Yield\",\"Yield\",\"Yield\",\"Yield\",\"Yield\",\"Yield\",\"Yield\",\"Yield\",\"Yield\",\"Yield\",\"Yield\",\"Yield\",\"Yield\",\"Yield\",\"Yield\",\"Yield\",\"Yield\",\"Yield\",\"Yield\",\"Yield\",\"Yield\",\"Yield\",\"Yield\",\"Yield\",\"Yield\",\"Yield\",\"Yield\",\"Yield\",\"Yield\",\"Yield\",\"Yield\",\"Yield\",\"Yield\",\"Yield\",\"Yield\",\"Yield\",\"Yield\",\"Yield\",\"Yield\",\"Yield\",\"Yield\",\"Yield\",\"Yield\",\"Yield\",\"Yield\",\"Yield\",\"Yield\",\"Yield\",\"Yield\",\"Yield\",\"Yield\",\"Yield\",\"Yield\",\"Yield\",\"Yield\",\"Yield\",\"Yield\",\"Yield\",\"Yield\",\"Yield\",\"Yield\",\"Yield\",\"Yield\",\"Yield\",\"Yield\",\"Yield\",\"Yield\",\"Yield\",\"Yield\",\"Yield\",\"Yield\",\"Yield\",\"Yield\",\"Yield\",\"Yield\",\"Yield\",\"Yield\",\"Yield\",\"Yield\",\"Yield\",\"Yield\",\"Yield\",\"Yield\",\"Yield\",\"Yield\",\"Yield\",\"Yield\",\"Yield\",\"Yield\",\"Yield\",\"Yield\",\"Yield\",\"Yield\",\"Yield\",\"Yield\",\"Yield\",\"Yield\",\"Yield\",\"Yield\",\"Yield\",\"Yield\",\"Yield\",\"Yield\",\"Yield\",\"Yield\",\"Yield\",\"Yield\",\"Yield\",\"Yield\",\"Yield\",\"Yield\",\"Yield\",\"Yield\",\"Yield\",\"Yield\",\"Yield\",\"Yield\",\"Yield\",\"Yield\",\"Yield\",\"Yield\",\"Yield\",\"Yield\",\"Yield\",\"Yield\",\"Yield\",\"Yield\",\"Yield\",\"Yield\",\"Yield\",\"Yield\",\"Yield\",\"Yield\",\"Yield\",\"Yield\",\"Yield\",\"Yield\",\"Yield\",\"Yield\",\"Yield\",\"Yield\",\"Yield\",\"Yield\",\"Yield\",\"Yield\",\"Yield\",\"Yield\",\"Yield\",\"Yield\",\"Yield\",\"Yield\",\"Yield\",\"Yield\",\"Yield\",\"Yield\",\"Yield\",\"Yield\",\"Yield\",\"Yield\",\"Yield\",\"Yield\",\"Yield\",\"Yield\",\"Yield\",\"Yield\",\"Yield\",\"Yield\",\"Yield\",\"Yield\",\"Yield\",\"Yield\",\"Yield\",\"Yield\",\"Yield\",\"Yield\",\"Yield\",\"Yield\",\"Yield\",\"Yield\",\"Yield\",\"Yield\",\"Yield\",\"Yield\",\"Yield\",\"Yield\",\"Yield\",\"Yield\",\"Yield\",\"Yield\",\"Yield\",\"Yield\",\"Yield\",\"Yield\",\"Yield\",\"Yield\",\"Yield\",\"Yield\",\"Yield\",\"Yield\",\"Yield\",\"Yield\",\"Yield\",\"Yield\",\"Yield\",\"Yield\",\"Yield\",\"Yield\",\"Yield\",\"Yield\",\"Yield\",\"Yield\",\"Yield\",\"Yield\",\"Yield\",\"Yield\",\"Yield\",\"Yield\",\"Yield\",\"Yield\",\"Yield\",\"Yield\",\"Yield\",\"Yield\",\"Yield\",\"Yield\",\"Yield\",\"Yield\",\"Yield\",\"Yield\",\"Yield\",\"Yield\",\"Yield\",\"Yield\",\"Yield\",\"Yield\",\"Yield\",\"Yield\",\"Yield\",\"Yield\",\"Yield\",\"Yield\",\"Yield\",\"Yield\",\"Yield\",\"Yield\",\"Yield\",\"Yield\",\"Yield\",\"Yield\",\"Yield\",\"Yield\",\"Yield\",\"Yield\",\"Yield\",\"Yield\",\"Yield\",\"Yield\",\"Yield\",\"Yield\",\"Yield\",\"Yield\",\"Yield\",\"Yield\",\"Yield\",\"Yield\",\"Yield\",\"Yield\",\"Yield\",\"Yield\",\"Yield\",\"Yield\",\"Yield\",\"Yield\",\"Yield\",\"Yield\",\"Yield\",\"Yield\",\"Yield\",\"Yield\",\"Yield\",\"Yield\",\"Yield\",\"Yield\",\"Yield\",\"Yield\",\"Yield\",\"Yield\",\"Yield\",\"Yield\",\"Yield\",\"Yield\",\"Yield\",\"Yield\",\"Yield\",\"Yield\",\"Yield\",\"Yield\",\"Yield\",\"Yield\",\"Yield\",\"Yield\",\"Yield\",\"Yield\",\"Yield\",\"Yield\",\"Yield\",\"Yield\",\"Yield\",\"Yield\",\"Yield\",\"Yield\",\"Yield\",\"Yield\",\"Yield\",\"Yield\",\"Yield\",\"Yield\",\"Yield\",\"Yield\",\"Yield\",\"Yield\",\"Yield\",\"Yield\",\"Yield\",\"Yield\",\"Yield\",\"Yield\",\"Yield\",\"Yield\",\"Yield\",\"Yield\",\"Yield\",\"Yield\",\"Yield\",\"Yield\",\"Yield\",\"Yield\",\"Yield\",\"Yield\",\"Yield\",\"Yield\",\"Yield\",\"Yield\",\"Yield\",\"Yield\",\"Yield\",\"Yield\",\"Yield\",\"Yield\",\"Yield\",\"Yield\",\"Yield\",\"Yield\",\"Yield\",\"Yield\",\"Yield\",\"Yield\",\"Yield\",\"Yield\",\"Yield\",\"Yield\",\"Yield\",\"Yield\",\"Yield\",\"Yield\",\"Yield\",\"Yield\",\"Yield\",\"Yield\",\"Yield\",\"Yield\",\"Yield\",\"Yield\",\"Yield\",\"Yield\",\"Yield\",\"Yield\",\"Yield\",\"Yield\",\"Yield\",\"Yield\",\"Yield\",\"Yield\",\"Yield\",\"Yield\",\"Yield\",\"Yield\",\"Yield\",\"Yield\",\"Yield\",\"Yield\",\"Yield\",\"Yield\",\"Yield\",\"Yield\",\"Yield\",\"Yield\",\"Yield\",\"Yield\",\"Yield\",\"Yield\",\"Yield\",\"Yield\",\"Yield\",\"Yield\",\"Yield\",\"Yield\",\"Yield\",\"Yield\",\"Yield\",\"Yield\",\"Yield\",\"Yield\",\"Yield\",\"Yield\",\"Yield\",\"Yield\",\"Yield\",\"Yield\",\"Yield\",\"Yield\",\"Yield\",\"Yield\",\"Yield\",\"Yield\",\"Yield\",\"Yield\",\"Yield\",\"Yield\",\"Yield\",\"Yield\",\"Yield\",\"Yield\",\"Yield\",\"Yield\",\"Yield\",\"Yield\",\"Yield\",\"Yield\",\"Yield\",\"Yield\",\"Yield\",\"Yield\",\"Yield\",\"Yield\",\"Yield\",\"Yield\",\"Yield\",\"Yield\",\"Yield\",\"Yield\",\"Yield\",\"Yield\",\"Yield\",\"Yield\",\"Yield\",\"Yield\",\"Yield\",\"Yield\",\"Yield\",\"Yield\",\"Yield\",\"Yield\",\"Yield\",\"Yield\",\"Yield\",\"Yield\",\"Yield\",\"Yield\",\"Yield\",\"Yield\",\"Yield\",\"Yield\",\"Yield\",\"Yield\",\"Yield\",\"Yield\",\"Yield\",\"Yield\",\"Yield\",\"Yield\",\"Yield\",\"Yield\",\"Yield\",\"Yield\",\"Yield\",\"Yield\",\"Yield\",\"Yield\",\"Yield\",\"Yield\",\"Yield\",\"Yield\",\"Yield\",\"Yield\",\"Yield\",\"Yield\",\"Yield\",\"Yield\",\"Yield\",\"Yield\",\"Yield\",\"Yield\",\"Yield\",\"Yield\",\"Yield\",\"Yield\",\"Yield\",\"Yield\",\"Yield\",\"Yield\",\"Yield\",\"Yield\",\"Yield\",\"Yield\",\"Yield\",\"Yield\",\"Yield\",\"Yield\",\"Yield\",\"Yield\",\"Yield\",\"Yield\",\"Yield\",\"Yield\",\"Yield\",\"Yield\",\"Yield\",\"Yield\",\"Yield\",\"Yield\",\"Yield\",\"Yield\",\"Yield\",\"Yield\",\"Yield\",\"Yield\",\"Yield\",\"Yield\",\"Yield\",\"Yield\",\"Yield\",\"Yield\",\"Yield\",\"Yield\",\"Yield\",\"Yield\",\"Yield\",\"Yield\",\"Yield\",\"Yield\",\"Yield\",\"Yield\",\"Yield\",\"Yield\",\"Yield\",\"Yield\",\"Yield\",\"Yield\",\"Yield\",\"Yield\",\"Yield\",\"Yield\",\"Yield\",\"Yield\",\"Yield\",\"Yield\",\"Yield\",\"Yield\",\"Yield\",\"Yield\",\"Yield\",\"Yield\",\"Yield\",\"Yield\",\"Yield\",\"Yield\",\"Yield\",\"Yield\",\"Yield\",\"Yield\",\"Yield\",\"Yield\",\"Yield\",\"Yield\",\"Yield\",\"Yield\",\"Yield\",\"Yield\",\"Yield\",\"Yield\",\"Yield\",\"Yield\",\"Yield\",\"Yield\",\"Yield\",\"Yield\",\"Yield\",\"Yield\",\"Yield\",\"Yield\",\"Yield\",\"Yield\",\"Yield\",\"Yield\",\"Yield\",\"Yield\",\"Yield\",\"Yield\",\"Yield\",\"Yield\",\"Yield\",\"Yield\",\"Yield\",\"Yield\",\"Yield\",\"Yield\",\"Yield\",\"Yield\",\"Yield\",\"Yield\",\"Yield\",\"Yield\",\"Yield\",\"Yield\",\"Yield\",\"Yield\",\"Yield\",\"Yield\",\"Yield\",\"Yield\",\"Yield\",\"Yield\",\"Yield\",\"Yield\",\"Yield\",\"Yield\",\"Yield\",\"Yield\",\"Yield\",\"Yield\",\"Yield\",\"Yield\",\"Yield\",\"Yield\",\"Yield\",\"Yield\",\"Yield\",\"Yield\",\"Yield\",\"Yield\",\"Yield\",\"Yield\",\"Yield\",\"Yield\",\"Yield\",\"Yield\",\"Yield\",\"Yield\",\"Yield\",\"Yield\",\"Yield\",\"Yield\",\"Yield\",\"Yield\",\"Yield\",\"Yield\",\"Yield\",\"Yield\",\"Yield\",\"Yield\",\"Yield\",\"Yield\",\"Yield\",\"Yield\",\"Yield\",\"Yield\",\"Yield\",\"Yield\",\"Yield\",\"Yield\",\"Yield\",\"Yield\",\"Yield\",\"Yield\",\"Yield\",\"Yield\",\"Yield\",\"Yield\",\"Yield\",\"Yield\",\"Yield\",\"Yield\",\"Yield\",\"Yield\",\"Yield\",\"Yield\",\"Yield\",\"Yield\",\"Yield\",\"Yield\",\"Yield\",\"Yield\",\"Yield\",\"Yield\",\"Yield\",\"Yield\",\"Yield\",\"Yield\",\"Yield\",\"Yield\",\"Yield\",\"Yield\",\"Yield\",\"Yield\",\"Yield\",\"Yield\",\"Yield\",\"Yield\",\"Yield\",\"Yield\",\"Yield\",\"Yield\",\"Yield\",\"Yield\",\"Yield\",\"Yield\",\"Yield\",\"Yield\",\"Yield\",\"Yield\",\"Yield\",\"Yield\",\"Yield\",\"Yield\",\"Yield\",\"Yield\",\"Yield\",\"Yield\",\"Yield\",\"Yield\",\"Yield\",\"Yield\",\"Yield\",\"Yield\",\"Yield\",\"Yield\",\"Yield\",\"Yield\",\"Yield\",\"Yield\",\"Yield\",\"Yield\",\"Yield\",\"Yield\",\"Yield\",\"Yield\",\"Yield\",\"Yield\",\"Yield\",\"Yield\",\"Yield\",\"Yield\",\"Yield\",\"Yield\",\"Yield\",\"Yield\",\"Yield\",\"Yield\",\"Yield\",\"Yield\",\"Yield\",\"Yield\",\"Yield\",\"Yield\",\"Yield\",\"Yield\",\"Yield\",\"Yield\",\"Yield\",\"Yield\",\"Yield\",\"Yield\",\"Yield\",\"Yield\",\"Yield\",\"Yield\",\"Yield\",\"Yield\",\"Yield\",\"Yield\",\"Yield\",\"Yield\",\"Yield\",\"Yield\",\"Yield\",\"Yield\",\"Yield\",\"Yield\",\"Yield\",\"Yield\",\"Yield\",\"Yield\",\"Yield\",\"Yield\",\"Yield\",\"Yield\",\"Yield\",\"Yield\",\"Yield\",\"Yield\",\"Yield\",\"Yield\",\"Yield\",\"Yield\",\"Yield\",\"Yield\",\"Yield\",\"Yield\",\"Yield\",\"Yield\",\"Yield\",\"Yield\",\"Yield\",\"Yield\",\"Yield\",\"Yield\",\"Yield\",\"Yield\",\"Yield\",\"Yield\",\"Yield\",\"Yield\",\"Yield\",\"Yield\",\"Yield\",\"Yield\",\"Yield\",\"Yield\",\"Yield\",\"Yield\",\"Yield\",\"Yield\",\"Yield\",\"Yield\",\"Yield\",\"Yield\",\"Yield\",\"Yield\",\"Yield\",\"Yield\",\"Yield\",\"Yield\",\"Yield\",\"Yield\",\"Yield\",\"Yield\",\"Yield\",\"Yield\",\"Yield\",\"Yield\",\"Yield\",\"Yield\",\"Yield\",\"Yield\",\"Yield\",\"Yield\",\"Yield\",\"Yield\",\"Yield\",\"Yield\",\"Yield\",\"Yield\",\"Yield\",\"Yield\",\"Yield\",\"Yield\",\"Yield\",\"Yield\",\"Yield\",\"Yield\",\"Yield\",\"Yield\",\"Yield\",\"Yield\",\"Yield\",\"Yield\",\"Yield\",\"Yield\",\"Yield\",\"Yield\",\"Yield\",\"Yield\",\"Yield\",\"Yield\",\"Yield\",\"Yield\",\"Yield\",\"Yield\",\"Yield\",\"Yield\",\"Yield\",\"Yield\",\"Yield\",\"Yield\",\"Yield\",\"Yield\",\"Yield\",\"Yield\",\"Yield\",\"Yield\",\"Yield\",\"Yield\",\"Yield\",\"Yield\",\"Yield\",\"Yield\",\"Yield\",\"Yield\",\"Yield\",\"Yield\",\"Yield\",\"Yield\",\"Yield\",\"Yield\",\"Yield\",\"Yield\",\"Yield\",\"Yield\",\"Yield\",\"Yield\",\"Yield\",\"Yield\",\"Yield\",\"Yield\",\"Yield\",\"Yield\",\"Yield\",\"Yield\",\"Yield\",\"Yield\",\"Yield\",\"Yield\",\"Yield\",\"Yield\",\"Yield\",\"Yield\",\"Yield\",\"Yield\",\"Yield\",\"Yield\",\"Yield\",\"Yield\",\"Yield\",\"Yield\",\"Yield\",\"Yield\",\"Yield\",\"Yield\",\"Yield\",\"Yield\",\"Yield\",\"Yield\",\"Yield\",\"Yield\",\"Yield\",\"Yield\",\"Yield\",\"Yield\",\"Yield\",\"Yield\",\"Yield\",\"Yield\",\"Yield\",\"Yield\",\"Yield\",\"Yield\",\"Yield\",\"Yield\",\"Yield\",\"Yield\",\"Yield\",\"Yield\",\"Yield\",\"Yield\",\"Yield\",\"Yield\",\"Yield\",\"Yield\",\"Yield\",\"Yield\",\"Yield\",\"Yield\",\"Yield\",\"Yield\",\"Yield\",\"Yield\",\"Yield\",\"Yield\",\"Yield\",\"Yield\",\"Yield\",\"Yield\",\"Yield\",\"Yield\",\"Yield\",\"Yield\",\"Yield\",\"Yield\",\"Yield\",\"Yield\",\"Yield\",\"Yield\",\"Yield\",\"Yield\",\"Yield\",\"Yield\",\"Yield\",\"Yield\",\"Yield\",\"Yield\",\"Yield\",\"Yield\",\"Yield\",\"Yield\",\"Yield\",\"Yield\",\"Yield\",\"Yield\",\"Yield\",\"Yield\",\"Yield\",\"Yield\",\"Yield\",\"Yield\",\"Yield\",\"Yield\",\"Yield\",\"Yield\",\"Yield\",\"Yield\",\"Yield\",\"Yield\",\"Yield\",\"Yield\",\"Yield\",\"Yield\",\"Yield\",\"Yield\",\"Yield\",\"Yield\",\"Yield\",\"Yield\",\"Yield\",\"Yield\",\"Yield\",\"Yield\",\"Yield\",\"Yield\",\"Yield\",\"Yield\",\"Yield\",\"Yield\",\"Yield\",\"Yield\",\"Yield\",\"Yield\",\"Yield\",\"Yield\",\"Yield\",\"Yield\",\"Yield\",\"Yield\",\"Yield\",\"Yield\",\"Yield\",\"Yield\",\"Yield\",\"Yield\",\"Yield\",\"Yield\",\"Yield\",\"Yield\",\"Yield\",\"Yield\",\"Yield\",\"Yield\",\"Yield\",\"Yield\",\"Yield\",\"Yield\",\"Yield\",\"Yield\",\"Yield\",\"Yield\",\"Yield\",\"Yield\",\"Yield\",\"Yield\",\"Yield\",\"Yield\",\"Yield\",\"Yield\",\"Yield\",\"Yield\",\"Yield\",\"Yield\",\"Yield\",\"Yield\",\"Yield\",\"Yield\",\"Yield\",\"Yield\",\"Yield\",\"Yield\",\"Yield\",\"Yield\",\"Yield\",\"Yield\",\"Yield\",\"Yield\",\"Yield\",\"Yield\",\"Yield\",\"Yield\",\"Yield\",\"Yield\",\"Yield\",\"Yield\",\"Yield\",\"Yield\",\"Yield\",\"Yield\",\"Yield\",\"Yield\",\"Yield\",\"Yield\",\"Yield\",\"Yield\",\"Yield\",\"Yield\",\"Yield\",\"Yield\",\"Yield\",\"Yield\",\"Yield\",\"Yield\",\"Yield\",\"Yield\",\"Yield\",\"Yield\",\"Yield\",\"Yield\",\"Yield\",\"Yield\",\"Yield\",\"Yield\",\"Yield\",\"Yield\",\"Yield\",\"Yield\",\"Yield\",\"Yield\",\"Yield\",\"Yield\",\"Yield\",\"Yield\",\"Yield\",\"Yield\",\"Yield\",\"Yield\",\"Yield\",\"Yield\",\"Yield\",\"Yield\",\"Yield\",\"Yield\",\"Yield\",\"Yield\",\"Yield\",\"Yield\",\"Yield\",\"Yield\",\"Yield\",\"Yield\",\"Yield\",\"Yield\",\"Yield\",\"Yield\",\"Yield\",\"Yield\",\"Yield\",\"Yield\",\"Yield\",\"Yield\",\"Yield\",\"Yield\",\"Yield\",\"Yield\",\"Yield\",\"Yield\",\"Yield\",\"Yield\",\"Yield\",\"Yield\",\"Yield\",\"Yield\",\"Yield\",\"Yield\",\"Yield\",\"Yield\",\"Yield\",\"Yield\",\"Yield\",\"Yield\",\"Yield\",\"Yield\",\"Yield\",\"Yield\",\"Yield\",\"Yield\",\"Yield\",\"Yield\",\"Yield\",\"Yield\",\"Yield\",\"Yield\",\"Yield\",\"Yield\",\"Yield\",\"Yield\",\"Yield\",\"Yield\",\"Yield\",\"Yield\",\"Yield\",\"Yield\",\"Yield\",\"Yield\",\"Yield\",\"Yield\",\"Yield\",\"Yield\",\"Yield\",\"Yield\",\"Yield\",\"Yield\",\"Yield\",\"Yield\",\"Yield\",\"Yield\",\"Yield\",\"Yield\",\"Yield\",\"Yield\",\"Yield\",\"Yield\",\"Yield\",\"Yield\",\"Yield\",\"Yield\",\"Yield\",\"Yield\",\"Yield\",\"Yield\",\"Yield\",\"Yield\",\"Yield\",\"Yield\",\"Yield\",\"Yield\",\"Yield\",\"Yield\",\"Yield\",\"Yield\",\"Yield\",\"Yield\",\"Yield\",\"Yield\",\"Yield\",\"Yield\",\"Yield\",\"Yield\",\"Yield\",\"Yield\",\"Yield\",\"Yield\",\"Yield\",\"Yield\",\"Yield\",\"Yield\",\"Yield\",\"Yield\",\"Yield\",\"Yield\",\"Yield\",\"Yield\",\"Yield\",\"Yield\",\"Yield\",\"Yield\",\"Yield\",\"Yield\",\"Yield\",\"Yield\",\"Yield\",\"Yield\",\"Yield\",\"Yield\",\"Yield\",\"Yield\",\"Yield\",\"Yield\",\"Yield\",\"Yield\",\"Yield\",\"Yield\",\"Yield\",\"Yield\",\"Yield\",\"Yield\",\"Yield\",\"Yield\",\"Yield\",\"Yield\",\"Yield\",\"Yield\",\"Yield\",\"Yield\",\"Yield\",\"Yield\",\"Yield\",\"Yield\",\"Yield\",\"Yield\",\"Yield\",\"Yield\",\"Yield\",\"Yield\",\"Yield\",\"Yield\",\"Yield\",\"Yield\",\"Yield\",\"Yield\",\"Yield\",\"Yield\",\"Yield\",\"Yield\",\"Yield\",\"Yield\",\"Yield\",\"Yield\",\"Yield\",\"Yield\",\"Yield\",\"Yield\",\"Yield\",\"Yield\",\"Yield\",\"Yield\",\"Yield\",\"Yield\",\"Yield\",\"Yield\",\"Yield\",\"Yield\",\"Yield\",\"Yield\",\"Yield\",\"Yield\",\"Yield\",\"Yield\",\"Yield\",\"Yield\",\"Yield\",\"Yield\",\"Yield\",\"Yield\",\"Yield\",\"Yield\",\"Yield\",\"Yield\",\"Yield\",\"Yield\",\"Yield\",\"Yield\",\"Yield\",\"Yield\",\"Yield\",\"Yield\",\"Yield\",\"Yield\",\"Yield\",\"Yield\",\"Yield\",\"Yield\",\"Yield\",\"Yield\",\"Yield\",\"Yield\",\"Yield\",\"Yield\",\"Yield\",\"Yield\",\"Yield\",\"Yield\",\"Yield\",\"Yield\",\"Yield\",\"Yield\",\"Yield\",\"Yield\",\"Yield\",\"Yield\",\"Yield\",\"Yield\",\"Yield\",\"Yield\",\"Yield\",\"Yield\",\"Yield\",\"Yield\",\"Yield\",\"Yield\",\"Yield\",\"Yield\",\"Yield\",\"Yield\",\"Yield\",\"Yield\",\"Yield\",\"Yield\",\"Yield\",\"Yield\",\"Yield\",\"Yield\",\"Yield\",\"Yield\",\"Yield\",\"Yield\",\"Yield\",\"Yield\",\"Yield\",\"Yield\",\"Yield\",\"Yield\",\"Yield\",\"Yield\",\"Yield\",\"Yield\",\"Yield\",\"Yield\",\"Yield\",\"Yield\",\"Yield\",\"Yield\",\"Yield\",\"Yield\",\"Yield\",\"Yield\",\"Yield\",\"Yield\",\"Yield\",\"Yield\",\"Yield\",\"Yield\",\"Yield\",\"Yield\",\"Yield\",\"Yield\",\"Yield\",\"Yield\",\"Yield\",\"Yield\",\"Yield\",\"Yield\",\"Yield\",\"Yield\",\"Yield\",\"Yield\",\"Yield\",\"Yield\",\"Yield\",\"Yield\",\"Yield\",\"Yield\",\"Yield\",\"Yield\",\"Yield\",\"Yield\",\"Yield\",\"Yield\",\"Yield\",\"Yield\",\"Yield\",\"Yield\",\"Yield\",\"Yield\",\"Yield\",\"Yield\",\"Yield\",\"Yield\",\"Yield\",\"Yield\",\"Yield\",\"Yield\",\"Yield\",\"Yield\",\"Yield\",\"Yield\",\"Yield\",\"Yield\",\"Yield\",\"Yield\",\"Yield\",\"Yield\",\"Yield\",\"Yield\",\"Yield\",\"Yield\",\"Yield\",\"Yield\",\"Yield\",\"Yield\",\"Yield\",\"Yield\",\"Yield\",\"Yield\",\"Yield\",\"Yield\",\"Yield\",\"Yield\",\"Yield\",\"Yield\",\"Yield\",\"Yield\",\"Yield\",\"Yield\",\"Yield\",\"Yield\",\"Yield\",\"Yield\",\"Yield\",\"Yield\",\"Yield\",\"Yield\",\"Yield\",\"Yield\",\"Yield\",\"Yield\",\"Yield\",\"Yield\",\"Yield\",\"Yield\",\"Yield\",\"Yield\",\"Yield\",\"Yield\",\"Yield\",\"Yield\",\"Yield\",\"Yield\",\"Yield\",\"Yield\",\"Yield\",\"Yield\",\"Yield\",\"Yield\",\"Yield\",\"Yield\",\"Yield\",\"Yield\",\"Yield\",\"Yield\",\"Yield\",\"Yield\",\"Yield\",\"Yield\",\"Yield\",\"Yield\",\"Yield\",\"Yield\",\"Yield\",\"Yield\",\"Yield\",\"Yield\",\"Yield\",\"Yield\",\"Yield\",\"Yield\",\"Yield\",\"Yield\",\"Yield\",\"Yield\",\"Yield\",\"Yield\",\"Yield\",\"Yield\",\"Yield\",\"Yield\",\"Yield\",\"Yield\",\"Yield\",\"Yield\",\"Yield\",\"Yield\",\"Yield\",\"Yield\",\"Yield\",\"Yield\",\"Yield\",\"Yield\",\"Yield\",\"Yield\",\"Yield\",\"Yield\",\"Yield\",\"Yield\",\"Yield\",\"Yield\",\"Yield\",\"Yield\",\"Yield\",\"Yield\",\"Yield\",\"Yield\",\"Yield\",\"Yield\",\"Yield\",\"Yield\",\"Yield\",\"Yield\",\"Yield\",\"Yield\",\"Yield\",\"Yield\",\"Yield\",\"Yield\",\"Yield\",\"Yield\",\"Yield\",\"Yield\",\"Yield\",\"Yield\",\"Yield\",\"Yield\",\"Yield\",\"Yield\",\"Yield\",\"Yield\",\"Yield\",\"Yield\",\"Yield\",\"Yield\",\"Yield\",\"Yield\",\"Yield\",\"Yield\",\"Yield\",\"Yield\",\"Yield\",\"Yield\",\"Yield\",\"Yield\",\"Yield\",\"Yield\",\"Yield\",\"Yield\",\"Yield\",\"Yield\",\"Yield\",\"Yield\",\"Yield\",\"Yield\",\"Yield\",\"Yield\",\"Yield\",\"Yield\",\"Yield\",\"Yield\",\"Yield\",\"Yield\",\"Yield\",\"Yield\",\"Yield\",\"Yield\",\"Yield\",\"Yield\",\"Yield\",\"Yield\",\"Yield\",\"Yield\",\"Yield\",\"Yield\",\"Yield\",\"Yield\",\"Yield\",\"Yield\",\"Yield\",\"Yield\",\"Yield\",\"Yield\",\"Yield\",\"Yield\",\"Yield\",\"Yield\",\"Yield\",\"Yield\",\"Yield\",\"Yield\",\"Yield\",\"Yield\",\"Yield\",\"Yield\",\"Yield\",\"Yield\",\"Yield\",\"Yield\",\"Yield\",\"Yield\",\"Yield\",\"Yield\",\"Yield\",\"Yield\",\"Yield\",\"Yield\",\"Yield\",\"Yield\",\"Yield\",\"Yield\",\"Yield\",\"Yield\",\"Yield\",\"Yield\",\"Yield\",\"Yield\",\"Yield\",\"Yield\",\"Yield\",\"Yield\",\"Yield\",\"Yield\",\"Yield\",\"Yield\",\"Yield\",\"Yield\",\"Yield\",\"Yield\",\"Yield\",\"Yield\",\"Yield\",\"Yield\",\"Yield\",\"Yield\",\"Yield\",\"Yield\",\"Yield\",\"Yield\",\"Yield\",\"Yield\",\"Yield\",\"Yield\",\"Yield\",\"Yield\",\"Yield\",\"Yield\",\"Yield\",\"Yield\",\"Yield\",\"Yield\",\"Yield\",\"Yield\",\"Yield\",\"Yield\",\"Yield\",\"Yield\",\"Yield\",\"Yield\",\"Yield\",\"Yield\",\"Yield\",\"Yield\",\"Yield\",\"Yield\",\"Yield\",\"Yield\",\"Yield\",\"Yield\",\"Yield\",\"Yield\",\"Yield\",\"Yield\",\"Yield\",\"Yield\",\"Yield\",\"Yield\",\"Yield\",\"Yield\",\"Yield\",\"Yield\",\"Yield\",\"Yield\",\"Yield\",\"Yield\",\"Yield\",\"Yield\",\"Yield\",\"Yield\",\"Yield\",\"Yield\",\"Yield\",\"Yield\",\"Yield\",\"Yield\",\"Yield\",\"Yield\",\"Yield\",\"Yield\",\"Yield\",\"Yield\",\"Yield\",\"Yield\",\"Yield\",\"Yield\",\"Yield\",\"Yield\",\"Yield\",\"Yield\",\"Yield\",\"Yield\",\"pesticide\",\"pesticide\",\"pesticide\",\"pesticide\",\"pesticide\",\"pesticide\",\"pesticide\",\"pesticide\",\"pesticide\",\"pesticide\",\"pesticide\",\"pesticide\",\"pesticide\",\"pesticide\",\"pesticide\",\"pesticide\",\"pesticide\",\"pesticide\",\"pesticide\",\"pesticide\",\"pesticide\",\"pesticide\",\"pesticide\",\"pesticide\",\"pesticide\",\"pesticide\",\"pesticide\",\"pesticide\",\"pesticide\",\"pesticide\",\"pesticide\",\"pesticide\",\"pesticide\",\"pesticide\",\"pesticide\",\"pesticide\",\"pesticide\",\"pesticide\",\"pesticide\",\"pesticide\",\"pesticide\",\"pesticide\",\"pesticide\",\"pesticide\",\"pesticide\",\"pesticide\",\"pesticide\",\"pesticide\",\"pesticide\",\"pesticide\",\"pesticide\",\"pesticide\",\"pesticide\",\"pesticide\",\"pesticide\",\"pesticide\",\"pesticide\",\"pesticide\",\"pesticide\",\"pesticide\",\"pesticide\",\"pesticide\",\"pesticide\",\"pesticide\",\"pesticide\",\"pesticide\",\"pesticide\",\"pesticide\",\"pesticide\",\"pesticide\",\"pesticide\",\"pesticide\",\"pesticide\",\"pesticide\",\"pesticide\",\"pesticide\",\"pesticide\",\"pesticide\",\"pesticide\",\"pesticide\",\"pesticide\",\"pesticide\",\"pesticide\",\"pesticide\",\"pesticide\",\"pesticide\",\"pesticide\",\"pesticide\",\"pesticide\",\"pesticide\",\"pesticide\",\"pesticide\",\"pesticide\",\"pesticide\",\"pesticide\",\"pesticide\",\"pesticide\",\"pesticide\",\"pesticide\",\"pesticide\",\"pesticide\",\"pesticide\",\"pesticide\",\"pesticide\",\"pesticide\",\"pesticide\",\"pesticide\",\"pesticide\",\"pesticide\",\"pesticide\",\"pesticide\",\"pesticide\",\"pesticide\",\"pesticide\",\"pesticide\",\"pesticide\",\"pesticide\",\"pesticide\",\"pesticide\",\"pesticide\",\"pesticide\",\"pesticide\",\"pesticide\",\"pesticide\",\"pesticide\",\"pesticide\",\"pesticide\",\"pesticide\",\"pesticide\",\"pesticide\",\"pesticide\",\"pesticide\",\"pesticide\",\"pesticide\",\"pesticide\",\"pesticide\",\"pesticide\",\"pesticide\",\"pesticide\",\"pesticide\",\"pesticide\",\"pesticide\",\"pesticide\",\"pesticide\",\"pesticide\",\"pesticide\",\"pesticide\",\"pesticide\",\"pesticide\",\"pesticide\",\"pesticide\",\"pesticide\",\"pesticide\",\"pesticide\",\"pesticide\",\"pesticide\",\"pesticide\",\"pesticide\",\"pesticide\",\"pesticide\",\"pesticide\",\"pesticide\",\"pesticide\",\"pesticide\",\"pesticide\",\"pesticide\",\"pesticide\",\"pesticide\",\"pesticide\",\"pesticide\",\"pesticide\",\"pesticide\",\"pesticide\",\"pesticide\",\"pesticide\",\"pesticide\",\"pesticide\",\"pesticide\",\"pesticide\",\"pesticide\",\"pesticide\",\"pesticide\",\"pesticide\",\"pesticide\",\"pesticide\",\"pesticide\",\"pesticide\",\"pesticide\",\"pesticide\",\"pesticide\",\"pesticide\",\"pesticide\",\"pesticide\",\"pesticide\",\"pesticide\",\"pesticide\",\"pesticide\",\"pesticide\",\"pesticide\",\"pesticide\",\"pesticide\",\"pesticide\",\"pesticide\",\"pesticide\",\"pesticide\",\"pesticide\",\"pesticide\",\"pesticide\",\"pesticide\",\"pesticide\",\"pesticide\",\"pesticide\",\"pesticide\",\"pesticide\",\"pesticide\",\"pesticide\",\"pesticide\",\"pesticide\",\"pesticide\",\"pesticide\",\"pesticide\",\"pesticide\",\"pesticide\",\"pesticide\",\"pesticide\",\"pesticide\",\"pesticide\",\"pesticide\",\"pesticide\",\"pesticide\",\"pesticide\",\"pesticide\",\"pesticide\",\"pesticide\",\"pesticide\",\"pesticide\",\"pesticide\",\"pesticide\",\"pesticide\",\"pesticide\",\"pesticide\",\"pesticide\",\"pesticide\",\"pesticide\",\"pesticide\",\"pesticide\",\"pesticide\",\"pesticide\",\"pesticide\",\"pesticide\",\"pesticide\",\"pesticide\",\"pesticide\",\"pesticide\",\"pesticide\",\"pesticide\",\"pesticide\",\"pesticide\",\"pesticide\",\"pesticide\",\"pesticide\",\"pesticide\",\"pesticide\",\"pesticide\",\"pesticide\",\"pesticide\",\"pesticide\",\"pesticide\",\"pesticide\",\"pesticide\",\"pesticide\",\"pesticide\",\"pesticide\",\"pesticide\",\"pesticide\",\"pesticide\",\"pesticide\",\"pesticide\",\"pesticide\",\"pesticide\",\"pesticide\",\"pesticide\",\"pesticide\",\"pesticide\",\"pesticide\",\"pesticide\",\"pesticide\",\"pesticide\",\"pesticide\",\"pesticide\",\"pesticide\",\"pesticide\",\"pesticide\",\"pesticide\",\"pesticide\",\"pesticide\",\"pesticide\",\"pesticide\",\"pesticide\",\"pesticide\",\"pesticide\",\"pesticide\",\"pesticide\",\"pesticide\",\"pesticide\",\"pesticide\",\"pesticide\",\"pesticide\",\"pesticide\",\"pesticide\",\"pesticide\",\"pesticide\",\"pesticide\",\"pesticide\",\"pesticide\",\"pesticide\",\"pesticide\",\"pesticide\",\"pesticide\",\"pesticide\",\"pesticide\",\"pesticide\",\"pesticide\",\"pesticide\",\"pesticide\",\"pesticide\",\"pesticide\",\"pesticide\",\"pesticide\",\"pesticide\",\"pesticide\",\"pesticide\",\"pesticide\",\"pesticide\",\"pesticide\",\"pesticide\",\"pesticide\",\"pesticide\",\"pesticide\",\"pesticide\",\"pesticide\",\"pesticide\",\"pesticide\",\"pesticide\",\"pesticide\",\"pesticide\",\"pesticide\",\"pesticide\",\"pesticide\",\"pesticide\",\"pesticide\",\"pesticide\",\"pesticide\",\"pesticide\",\"pesticide\",\"pesticide\",\"pesticide\",\"pesticide\",\"pesticide\",\"pesticide\",\"pesticide\",\"pesticide\",\"pesticide\",\"pesticide\",\"pesticide\",\"pesticide\",\"pesticide\",\"pesticide\",\"pesticide\",\"pesticide\",\"pesticide\",\"pesticide\",\"pesticide\",\"pesticide\",\"pesticide\",\"pesticide\",\"pesticide\",\"pesticide\",\"pesticide\",\"pesticide\",\"pesticide\",\"pesticide\",\"pesticide\",\"pesticide\",\"pesticide\",\"pesticide\",\"pesticide\",\"pesticide\",\"pesticide\",\"pesticide\",\"pesticide\",\"pesticide\",\"pesticide\",\"pesticide\",\"pesticide\",\"pesticide\",\"pesticide\",\"pesticide\",\"pesticide\",\"pesticide\",\"pesticide\",\"pesticide\",\"pesticide\",\"pesticide\",\"pesticide\",\"pesticide\",\"pesticide\",\"pesticide\",\"pesticide\",\"pesticide\",\"pesticide\",\"pesticide\",\"pesticide\",\"pesticide\",\"pesticide\",\"pesticide\",\"pesticide\",\"pesticide\",\"pesticide\",\"pesticide\",\"pesticide\",\"pesticide\",\"pesticide\",\"pesticide\",\"pesticide\",\"pesticide\",\"pesticide\",\"pesticide\",\"pesticide\",\"pesticide\",\"pesticide\",\"pesticide\",\"pesticide\",\"pesticide\",\"pesticide\",\"pesticide\",\"pesticide\",\"pesticide\",\"pesticide\",\"pesticide\",\"pesticide\",\"pesticide\",\"pesticide\",\"pesticide\",\"pesticide\",\"pesticide\",\"pesticide\",\"pesticide\",\"pesticide\",\"pesticide\",\"pesticide\",\"pesticide\",\"pesticide\",\"pesticide\",\"pesticide\",\"pesticide\",\"pesticide\",\"pesticide\",\"pesticide\",\"pesticide\",\"pesticide\",\"pesticide\",\"pesticide\",\"pesticide\",\"pesticide\",\"pesticide\",\"pesticide\",\"pesticide\",\"pesticide\",\"pesticide\",\"pesticide\",\"pesticide\",\"pesticide\",\"pesticide\",\"pesticide\",\"pesticide\",\"pesticide\",\"pesticide\",\"pesticide\",\"pesticide\",\"pesticide\",\"pesticide\",\"pesticide\",\"pesticide\",\"pesticide\",\"pesticide\",\"pesticide\",\"pesticide\",\"pesticide\",\"pesticide\",\"pesticide\",\"pesticide\",\"pesticide\",\"pesticide\",\"pesticide\",\"pesticide\",\"pesticide\",\"pesticide\",\"pesticide\",\"pesticide\",\"pesticide\",\"pesticide\",\"pesticide\",\"pesticide\",\"pesticide\",\"pesticide\",\"pesticide\",\"pesticide\",\"pesticide\",\"pesticide\",\"pesticide\",\"pesticide\",\"pesticide\",\"pesticide\",\"pesticide\",\"pesticide\",\"pesticide\",\"pesticide\",\"pesticide\",\"pesticide\",\"pesticide\",\"pesticide\",\"pesticide\",\"pesticide\",\"pesticide\",\"pesticide\",\"pesticide\",\"pesticide\",\"pesticide\",\"pesticide\",\"pesticide\",\"pesticide\",\"pesticide\",\"pesticide\",\"pesticide\",\"pesticide\",\"pesticide\",\"pesticide\",\"pesticide\",\"pesticide\",\"pesticide\",\"pesticide\",\"pesticide\",\"pesticide\",\"pesticide\",\"pesticide\",\"pesticide\",\"pesticide\",\"pesticide\",\"pesticide\",\"pesticide\",\"pesticide\",\"pesticide\",\"pesticide\",\"pesticide\",\"pesticide\",\"pesticide\",\"pesticide\",\"pesticide\",\"pesticide\",\"pesticide\",\"pesticide\",\"pesticide\",\"pesticide\",\"pesticide\",\"pesticide\",\"pesticide\",\"pesticide\",\"pesticide\",\"pesticide\",\"pesticide\",\"pesticide\",\"pesticide\",\"pesticide\",\"pesticide\",\"pesticide\",\"pesticide\",\"pesticide\",\"pesticide\",\"pesticide\",\"pesticide\",\"pesticide\",\"pesticide\",\"pesticide\",\"pesticide\",\"pesticide\",\"pesticide\",\"pesticide\",\"pesticide\",\"pesticide\",\"pesticide\",\"pesticide\",\"pesticide\",\"pesticide\",\"pesticide\",\"pesticide\",\"pesticide\",\"pesticide\",\"pesticide\",\"pesticide\",\"pesticide\",\"pesticide\",\"pesticide\",\"pesticide\",\"pesticide\",\"pesticide\",\"pesticide\",\"pesticide\",\"pesticide\",\"pesticide\",\"pesticide\",\"pesticide\",\"pesticide\",\"pesticide\",\"pesticide\",\"pesticide\",\"pesticide\",\"pesticide\",\"pesticide\",\"pesticide\",\"pesticide\",\"pesticide\",\"pesticide\",\"pesticide\",\"pesticide\",\"pesticide\",\"pesticide\",\"pesticide\",\"pesticide\",\"pesticide\",\"pesticide\",\"pesticide\",\"pesticide\",\"pesticide\",\"pesticide\",\"pesticide\",\"pesticide\",\"pesticide\",\"pesticide\",\"pesticide\",\"pesticide\",\"pesticide\",\"pesticide\",\"pesticide\",\"pesticide\",\"pesticide\",\"pesticide\",\"pesticide\",\"pesticide\",\"pesticide\",\"pesticide\",\"pesticide\",\"pesticide\",\"pesticide\",\"pesticide\",\"pesticide\",\"pesticide\",\"pesticide\",\"pesticide\",\"pesticide\",\"pesticide\",\"pesticide\",\"pesticide\",\"pesticide\",\"pesticide\",\"pesticide\",\"pesticide\",\"pesticide\",\"pesticide\",\"pesticide\",\"pesticide\",\"pesticide\",\"pesticide\",\"pesticide\",\"pesticide\",\"pesticide\",\"pesticide\",\"pesticide\",\"pesticide\",\"pesticide\",\"pesticide\",\"pesticide\",\"pesticide\",\"pesticide\",\"pesticide\",\"pesticide\",\"pesticide\",\"pesticide\",\"pesticide\",\"pesticide\",\"pesticide\",\"pesticide\",\"pesticide\",\"pesticide\",\"pesticide\",\"pesticide\",\"pesticide\",\"pesticide\",\"pesticide\",\"pesticide\",\"pesticide\",\"pesticide\",\"pesticide\",\"pesticide\",\"pesticide\",\"pesticide\",\"pesticide\",\"pesticide\",\"pesticide\",\"pesticide\",\"pesticide\",\"pesticide\",\"pesticide\",\"pesticide\",\"pesticide\",\"pesticide\",\"pesticide\",\"pesticide\",\"pesticide\",\"pesticide\",\"pesticide\",\"pesticide\",\"pesticide\",\"pesticide\",\"pesticide\",\"pesticide\",\"pesticide\",\"pesticide\",\"pesticide\",\"pesticide\",\"pesticide\",\"pesticide\",\"pesticide\",\"pesticide\",\"pesticide\",\"pesticide\",\"pesticide\",\"pesticide\",\"pesticide\",\"pesticide\",\"pesticide\",\"pesticide\",\"pesticide\",\"pesticide\",\"pesticide\",\"pesticide\",\"pesticide\",\"pesticide\",\"pesticide\",\"pesticide\",\"pesticide\",\"pesticide\",\"pesticide\",\"pesticide\",\"pesticide\",\"pesticide\",\"pesticide\",\"pesticide\",\"pesticide\",\"pesticide\",\"pesticide\",\"pesticide\",\"pesticide\",\"pesticide\",\"pesticide\",\"pesticide\",\"pesticide\",\"pesticide\",\"pesticide\",\"pesticide\",\"pesticide\",\"pesticide\",\"pesticide\",\"pesticide\",\"pesticide\",\"pesticide\",\"pesticide\",\"pesticide\",\"pesticide\",\"pesticide\",\"pesticide\",\"pesticide\",\"pesticide\",\"pesticide\",\"pesticide\",\"pesticide\",\"pesticide\",\"pesticide\",\"pesticide\",\"pesticide\",\"pesticide\",\"pesticide\",\"pesticide\",\"pesticide\",\"pesticide\",\"pesticide\",\"pesticide\",\"pesticide\",\"pesticide\",\"pesticide\",\"pesticide\",\"pesticide\",\"pesticide\",\"pesticide\",\"pesticide\",\"pesticide\",\"pesticide\",\"pesticide\",\"pesticide\",\"pesticide\",\"pesticide\",\"pesticide\",\"pesticide\",\"pesticide\",\"pesticide\",\"pesticide\",\"pesticide\",\"pesticide\",\"pesticide\",\"pesticide\",\"pesticide\",\"pesticide\",\"pesticide\",\"pesticide\",\"pesticide\",\"pesticide\",\"pesticide\",\"pesticide\",\"pesticide\",\"pesticide\",\"pesticide\",\"pesticide\",\"pesticide\",\"pesticide\",\"pesticide\",\"pesticide\",\"pesticide\",\"pesticide\",\"pesticide\",\"pesticide\",\"pesticide\",\"pesticide\",\"pesticide\",\"pesticide\",\"pesticide\",\"pesticide\",\"pesticide\",\"pesticide\",\"pesticide\",\"pesticide\",\"pesticide\",\"pesticide\",\"pesticide\",\"pesticide\",\"pesticide\",\"pesticide\",\"pesticide\",\"pesticide\",\"pesticide\",\"pesticide\",\"pesticide\",\"pesticide\",\"pesticide\",\"pesticide\",\"pesticide\",\"pesticide\",\"pesticide\",\"pesticide\",\"pesticide\",\"pesticide\",\"pesticide\",\"pesticide\",\"pesticide\",\"pesticide\",\"pesticide\",\"pesticide\",\"pesticide\",\"pesticide\",\"pesticide\",\"pesticide\",\"pesticide\",\"pesticide\",\"pesticide\",\"pesticide\",\"pesticide\",\"pesticide\",\"pesticide\",\"pesticide\",\"pesticide\",\"pesticide\",\"pesticide\",\"pesticide\",\"pesticide\",\"pesticide\",\"pesticide\",\"pesticide\",\"pesticide\",\"pesticide\",\"pesticide\",\"pesticide\",\"pesticide\",\"pesticide\",\"pesticide\",\"pesticide\",\"pesticide\",\"pesticide\",\"pesticide\",\"pesticide\",\"pesticide\",\"pesticide\",\"pesticide\",\"pesticide\",\"pesticide\",\"pesticide\",\"pesticide\",\"pesticide\",\"pesticide\",\"pesticide\",\"pesticide\",\"pesticide\",\"pesticide\",\"pesticide\",\"pesticide\",\"pesticide\",\"pesticide\",\"pesticide\",\"pesticide\",\"pesticide\",\"pesticide\",\"pesticide\",\"pesticide\",\"pesticide\",\"pesticide\",\"pesticide\",\"pesticide\",\"pesticide\",\"pesticide\",\"pesticide\",\"pesticide\",\"pesticide\",\"pesticide\",\"pesticide\",\"pesticide\",\"pesticide\",\"pesticide\",\"pesticide\",\"pesticide\",\"pesticide\",\"pesticide\",\"pesticide\",\"pesticide\",\"pesticide\",\"pesticide\",\"pesticide\",\"pesticide\",\"pesticide\",\"pesticide\",\"pesticide\",\"pesticide\",\"pesticide\",\"pesticide\",\"pesticide\",\"pesticide\",\"pesticide\",\"pesticide\",\"pesticide\",\"pesticide\",\"pesticide\",\"pesticide\",\"pesticide\",\"pesticide\",\"pesticide\",\"pesticide\",\"pesticide\",\"pesticide\",\"pesticide\",\"pesticide\",\"pesticide\",\"pesticide\",\"pesticide\",\"pesticide\",\"pesticide\",\"pesticide\",\"pesticide\",\"pesticide\",\"pesticide\",\"pesticide\",\"pesticide\",\"pesticide\",\"pesticide\",\"pesticide\",\"pesticide\",\"pesticide\",\"pesticide\",\"pesticide\",\"pesticide\",\"pesticide\",\"pesticide\",\"pesticide\",\"pesticide\",\"pesticide\",\"pesticide\",\"pesticide\",\"pesticide\",\"pesticide\",\"pesticide\",\"pesticide\",\"pesticide\",\"pesticide\",\"pesticide\",\"pesticide\",\"pesticide\",\"pesticide\",\"pesticide\",\"pesticide\",\"pesticide\",\"pesticide\",\"pesticide\",\"pesticide\",\"pesticide\",\"pesticide\",\"pesticide\",\"pesticide\",\"pesticide\",\"pesticide\",\"pesticide\",\"pesticide\",\"pesticide\",\"pesticide\",\"pesticide\",\"pesticide\",\"pesticide\",\"pesticide\",\"pesticide\",\"pesticide\",\"pesticide\",\"pesticide\",\"pesticide\",\"pesticide\",\"pesticide\",\"pesticide\",\"pesticide\",\"pesticide\",\"pesticide\",\"pesticide\",\"pesticide\",\"pesticide\",\"pesticide\",\"pesticide\",\"pesticide\",\"pesticide\",\"pesticide\",\"pesticide\",\"pesticide\",\"pesticide\",\"pesticide\",\"pesticide\",\"pesticide\",\"pesticide\",\"pesticide\",\"pesticide\",\"pesticide\",\"pesticide\",\"pesticide\",\"pesticide\",\"pesticide\",\"pesticide\",\"pesticide\",\"pesticide\",\"pesticide\",\"pesticide\",\"pesticide\",\"pesticide\",\"pesticide\",\"pesticide\",\"pesticide\",\"pesticide\",\"pesticide\",\"pesticide\",\"pesticide\",\"pesticide\",\"pesticide\",\"pesticide\",\"pesticide\",\"pesticide\",\"pesticide\",\"pesticide\",\"pesticide\",\"pesticide\",\"pesticide\",\"pesticide\",\"pesticide\",\"pesticide\",\"pesticide\",\"pesticide\",\"pesticide\",\"pesticide\",\"pesticide\",\"pesticide\",\"pesticide\",\"pesticide\",\"pesticide\",\"pesticide\",\"pesticide\",\"pesticide\",\"pesticide\",\"pesticide\",\"pesticide\",\"pesticide\",\"pesticide\",\"pesticide\",\"pesticide\",\"pesticide\",\"pesticide\",\"pesticide\",\"pesticide\",\"pesticide\",\"pesticide\",\"pesticide\",\"pesticide\",\"pesticide\",\"pesticide\",\"pesticide\",\"pesticide\",\"pesticide\",\"pesticide\",\"pesticide\",\"pesticide\",\"pesticide\",\"pesticide\",\"pesticide\",\"pesticide\",\"pesticide\",\"pesticide\",\"pesticide\",\"pesticide\",\"pesticide\",\"pesticide\",\"pesticide\",\"pesticide\",\"pesticide\",\"pesticide\",\"pesticide\",\"pesticide\",\"pesticide\",\"pesticide\",\"pesticide\",\"pesticide\",\"pesticide\",\"pesticide\",\"pesticide\",\"pesticide\",\"pesticide\",\"pesticide\",\"pesticide\",\"pesticide\",\"pesticide\",\"pesticide\",\"pesticide\",\"pesticide\",\"pesticide\",\"pesticide\",\"pesticide\",\"pesticide\",\"pesticide\",\"pesticide\",\"pesticide\",\"pesticide\",\"pesticide\",\"pesticide\",\"pesticide\",\"pesticide\",\"pesticide\",\"pesticide\",\"pesticide\",\"pesticide\",\"pesticide\",\"pesticide\",\"pesticide\",\"pesticide\",\"pesticide\",\"pesticide\",\"pesticide\",\"pesticide\",\"pesticide\",\"pesticide\",\"pesticide\",\"pesticide\",\"pesticide\",\"pesticide\",\"pesticide\",\"pesticide\",\"pesticide\",\"pesticide\",\"pesticide\",\"pesticide\",\"pesticide\",\"pesticide\",\"pesticide\",\"pesticide\",\"pesticide\",\"pesticide\",\"pesticide\",\"pesticide\",\"pesticide\",\"pesticide\",\"pesticide\",\"pesticide\",\"pesticide\",\"pesticide\",\"pesticide\",\"pesticide\",\"pesticide\",\"pesticide\",\"pesticide\",\"pesticide\",\"pesticide\",\"pesticide\",\"pesticide\",\"pesticide\",\"pesticide\",\"pesticide\",\"pesticide\",\"pesticide\",\"pesticide\",\"pesticide\",\"pesticide\",\"pesticide\",\"pesticide\",\"pesticide\",\"pesticide\",\"pesticide\",\"pesticide\",\"pesticide\",\"pesticide\",\"pesticide\",\"pesticide\",\"pesticide\",\"pesticide\",\"pesticide\",\"pesticide\",\"pesticide\",\"pesticide\",\"pesticide\",\"pesticide\",\"pesticide\",\"pesticide\",\"pesticide\",\"pesticide\",\"pesticide\",\"pesticide\",\"pesticide\",\"pesticide\",\"pesticide\",\"pesticide\",\"pesticide\",\"pesticide\",\"pesticide\",\"pesticide\",\"pesticide\",\"pesticide\",\"pesticide\",\"pesticide\",\"pesticide\",\"pesticide\",\"pesticide\",\"pesticide\",\"pesticide\",\"pesticide\",\"pesticide\",\"pesticide\",\"pesticide\",\"pesticide\",\"pesticide\",\"pesticide\",\"pesticide\",\"pesticide\",\"pesticide\",\"pesticide\",\"pesticide\",\"pesticide\",\"pesticide\",\"pesticide\",\"pesticide\",\"pesticide\",\"pesticide\",\"pesticide\",\"pesticide\",\"pesticide\",\"pesticide\",\"pesticide\",\"pesticide\",\"pesticide\",\"pesticide\",\"pesticide\",\"pesticide\",\"pesticide\",\"pesticide\",\"pesticide\",\"pesticide\",\"pesticide\",\"pesticide\",\"pesticide\",\"pesticide\",\"pesticide\",\"pesticide\",\"pesticide\",\"pesticide\",\"pesticide\",\"pesticide\",\"pesticide\",\"pesticide\",\"pesticide\",\"pesticide\",\"pesticide\",\"pesticide\",\"pesticide\",\"pesticide\",\"pesticide\",\"pesticide\",\"pesticide\",\"pesticide\",\"pesticide\",\"pesticide\",\"pesticide\",\"pesticide\",\"pesticide\",\"pesticide\",\"pesticide\",\"pesticide\",\"pesticide\",\"pesticide\",\"pesticide\",\"pesticide\",\"pesticide\",\"pesticide\",\"pesticide\",\"pesticide\",\"pesticide\",\"pesticide\",\"pesticide\",\"pesticide\",\"pesticide\",\"pesticide\",\"pesticide\",\"pesticide\",\"pesticide\",\"pesticide\",\"pesticide\",\"pesticide\",\"pesticide\",\"pesticide\",\"pesticide\",\"pesticide\",\"pesticide\",\"pesticide\",\"pesticide\",\"pesticide\",\"pesticide\",\"pesticide\",\"pesticide\",\"pesticide\",\"pesticide\",\"pesticide\",\"pesticide\",\"pesticide\",\"pesticide\",\"pesticide\",\"pesticide\",\"pesticide\",\"pesticide\",\"pesticide\",\"pesticide\",\"pesticide\",\"pesticide\",\"pesticide\",\"pesticide\",\"pesticide\",\"pesticide\",\"pesticide\",\"pesticide\",\"pesticide\",\"pesticide\",\"pesticide\",\"pesticide\",\"pesticide\",\"pesticide\",\"pesticide\",\"pesticide\",\"pesticide\",\"pesticide\",\"pesticide\",\"pesticide\",\"pesticide\",\"pesticide\",\"pesticide\",\"pesticide\",\"pesticide\",\"pesticide\",\"pesticide\",\"pesticide\",\"pesticide\",\"pesticide\",\"pesticide\",\"pesticide\",\"pesticide\",\"pesticide\",\"pesticide\",\"pesticide\",\"pesticide\",\"pesticide\",\"pesticide\",\"pesticide\",\"pesticide\",\"pesticide\",\"pesticide\",\"pesticide\",\"pesticide\",\"pesticide\",\"pesticide\",\"pesticide\",\"pesticide\",\"pesticide\",\"pesticide\",\"pesticide\",\"pesticide\",\"pesticide\",\"pesticide\",\"pesticide\",\"pesticide\",\"pesticide\",\"pesticide\",\"pesticide\",\"pesticide\",\"pesticide\",\"pesticide\",\"pesticide\",\"pesticide\",\"pesticide\",\"pesticide\",\"pesticide\",\"pesticide\",\"pesticide\",\"pesticide\",\"pesticide\",\"pesticide\",\"pesticide\",\"pesticide\",\"pesticide\",\"pesticide\",\"pesticide\",\"pesticide\",\"pesticide\",\"pesticide\",\"pesticide\",\"pesticide\",\"pesticide\",\"pesticide\",\"pesticide\",\"pesticide\",\"pesticide\",\"pesticide\",\"pesticide\",\"pesticide\",\"pesticide\",\"pesticide\",\"pesticide\",\"pesticide\",\"pesticide\",\"pesticide\",\"pesticide\",\"pesticide\",\"pesticide\",\"pesticide\",\"pesticide\",\"pesticide\",\"pesticide\",\"pesticide\",\"pesticide\",\"pesticide\",\"pesticide\",\"pesticide\",\"pesticide\",\"pesticide\",\"pesticide\",\"pesticide\",\"pesticide\",\"pesticide\",\"pesticide\",\"pesticide\",\"pesticide\",\"pesticide\",\"pesticide\",\"pesticide\",\"pesticide\",\"pesticide\",\"pesticide\",\"pesticide\",\"pesticide\",\"pesticide\",\"pesticide\",\"pesticide\",\"pesticide\",\"pesticide\",\"pesticide\",\"pesticide\",\"pesticide\",\"pesticide\",\"pesticide\",\"pesticide\",\"pesticide\",\"pesticide\",\"pesticide\",\"pesticide\",\"pesticide\",\"pesticide\",\"pesticide\",\"pesticide\",\"pesticide\",\"pesticide\",\"pesticide\",\"pesticide\",\"pesticide\",\"pesticide\",\"pesticide\",\"pesticide\",\"pesticide\",\"pesticide\",\"pesticide\",\"pesticide\",\"pesticide\",\"pesticide\",\"pesticide\",\"pesticide\",\"pesticide\",\"pesticide\",\"pesticide\",\"pesticide\",\"pesticide\",\"pesticide\",\"pesticide\",\"pesticide\",\"pesticide\",\"pesticide\",\"pesticide\",\"pesticide\",\"pesticide\",\"pesticide\",\"pesticide\",\"pesticide\",\"pesticide\",\"pesticide\",\"pesticide\",\"pesticide\",\"pesticide\",\"pesticide\",\"pesticide\",\"pesticide\",\"pesticide\",\"pesticide\",\"pesticide\",\"pesticide\",\"pesticide\",\"pesticide\",\"pesticide\",\"pesticide\",\"pesticide\",\"pesticide\",\"pesticide\",\"pesticide\",\"pesticide\",\"pesticide\",\"pesticide\",\"pesticide\",\"pesticide\",\"pesticide\",\"pesticide\",\"pesticide\",\"pesticide\",\"pesticide\",\"pesticide\",\"pesticide\",\"pesticide\",\"pesticide\",\"pesticide\",\"pesticide\",\"pesticide\",\"pesticide\",\"pesticide\",\"pesticide\",\"pesticide\",\"pesticide\",\"pesticide\",\"pesticide\",\"pesticide\",\"pesticide\",\"pesticide\",\"pesticide\",\"pesticide\",\"pesticide\",\"pesticide\",\"pesticide\",\"pesticide\",\"pesticide\",\"pesticide\",\"pesticide\",\"pesticide\",\"pesticide\",\"pesticide\",\"pesticide\",\"pesticide\",\"pesticide\",\"pesticide\",\"pesticide\",\"pesticide\",\"pesticide\",\"pesticide\",\"pesticide\",\"pesticide\",\"pesticide\",\"pesticide\",\"pesticide\",\"pesticide\",\"pesticide\",\"pesticide\",\"pesticide\",\"pesticide\",\"pesticide\",\"pesticide\",\"pesticide\",\"pesticide\",\"pesticide\",\"pesticide\",\"pesticide\",\"pesticide\",\"pesticide\",\"pesticide\",\"pesticide\",\"pesticide\",\"pesticide\",\"pesticide\",\"pesticide\",\"pesticide\",\"pesticide\",\"pesticide\",\"pesticide\",\"pesticide\",\"pesticide\",\"pesticide\",\"pesticide\",\"pesticide\",\"pesticide\",\"pesticide\",\"pesticide\",\"pesticide\",\"pesticide\",\"pesticide\",\"pesticide\",\"pesticide\",\"pesticide\",\"pesticide\",\"pesticide\",\"pesticide\",\"pesticide\",\"pesticide\",\"pesticide\",\"pesticide\",\"pesticide\",\"pesticide\",\"pesticide\",\"pesticide\",\"pesticide\",\"pesticide\",\"pesticide\",\"pesticide\",\"pesticide\",\"pesticide\",\"pesticide\",\"pesticide\",\"pesticide\",\"pesticide\",\"pesticide\",\"pesticide\",\"pesticide\",\"pesticide\",\"pesticide\",\"pesticide\",\"pesticide\",\"pesticide\",\"pesticide\",\"pesticide\",\"pesticide\",\"pesticide\",\"pesticide\",\"pesticide\",\"pesticide\",\"pesticide\",\"pesticide\",\"pesticide\",\"pesticide\",\"pesticide\",\"pesticide\",\"pesticide\",\"pesticide\",\"pesticide\",\"pesticide\",\"pesticide\",\"pesticide\",\"pesticide\",\"pesticide\",\"pesticide\",\"pesticide\",\"pesticide\",\"pesticide\",\"pesticide\",\"pesticide\",\"pesticide\",\"pesticide\",\"pesticide\",\"pesticide\",\"pesticide\",\"pesticide\",\"pesticide\",\"pesticide\",\"pesticide\",\"pesticide\",\"pesticide\",\"pesticide\",\"pesticide\",\"pesticide\",\"pesticide\",\"pesticide\",\"pesticide\",\"pesticide\",\"pesticide\",\"pesticide\",\"pesticide\",\"pesticide\",\"pesticide\",\"pesticide\",\"pesticide\",\"pesticide\",\"pesticide\",\"pesticide\",\"pesticide\",\"pesticide\",\"pesticide\",\"pesticide\",\"pesticide\",\"pesticide\",\"pesticide\",\"pesticide\",\"pesticide\",\"pesticide\",\"pesticide\",\"pesticide\",\"pesticide\",\"pesticide\",\"pesticide\",\"pesticide\",\"pesticide\",\"pesticide\",\"pesticide\",\"pesticide\",\"pesticide\",\"pesticide\",\"pesticide\",\"pesticide\",\"pesticide\",\"pesticide\",\"pesticide\",\"pesticide\",\"pesticide\",\"pesticide\",\"pesticide\",\"pesticide\",\"pesticide\",\"pesticide\",\"pesticide\",\"pesticide\",\"pesticide\",\"pesticide\",\"pesticide\",\"pesticide\",\"pesticide\",\"pesticide\",\"pesticide\",\"pesticide\",\"pesticide\",\"pesticide\",\"pesticide\",\"pesticide\",\"pesticide\",\"pesticide\",\"pesticide\",\"pesticide\",\"pesticide\",\"pesticide\",\"pesticide\",\"pesticide\",\"pesticide\",\"pesticide\",\"pesticide\",\"pesticide\",\"pesticide\",\"pesticide\",\"pesticide\",\"pesticide\",\"pesticide\",\"pesticide\",\"pesticide\",\"pesticide\",\"pesticide\",\"pesticide\",\"pesticide\",\"pesticide\",\"pesticide\",\"pesticide\",\"pesticide\",\"pesticide\",\"pesticide\",\"pesticide\",\"pesticide\",\"pesticide\",\"pesticide\",\"pesticide\",\"pesticide\",\"pesticide\",\"pesticide\",\"pesticide\",\"pesticide\",\"pesticide\",\"pesticide\",\"pesticide\",\"pesticide\",\"pesticide\",\"pesticide\",\"pesticide\",\"pesticide\",\"pesticide\",\"pesticide\",\"pesticide\",\"pesticide\",\"pesticide\",\"pesticide\",\"pesticide\",\"pesticide\",\"pesticide\",\"pesticide\",\"pesticide\",\"pesticide\",\"pesticide\",\"pesticide\",\"pesticide\",\"pesticide\",\"pesticide\",\"pesticide\",\"pesticide\",\"pesticide\",\"pesticide\",\"pesticide\",\"pesticide\",\"pesticide\",\"pesticide\",\"pesticide\",\"pesticide\",\"pesticide\",\"pesticide\",\"pesticide\",\"pesticide\",\"pesticide\",\"pesticide\",\"pesticide\",\"pesticide\",\"pesticide\",\"pesticide\",\"pesticide\",\"pesticide\",\"pesticide\",\"pesticide\",\"pesticide\",\"pesticide\",\"pesticide\",\"pesticide\",\"pesticide\",\"pesticide\",\"pesticide\",\"pesticide\",\"pesticide\",\"pesticide\",\"pesticide\",\"pesticide\",\"pesticide\",\"pesticide\",\"pesticide\",\"pesticide\",\"pesticide\",\"pesticide\",\"pesticide\",\"pesticide\",\"pesticide\",\"pesticide\",\"pesticide\",\"pesticide\",\"pesticide\",\"pesticide\",\"pesticide\",\"pesticide\",\"pesticide\",\"pesticide\",\"pesticide\",\"pesticide\",\"pesticide\",\"pesticide\",\"pesticide\",\"pesticide\",\"pesticide\",\"pesticide\",\"pesticide\",\"pesticide\",\"pesticide\",\"pesticide\",\"pesticide\",\"pesticide\",\"pesticide\",\"pesticide\",\"pesticide\",\"pesticide\",\"pesticide\",\"pesticide\",\"pesticide\",\"pesticide\",\"pesticide\",\"pesticide\",\"pesticide\",\"pesticide\",\"pesticide\",\"pesticide\",\"pesticide\",\"pesticide\",\"pesticide\",\"pesticide\",\"pesticide\",\"pesticide\",\"pesticide\",\"pesticide\",\"pesticide\",\"pesticide\",\"pesticide\",\"pesticide\",\"pesticide\",\"pesticide\",\"land_use\",\"land_use\",\"land_use\",\"land_use\",\"land_use\",\"land_use\",\"land_use\",\"land_use\",\"land_use\",\"land_use\",\"land_use\",\"land_use\",\"land_use\",\"land_use\",\"land_use\",\"land_use\",\"land_use\",\"land_use\",\"land_use\",\"land_use\",\"land_use\",\"land_use\",\"land_use\",\"land_use\",\"land_use\",\"land_use\",\"land_use\",\"land_use\",\"land_use\",\"land_use\",\"land_use\",\"land_use\",\"land_use\",\"land_use\",\"land_use\",\"land_use\",\"land_use\",\"land_use\",\"land_use\",\"land_use\",\"land_use\",\"land_use\",\"land_use\",\"land_use\",\"land_use\",\"land_use\",\"land_use\",\"land_use\",\"land_use\",\"land_use\",\"land_use\",\"land_use\",\"land_use\",\"land_use\",\"land_use\",\"land_use\",\"land_use\",\"land_use\",\"land_use\",\"land_use\",\"land_use\",\"land_use\",\"land_use\",\"land_use\",\"land_use\",\"land_use\",\"land_use\",\"land_use\",\"land_use\",\"land_use\",\"land_use\",\"land_use\",\"land_use\",\"land_use\",\"land_use\",\"land_use\",\"land_use\",\"land_use\",\"land_use\",\"land_use\",\"land_use\",\"land_use\",\"land_use\",\"land_use\",\"land_use\",\"land_use\",\"land_use\",\"land_use\",\"land_use\",\"land_use\",\"land_use\",\"land_use\",\"land_use\",\"land_use\",\"land_use\",\"land_use\",\"land_use\",\"land_use\",\"land_use\",\"land_use\",\"land_use\",\"land_use\",\"land_use\",\"land_use\",\"land_use\",\"land_use\",\"land_use\",\"land_use\",\"land_use\",\"land_use\",\"land_use\",\"land_use\",\"land_use\",\"land_use\",\"land_use\",\"land_use\",\"land_use\",\"land_use\",\"land_use\",\"land_use\",\"land_use\",\"land_use\",\"land_use\",\"land_use\",\"land_use\",\"land_use\",\"land_use\",\"land_use\",\"land_use\",\"land_use\",\"land_use\",\"land_use\",\"land_use\",\"land_use\",\"land_use\",\"land_use\",\"land_use\",\"land_use\",\"land_use\",\"land_use\",\"land_use\",\"land_use\",\"land_use\",\"land_use\",\"land_use\",\"land_use\",\"land_use\",\"land_use\",\"land_use\",\"land_use\",\"land_use\",\"land_use\",\"land_use\",\"land_use\",\"land_use\",\"land_use\",\"land_use\",\"land_use\",\"land_use\",\"land_use\",\"land_use\",\"land_use\",\"land_use\",\"land_use\",\"land_use\",\"land_use\",\"land_use\",\"land_use\",\"land_use\",\"land_use\",\"land_use\",\"land_use\",\"land_use\",\"land_use\",\"land_use\",\"land_use\",\"land_use\",\"land_use\",\"land_use\",\"land_use\",\"land_use\",\"land_use\",\"land_use\",\"land_use\",\"land_use\",\"land_use\",\"land_use\",\"land_use\",\"land_use\",\"land_use\",\"land_use\",\"land_use\",\"land_use\",\"land_use\",\"land_use\",\"land_use\",\"land_use\",\"land_use\",\"land_use\",\"land_use\",\"land_use\",\"land_use\",\"land_use\",\"land_use\",\"land_use\",\"land_use\",\"land_use\",\"land_use\",\"land_use\",\"land_use\",\"land_use\",\"land_use\",\"land_use\",\"land_use\",\"land_use\",\"land_use\",\"land_use\",\"land_use\",\"land_use\",\"land_use\",\"land_use\",\"land_use\",\"land_use\",\"land_use\",\"land_use\",\"land_use\",\"land_use\",\"land_use\",\"land_use\",\"land_use\",\"land_use\",\"land_use\",\"land_use\",\"land_use\",\"land_use\",\"land_use\",\"land_use\",\"land_use\",\"land_use\",\"land_use\",\"land_use\",\"land_use\",\"land_use\",\"land_use\",\"land_use\",\"land_use\",\"land_use\",\"land_use\",\"land_use\",\"land_use\",\"land_use\",\"land_use\",\"land_use\",\"land_use\",\"land_use\",\"land_use\",\"land_use\",\"land_use\",\"land_use\",\"land_use\",\"land_use\",\"land_use\",\"land_use\",\"land_use\",\"land_use\",\"land_use\",\"land_use\",\"land_use\",\"land_use\",\"land_use\",\"land_use\",\"land_use\",\"land_use\",\"land_use\",\"land_use\",\"land_use\",\"land_use\",\"land_use\",\"land_use\",\"land_use\",\"land_use\",\"land_use\",\"land_use\",\"land_use\",\"land_use\",\"land_use\",\"land_use\",\"land_use\",\"land_use\",\"land_use\",\"land_use\",\"land_use\",\"land_use\",\"land_use\",\"land_use\",\"land_use\",\"land_use\",\"land_use\",\"land_use\",\"land_use\",\"land_use\",\"land_use\",\"land_use\",\"land_use\",\"land_use\",\"land_use\",\"land_use\",\"land_use\",\"land_use\",\"land_use\",\"land_use\",\"land_use\",\"land_use\",\"land_use\",\"land_use\",\"land_use\",\"land_use\",\"land_use\",\"land_use\",\"land_use\",\"land_use\",\"land_use\",\"land_use\",\"land_use\",\"land_use\",\"land_use\",\"land_use\",\"land_use\",\"land_use\",\"land_use\",\"land_use\",\"land_use\",\"land_use\",\"land_use\",\"land_use\",\"land_use\",\"land_use\",\"land_use\",\"land_use\",\"land_use\",\"land_use\",\"land_use\",\"land_use\",\"land_use\",\"land_use\",\"land_use\",\"land_use\",\"land_use\",\"land_use\",\"land_use\",\"land_use\",\"land_use\",\"land_use\",\"land_use\",\"land_use\",\"land_use\",\"land_use\",\"land_use\",\"land_use\",\"land_use\",\"land_use\",\"land_use\",\"land_use\",\"land_use\",\"land_use\",\"land_use\",\"land_use\",\"land_use\",\"land_use\",\"land_use\",\"land_use\",\"land_use\",\"land_use\",\"land_use\",\"land_use\",\"land_use\",\"land_use\",\"land_use\",\"land_use\",\"land_use\",\"land_use\",\"land_use\",\"land_use\",\"land_use\",\"land_use\",\"land_use\",\"land_use\",\"land_use\",\"land_use\",\"land_use\",\"land_use\",\"land_use\",\"land_use\",\"land_use\",\"land_use\",\"land_use\",\"land_use\",\"land_use\",\"land_use\",\"land_use\",\"land_use\",\"land_use\",\"land_use\",\"land_use\",\"land_use\",\"land_use\",\"land_use\",\"land_use\",\"land_use\",\"land_use\",\"land_use\",\"land_use\",\"land_use\",\"land_use\",\"land_use\",\"land_use\",\"land_use\",\"land_use\",\"land_use\",\"land_use\",\"land_use\",\"land_use\",\"land_use\",\"land_use\",\"land_use\",\"land_use\",\"land_use\",\"land_use\",\"land_use\",\"land_use\",\"land_use\",\"land_use\",\"land_use\",\"land_use\",\"land_use\",\"land_use\",\"land_use\",\"land_use\",\"land_use\",\"land_use\",\"land_use\",\"land_use\",\"land_use\",\"land_use\",\"land_use\",\"land_use\",\"land_use\",\"land_use\",\"land_use\",\"land_use\",\"land_use\",\"land_use\",\"land_use\",\"land_use\",\"land_use\",\"land_use\",\"land_use\",\"land_use\",\"land_use\",\"land_use\",\"land_use\",\"land_use\",\"land_use\",\"land_use\",\"land_use\",\"land_use\",\"land_use\",\"land_use\",\"land_use\",\"land_use\",\"land_use\",\"land_use\",\"land_use\",\"land_use\",\"land_use\",\"land_use\",\"land_use\",\"land_use\",\"land_use\",\"land_use\",\"land_use\",\"land_use\",\"land_use\",\"land_use\",\"land_use\",\"land_use\",\"land_use\",\"land_use\",\"land_use\",\"land_use\",\"land_use\",\"land_use\",\"land_use\",\"land_use\",\"land_use\",\"land_use\",\"land_use\",\"land_use\",\"land_use\",\"land_use\",\"land_use\",\"land_use\",\"land_use\",\"land_use\",\"land_use\",\"land_use\",\"land_use\",\"land_use\",\"land_use\",\"land_use\",\"land_use\",\"land_use\",\"land_use\",\"land_use\",\"land_use\",\"land_use\",\"land_use\",\"land_use\",\"land_use\",\"land_use\",\"land_use\",\"land_use\",\"land_use\",\"land_use\",\"land_use\",\"land_use\",\"land_use\",\"land_use\",\"land_use\",\"land_use\",\"land_use\",\"land_use\",\"land_use\",\"land_use\",\"land_use\",\"land_use\",\"land_use\",\"land_use\",\"land_use\",\"land_use\",\"land_use\",\"land_use\",\"land_use\",\"land_use\",\"land_use\",\"land_use\",\"land_use\",\"land_use\",\"land_use\",\"land_use\",\"land_use\",\"land_use\",\"land_use\",\"land_use\",\"land_use\",\"land_use\",\"land_use\",\"land_use\",\"land_use\",\"land_use\",\"land_use\",\"land_use\",\"land_use\",\"land_use\",\"land_use\",\"land_use\",\"land_use\",\"land_use\",\"land_use\",\"land_use\",\"land_use\",\"land_use\",\"land_use\",\"land_use\",\"land_use\",\"land_use\",\"land_use\",\"land_use\",\"land_use\",\"land_use\",\"land_use\",\"land_use\",\"land_use\",\"land_use\",\"land_use\",\"land_use\",\"land_use\",\"land_use\",\"land_use\",\"land_use\",\"land_use\",\"land_use\",\"land_use\",\"land_use\",\"land_use\",\"land_use\",\"land_use\",\"land_use\",\"land_use\",\"land_use\",\"land_use\",\"land_use\",\"land_use\",\"land_use\",\"land_use\",\"land_use\",\"land_use\",\"land_use\",\"land_use\",\"land_use\",\"land_use\",\"land_use\",\"land_use\",\"land_use\",\"land_use\",\"land_use\",\"land_use\",\"land_use\",\"land_use\",\"land_use\",\"land_use\",\"land_use\",\"land_use\",\"land_use\",\"land_use\",\"land_use\",\"land_use\",\"land_use\",\"land_use\",\"land_use\",\"land_use\",\"land_use\",\"land_use\",\"land_use\",\"land_use\",\"land_use\",\"land_use\",\"land_use\",\"land_use\",\"land_use\",\"land_use\",\"land_use\",\"land_use\",\"land_use\",\"land_use\",\"land_use\",\"land_use\",\"land_use\",\"land_use\",\"land_use\",\"land_use\",\"land_use\",\"land_use\",\"land_use\",\"land_use\",\"land_use\",\"land_use\",\"land_use\",\"land_use\",\"land_use\",\"land_use\",\"land_use\",\"land_use\",\"land_use\",\"land_use\",\"land_use\",\"land_use\",\"land_use\",\"land_use\",\"land_use\",\"land_use\",\"land_use\",\"land_use\",\"land_use\",\"land_use\",\"land_use\",\"land_use\",\"land_use\",\"land_use\",\"land_use\",\"land_use\",\"land_use\",\"land_use\",\"land_use\",\"land_use\",\"land_use\",\"land_use\",\"land_use\",\"land_use\",\"land_use\",\"land_use\",\"land_use\",\"land_use\",\"land_use\",\"land_use\",\"land_use\",\"land_use\",\"land_use\",\"land_use\",\"land_use\",\"land_use\",\"land_use\",\"land_use\",\"land_use\",\"land_use\",\"land_use\",\"land_use\",\"land_use\",\"land_use\",\"land_use\",\"land_use\",\"land_use\",\"land_use\",\"land_use\",\"land_use\",\"land_use\",\"land_use\",\"land_use\",\"land_use\",\"land_use\",\"land_use\",\"land_use\",\"land_use\",\"land_use\",\"land_use\",\"land_use\",\"land_use\",\"land_use\",\"land_use\",\"land_use\",\"land_use\",\"land_use\",\"land_use\",\"land_use\",\"land_use\",\"land_use\",\"land_use\",\"land_use\",\"land_use\",\"land_use\",\"land_use\",\"land_use\",\"land_use\",\"land_use\",\"land_use\",\"land_use\",\"land_use\",\"land_use\",\"land_use\",\"land_use\",\"land_use\",\"land_use\",\"land_use\",\"land_use\",\"land_use\",\"land_use\",\"land_use\",\"land_use\",\"land_use\",\"land_use\",\"land_use\",\"land_use\",\"land_use\",\"land_use\",\"land_use\",\"land_use\",\"land_use\",\"land_use\",\"land_use\",\"land_use\",\"land_use\",\"land_use\",\"land_use\",\"land_use\",\"land_use\",\"land_use\",\"land_use\",\"land_use\",\"land_use\",\"land_use\",\"land_use\",\"land_use\",\"land_use\",\"land_use\",\"land_use\",\"land_use\",\"land_use\",\"land_use\",\"land_use\",\"land_use\",\"land_use\",\"land_use\",\"land_use\",\"land_use\",\"land_use\",\"land_use\",\"land_use\",\"land_use\",\"land_use\",\"land_use\",\"land_use\",\"land_use\",\"land_use\",\"land_use\",\"land_use\",\"land_use\",\"land_use\",\"land_use\",\"land_use\",\"land_use\",\"land_use\",\"land_use\",\"land_use\",\"land_use\",\"land_use\",\"land_use\",\"land_use\",\"land_use\",\"land_use\",\"land_use\",\"land_use\",\"land_use\",\"land_use\",\"land_use\",\"land_use\",\"land_use\",\"land_use\",\"land_use\",\"land_use\",\"land_use\",\"land_use\",\"land_use\",\"land_use\",\"land_use\",\"land_use\",\"land_use\",\"land_use\",\"land_use\",\"land_use\",\"land_use\",\"land_use\",\"land_use\",\"land_use\",\"land_use\",\"land_use\",\"land_use\",\"land_use\",\"land_use\",\"land_use\",\"land_use\",\"land_use\",\"land_use\",\"land_use\",\"land_use\",\"land_use\",\"land_use\",\"land_use\",\"land_use\",\"land_use\",\"land_use\",\"land_use\",\"land_use\",\"land_use\",\"land_use\",\"land_use\",\"land_use\",\"land_use\",\"land_use\",\"land_use\",\"land_use\",\"land_use\",\"land_use\",\"land_use\",\"land_use\",\"land_use\",\"land_use\",\"land_use\",\"land_use\",\"land_use\",\"land_use\",\"land_use\",\"land_use\",\"land_use\",\"land_use\",\"land_use\",\"land_use\",\"land_use\",\"land_use\",\"land_use\",\"land_use\",\"land_use\",\"land_use\",\"land_use\",\"land_use\",\"land_use\",\"land_use\",\"land_use\",\"land_use\",\"land_use\",\"land_use\",\"land_use\",\"land_use\",\"land_use\",\"land_use\",\"land_use\",\"land_use\",\"land_use\",\"land_use\",\"land_use\",\"land_use\",\"land_use\",\"land_use\",\"land_use\",\"land_use\",\"land_use\",\"land_use\",\"land_use\",\"land_use\",\"land_use\",\"land_use\",\"land_use\",\"land_use\",\"land_use\",\"land_use\",\"land_use\",\"land_use\",\"land_use\",\"land_use\",\"land_use\",\"land_use\",\"land_use\",\"land_use\",\"land_use\",\"land_use\",\"land_use\",\"land_use\",\"land_use\",\"land_use\",\"land_use\",\"land_use\",\"land_use\",\"land_use\",\"land_use\",\"land_use\",\"land_use\",\"land_use\",\"land_use\",\"land_use\",\"land_use\",\"land_use\",\"land_use\",\"land_use\",\"land_use\",\"land_use\",\"land_use\",\"land_use\",\"land_use\",\"land_use\",\"land_use\",\"land_use\",\"land_use\",\"land_use\",\"land_use\",\"land_use\",\"land_use\",\"land_use\",\"land_use\",\"land_use\",\"land_use\",\"land_use\",\"land_use\",\"land_use\",\"land_use\",\"land_use\",\"land_use\",\"land_use\",\"land_use\",\"land_use\",\"land_use\",\"land_use\",\"land_use\",\"land_use\",\"land_use\",\"land_use\",\"land_use\",\"land_use\",\"land_use\",\"land_use\",\"land_use\",\"land_use\",\"land_use\",\"land_use\",\"land_use\",\"land_use\",\"land_use\",\"land_use\",\"land_use\",\"land_use\",\"land_use\",\"land_use\",\"land_use\",\"land_use\",\"land_use\",\"land_use\",\"land_use\",\"land_use\",\"land_use\",\"land_use\",\"land_use\",\"land_use\",\"land_use\",\"land_use\",\"land_use\",\"land_use\",\"land_use\",\"land_use\",\"land_use\",\"land_use\",\"land_use\",\"land_use\",\"land_use\",\"land_use\",\"land_use\",\"land_use\",\"land_use\",\"land_use\",\"land_use\",\"land_use\",\"land_use\",\"land_use\",\"land_use\",\"land_use\",\"land_use\",\"land_use\",\"land_use\",\"land_use\",\"land_use\",\"land_use\",\"land_use\",\"land_use\",\"land_use\",\"land_use\",\"land_use\",\"land_use\",\"land_use\",\"land_use\",\"land_use\",\"land_use\",\"land_use\",\"land_use\",\"land_use\",\"land_use\",\"land_use\",\"land_use\",\"land_use\",\"land_use\",\"land_use\",\"land_use\",\"land_use\",\"land_use\",\"land_use\",\"land_use\",\"land_use\",\"land_use\",\"land_use\",\"land_use\",\"land_use\",\"land_use\",\"land_use\",\"land_use\",\"land_use\",\"land_use\",\"land_use\",\"land_use\",\"land_use\",\"land_use\",\"land_use\",\"land_use\",\"land_use\",\"land_use\",\"land_use\",\"land_use\",\"land_use\",\"land_use\",\"land_use\",\"land_use\",\"land_use\",\"land_use\",\"land_use\",\"land_use\",\"land_use\",\"land_use\",\"land_use\",\"land_use\",\"land_use\",\"land_use\",\"land_use\",\"land_use\",\"land_use\",\"land_use\",\"land_use\",\"land_use\",\"land_use\",\"land_use\",\"land_use\",\"land_use\",\"land_use\",\"land_use\",\"land_use\",\"land_use\",\"land_use\",\"land_use\",\"land_use\",\"land_use\",\"land_use\",\"land_use\",\"land_use\",\"land_use\",\"land_use\",\"land_use\",\"land_use\",\"land_use\",\"land_use\",\"land_use\",\"land_use\",\"land_use\",\"land_use\",\"land_use\",\"land_use\",\"land_use\",\"land_use\",\"land_use\",\"land_use\",\"land_use\",\"land_use\",\"land_use\",\"land_use\",\"land_use\",\"land_use\",\"land_use\",\"land_use\",\"land_use\",\"land_use\",\"land_use\",\"land_use\",\"land_use\",\"land_use\",\"land_use\",\"land_use\",\"land_use\",\"land_use\",\"land_use\",\"land_use\",\"land_use\",\"land_use\",\"land_use\",\"land_use\",\"land_use\",\"land_use\",\"land_use\",\"land_use\",\"land_use\",\"land_use\",\"land_use\",\"land_use\",\"land_use\",\"land_use\",\"land_use\",\"land_use\",\"land_use\",\"land_use\",\"land_use\",\"land_use\",\"land_use\",\"land_use\",\"land_use\",\"land_use\",\"land_use\",\"land_use\",\"land_use\",\"land_use\",\"land_use\",\"land_use\",\"land_use\",\"land_use\",\"land_use\",\"land_use\",\"land_use\",\"land_use\",\"land_use\",\"land_use\",\"land_use\",\"land_use\",\"land_use\",\"land_use\",\"land_use\",\"land_use\",\"land_use\",\"land_use\",\"land_use\",\"land_use\",\"land_use\",\"land_use\",\"land_use\",\"land_use\",\"land_use\",\"land_use\",\"land_use\",\"land_use\",\"land_use\",\"land_use\",\"land_use\",\"land_use\",\"land_use\",\"land_use\",\"land_use\",\"land_use\",\"land_use\",\"land_use\",\"land_use\",\"land_use\",\"land_use\",\"land_use\",\"land_use\",\"land_use\",\"land_use\",\"land_use\",\"land_use\",\"land_use\",\"land_use\",\"land_use\",\"land_use\",\"land_use\",\"land_use\",\"land_use\",\"land_use\",\"land_use\",\"land_use\",\"land_use\",\"land_use\",\"land_use\",\"land_use\",\"land_use\",\"land_use\",\"land_use\",\"land_use\",\"land_use\",\"land_use\",\"land_use\",\"land_use\",\"land_use\",\"land_use\",\"land_use\",\"land_use\",\"land_use\",\"land_use\",\"land_use\",\"land_use\",\"land_use\",\"land_use\",\"land_use\",\"land_use\",\"land_use\",\"land_use\",\"land_use\",\"land_use\",\"land_use\",\"land_use\",\"land_use\",\"land_use\",\"land_use\",\"land_use\",\"land_use\",\"land_use\",\"land_use\",\"land_use\",\"land_use\",\"land_use\",\"land_use\",\"land_use\",\"land_use\",\"land_use\",\"land_use\",\"land_use\",\"land_use\",\"land_use\",\"land_use\",\"land_use\",\"land_use\",\"land_use\",\"land_use\",\"land_use\",\"land_use\",\"land_use\",\"land_use\",\"land_use\",\"land_use\",\"land_use\",\"land_use\",\"land_use\",\"land_use\",\"land_use\",\"land_use\",\"land_use\",\"land_use\",\"land_use\",\"land_use\",\"land_use\",\"land_use\",\"land_use\",\"land_use\",\"land_use\",\"land_use\",\"land_use\",\"land_use\",\"land_use\",\"land_use\",\"land_use\",\"land_use\",\"land_use\",\"land_use\",\"land_use\",\"land_use\",\"land_use\",\"land_use\",\"land_use\",\"land_use\",\"land_use\",\"land_use\",\"land_use\",\"land_use\",\"land_use\",\"land_use\",\"land_use\",\"land_use\",\"land_use\",\"land_use\",\"land_use\",\"land_use\",\"land_use\",\"land_use\",\"land_use\",\"land_use\",\"land_use\",\"land_use\",\"land_use\",\"land_use\",\"land_use\",\"land_use\",\"land_use\",\"land_use\",\"land_use\",\"land_use\",\"land_use\",\"land_use\",\"land_use\",\"land_use\",\"land_use\",\"land_use\",\"land_use\",\"land_use\",\"land_use\",\"land_use\",\"land_use\",\"land_use\",\"land_use\",\"land_use\",\"land_use\",\"land_use\",\"land_use\",\"land_use\",\"land_use\",\"land_use\",\"land_use\",\"land_use\",\"land_use\",\"land_use\",\"land_use\",\"land_use\",\"land_use\",\"land_use\",\"land_use\",\"land_use\",\"land_use\",\"land_use\",\"land_use\",\"land_use\",\"land_use\",\"land_use\",\"land_use\",\"land_use\",\"land_use\",\"land_use\",\"land_use\",\"land_use\",\"land_use\",\"land_use\",\"land_use\",\"land_use\",\"land_use\",\"land_use\",\"land_use\",\"land_use\",\"land_use\",\"land_use\",\"land_use\",\"land_use\",\"land_use\",\"land_use\",\"land_use\",\"land_use\",\"land_use\",\"land_use\",\"land_use\",\"land_use\",\"land_use\",\"land_use\",\"land_use\",\"land_use\",\"land_use\",\"land_use\",\"land_use\",\"land_use\",\"land_use\",\"land_use\",\"land_use\",\"land_use\",\"land_use\",\"land_use\",\"land_use\",\"land_use\",\"land_use\",\"land_use\",\"land_use\",\"land_use\",\"land_use\",\"land_use\",\"land_use\",\"land_use\",\"land_use\",\"land_use\",\"land_use\",\"land_use\",\"land_use\",\"land_use\",\"land_use\",\"land_use\",\"land_use\",\"land_use\",\"land_use\",\"land_use\",\"land_use\",\"land_use\",\"land_use\",\"land_use\",\"land_use\",\"land_use\",\"land_use\",\"land_use\",\"land_use\",\"land_use\",\"land_use\",\"land_use\",\"land_use\",\"land_use\",\"land_use\",\"land_use\",\"land_use\",\"land_use\",\"land_use\",\"land_use\",\"land_use\",\"land_use\",\"land_use\",\"land_use\",\"land_use\",\"land_use\",\"land_use\",\"land_use\",\"land_use\",\"land_use\",\"land_use\",\"land_use\",\"land_use\",\"land_use\",\"land_use\",\"land_use\",\"land_use\",\"land_use\",\"land_use\",\"land_use\",\"land_use\",\"land_use\",\"land_use\",\"land_use\",\"land_use\",\"land_use\",\"land_use\",\"land_use\",\"land_use\",\"land_use\",\"land_use\",\"land_use\",\"land_use\",\"land_use\",\"land_use\",\"land_use\",\"land_use\",\"land_use\",\"land_use\",\"land_use\",\"land_use\",\"land_use\",\"land_use\",\"land_use\",\"land_use\",\"land_use\",\"land_use\",\"land_use\",\"land_use\",\"land_use\",\"land_use\",\"land_use\",\"land_use\",\"land_use\",\"land_use\",\"land_use\",\"land_use\",\"land_use\",\"land_use\",\"land_use\",\"land_use\",\"land_use\",\"land_use\",\"land_use\",\"land_use\",\"land_use\",\"land_use\",\"land_use\",\"land_use\",\"land_use\",\"land_use\",\"land_use\",\"land_use\",\"land_use\",\"land_use\",\"land_use\",\"land_use\",\"land_use\",\"land_use\",\"land_use\",\"land_use\",\"land_use\",\"land_use\",\"land_use\",\"land_use\",\"land_use\",\"land_use\",\"land_use\",\"land_use\",\"land_use\",\"land_use\",\"land_use\",\"land_use\",\"land_use\",\"land_use\",\"land_use\",\"land_use\",\"land_use\",\"land_use\",\"land_use\",\"land_use\",\"land_use\",\"land_use\",\"land_use\",\"land_use\",\"land_use\",\"land_use\",\"land_use\",\"land_use\",\"land_use\",\"land_use\",\"land_use\",\"land_use\",\"land_use\",\"land_use\",\"land_use\",\"land_use\",\"land_use\",\"land_use\",\"land_use\",\"land_use\",\"land_use\",\"land_use\",\"land_use\",\"land_use\",\"land_use\",\"land_use\",\"land_use\",\"land_use\",\"land_use\",\"land_use\",\"land_use\",\"land_use\",\"land_use\",\"land_use\",\"land_use\",\"land_use\",\"land_use\",\"land_use\",\"land_use\",\"land_use\",\"land_use\",\"land_use\",\"land_use\",\"land_use\",\"land_use\",\"land_use\",\"land_use\",\"land_use\",\"land_use\",\"land_use\",\"land_use\",\"land_use\",\"land_use\",\"land_use\",\"land_use\",\"land_use\",\"land_use\",\"land_use\",\"land_use\",\"land_use\",\"land_use\",\"land_use\",\"land_use\",\"land_use\",\"land_use\",\"land_use\",\"land_use\",\"land_use\",\"land_use\",\"land_use\",\"land_use\",\"land_use\",\"land_use\",\"land_use\",\"land_use\",\"land_use\",\"land_use\",\"land_use\",\"land_use\",\"land_use\",\"land_use\",\"land_use\",\"land_use\",\"land_use\",\"land_use\",\"land_use\",\"land_use\",\"land_use\",\"land_use\",\"land_use\",\"land_use\",\"land_use\",\"land_use\",\"land_use\",\"land_use\",\"land_use\",\"land_use\",\"land_use\",\"land_use\",\"land_use\",\"land_use\",\"land_use\",\"land_use\",\"land_use\",\"land_use\",\"land_use\",\"land_use\",\"land_use\",\"land_use\",\"land_use\",\"land_use\",\"land_use\",\"land_use\",\"land_use\",\"land_use\",\"land_use\",\"land_use\",\"land_use\",\"land_use\",\"land_use\",\"land_use\",\"land_use\",\"land_use\",\"land_use\",\"land_use\",\"land_use\",\"land_use\",\"land_use\",\"land_use\",\"land_use\",\"land_use\",\"land_use\",\"land_use\",\"land_use\",\"land_use\",\"land_use\",\"land_use\",\"land_use\",\"land_use\",\"land_use\",\"land_use\",\"land_use\",\"land_use\",\"land_use\",\"land_use\",\"land_use\",\"land_use\",\"land_use\",\"land_use\",\"land_use\",\"land_use\",\"land_use\",\"land_use\",\"land_use\",\"land_use\",\"land_use\",\"land_use\",\"land_use\",\"land_use\",\"land_use\",\"land_use\",\"land_use\",\"land_use\",\"land_use\",\"land_use\",\"land_use\",\"land_use\",\"land_use\",\"land_use\",\"land_use\",\"land_use\",\"land_use\",\"land_use\",\"land_use\",\"land_use\",\"land_use\",\"land_use\",\"land_use\",\"land_use\",\"land_use\",\"land_use\",\"land_use\",\"land_use\",\"land_use\",\"land_use\",\"land_use\",\"land_use\",\"land_use\",\"land_use\",\"land_use\",\"land_use\",\"land_use\",\"land_use\",\"land_use\",\"land_use\",\"land_use\",\"land_use\",\"land_use\",\"land_use\",\"land_use\",\"land_use\",\"land_use\",\"land_use\",\"land_use\",\"land_use\",\"land_use\",\"land_use\",\"land_use\",\"land_use\",\"land_use\",\"land_use\",\"land_use\",\"land_use\",\"land_use\",\"land_use\",\"land_use\",\"land_use\",\"land_use\",\"land_use\",\"land_use\",\"land_use\",\"land_use\",\"land_use\",\"land_use\",\"land_use\",\"land_use\",\"land_use\",\"land_use\",\"land_use\",\"land_use\",\"land_use\",\"land_use\",\"land_use\",\"land_use\",\"land_use\",\"land_use\",\"land_use\",\"land_use\",\"land_use\",\"land_use\",\"land_use\",\"land_use\",\"land_use\",\"land_use\",\"land_use\",\"land_use\",\"land_use\",\"land_use\",\"land_use\",\"land_use\",\"land_use\",\"land_use\",\"land_use\",\"land_use\",\"land_use\",\"land_use\",\"land_use\",\"land_use\",\"land_use\",\"land_use\",\"land_use\",\"land_use\",\"land_use\",\"land_use\",\"land_use\",\"land_use\",\"land_use\",\"land_use\",\"land_use\",\"land_use\",\"land_use\",\"land_use\",\"land_use\",\"land_use\",\"land_use\",\"land_use\",\"land_use\",\"land_use\",\"land_use\",\"land_use\",\"land_use\",\"land_use\",\"land_use\",\"land_use\",\"land_use\",\"land_use\",\"land_use\",\"land_use\",\"land_use\",\"land_use\",\"land_use\",\"land_use\",\"land_use\",\"land_use\",\"land_use\",\"land_use\",\"land_use\",\"land_use\",\"land_use\",\"land_use\",\"land_use\",\"land_use\",\"land_use\",\"land_use\",\"land_use\",\"land_use\",\"land_use\",\"land_use\",\"land_use\",\"land_use\",\"land_use\",\"land_use\",\"land_use\",\"land_use\",\"land_use\",\"land_use\",\"land_use\",\"land_use\",\"land_use\",\"land_use\",\"land_use\",\"land_use\",\"land_use\",\"land_use\",\"land_use\",\"land_use\",\"land_use\",\"land_use\",\"land_use\",\"land_use\",\"land_use\",\"land_use\",\"land_use\",\"land_use\",\"land_use\",\"land_use\",\"land_use\",\"land_use\",\"land_use\",\"land_use\",\"land_use\",\"land_use\",\"land_use\",\"land_use\",\"land_use\",\"land_use\",\"land_use\",\"land_use\",\"land_use\",\"land_use\",\"land_use\",\"land_use\",\"land_use\",\"land_use\",\"land_use\",\"land_use\",\"land_use\",\"land_use\",\"land_use\",\"land_use\",\"land_use\",\"land_use\",\"land_use\",\"land_use\",\"land_use\",\"land_use\",\"land_use\",\"land_use\",\"land_use\",\"land_use\",\"land_use\",\"land_use\",\"land_use\",\"land_use\",\"land_use\",\"land_use\",\"land_use\",\"land_use\",\"land_use\",\"land_use\",\"fertilizer\",\"fertilizer\",\"fertilizer\",\"fertilizer\",\"fertilizer\",\"fertilizer\",\"fertilizer\",\"fertilizer\",\"fertilizer\",\"fertilizer\",\"fertilizer\",\"fertilizer\",\"fertilizer\",\"fertilizer\",\"fertilizer\",\"fertilizer\",\"fertilizer\",\"fertilizer\",\"fertilizer\",\"fertilizer\",\"fertilizer\",\"fertilizer\",\"fertilizer\",\"fertilizer\",\"fertilizer\",\"fertilizer\",\"fertilizer\",\"fertilizer\",\"fertilizer\",\"fertilizer\",\"fertilizer\",\"fertilizer\",\"fertilizer\",\"fertilizer\",\"fertilizer\",\"fertilizer\",\"fertilizer\",\"fertilizer\",\"fertilizer\",\"fertilizer\",\"fertilizer\",\"fertilizer\",\"fertilizer\",\"fertilizer\",\"fertilizer\",\"fertilizer\",\"fertilizer\",\"fertilizer\",\"fertilizer\",\"fertilizer\",\"fertilizer\",\"fertilizer\",\"fertilizer\",\"fertilizer\",\"fertilizer\",\"fertilizer\",\"fertilizer\",\"fertilizer\",\"fertilizer\",\"fertilizer\",\"fertilizer\",\"fertilizer\",\"fertilizer\",\"fertilizer\",\"fertilizer\",\"fertilizer\",\"fertilizer\",\"fertilizer\",\"fertilizer\",\"fertilizer\",\"fertilizer\",\"fertilizer\",\"fertilizer\",\"fertilizer\",\"fertilizer\",\"fertilizer\",\"fertilizer\",\"fertilizer\",\"fertilizer\",\"fertilizer\",\"fertilizer\",\"fertilizer\",\"fertilizer\",\"fertilizer\",\"fertilizer\",\"fertilizer\",\"fertilizer\",\"fertilizer\",\"fertilizer\",\"fertilizer\",\"fertilizer\",\"fertilizer\",\"fertilizer\",\"fertilizer\",\"fertilizer\",\"fertilizer\",\"fertilizer\",\"fertilizer\",\"fertilizer\",\"fertilizer\",\"fertilizer\",\"fertilizer\",\"fertilizer\",\"fertilizer\",\"fertilizer\",\"fertilizer\",\"fertilizer\",\"fertilizer\",\"fertilizer\",\"fertilizer\",\"fertilizer\",\"fertilizer\",\"fertilizer\",\"fertilizer\",\"fertilizer\",\"fertilizer\",\"fertilizer\",\"fertilizer\",\"fertilizer\",\"fertilizer\",\"fertilizer\",\"fertilizer\",\"fertilizer\",\"fertilizer\",\"fertilizer\",\"fertilizer\",\"fertilizer\",\"fertilizer\",\"fertilizer\",\"fertilizer\",\"fertilizer\",\"fertilizer\",\"fertilizer\",\"fertilizer\",\"fertilizer\",\"fertilizer\",\"fertilizer\",\"fertilizer\",\"fertilizer\",\"fertilizer\",\"fertilizer\",\"fertilizer\",\"fertilizer\",\"fertilizer\",\"fertilizer\",\"fertilizer\",\"fertilizer\",\"fertilizer\",\"fertilizer\",\"fertilizer\",\"fertilizer\",\"fertilizer\",\"fertilizer\",\"fertilizer\",\"fertilizer\",\"fertilizer\",\"fertilizer\",\"fertilizer\",\"fertilizer\",\"fertilizer\",\"fertilizer\",\"fertilizer\",\"fertilizer\",\"fertilizer\",\"fertilizer\",\"fertilizer\",\"fertilizer\",\"fertilizer\",\"fertilizer\",\"fertilizer\",\"fertilizer\",\"fertilizer\",\"fertilizer\",\"fertilizer\",\"fertilizer\",\"fertilizer\",\"fertilizer\",\"fertilizer\",\"fertilizer\",\"fertilizer\",\"fertilizer\",\"fertilizer\",\"fertilizer\",\"fertilizer\",\"fertilizer\",\"fertilizer\",\"fertilizer\",\"fertilizer\",\"fertilizer\",\"fertilizer\",\"fertilizer\",\"fertilizer\",\"fertilizer\",\"fertilizer\",\"fertilizer\",\"fertilizer\",\"fertilizer\",\"fertilizer\",\"fertilizer\",\"fertilizer\",\"fertilizer\",\"fertilizer\",\"fertilizer\",\"fertilizer\",\"fertilizer\",\"fertilizer\",\"fertilizer\",\"fertilizer\",\"fertilizer\",\"fertilizer\",\"fertilizer\",\"fertilizer\",\"fertilizer\",\"fertilizer\",\"fertilizer\",\"fertilizer\",\"fertilizer\",\"fertilizer\",\"fertilizer\",\"fertilizer\",\"fertilizer\",\"fertilizer\",\"fertilizer\",\"fertilizer\",\"fertilizer\",\"fertilizer\",\"fertilizer\",\"fertilizer\",\"fertilizer\",\"fertilizer\",\"fertilizer\",\"fertilizer\",\"fertilizer\",\"fertilizer\",\"fertilizer\",\"fertilizer\",\"fertilizer\",\"fertilizer\",\"fertilizer\",\"fertilizer\",\"fertilizer\",\"fertilizer\",\"fertilizer\",\"fertilizer\",\"fertilizer\",\"fertilizer\",\"fertilizer\",\"fertilizer\",\"fertilizer\",\"fertilizer\",\"fertilizer\",\"fertilizer\",\"fertilizer\",\"fertilizer\",\"fertilizer\",\"fertilizer\",\"fertilizer\",\"fertilizer\",\"fertilizer\",\"fertilizer\",\"fertilizer\",\"fertilizer\",\"fertilizer\",\"fertilizer\",\"fertilizer\",\"fertilizer\",\"fertilizer\",\"fertilizer\",\"fertilizer\",\"fertilizer\",\"fertilizer\",\"fertilizer\",\"fertilizer\",\"fertilizer\",\"fertilizer\",\"fertilizer\",\"fertilizer\",\"fertilizer\",\"fertilizer\",\"fertilizer\",\"fertilizer\",\"fertilizer\",\"fertilizer\",\"fertilizer\",\"fertilizer\",\"fertilizer\",\"fertilizer\",\"fertilizer\",\"fertilizer\",\"fertilizer\",\"fertilizer\",\"fertilizer\",\"fertilizer\",\"fertilizer\",\"fertilizer\",\"fertilizer\",\"fertilizer\",\"fertilizer\",\"fertilizer\",\"fertilizer\",\"fertilizer\",\"fertilizer\",\"fertilizer\",\"fertilizer\",\"fertilizer\",\"fertilizer\",\"fertilizer\",\"fertilizer\",\"fertilizer\",\"fertilizer\",\"fertilizer\",\"fertilizer\",\"fertilizer\",\"fertilizer\",\"fertilizer\",\"fertilizer\",\"fertilizer\",\"fertilizer\",\"fertilizer\",\"fertilizer\",\"fertilizer\",\"fertilizer\",\"fertilizer\",\"fertilizer\",\"fertilizer\",\"fertilizer\",\"fertilizer\",\"fertilizer\",\"fertilizer\",\"fertilizer\",\"fertilizer\",\"fertilizer\",\"fertilizer\",\"fertilizer\",\"fertilizer\",\"fertilizer\",\"fertilizer\",\"fertilizer\",\"fertilizer\",\"fertilizer\",\"fertilizer\",\"fertilizer\",\"fertilizer\",\"fertilizer\",\"fertilizer\",\"fertilizer\",\"fertilizer\",\"fertilizer\",\"fertilizer\",\"fertilizer\",\"fertilizer\",\"fertilizer\",\"fertilizer\",\"fertilizer\",\"fertilizer\",\"fertilizer\",\"fertilizer\",\"fertilizer\",\"fertilizer\",\"fertilizer\",\"fertilizer\",\"fertilizer\",\"fertilizer\",\"fertilizer\",\"fertilizer\",\"fertilizer\",\"fertilizer\",\"fertilizer\",\"fertilizer\",\"fertilizer\",\"fertilizer\",\"fertilizer\",\"fertilizer\",\"fertilizer\",\"fertilizer\",\"fertilizer\",\"fertilizer\",\"fertilizer\",\"fertilizer\",\"fertilizer\",\"fertilizer\",\"fertilizer\",\"fertilizer\",\"fertilizer\",\"fertilizer\",\"fertilizer\",\"fertilizer\",\"fertilizer\",\"fertilizer\",\"fertilizer\",\"fertilizer\",\"fertilizer\",\"fertilizer\",\"fertilizer\",\"fertilizer\",\"fertilizer\",\"fertilizer\",\"fertilizer\",\"fertilizer\",\"fertilizer\",\"fertilizer\",\"fertilizer\",\"fertilizer\",\"fertilizer\",\"fertilizer\",\"fertilizer\",\"fertilizer\",\"fertilizer\",\"fertilizer\",\"fertilizer\",\"fertilizer\",\"fertilizer\",\"fertilizer\",\"fertilizer\",\"fertilizer\",\"fertilizer\",\"fertilizer\",\"fertilizer\",\"fertilizer\",\"fertilizer\",\"fertilizer\",\"fertilizer\",\"fertilizer\",\"fertilizer\",\"fertilizer\",\"fertilizer\",\"fertilizer\",\"fertilizer\",\"fertilizer\",\"fertilizer\",\"fertilizer\",\"fertilizer\",\"fertilizer\",\"fertilizer\",\"fertilizer\",\"fertilizer\",\"fertilizer\",\"fertilizer\",\"fertilizer\",\"fertilizer\",\"fertilizer\",\"fertilizer\",\"fertilizer\",\"fertilizer\",\"fertilizer\",\"fertilizer\",\"fertilizer\",\"fertilizer\",\"fertilizer\",\"fertilizer\",\"fertilizer\",\"fertilizer\",\"fertilizer\",\"fertilizer\",\"fertilizer\",\"fertilizer\",\"fertilizer\",\"fertilizer\",\"fertilizer\",\"fertilizer\",\"fertilizer\",\"fertilizer\",\"fertilizer\",\"fertilizer\",\"fertilizer\",\"fertilizer\",\"fertilizer\",\"fertilizer\",\"fertilizer\",\"fertilizer\",\"fertilizer\",\"fertilizer\",\"fertilizer\",\"fertilizer\",\"fertilizer\",\"fertilizer\",\"fertilizer\",\"fertilizer\",\"fertilizer\",\"fertilizer\",\"fertilizer\",\"fertilizer\",\"fertilizer\",\"fertilizer\",\"fertilizer\",\"fertilizer\",\"fertilizer\",\"fertilizer\",\"fertilizer\",\"fertilizer\",\"fertilizer\",\"fertilizer\",\"fertilizer\",\"fertilizer\",\"fertilizer\",\"fertilizer\",\"fertilizer\",\"fertilizer\",\"fertilizer\",\"fertilizer\",\"fertilizer\",\"fertilizer\",\"fertilizer\",\"fertilizer\",\"fertilizer\",\"fertilizer\",\"fertilizer\",\"fertilizer\",\"fertilizer\",\"fertilizer\",\"fertilizer\",\"fertilizer\",\"fertilizer\",\"fertilizer\",\"fertilizer\",\"fertilizer\",\"fertilizer\",\"fertilizer\",\"fertilizer\",\"fertilizer\",\"fertilizer\",\"fertilizer\",\"fertilizer\",\"fertilizer\",\"fertilizer\",\"fertilizer\",\"fertilizer\",\"fertilizer\",\"fertilizer\",\"fertilizer\",\"fertilizer\",\"fertilizer\",\"fertilizer\",\"fertilizer\",\"fertilizer\",\"fertilizer\",\"fertilizer\",\"fertilizer\",\"fertilizer\",\"fertilizer\",\"fertilizer\",\"fertilizer\",\"fertilizer\",\"fertilizer\",\"fertilizer\",\"fertilizer\",\"fertilizer\",\"fertilizer\",\"fertilizer\",\"fertilizer\",\"fertilizer\",\"fertilizer\",\"fertilizer\",\"fertilizer\",\"fertilizer\",\"fertilizer\",\"fertilizer\",\"fertilizer\",\"fertilizer\",\"fertilizer\",\"fertilizer\",\"fertilizer\",\"fertilizer\",\"fertilizer\",\"fertilizer\",\"fertilizer\",\"fertilizer\",\"fertilizer\",\"fertilizer\",\"fertilizer\",\"fertilizer\",\"fertilizer\",\"fertilizer\",\"fertilizer\",\"fertilizer\",\"fertilizer\",\"fertilizer\",\"fertilizer\",\"fertilizer\",\"fertilizer\",\"fertilizer\",\"fertilizer\",\"fertilizer\",\"fertilizer\",\"fertilizer\",\"fertilizer\",\"fertilizer\",\"fertilizer\",\"fertilizer\",\"fertilizer\",\"fertilizer\",\"fertilizer\",\"fertilizer\",\"fertilizer\",\"fertilizer\",\"fertilizer\",\"fertilizer\",\"fertilizer\",\"fertilizer\",\"fertilizer\",\"fertilizer\",\"fertilizer\",\"fertilizer\",\"fertilizer\",\"fertilizer\",\"fertilizer\",\"fertilizer\",\"fertilizer\",\"fertilizer\",\"fertilizer\",\"fertilizer\",\"fertilizer\",\"fertilizer\",\"fertilizer\",\"fertilizer\",\"fertilizer\",\"fertilizer\",\"fertilizer\",\"fertilizer\",\"fertilizer\",\"fertilizer\",\"fertilizer\",\"fertilizer\",\"fertilizer\",\"fertilizer\",\"fertilizer\",\"fertilizer\",\"fertilizer\",\"fertilizer\",\"fertilizer\",\"fertilizer\",\"fertilizer\",\"fertilizer\",\"fertilizer\",\"fertilizer\",\"fertilizer\",\"fertilizer\",\"fertilizer\",\"fertilizer\",\"fertilizer\",\"fertilizer\",\"fertilizer\",\"fertilizer\",\"fertilizer\",\"fertilizer\",\"fertilizer\",\"fertilizer\",\"fertilizer\",\"fertilizer\",\"fertilizer\",\"fertilizer\",\"fertilizer\",\"fertilizer\",\"fertilizer\",\"fertilizer\",\"fertilizer\",\"fertilizer\",\"fertilizer\",\"fertilizer\",\"fertilizer\",\"fertilizer\",\"fertilizer\",\"fertilizer\",\"fertilizer\",\"fertilizer\",\"fertilizer\",\"fertilizer\",\"fertilizer\",\"fertilizer\",\"fertilizer\",\"fertilizer\",\"fertilizer\",\"fertilizer\",\"fertilizer\",\"fertilizer\",\"fertilizer\",\"fertilizer\",\"fertilizer\",\"fertilizer\",\"fertilizer\",\"fertilizer\",\"fertilizer\",\"fertilizer\",\"fertilizer\",\"fertilizer\",\"fertilizer\",\"fertilizer\",\"fertilizer\",\"fertilizer\",\"fertilizer\",\"fertilizer\",\"fertilizer\",\"fertilizer\",\"fertilizer\",\"fertilizer\",\"fertilizer\",\"fertilizer\",\"fertilizer\",\"fertilizer\",\"fertilizer\",\"fertilizer\",\"fertilizer\",\"fertilizer\",\"fertilizer\",\"fertilizer\",\"fertilizer\",\"fertilizer\",\"fertilizer\",\"fertilizer\",\"fertilizer\",\"fertilizer\",\"fertilizer\",\"fertilizer\",\"fertilizer\",\"fertilizer\",\"fertilizer\",\"fertilizer\",\"fertilizer\",\"fertilizer\",\"fertilizer\",\"fertilizer\",\"fertilizer\",\"fertilizer\",\"fertilizer\",\"fertilizer\",\"fertilizer\",\"fertilizer\",\"fertilizer\",\"fertilizer\",\"fertilizer\",\"fertilizer\",\"fertilizer\",\"fertilizer\",\"fertilizer\",\"fertilizer\",\"fertilizer\",\"fertilizer\",\"fertilizer\",\"fertilizer\",\"fertilizer\",\"fertilizer\",\"fertilizer\",\"fertilizer\",\"fertilizer\",\"fertilizer\",\"fertilizer\",\"fertilizer\",\"fertilizer\",\"fertilizer\",\"fertilizer\",\"fertilizer\",\"fertilizer\",\"fertilizer\",\"fertilizer\",\"fertilizer\",\"fertilizer\",\"fertilizer\",\"fertilizer\",\"fertilizer\",\"fertilizer\",\"fertilizer\",\"fertilizer\",\"fertilizer\",\"fertilizer\",\"fertilizer\",\"fertilizer\",\"fertilizer\",\"fertilizer\",\"fertilizer\",\"fertilizer\",\"fertilizer\",\"fertilizer\",\"fertilizer\",\"fertilizer\",\"fertilizer\",\"fertilizer\",\"fertilizer\",\"fertilizer\",\"fertilizer\",\"fertilizer\",\"fertilizer\",\"fertilizer\",\"fertilizer\",\"fertilizer\",\"fertilizer\",\"fertilizer\",\"fertilizer\",\"fertilizer\",\"fertilizer\",\"fertilizer\",\"fertilizer\",\"fertilizer\",\"fertilizer\",\"fertilizer\",\"fertilizer\",\"fertilizer\",\"fertilizer\",\"fertilizer\",\"fertilizer\",\"fertilizer\",\"fertilizer\",\"fertilizer\",\"fertilizer\",\"fertilizer\",\"fertilizer\",\"fertilizer\",\"fertilizer\",\"fertilizer\",\"fertilizer\",\"fertilizer\",\"fertilizer\",\"fertilizer\",\"fertilizer\",\"fertilizer\",\"fertilizer\",\"fertilizer\",\"fertilizer\",\"fertilizer\",\"fertilizer\",\"fertilizer\",\"fertilizer\",\"fertilizer\",\"fertilizer\",\"fertilizer\",\"fertilizer\",\"fertilizer\",\"fertilizer\",\"fertilizer\",\"fertilizer\",\"fertilizer\",\"fertilizer\",\"fertilizer\",\"fertilizer\",\"fertilizer\",\"fertilizer\",\"fertilizer\",\"fertilizer\",\"fertilizer\",\"fertilizer\",\"fertilizer\",\"fertilizer\",\"fertilizer\",\"fertilizer\",\"fertilizer\",\"fertilizer\",\"fertilizer\",\"fertilizer\",\"fertilizer\",\"fertilizer\",\"fertilizer\",\"fertilizer\",\"fertilizer\",\"fertilizer\",\"fertilizer\",\"fertilizer\",\"fertilizer\",\"fertilizer\",\"fertilizer\",\"fertilizer\",\"fertilizer\",\"fertilizer\",\"fertilizer\",\"fertilizer\",\"fertilizer\",\"fertilizer\",\"fertilizer\",\"fertilizer\",\"fertilizer\",\"fertilizer\",\"fertilizer\",\"fertilizer\",\"fertilizer\",\"fertilizer\",\"fertilizer\",\"fertilizer\",\"fertilizer\",\"fertilizer\",\"fertilizer\",\"fertilizer\",\"fertilizer\",\"fertilizer\",\"fertilizer\",\"fertilizer\",\"fertilizer\",\"fertilizer\",\"fertilizer\",\"fertilizer\",\"fertilizer\",\"fertilizer\",\"fertilizer\",\"fertilizer\",\"fertilizer\",\"fertilizer\",\"fertilizer\",\"fertilizer\",\"fertilizer\",\"fertilizer\",\"fertilizer\",\"fertilizer\",\"fertilizer\",\"fertilizer\",\"fertilizer\",\"fertilizer\",\"fertilizer\",\"fertilizer\",\"fertilizer\",\"fertilizer\",\"fertilizer\",\"fertilizer\",\"fertilizer\",\"fertilizer\",\"fertilizer\",\"fertilizer\",\"fertilizer\",\"fertilizer\",\"fertilizer\",\"fertilizer\",\"fertilizer\",\"fertilizer\",\"fertilizer\",\"fertilizer\",\"fertilizer\",\"fertilizer\",\"fertilizer\",\"fertilizer\",\"fertilizer\",\"fertilizer\",\"fertilizer\",\"fertilizer\",\"fertilizer\",\"fertilizer\",\"fertilizer\",\"fertilizer\",\"fertilizer\",\"fertilizer\",\"fertilizer\",\"fertilizer\",\"fertilizer\",\"fertilizer\",\"fertilizer\",\"fertilizer\",\"fertilizer\",\"fertilizer\",\"fertilizer\",\"fertilizer\",\"fertilizer\",\"fertilizer\",\"fertilizer\",\"fertilizer\",\"fertilizer\",\"fertilizer\",\"fertilizer\",\"fertilizer\",\"fertilizer\",\"fertilizer\",\"fertilizer\",\"fertilizer\",\"fertilizer\",\"fertilizer\",\"fertilizer\",\"fertilizer\",\"fertilizer\",\"fertilizer\",\"fertilizer\",\"fertilizer\",\"fertilizer\",\"fertilizer\",\"fertilizer\",\"fertilizer\",\"fertilizer\",\"fertilizer\",\"fertilizer\",\"fertilizer\",\"fertilizer\",\"fertilizer\",\"fertilizer\",\"fertilizer\",\"fertilizer\",\"fertilizer\",\"fertilizer\",\"fertilizer\",\"fertilizer\",\"fertilizer\",\"fertilizer\",\"fertilizer\",\"fertilizer\",\"fertilizer\",\"fertilizer\",\"fertilizer\",\"fertilizer\",\"fertilizer\",\"fertilizer\",\"fertilizer\",\"fertilizer\",\"fertilizer\",\"fertilizer\",\"fertilizer\",\"fertilizer\",\"fertilizer\",\"fertilizer\",\"fertilizer\",\"fertilizer\",\"fertilizer\",\"fertilizer\",\"fertilizer\",\"fertilizer\",\"fertilizer\",\"fertilizer\",\"fertilizer\",\"fertilizer\",\"fertilizer\",\"fertilizer\",\"fertilizer\",\"fertilizer\",\"fertilizer\",\"fertilizer\",\"fertilizer\",\"fertilizer\",\"fertilizer\",\"fertilizer\",\"fertilizer\",\"fertilizer\",\"fertilizer\",\"fertilizer\",\"fertilizer\",\"fertilizer\",\"fertilizer\",\"fertilizer\",\"fertilizer\",\"fertilizer\",\"fertilizer\",\"fertilizer\",\"fertilizer\",\"fertilizer\",\"fertilizer\",\"fertilizer\",\"fertilizer\",\"fertilizer\",\"fertilizer\",\"fertilizer\",\"fertilizer\",\"fertilizer\",\"fertilizer\",\"fertilizer\",\"fertilizer\",\"fertilizer\",\"fertilizer\",\"fertilizer\",\"fertilizer\",\"fertilizer\",\"fertilizer\",\"fertilizer\",\"fertilizer\",\"fertilizer\",\"fertilizer\",\"fertilizer\",\"fertilizer\",\"fertilizer\",\"fertilizer\",\"fertilizer\",\"fertilizer\",\"fertilizer\",\"fertilizer\",\"fertilizer\",\"fertilizer\",\"fertilizer\",\"fertilizer\",\"fertilizer\",\"fertilizer\",\"fertilizer\",\"fertilizer\",\"fertilizer\",\"fertilizer\",\"fertilizer\",\"fertilizer\",\"fertilizer\",\"fertilizer\",\"fertilizer\",\"fertilizer\",\"fertilizer\",\"fertilizer\",\"fertilizer\",\"fertilizer\",\"fertilizer\",\"fertilizer\",\"fertilizer\",\"fertilizer\",\"fertilizer\",\"fertilizer\",\"fertilizer\",\"fertilizer\",\"fertilizer\",\"fertilizer\",\"fertilizer\",\"fertilizer\",\"fertilizer\",\"fertilizer\",\"fertilizer\",\"fertilizer\",\"fertilizer\",\"fertilizer\",\"fertilizer\",\"fertilizer\",\"fertilizer\",\"fertilizer\",\"fertilizer\",\"fertilizer\",\"fertilizer\",\"fertilizer\",\"fertilizer\",\"fertilizer\",\"fertilizer\",\"fertilizer\",\"fertilizer\",\"fertilizer\",\"fertilizer\",\"fertilizer\",\"fertilizer\",\"fertilizer\",\"fertilizer\",\"fertilizer\",\"fertilizer\",\"fertilizer\",\"fertilizer\",\"fertilizer\",\"fertilizer\",\"fertilizer\",\"fertilizer\",\"fertilizer\",\"fertilizer\",\"fertilizer\",\"fertilizer\",\"fertilizer\",\"fertilizer\",\"fertilizer\",\"fertilizer\",\"fertilizer\",\"fertilizer\",\"fertilizer\",\"fertilizer\",\"fertilizer\",\"fertilizer\",\"fertilizer\",\"fertilizer\",\"fertilizer\",\"fertilizer\",\"fertilizer\",\"fertilizer\",\"fertilizer\",\"fertilizer\",\"fertilizer\",\"fertilizer\",\"fertilizer\",\"fertilizer\",\"fertilizer\",\"fertilizer\",\"fertilizer\",\"fertilizer\",\"fertilizer\",\"fertilizer\",\"fertilizer\",\"fertilizer\",\"fertilizer\",\"fertilizer\",\"fertilizer\",\"fertilizer\",\"fertilizer\",\"fertilizer\",\"fertilizer\",\"fertilizer\",\"fertilizer\",\"fertilizer\",\"fertilizer\",\"fertilizer\",\"fertilizer\",\"fertilizer\",\"fertilizer\",\"fertilizer\",\"fertilizer\",\"fertilizer\",\"fertilizer\",\"fertilizer\",\"fertilizer\",\"fertilizer\",\"fertilizer\",\"fertilizer\",\"fertilizer\",\"fertilizer\",\"fertilizer\",\"fertilizer\",\"fertilizer\",\"fertilizer\",\"fertilizer\",\"fertilizer\",\"fertilizer\",\"fertilizer\",\"fertilizer\",\"fertilizer\",\"fertilizer\",\"fertilizer\",\"fertilizer\",\"fertilizer\",\"fertilizer\",\"fertilizer\",\"fertilizer\",\"fertilizer\",\"fertilizer\",\"fertilizer\",\"fertilizer\",\"fertilizer\",\"fertilizer\",\"fertilizer\",\"fertilizer\",\"fertilizer\",\"fertilizer\",\"fertilizer\",\"fertilizer\",\"fertilizer\",\"fertilizer\",\"fertilizer\",\"fertilizer\",\"fertilizer\",\"fertilizer\",\"fertilizer\",\"fertilizer\",\"fertilizer\",\"fertilizer\",\"fertilizer\",\"fertilizer\",\"fertilizer\",\"fertilizer\",\"fertilizer\",\"fertilizer\",\"fertilizer\",\"fertilizer\",\"fertilizer\",\"fertilizer\",\"fertilizer\",\"fertilizer\",\"fertilizer\",\"fertilizer\",\"fertilizer\",\"fertilizer\",\"fertilizer\",\"fertilizer\",\"fertilizer\",\"fertilizer\",\"fertilizer\",\"fertilizer\",\"fertilizer\",\"fertilizer\",\"fertilizer\",\"fertilizer\",\"fertilizer\",\"fertilizer\",\"fertilizer\",\"fertilizer\",\"fertilizer\",\"fertilizer\",\"fertilizer\",\"fertilizer\",\"fertilizer\",\"fertilizer\",\"fertilizer\",\"fertilizer\",\"fertilizer\",\"fertilizer\",\"fertilizer\",\"fertilizer\",\"fertilizer\",\"fertilizer\",\"fertilizer\",\"fertilizer\",\"fertilizer\",\"fertilizer\",\"fertilizer\",\"fertilizer\",\"fertilizer\",\"fertilizer\",\"fertilizer\",\"fertilizer\",\"fertilizer\",\"fertilizer\",\"fertilizer\",\"fertilizer\",\"fertilizer\",\"fertilizer\",\"fertilizer\",\"fertilizer\",\"fertilizer\",\"fertilizer\",\"fertilizer\",\"fertilizer\",\"fertilizer\",\"fertilizer\",\"fertilizer\",\"fertilizer\",\"fertilizer\",\"fertilizer\",\"fertilizer\",\"fertilizer\",\"fertilizer\",\"fertilizer\",\"fertilizer\",\"fertilizer\",\"fertilizer\",\"fertilizer\",\"fertilizer\",\"fertilizer\",\"fertilizer\",\"fertilizer\",\"fertilizer\",\"fertilizer\",\"fertilizer\",\"fertilizer\",\"fertilizer\",\"fertilizer\",\"fertilizer\",\"fertilizer\",\"fertilizer\",\"fertilizer\",\"fertilizer\",\"fertilizer\",\"fertilizer\",\"fertilizer\",\"fertilizer\",\"fertilizer\",\"fertilizer\",\"fertilizer\",\"fertilizer\",\"fertilizer\",\"fertilizer\",\"fertilizer\",\"fertilizer\",\"fertilizer\",\"fertilizer\",\"fertilizer\",\"fertilizer\",\"fertilizer\",\"fertilizer\",\"fertilizer\",\"fertilizer\",\"fertilizer\",\"fertilizer\",\"fertilizer\",\"fertilizer\",\"fertilizer\",\"fertilizer\",\"fertilizer\",\"fertilizer\",\"fertilizer\",\"fertilizer\",\"fertilizer\",\"fertilizer\",\"fertilizer\",\"fertilizer\",\"fertilizer\",\"fertilizer\",\"fertilizer\",\"fertilizer\",\"fertilizer\",\"fertilizer\",\"fertilizer\",\"fertilizer\",\"fertilizer\",\"fertilizer\",\"fertilizer\",\"fertilizer\",\"fertilizer\",\"fertilizer\",\"fertilizer\",\"fertilizer\",\"fertilizer\",\"fertilizer\",\"fertilizer\",\"fertilizer\",\"fertilizer\",\"fertilizer\",\"fertilizer\",\"fertilizer\",\"fertilizer\",\"fertilizer\",\"fertilizer\",\"fertilizer\",\"fertilizer\",\"fertilizer\",\"fertilizer\",\"fertilizer\",\"fertilizer\",\"fertilizer\",\"fertilizer\",\"fertilizer\",\"fertilizer\",\"fertilizer\",\"fertilizer\",\"fertilizer\",\"fertilizer\",\"fertilizer\",\"fertilizer\",\"fertilizer\",\"fertilizer\",\"fertilizer\",\"fertilizer\",\"fertilizer\",\"fertilizer\",\"fertilizer\",\"fertilizer\",\"fertilizer\",\"fertilizer\",\"fertilizer\",\"fertilizer\",\"fertilizer\",\"fertilizer\",\"fertilizer\",\"fertilizer\",\"fertilizer\",\"fertilizer\",\"fertilizer\",\"fertilizer\",\"fertilizer\",\"fertilizer\",\"fertilizer\",\"fertilizer\",\"fertilizer\",\"fertilizer\",\"fertilizer\",\"fertilizer\",\"fertilizer\",\"fertilizer\",\"fertilizer\",\"fertilizer\",\"fertilizer\",\"fertilizer\",\"fertilizer\",\"fertilizer\",\"fertilizer\",\"fertilizer\",\"fertilizer\",\"fertilizer\",\"fertilizer\",\"fertilizer\",\"fertilizer\",\"fertilizer\",\"fertilizer\",\"fertilizer\",\"fertilizer\",\"fertilizer\",\"fertilizer\",\"fertilizer\",\"fertilizer\",\"fertilizer\",\"fertilizer\",\"fertilizer\",\"fertilizer\",\"fertilizer\",\"fertilizer\",\"fertilizer\",\"fertilizer\",\"fertilizer\",\"fertilizer\",\"fertilizer\",\"fertilizer\",\"fertilizer\",\"fertilizer\",\"fertilizer\",\"fertilizer\",\"fertilizer\",\"fertilizer\",\"fertilizer\",\"fertilizer\",\"fertilizer\",\"fertilizer\",\"fertilizer\",\"fertilizer\",\"fertilizer\",\"fertilizer\",\"fertilizer\",\"fertilizer\",\"fertilizer\",\"fertilizer\",\"fertilizer\",\"fertilizer\",\"fertilizer\",\"fertilizer\",\"fertilizer\",\"fertilizer\",\"fertilizer\",\"fertilizer\",\"fertilizer\",\"fertilizer\",\"fertilizer\",\"fertilizer\",\"fertilizer\",\"fertilizer\",\"fertilizer\",\"fertilizer\",\"fertilizer\",\"fertilizer\",\"fertilizer\",\"fertilizer\",\"fertilizer\",\"fertilizer\",\"fertilizer\",\"fertilizer\",\"fertilizer\",\"fertilizer\",\"fertilizer\",\"fertilizer\",\"fertilizer\",\"fertilizer\",\"fertilizer\",\"fertilizer\",\"fertilizer\",\"fertilizer\",\"fertilizer\",\"fertilizer\",\"fertilizer\",\"fertilizer\",\"fertilizer\",\"fertilizer\",\"fertilizer\",\"fertilizer\",\"fertilizer\",\"fertilizer\",\"fertilizer\",\"fertilizer\",\"fertilizer\",\"fertilizer\",\"fertilizer\",\"fertilizer\",\"fertilizer\",\"fertilizer\",\"fertilizer\",\"fertilizer\",\"fertilizer\",\"fertilizer\",\"fertilizer\",\"fertilizer\",\"fertilizer\",\"fertilizer\",\"fertilizer\",\"fertilizer\",\"fertilizer\",\"fertilizer\",\"fertilizer\",\"fertilizer\",\"fertilizer\",\"fertilizer\",\"fertilizer\",\"fertilizer\",\"fertilizer\",\"fertilizer\",\"fertilizer\",\"fertilizer\",\"fertilizer\",\"fertilizer\",\"fertilizer\",\"fertilizer\",\"fertilizer\",\"fertilizer\",\"fertilizer\",\"fertilizer\",\"fertilizer\",\"fertilizer\",\"fertilizer\",\"fertilizer\",\"fertilizer\",\"fertilizer\",\"fertilizer\",\"fertilizer\",\"fertilizer\",\"fertilizer\",\"fertilizer\",\"fertilizer\",\"fertilizer\",\"fertilizer\",\"fertilizer\",\"fertilizer\",\"fertilizer\",\"fertilizer\",\"fertilizer\",\"fertilizer\",\"fertilizer\",\"fertilizer\",\"fertilizer\",\"fertilizer\",\"fertilizer\",\"fertilizer\",\"fertilizer\",\"fertilizer\",\"fertilizer\",\"fertilizer\",\"fertilizer\",\"fertilizer\",\"fertilizer\",\"fertilizer\",\"fertilizer\",\"fertilizer\",\"fertilizer\",\"fertilizer\",\"fertilizer\",\"fertilizer\",\"fertilizer\",\"fertilizer\",\"fertilizer\",\"fertilizer\",\"fertilizer\",\"fertilizer\",\"fertilizer\",\"fertilizer\",\"fertilizer\",\"fertilizer\",\"fertilizer\",\"fertilizer\",\"fertilizer\",\"fertilizer\",\"fertilizer\",\"fertilizer\",\"fertilizer\",\"fertilizer\",\"fertilizer\",\"fertilizer\",\"fertilizer\",\"fertilizer\",\"fertilizer\",\"fertilizer\",\"fertilizer\",\"fertilizer\",\"fertilizer\",\"fertilizer\",\"fertilizer\",\"fertilizer\",\"fertilizer\",\"fertilizer\",\"fertilizer\",\"fertilizer\",\"fertilizer\",\"fertilizer\",\"fertilizer\",\"fertilizer\",\"fertilizer\",\"fertilizer\",\"fertilizer\",\"fertilizer\",\"fertilizer\",\"fertilizer\",\"fertilizer\",\"fertilizer\",\"fertilizer\",\"fertilizer\",\"fertilizer\",\"fertilizer\",\"fertilizer\",\"fertilizer\",\"fertilizer\",\"fertilizer\",\"fertilizer\",\"fertilizer\",\"fertilizer\",\"fertilizer\",\"fertilizer\",\"fertilizer\",\"fertilizer\",\"fertilizer\",\"fertilizer\",\"fertilizer\",\"fertilizer\",\"fertilizer\",\"fertilizer\",\"fertilizer\",\"fertilizer\",\"fertilizer\",\"fertilizer\",\"fertilizer\",\"fertilizer\",\"fertilizer\",\"fertilizer\",\"fertilizer\",\"fertilizer\",\"fertilizer\",\"fertilizer\",\"fertilizer\",\"fertilizer\",\"fertilizer\",\"fertilizer\",\"fertilizer\",\"fertilizer\",\"fertilizer\",\"fertilizer\",\"fertilizer\",\"fertilizer\",\"fertilizer\",\"fertilizer\",\"fertilizer\",\"fertilizer\",\"fertilizer\",\"fertilizer\",\"fertilizer\",\"fertilizer\",\"fertilizer\",\"fertilizer\",\"fertilizer\",\"fertilizer\",\"fertilizer\",\"fertilizer\",\"fertilizer\",\"fertilizer\",\"fertilizer\",\"fertilizer\",\"fertilizer\",\"fertilizer\",\"fertilizer\",\"fertilizer\",\"fertilizer\",\"fertilizer\",\"fertilizer\",\"fertilizer\",\"fertilizer\",\"fertilizer\",\"fertilizer\",\"fertilizer\",\"fertilizer\",\"fertilizer\",\"fertilizer\",\"fertilizer\",\"fertilizer\",\"fertilizer\",\"fertilizer\",\"fertilizer\",\"fertilizer\",\"fertilizer\",\"fertilizer\",\"fertilizer\",\"fertilizer\",\"fertilizer\",\"fertilizer\",\"fertilizer\",\"fertilizer\",\"fertilizer\",\"fertilizer\",\"fertilizer\",\"fertilizer\",\"fertilizer\",\"fertilizer\",\"fertilizer\",\"fertilizer\",\"fertilizer\",\"fertilizer\",\"fertilizer\",\"fertilizer\",\"fertilizer\",\"fertilizer\",\"fertilizer\",\"fertilizer\",\"fertilizer\",\"fertilizer\",\"fertilizer\",\"fertilizer\",\"fertilizer\",\"fertilizer\",\"fertilizer\",\"fertilizer\",\"fertilizer\",\"fertilizer\",\"fertilizer\",\"fertilizer\",\"fertilizer\",\"fertilizer\",\"fertilizer\",\"fertilizer\",\"fertilizer\",\"fertilizer\",\"fertilizer\",\"fertilizer\",\"fertilizer\",\"fertilizer\",\"fertilizer\",\"fertilizer\",\"fertilizer\",\"fertilizer\",\"fertilizer\",\"fertilizer\",\"fertilizer\",\"fertilizer\",\"fertilizer\",\"fertilizer\",\"fertilizer\",\"fertilizer\",\"fertilizer\",\"fertilizer\",\"fertilizer\",\"fertilizer\",\"fertilizer\",\"fertilizer\",\"fertilizer\",\"fertilizer\",\"fertilizer\",\"fertilizer\",\"fertilizer\",\"fertilizer\",\"fertilizer\",\"fertilizer\",\"fertilizer\",\"fertilizer\",\"fertilizer\",\"fertilizer\",\"fertilizer\",\"fertilizer\",\"fertilizer\",\"fertilizer\",\"fertilizer\",\"fertilizer\",\"fertilizer\",\"fertilizer\",\"fertilizer\",\"fertilizer\",\"fertilizer\",\"fertilizer\",\"fertilizer\",\"fertilizer\",\"fertilizer\",\"fertilizer\",\"fertilizer\",\"fertilizer\",\"fertilizer\",\"fertilizer\",\"fertilizer\",\"fertilizer\",\"fertilizer\",\"fertilizer\",\"fertilizer\",\"fertilizer\",\"fertilizer\",\"fertilizer\",\"fertilizer\",\"fertilizer\",\"fertilizer\",\"fertilizer\",\"fertilizer\",\"fertilizer\",\"fertilizer\",\"fertilizer\",\"fertilizer\",\"fertilizer\",\"fertilizer\",\"fertilizer\",\"fertilizer\",\"fertilizer\",\"fertilizer\",\"fertilizer\",\"fertilizer\",\"fertilizer\",\"fertilizer\",\"fertilizer\",\"fertilizer\",\"fertilizer\",\"fertilizer\",\"fertilizer\",\"fertilizer\",\"fertilizer\",\"fertilizer\",\"fertilizer\",\"fertilizer\",\"fertilizer\",\"fertilizer\",\"fertilizer\",\"fertilizer\",\"fertilizer\",\"fertilizer\",\"fertilizer\",\"fertilizer\",\"fertilizer\",\"fertilizer\",\"fertilizer\",\"fertilizer\",\"fertilizer\",\"fertilizer\",\"fertilizer\",\"fertilizer\",\"fertilizer\",\"fertilizer\",\"fertilizer\",\"fertilizer\",\"fertilizer\",\"fertilizer\",\"fertilizer\",\"fertilizer\",\"fertilizer\",\"fertilizer\",\"fertilizer\",\"fertilizer\",\"fertilizer\",\"fertilizer\",\"fertilizer\",\"fertilizer\",\"fertilizer\",\"fertilizer\",\"fertilizer\",\"fertilizer\",\"fertilizer\",\"fertilizer\",\"fertilizer\",\"fertilizer\",\"fertilizer\",\"fertilizer\",\"fertilizer\",\"fertilizer\",\"fertilizer\",\"fertilizer\",\"fertilizer\",\"fertilizer\",\"fertilizer\",\"fertilizer\",\"fertilizer\",\"fertilizer\",\"fertilizer\",\"fertilizer\",\"fertilizer\",\"fertilizer\",\"fertilizer\",\"fertilizer\",\"fertilizer\",\"fertilizer\",\"fertilizer\",\"fertilizer\",\"fertilizer\",\"fertilizer\",\"fertilizer\",\"fertilizer\",\"fertilizer\",\"fertilizer\",\"fertilizer\",\"fertilizer\",\"fertilizer\",\"fertilizer\",\"fertilizer\",\"fertilizer\",\"fertilizer\",\"fertilizer\",\"fertilizer\",\"fertilizer\",\"fertilizer\",\"fertilizer\",\"fertilizer\",\"fertilizer\",\"fertilizer\",\"fertilizer\",\"fertilizer\",\"fertilizer\",\"fertilizer\",\"fertilizer\",\"fertilizer\",\"temperature\",\"temperature\",\"temperature\",\"temperature\",\"temperature\",\"temperature\",\"temperature\",\"temperature\",\"temperature\",\"temperature\",\"temperature\",\"temperature\",\"temperature\",\"temperature\",\"temperature\",\"temperature\",\"temperature\",\"temperature\",\"temperature\",\"temperature\",\"temperature\",\"temperature\",\"temperature\",\"temperature\",\"temperature\",\"temperature\",\"temperature\",\"temperature\",\"temperature\",\"temperature\",\"temperature\",\"temperature\",\"temperature\",\"temperature\",\"temperature\",\"temperature\",\"temperature\",\"temperature\",\"temperature\",\"temperature\",\"temperature\",\"temperature\",\"temperature\",\"temperature\",\"temperature\",\"temperature\",\"temperature\",\"temperature\",\"temperature\",\"temperature\",\"temperature\",\"temperature\",\"temperature\",\"temperature\",\"temperature\",\"temperature\",\"temperature\",\"temperature\",\"temperature\",\"temperature\",\"temperature\",\"temperature\",\"temperature\",\"temperature\",\"temperature\",\"temperature\",\"temperature\",\"temperature\",\"temperature\",\"temperature\",\"temperature\",\"temperature\",\"temperature\",\"temperature\",\"temperature\",\"temperature\",\"temperature\",\"temperature\",\"temperature\",\"temperature\",\"temperature\",\"temperature\",\"temperature\",\"temperature\",\"temperature\",\"temperature\",\"temperature\",\"temperature\",\"temperature\",\"temperature\",\"temperature\",\"temperature\",\"temperature\",\"temperature\",\"temperature\",\"temperature\",\"temperature\",\"temperature\",\"temperature\",\"temperature\",\"temperature\",\"temperature\",\"temperature\",\"temperature\",\"temperature\",\"temperature\",\"temperature\",\"temperature\",\"temperature\",\"temperature\",\"temperature\",\"temperature\",\"temperature\",\"temperature\",\"temperature\",\"temperature\",\"temperature\",\"temperature\",\"temperature\",\"temperature\",\"temperature\",\"temperature\",\"temperature\",\"temperature\",\"temperature\",\"temperature\",\"temperature\",\"temperature\",\"temperature\",\"temperature\",\"temperature\",\"temperature\",\"temperature\",\"temperature\",\"temperature\",\"temperature\",\"temperature\",\"temperature\",\"temperature\",\"temperature\",\"temperature\",\"temperature\",\"temperature\",\"temperature\",\"temperature\",\"temperature\",\"temperature\",\"temperature\",\"temperature\",\"temperature\",\"temperature\",\"temperature\",\"temperature\",\"temperature\",\"temperature\",\"temperature\",\"temperature\",\"temperature\",\"temperature\",\"temperature\",\"temperature\",\"temperature\",\"temperature\",\"temperature\",\"temperature\",\"temperature\",\"temperature\",\"temperature\",\"temperature\",\"temperature\",\"temperature\",\"temperature\",\"temperature\",\"temperature\",\"temperature\",\"temperature\",\"temperature\",\"temperature\",\"temperature\",\"temperature\",\"temperature\",\"temperature\",\"temperature\",\"temperature\",\"temperature\",\"temperature\",\"temperature\",\"temperature\",\"temperature\",\"temperature\",\"temperature\",\"temperature\",\"temperature\",\"temperature\",\"temperature\",\"temperature\",\"temperature\",\"temperature\",\"temperature\",\"temperature\",\"temperature\",\"temperature\",\"temperature\",\"temperature\",\"temperature\",\"temperature\",\"temperature\",\"temperature\",\"temperature\",\"temperature\",\"temperature\",\"temperature\",\"temperature\",\"temperature\",\"temperature\",\"temperature\",\"temperature\",\"temperature\",\"temperature\",\"temperature\",\"temperature\",\"temperature\",\"temperature\",\"temperature\",\"temperature\",\"temperature\",\"temperature\",\"temperature\",\"temperature\",\"temperature\",\"temperature\",\"temperature\",\"temperature\",\"temperature\",\"temperature\",\"temperature\",\"temperature\",\"temperature\",\"temperature\",\"temperature\",\"temperature\",\"temperature\",\"temperature\",\"temperature\",\"temperature\",\"temperature\",\"temperature\",\"temperature\",\"temperature\",\"temperature\",\"temperature\",\"temperature\",\"temperature\",\"temperature\",\"temperature\",\"temperature\",\"temperature\",\"temperature\",\"temperature\",\"temperature\",\"temperature\",\"temperature\",\"temperature\",\"temperature\",\"temperature\",\"temperature\",\"temperature\",\"temperature\",\"temperature\",\"temperature\",\"temperature\",\"temperature\",\"temperature\",\"temperature\",\"temperature\",\"temperature\",\"temperature\",\"temperature\",\"temperature\",\"temperature\",\"temperature\",\"temperature\",\"temperature\",\"temperature\",\"temperature\",\"temperature\",\"temperature\",\"temperature\",\"temperature\",\"temperature\",\"temperature\",\"temperature\",\"temperature\",\"temperature\",\"temperature\",\"temperature\",\"temperature\",\"temperature\",\"temperature\",\"temperature\",\"temperature\",\"temperature\",\"temperature\",\"temperature\",\"temperature\",\"temperature\",\"temperature\",\"temperature\",\"temperature\",\"temperature\",\"temperature\",\"temperature\",\"temperature\",\"temperature\",\"temperature\",\"temperature\",\"temperature\",\"temperature\",\"temperature\",\"temperature\",\"temperature\",\"temperature\",\"temperature\",\"temperature\",\"temperature\",\"temperature\",\"temperature\",\"temperature\",\"temperature\",\"temperature\",\"temperature\",\"temperature\",\"temperature\",\"temperature\",\"temperature\",\"temperature\",\"temperature\",\"temperature\",\"temperature\",\"temperature\",\"temperature\",\"temperature\",\"temperature\",\"temperature\",\"temperature\",\"temperature\",\"temperature\",\"temperature\",\"temperature\",\"temperature\",\"temperature\",\"temperature\",\"temperature\",\"temperature\",\"temperature\",\"temperature\",\"temperature\",\"temperature\",\"temperature\",\"temperature\",\"temperature\",\"temperature\",\"temperature\",\"temperature\",\"temperature\",\"temperature\",\"temperature\",\"temperature\",\"temperature\",\"temperature\",\"temperature\",\"temperature\",\"temperature\",\"temperature\",\"temperature\",\"temperature\",\"temperature\",\"temperature\",\"temperature\",\"temperature\",\"temperature\",\"temperature\",\"temperature\",\"temperature\",\"temperature\",\"temperature\",\"temperature\",\"temperature\",\"temperature\",\"temperature\",\"temperature\",\"temperature\",\"temperature\",\"temperature\",\"temperature\",\"temperature\",\"temperature\",\"temperature\",\"temperature\",\"temperature\",\"temperature\",\"temperature\",\"temperature\",\"temperature\",\"temperature\",\"temperature\",\"temperature\",\"temperature\",\"temperature\",\"temperature\",\"temperature\",\"temperature\",\"temperature\",\"temperature\",\"temperature\",\"temperature\",\"temperature\",\"temperature\",\"temperature\",\"temperature\",\"temperature\",\"temperature\",\"temperature\",\"temperature\",\"temperature\",\"temperature\",\"temperature\",\"temperature\",\"temperature\",\"temperature\",\"temperature\",\"temperature\",\"temperature\",\"temperature\",\"temperature\",\"temperature\",\"temperature\",\"temperature\",\"temperature\",\"temperature\",\"temperature\",\"temperature\",\"temperature\",\"temperature\",\"temperature\",\"temperature\",\"temperature\",\"temperature\",\"temperature\",\"temperature\",\"temperature\",\"temperature\",\"temperature\",\"temperature\",\"temperature\",\"temperature\",\"temperature\",\"temperature\",\"temperature\",\"temperature\",\"temperature\",\"temperature\",\"temperature\",\"temperature\",\"temperature\",\"temperature\",\"temperature\",\"temperature\",\"temperature\",\"temperature\",\"temperature\",\"temperature\",\"temperature\",\"temperature\",\"temperature\",\"temperature\",\"temperature\",\"temperature\",\"temperature\",\"temperature\",\"temperature\",\"temperature\",\"temperature\",\"temperature\",\"temperature\",\"temperature\",\"temperature\",\"temperature\",\"temperature\",\"temperature\",\"temperature\",\"temperature\",\"temperature\",\"temperature\",\"temperature\",\"temperature\",\"temperature\",\"temperature\",\"temperature\",\"temperature\",\"temperature\",\"temperature\",\"temperature\",\"temperature\",\"temperature\",\"temperature\",\"temperature\",\"temperature\",\"temperature\",\"temperature\",\"temperature\",\"temperature\",\"temperature\",\"temperature\",\"temperature\",\"temperature\",\"temperature\",\"temperature\",\"temperature\",\"temperature\",\"temperature\",\"temperature\",\"temperature\",\"temperature\",\"temperature\",\"temperature\",\"temperature\",\"temperature\",\"temperature\",\"temperature\",\"temperature\",\"temperature\",\"temperature\",\"temperature\",\"temperature\",\"temperature\",\"temperature\",\"temperature\",\"temperature\",\"temperature\",\"temperature\",\"temperature\",\"temperature\",\"temperature\",\"temperature\",\"temperature\",\"temperature\",\"temperature\",\"temperature\",\"temperature\",\"temperature\",\"temperature\",\"temperature\",\"temperature\",\"temperature\",\"temperature\",\"temperature\",\"temperature\",\"temperature\",\"temperature\",\"temperature\",\"temperature\",\"temperature\",\"temperature\",\"temperature\",\"temperature\",\"temperature\",\"temperature\",\"temperature\",\"temperature\",\"temperature\",\"temperature\",\"temperature\",\"temperature\",\"temperature\",\"temperature\",\"temperature\",\"temperature\",\"temperature\",\"temperature\",\"temperature\",\"temperature\",\"temperature\",\"temperature\",\"temperature\",\"temperature\",\"temperature\",\"temperature\",\"temperature\",\"temperature\",\"temperature\",\"temperature\",\"temperature\",\"temperature\",\"temperature\",\"temperature\",\"temperature\",\"temperature\",\"temperature\",\"temperature\",\"temperature\",\"temperature\",\"temperature\",\"temperature\",\"temperature\",\"temperature\",\"temperature\",\"temperature\",\"temperature\",\"temperature\",\"temperature\",\"temperature\",\"temperature\",\"temperature\",\"temperature\",\"temperature\",\"temperature\",\"temperature\",\"temperature\",\"temperature\",\"temperature\",\"temperature\",\"temperature\",\"temperature\",\"temperature\",\"temperature\",\"temperature\",\"temperature\",\"temperature\",\"temperature\",\"temperature\",\"temperature\",\"temperature\",\"temperature\",\"temperature\",\"temperature\",\"temperature\",\"temperature\",\"temperature\",\"temperature\",\"temperature\",\"temperature\",\"temperature\",\"temperature\",\"temperature\",\"temperature\",\"temperature\",\"temperature\",\"temperature\",\"temperature\",\"temperature\",\"temperature\",\"temperature\",\"temperature\",\"temperature\",\"temperature\",\"temperature\",\"temperature\",\"temperature\",\"temperature\",\"temperature\",\"temperature\",\"temperature\",\"temperature\",\"temperature\",\"temperature\",\"temperature\",\"temperature\",\"temperature\",\"temperature\",\"temperature\",\"temperature\",\"temperature\",\"temperature\",\"temperature\",\"temperature\",\"temperature\",\"temperature\",\"temperature\",\"temperature\",\"temperature\",\"temperature\",\"temperature\",\"temperature\",\"temperature\",\"temperature\",\"temperature\",\"temperature\",\"temperature\",\"temperature\",\"temperature\",\"temperature\",\"temperature\",\"temperature\",\"temperature\",\"temperature\",\"temperature\",\"temperature\",\"temperature\",\"temperature\",\"temperature\",\"temperature\",\"temperature\",\"temperature\",\"temperature\",\"temperature\",\"temperature\",\"temperature\",\"temperature\",\"temperature\",\"temperature\",\"temperature\",\"temperature\",\"temperature\",\"temperature\",\"temperature\",\"temperature\",\"temperature\",\"temperature\",\"temperature\",\"temperature\",\"temperature\",\"temperature\",\"temperature\",\"temperature\",\"temperature\",\"temperature\",\"temperature\",\"temperature\",\"temperature\",\"temperature\",\"temperature\",\"temperature\",\"temperature\",\"temperature\",\"temperature\",\"temperature\",\"temperature\",\"temperature\",\"temperature\",\"temperature\",\"temperature\",\"temperature\",\"temperature\",\"temperature\",\"temperature\",\"temperature\",\"temperature\",\"temperature\",\"temperature\",\"temperature\",\"temperature\",\"temperature\",\"temperature\",\"temperature\",\"temperature\",\"temperature\",\"temperature\",\"temperature\",\"temperature\",\"temperature\",\"temperature\",\"temperature\",\"temperature\",\"temperature\",\"temperature\",\"temperature\",\"temperature\",\"temperature\",\"temperature\",\"temperature\",\"temperature\",\"temperature\",\"temperature\",\"temperature\",\"temperature\",\"temperature\",\"temperature\",\"temperature\",\"temperature\",\"temperature\",\"temperature\",\"temperature\",\"temperature\",\"temperature\",\"temperature\",\"temperature\",\"temperature\",\"temperature\",\"temperature\",\"temperature\",\"temperature\",\"temperature\",\"temperature\",\"temperature\",\"temperature\",\"temperature\",\"temperature\",\"temperature\",\"temperature\",\"temperature\",\"temperature\",\"temperature\",\"temperature\",\"temperature\",\"temperature\",\"temperature\",\"temperature\",\"temperature\",\"temperature\",\"temperature\",\"temperature\",\"temperature\",\"temperature\",\"temperature\",\"temperature\",\"temperature\",\"temperature\",\"temperature\",\"temperature\",\"temperature\",\"temperature\",\"temperature\",\"temperature\",\"temperature\",\"temperature\",\"temperature\",\"temperature\",\"temperature\",\"temperature\",\"temperature\",\"temperature\",\"temperature\",\"temperature\",\"temperature\",\"temperature\",\"temperature\",\"temperature\",\"temperature\",\"temperature\",\"temperature\",\"temperature\",\"temperature\",\"temperature\",\"temperature\",\"temperature\",\"temperature\",\"temperature\",\"temperature\",\"temperature\",\"temperature\",\"temperature\",\"temperature\",\"temperature\",\"temperature\",\"temperature\",\"temperature\",\"temperature\",\"temperature\",\"temperature\",\"temperature\",\"temperature\",\"temperature\",\"temperature\",\"temperature\",\"temperature\",\"temperature\",\"temperature\",\"temperature\",\"temperature\",\"temperature\",\"temperature\",\"temperature\",\"temperature\",\"temperature\",\"temperature\",\"temperature\",\"temperature\",\"temperature\",\"temperature\",\"temperature\",\"temperature\",\"temperature\",\"temperature\",\"temperature\",\"temperature\",\"temperature\",\"temperature\",\"temperature\",\"temperature\",\"temperature\",\"temperature\",\"temperature\",\"temperature\",\"temperature\",\"temperature\",\"temperature\",\"temperature\",\"temperature\",\"temperature\",\"temperature\",\"temperature\",\"temperature\",\"temperature\",\"temperature\",\"temperature\",\"temperature\",\"temperature\",\"temperature\",\"temperature\",\"temperature\",\"temperature\",\"temperature\",\"temperature\",\"temperature\",\"temperature\",\"temperature\",\"temperature\",\"temperature\",\"temperature\",\"temperature\",\"temperature\",\"temperature\",\"temperature\",\"temperature\",\"temperature\",\"temperature\",\"temperature\",\"temperature\",\"temperature\",\"temperature\",\"temperature\",\"temperature\",\"temperature\",\"temperature\",\"temperature\",\"temperature\",\"temperature\",\"temperature\",\"temperature\",\"temperature\",\"temperature\",\"temperature\",\"temperature\",\"temperature\",\"temperature\",\"temperature\",\"temperature\",\"temperature\",\"temperature\",\"temperature\",\"temperature\",\"temperature\",\"temperature\",\"temperature\",\"temperature\",\"temperature\",\"temperature\",\"temperature\",\"temperature\",\"temperature\",\"temperature\",\"temperature\",\"temperature\",\"temperature\",\"temperature\",\"temperature\",\"temperature\",\"temperature\",\"temperature\",\"temperature\",\"temperature\",\"temperature\",\"temperature\",\"temperature\",\"temperature\",\"temperature\",\"temperature\",\"temperature\",\"temperature\",\"temperature\",\"temperature\",\"temperature\",\"temperature\",\"temperature\",\"temperature\",\"temperature\",\"temperature\",\"temperature\",\"temperature\",\"temperature\",\"temperature\",\"temperature\",\"temperature\",\"temperature\",\"temperature\",\"temperature\",\"temperature\",\"temperature\",\"temperature\",\"temperature\",\"temperature\",\"temperature\",\"temperature\",\"temperature\",\"temperature\",\"temperature\",\"temperature\",\"temperature\",\"temperature\",\"temperature\",\"temperature\",\"temperature\",\"temperature\",\"temperature\",\"temperature\",\"temperature\",\"temperature\",\"temperature\",\"temperature\",\"temperature\",\"temperature\",\"temperature\",\"temperature\",\"temperature\",\"temperature\",\"temperature\",\"temperature\",\"temperature\",\"temperature\",\"temperature\",\"temperature\",\"temperature\",\"temperature\",\"temperature\",\"temperature\",\"temperature\",\"temperature\",\"temperature\",\"temperature\",\"temperature\",\"temperature\",\"temperature\",\"temperature\",\"temperature\",\"temperature\",\"temperature\",\"temperature\",\"temperature\",\"temperature\",\"temperature\",\"temperature\",\"temperature\",\"temperature\",\"temperature\",\"temperature\",\"temperature\",\"temperature\",\"temperature\",\"temperature\",\"temperature\",\"temperature\",\"temperature\",\"temperature\",\"temperature\",\"temperature\",\"temperature\",\"temperature\",\"temperature\",\"temperature\",\"temperature\",\"temperature\",\"temperature\",\"temperature\",\"temperature\",\"temperature\",\"temperature\",\"temperature\",\"temperature\",\"temperature\",\"temperature\",\"temperature\",\"temperature\",\"temperature\",\"temperature\",\"temperature\",\"temperature\",\"temperature\",\"temperature\",\"temperature\",\"temperature\",\"temperature\",\"temperature\",\"temperature\",\"temperature\",\"temperature\",\"temperature\",\"temperature\",\"temperature\",\"temperature\",\"temperature\",\"temperature\",\"temperature\",\"temperature\",\"temperature\",\"temperature\",\"temperature\",\"temperature\",\"temperature\",\"temperature\",\"temperature\",\"temperature\",\"temperature\",\"temperature\",\"temperature\",\"temperature\",\"temperature\",\"temperature\",\"temperature\",\"temperature\",\"temperature\",\"temperature\",\"temperature\",\"temperature\",\"temperature\",\"temperature\",\"temperature\",\"temperature\",\"temperature\",\"temperature\",\"temperature\",\"temperature\",\"temperature\",\"temperature\",\"temperature\",\"temperature\",\"temperature\",\"temperature\",\"temperature\",\"temperature\",\"temperature\",\"temperature\",\"temperature\",\"temperature\",\"temperature\",\"temperature\",\"temperature\",\"temperature\",\"temperature\",\"temperature\",\"temperature\",\"temperature\",\"temperature\",\"temperature\",\"temperature\",\"temperature\",\"temperature\",\"temperature\",\"temperature\",\"temperature\",\"temperature\",\"temperature\",\"temperature\",\"temperature\",\"temperature\",\"temperature\",\"temperature\",\"temperature\",\"temperature\",\"temperature\",\"temperature\",\"temperature\",\"temperature\",\"temperature\",\"temperature\",\"temperature\",\"temperature\",\"temperature\",\"temperature\",\"temperature\",\"temperature\",\"temperature\",\"temperature\",\"temperature\",\"temperature\",\"temperature\",\"temperature\",\"temperature\",\"temperature\",\"temperature\",\"temperature\",\"temperature\",\"temperature\",\"temperature\",\"temperature\",\"temperature\",\"temperature\",\"temperature\",\"temperature\",\"temperature\",\"temperature\",\"temperature\",\"temperature\",\"temperature\",\"temperature\",\"temperature\",\"temperature\",\"temperature\",\"temperature\",\"temperature\",\"temperature\",\"temperature\",\"temperature\",\"temperature\",\"temperature\",\"temperature\",\"temperature\",\"temperature\",\"temperature\",\"temperature\",\"temperature\",\"temperature\",\"temperature\",\"temperature\",\"temperature\",\"temperature\",\"temperature\",\"temperature\",\"temperature\",\"temperature\",\"temperature\",\"temperature\",\"temperature\",\"temperature\",\"temperature\",\"temperature\",\"temperature\",\"temperature\",\"temperature\",\"temperature\",\"temperature\",\"temperature\",\"temperature\",\"temperature\",\"temperature\",\"temperature\",\"temperature\",\"temperature\",\"temperature\",\"temperature\",\"temperature\",\"temperature\",\"temperature\",\"temperature\",\"temperature\",\"temperature\",\"temperature\",\"temperature\",\"temperature\",\"temperature\",\"temperature\",\"temperature\",\"temperature\",\"temperature\",\"temperature\",\"temperature\",\"temperature\",\"temperature\",\"temperature\",\"temperature\",\"temperature\",\"temperature\",\"temperature\",\"temperature\",\"temperature\",\"temperature\",\"temperature\",\"temperature\",\"temperature\",\"temperature\",\"temperature\",\"temperature\",\"temperature\",\"temperature\",\"temperature\",\"temperature\",\"temperature\",\"temperature\",\"temperature\",\"temperature\",\"temperature\",\"temperature\",\"temperature\",\"temperature\",\"temperature\",\"temperature\",\"temperature\",\"temperature\",\"temperature\",\"temperature\",\"temperature\",\"temperature\",\"temperature\",\"temperature\",\"temperature\",\"temperature\",\"temperature\",\"temperature\",\"temperature\",\"temperature\",\"temperature\",\"temperature\",\"temperature\",\"temperature\",\"temperature\",\"temperature\",\"temperature\",\"temperature\",\"temperature\",\"temperature\",\"temperature\",\"temperature\",\"temperature\",\"temperature\",\"temperature\",\"temperature\",\"temperature\",\"temperature\",\"temperature\",\"temperature\",\"temperature\",\"temperature\",\"temperature\",\"temperature\",\"temperature\",\"temperature\",\"temperature\",\"temperature\",\"temperature\",\"temperature\",\"temperature\",\"temperature\",\"temperature\",\"temperature\",\"temperature\",\"temperature\",\"temperature\",\"temperature\",\"temperature\",\"temperature\",\"temperature\",\"temperature\",\"temperature\",\"temperature\",\"temperature\",\"temperature\",\"temperature\",\"temperature\",\"temperature\",\"temperature\",\"temperature\",\"temperature\",\"temperature\",\"temperature\",\"temperature\",\"temperature\",\"temperature\",\"temperature\",\"temperature\",\"temperature\",\"temperature\",\"temperature\",\"temperature\",\"temperature\",\"temperature\",\"temperature\",\"temperature\",\"temperature\",\"temperature\",\"temperature\",\"temperature\",\"temperature\",\"temperature\",\"temperature\",\"temperature\",\"temperature\",\"temperature\",\"temperature\",\"temperature\",\"temperature\",\"temperature\",\"temperature\",\"temperature\",\"temperature\",\"temperature\",\"temperature\",\"temperature\",\"temperature\",\"temperature\",\"temperature\",\"temperature\",\"temperature\",\"temperature\",\"temperature\",\"temperature\",\"temperature\",\"temperature\",\"temperature\",\"temperature\",\"temperature\",\"temperature\",\"temperature\",\"temperature\",\"temperature\",\"temperature\",\"temperature\",\"temperature\",\"temperature\",\"temperature\",\"temperature\",\"temperature\",\"temperature\",\"temperature\",\"temperature\",\"temperature\",\"temperature\",\"temperature\",\"temperature\",\"temperature\",\"temperature\",\"temperature\",\"temperature\",\"temperature\",\"temperature\",\"temperature\",\"temperature\",\"temperature\",\"temperature\",\"temperature\",\"temperature\",\"temperature\",\"temperature\",\"temperature\",\"temperature\",\"temperature\",\"temperature\",\"temperature\",\"temperature\",\"temperature\",\"temperature\",\"temperature\",\"temperature\",\"temperature\",\"temperature\",\"temperature\",\"temperature\",\"temperature\",\"temperature\",\"temperature\",\"temperature\",\"temperature\",\"temperature\",\"temperature\",\"temperature\",\"temperature\",\"temperature\",\"temperature\",\"temperature\",\"temperature\",\"temperature\",\"temperature\",\"temperature\",\"temperature\",\"temperature\",\"temperature\",\"temperature\",\"temperature\",\"temperature\",\"temperature\",\"temperature\",\"temperature\",\"temperature\",\"temperature\",\"temperature\",\"temperature\",\"temperature\",\"temperature\",\"temperature\",\"temperature\",\"temperature\",\"temperature\",\"temperature\",\"temperature\",\"temperature\",\"temperature\",\"temperature\",\"temperature\",\"temperature\",\"temperature\",\"temperature\",\"temperature\",\"temperature\",\"temperature\",\"temperature\",\"temperature\",\"temperature\",\"temperature\",\"temperature\",\"temperature\",\"temperature\",\"temperature\",\"temperature\",\"temperature\",\"temperature\",\"temperature\",\"temperature\",\"temperature\",\"temperature\",\"temperature\",\"temperature\",\"temperature\",\"temperature\",\"temperature\",\"temperature\",\"temperature\",\"temperature\",\"temperature\",\"temperature\",\"temperature\",\"temperature\",\"temperature\",\"temperature\",\"temperature\",\"temperature\",\"temperature\",\"temperature\",\"temperature\",\"temperature\",\"temperature\",\"temperature\",\"temperature\",\"temperature\",\"temperature\",\"temperature\",\"temperature\",\"temperature\",\"temperature\",\"temperature\",\"temperature\",\"temperature\",\"temperature\",\"temperature\",\"temperature\",\"temperature\",\"temperature\",\"temperature\",\"temperature\",\"temperature\",\"temperature\",\"temperature\",\"temperature\",\"temperature\",\"temperature\",\"temperature\",\"temperature\",\"temperature\",\"temperature\",\"temperature\",\"temperature\",\"temperature\",\"temperature\",\"temperature\",\"temperature\",\"temperature\",\"temperature\",\"temperature\",\"temperature\",\"temperature\",\"temperature\",\"temperature\",\"temperature\",\"temperature\",\"temperature\",\"temperature\",\"temperature\",\"temperature\",\"temperature\",\"temperature\",\"temperature\",\"temperature\",\"temperature\",\"temperature\",\"temperature\",\"temperature\",\"temperature\",\"temperature\",\"temperature\",\"temperature\",\"temperature\",\"temperature\",\"temperature\",\"temperature\",\"temperature\",\"temperature\",\"temperature\",\"temperature\",\"temperature\",\"temperature\",\"temperature\",\"temperature\",\"temperature\",\"temperature\",\"temperature\",\"temperature\",\"temperature\",\"temperature\",\"temperature\",\"temperature\",\"temperature\",\"temperature\",\"temperature\",\"temperature\",\"temperature\",\"temperature\",\"temperature\",\"temperature\",\"temperature\",\"temperature\",\"temperature\",\"temperature\",\"temperature\",\"temperature\",\"temperature\",\"temperature\",\"temperature\",\"temperature\",\"temperature\",\"temperature\",\"temperature\",\"temperature\",\"temperature\",\"temperature\",\"temperature\",\"temperature\",\"temperature\",\"temperature\",\"temperature\",\"temperature\",\"temperature\",\"temperature\",\"temperature\",\"temperature\",\"temperature\",\"temperature\",\"temperature\",\"temperature\",\"temperature\",\"temperature\",\"temperature\",\"temperature\",\"temperature\",\"temperature\",\"temperature\",\"temperature\",\"temperature\",\"temperature\",\"temperature\",\"temperature\",\"temperature\",\"temperature\",\"temperature\",\"temperature\",\"temperature\",\"temperature\",\"temperature\",\"temperature\",\"temperature\",\"temperature\",\"temperature\",\"temperature\",\"temperature\",\"temperature\",\"temperature\",\"temperature\",\"temperature\",\"temperature\",\"temperature\",\"temperature\",\"temperature\",\"temperature\",\"temperature\",\"temperature\",\"temperature\",\"temperature\",\"temperature\",\"temperature\",\"temperature\",\"temperature\",\"temperature\",\"temperature\",\"temperature\",\"temperature\",\"temperature\",\"temperature\",\"temperature\",\"temperature\",\"temperature\",\"temperature\",\"temperature\",\"temperature\",\"temperature\",\"temperature\",\"temperature\",\"temperature\",\"temperature\",\"temperature\",\"temperature\",\"temperature\",\"temperature\",\"temperature\",\"temperature\",\"temperature\",\"temperature\",\"temperature\",\"temperature\",\"temperature\",\"temperature\",\"temperature\",\"temperature\",\"temperature\",\"temperature\",\"temperature\",\"temperature\",\"temperature\",\"temperature\",\"temperature\",\"temperature\",\"temperature\",\"temperature\",\"temperature\",\"temperature\",\"temperature\",\"temperature\",\"temperature\",\"temperature\",\"temperature\",\"temperature\",\"temperature\",\"temperature\",\"temperature\",\"temperature\",\"temperature\",\"temperature\",\"temperature\",\"temperature\",\"temperature\",\"temperature\",\"temperature\",\"temperature\",\"temperature\",\"temperature\",\"temperature\",\"temperature\",\"temperature\",\"temperature\",\"temperature\",\"temperature\",\"temperature\",\"temperature\",\"temperature\",\"temperature\",\"temperature\",\"temperature\",\"temperature\",\"temperature\",\"temperature\",\"temperature\",\"temperature\",\"temperature\",\"temperature\",\"temperature\",\"temperature\",\"temperature\",\"temperature\",\"temperature\",\"temperature\",\"temperature\",\"temperature\",\"temperature\",\"temperature\",\"temperature\",\"temperature\",\"temperature\",\"temperature\",\"temperature\",\"temperature\",\"temperature\",\"temperature\",\"temperature\",\"temperature\",\"temperature\",\"temperature\",\"temperature\",\"temperature\",\"temperature\",\"temperature\",\"temperature\",\"temperature\",\"temperature\",\"temperature\",\"temperature\",\"temperature\",\"temperature\",\"temperature\",\"temperature\",\"temperature\",\"temperature\",\"temperature\",\"temperature\",\"temperature\",\"temperature\",\"temperature\",\"temperature\",\"temperature\",\"temperature\",\"temperature\",\"temperature\",\"temperature\",\"temperature\",\"temperature\",\"temperature\",\"temperature\",\"temperature\",\"temperature\",\"temperature\",\"temperature\",\"temperature\",\"temperature\",\"temperature\",\"temperature\",\"temperature\",\"temperature\",\"temperature\",\"temperature\",\"temperature\",\"temperature\",\"temperature\",\"temperature\",\"temperature\",\"temperature\",\"temperature\",\"temperature\",\"temperature\",\"temperature\",\"temperature\",\"temperature\",\"temperature\",\"temperature\",\"temperature\",\"temperature\",\"temperature\",\"temperature\",\"temperature\",\"temperature\",\"temperature\",\"temperature\",\"temperature\",\"temperature\",\"temperature\",\"temperature\",\"temperature\",\"temperature\",\"temperature\",\"temperature\",\"temperature\",\"temperature\",\"temperature\",\"temperature\",\"temperature\",\"temperature\",\"temperature\",\"temperature\",\"temperature\",\"temperature\",\"temperature\",\"temperature\",\"temperature\",\"temperature\",\"temperature\",\"temperature\",\"temperature\",\"temperature\",\"temperature\",\"temperature\",\"temperature\",\"temperature\",\"temperature\",\"temperature\",\"temperature\",\"temperature\",\"temperature\",\"temperature\",\"temperature\",\"temperature\",\"temperature\",\"temperature\",\"temperature\",\"temperature\",\"temperature\",\"temperature\",\"temperature\",\"temperature\",\"temperature\",\"temperature\",\"temperature\",\"temperature\",\"temperature\",\"temperature\",\"temperature\",\"temperature\",\"temperature\",\"temperature\",\"temperature\",\"temperature\",\"temperature\",\"temperature\",\"temperature\",\"temperature\",\"temperature\",\"temperature\",\"temperature\",\"temperature\",\"temperature\",\"temperature\",\"temperature\",\"temperature\",\"temperature\",\"temperature\",\"temperature\",\"temperature\",\"temperature\",\"temperature\",\"temperature\",\"temperature\",\"temperature\",\"temperature\",\"temperature\",\"temperature\",\"temperature\",\"temperature\",\"temperature\",\"temperature\"],\"x0\":\" \",\"xaxis\":\"x\",\"y\":[0.03650835714285714,0.35757085714285713,0.08767799999999999,0.1158412857142857,0.5046022499999999,0.37903589285714284,0.2549827142857143,0.2415665714285714,0.09891642857142856,0.08762874999999999,0.20142364285714284,0.2619245,0.07660657142857143,0.19090821428571428,0.21032492857142857,0.15238017857142855,0.03688125,0.1317160357142857,0.0986990357142857,0.3870360714285714,0.22772749999999997,0.08519010714285713,0.35603435714285714,0.21250121428571428,0.10755467857142856,0.03930725,0.06613925,1.11184775,0.07809957142857142,0.01937532142857143,0.6529925,0.1743307857142857,0.036957785714285714,0.3636636428571428,0.09140703571428571,0.12057746428571428,0.4923211428571428,0.39370717857142856,0.25601596428571427,0.23981621428571426,0.09647492857142856,0.09469357142857142,0.2026522857142857,0.26892171428571426,0.07598921428571428,0.18920146428571427,0.21619192857142855,0.15330067857142857,0.034786535714285714,0.13424871428571428,0.10033485714285713,0.37313889285714286,0.22854414285714283,0.08622953571428571,0.3509218214285714,0.21402560714285712,0.10749121428571427,0.03937071428571429,0.06896792857142857,1.1251284642857142,0.07707814285714285,0.02032167857142857,0.6596835714285714,0.18870760714285714,0.03859114285714285,0.36889417857142853,0.09145182142857142,0.12827414285714284,0.5094735,0.39627817857142855,0.2527565,0.2578099642857143,0.08982825,0.09621353571428572,0.20170671428571427,0.2712816071428571,0.07812517857142856,0.1911990714285714,0.21783407142857142,0.15123699999999998,0.03691696428571428,0.13757771428571428,0.10198582142857142,0.37923053571428567,0.23212692857142855,0.08823346428571428,0.3657736428571428,0.21950221428571426,0.11087921428571428,0.04154678571428571,0.06769071428571428,1.1525200357142857,0.07560075,0.02105660714285714,0.6410740714285714,0.19513939285714285,0.037816499999999996,0.36463485714285715,0.09415596428571428,0.132703,0.5194918928571428,0.40974946428571424,0.2612959285714285,0.2587775357142857,0.09032021428571428,0.09893957142857142,0.19668871428571427,0.2709040714285714,0.08239964285714285,0.1934487857142857,0.2209575357142857,0.1554385357142857,0.03608782142857143,0.13415114285714286,0.10132328571428571,0.3922285357142857,0.23148721428571425,0.09126960714285713,0.3631171071428571,0.21101289285714284,0.11078714285714285,0.04267217857142857,0.06927425,1.1643299285714284,0.07779157142857142,0.019458357142857142,0.6708845714285714,0.19304842857142857,0.04063432142857143,0.37789378571428567,0.09396524999999999,0.12912321428571427,0.5253192142857143,0.4040020714285714,0.26613535714285713,0.26308675,0.10048257142857142,0.09631274999999999,0.1915833214285714,0.28122589285714283,0.07989685714285714,0.20069067857142855,0.21549710714285714,0.15658271428571427,0.03365585714285714,0.13114064285714283,0.10060735714285714,0.3904898571428571,0.2342637857142857,0.0904752857142857,0.37448935714285714,0.20716060714285714,0.10994639285714285,0.041488535714285714,0.07255724999999999,1.1807666428571428,0.07828610714285714,0.021541714285714286,0.6716684285714285,0.20202967857142856,0.04239942857142857,0.3931685,0.09416646428571428,0.13181314285714285,0.5251843928571428,0.4322743214285714,0.26764875,0.25786517857142854,0.12466599999999999,0.32259267857142854,0.19805992857142857,0.2832489642857143,0.07984124999999999,0.19748714285714286,0.22537335714285714,0.16544124999999998,0.04167889285714285,0.13375489285714284,0.10119364285714284,0.38885221428571426,0.23798660714285713,0.09108653571428571,0.3855013571428571,0.22049860714285713,0.11244732142857142,0.04222525,0.07612503571428571,1.2105196785714285,0.08439396428571427,0.022082964285714282,0.6964491785714285,0.19683710714285713,0.04747067857142857,0.39804889285714284,0.09777296428571428,0.14098671428571427,0.5452238214285714,0.44786424999999996,0.26934746428571427,0.2728838214285714,0.11642403571428571,0.3638986785714286,0.2007195,0.2841422142857143,0.07985732142857142,0.20810160714285714,0.2306548214285714,0.17881646428571427,0.042361892857142855,0.15172825,0.10319892857142857,0.3963498214285714,0.24270064285714285,0.09608399999999999,0.3944220357142857,0.2509308928571428,0.11405507142857142,0.04091096428571429,0.07778882142857142,1.245709857142857,0.08705639285714285,0.02171575,0.7234032499999999,0.1981113214285714,0.04804625,0.4399705357142857,0.09975999999999999,0.13348592857142857,0.5346596428571428,0.4445504285714285,0.2786250714285714,0.2662950357142857,0.11721857142857142,0.13972282142857143,0.18693374999999998,0.28384221428571427,0.08120796428571428,0.1980740357142857,0.22589917857142855,0.17632075,0.041680749999999996,0.1519005714285714,0.1033730357142857,0.3994258571428571,0.23732110714285712,0.09306546428571427,0.4067950357142857,0.23781275,0.11601757142857141,0.04074096428571428,0.07919946428571428,1.204554357142857,0.08824503571428571,0.02218992857142857,0.7118935357142857,0.18111046428571426,0.04672075,0.4457652857142857,0.10005292857142856,0.13836382142857143,0.5730889642857142,0.4474761428571428,0.2776633214285714,0.2711456071428571,0.11742564285714285,0.16066364285714285,0.18975514285714284,0.28709964285714284,0.08116189285714286,0.20342535714285712,0.22969296428571426,0.17588635714285714,0.04150689285714285,0.14265235714285712,0.10315314285714285,0.39691021428571427,0.2401270357142857,0.0926035357142857,0.40050925,0.25355760714285713,0.11728917857142857,0.04224571428571428,0.07813535714285715,1.2468443571428571,0.09083617857142857,0.02237192857142857,0.7344189999999999,0.1798368214285714,0.04628846428571428,0.4621308571428571,0.09929496428571429,0.14047310714285713,0.5509287142857142,0.4435741071428571,0.2771901785714285,0.29023828571428567,0.12585492857142858,0.15625092857142855,0.1929632857142857,0.28084996428571424,0.08197942857142856,0.21333575,0.23466739285714283,0.17889314285714283,0.044842464285714284,0.14222503571428569,0.10293796428571428,0.4238254285714285,0.23872949999999998,0.09842135714285713,0.42357492857142853,0.2669170357142857,0.11808146428571428,0.04142957142857143,0.07703692857142856,1.2932095357142857,0.08964442857142857,0.026974714285714282,0.7373875,0.18981867857142856,0.0492145,0.4595045,0.1035052857142857,0.1513955357142857,0.5545651071428571,0.4493933571428571,0.2837690714285714,0.3004655714285714,0.13062589285714285,0.15462460714285714,0.2013280714285714,0.29098667857142857,0.08321967857142856,0.21356596428571428,0.2455887857142857,0.1812512857142857,0.04441546428571428,0.14674510714285713,0.10799539285714285,0.4322907857142857,0.24680739285714284,0.10257710714285713,0.42349299999999995,0.2616478214285714,0.11747817857142856,0.04379310714285714,0.06931221428571428,1.2717213928571427,0.09453196428571428,0.022687642857142854,0.7714613928571428,0.19097914285714285,0.05029492857142857,0.4638193571428571,0.10869853571428571,0.14556025,0.5544779642857143,0.4477405357142857,0.29203421428571424,0.2942457142857143,0.12579728571428572,0.1635605,0.20290264285714285,0.2964565357142857,0.08861442857142857,0.2178228214285714,0.24607742857142856,0.18509871428571428,0.04556642857142857,0.15939546428571427,0.10749121428571429,0.4197766071428571,0.25609667857142854,0.0977712857142857,0.42451546428571424,0.27075557142857143,0.11795146428571428,0.044164499999999995,0.07055499999999999,1.2176362142857142,0.09235725,0.024526714285714284,0.7738479642857142,0.20446024999999998,0.04993803571428571,0.4672610357142857,0.10652867857142856,0.14910492857142857,0.5767501428571428,0.4482383214285714,0.2942041071428571,0.2753516071428571,0.13018074999999998,0.16815967857142855,0.19622857142857142,0.29695774999999996,0.08832539285714286,0.21550224999999998,0.25827760714285714,0.19227946428571427,0.046771214285714284,0.1953923214285714,0.10935610714285714,0.4244448214285714,0.26771517857142857,0.10143107142857143,0.4346318571428571,0.2861747142857143,0.12300382142857141,0.0458625,0.075635,1.2503860714285713,0.09058875,0.024509607142857142,0.7682824285714285,0.2001837857142857,0.0509755,0.4655207857142857,0.10866246428571427,0.14769185714285712,0.5844920714285714,0.4584152857142857,0.29022725,0.2927258571428571,0.12043803571428571,0.19259546428571428,0.20094192857142856,0.3022558928571428,0.08720135714285714,0.217442,0.271385,0.20808775,0.04607328571428571,0.177762,0.1100687857142857,0.4311298571428571,0.27007532142857144,0.10727107142857142,0.4522440357142857,0.2969330357142857,0.12135646428571427,0.04467010714285714,0.08290767857142857,1.2662510714285713,0.09688542857142857,0.027954071428571425,0.8064164285714285,0.2036620714285714,0.05194346428571428,0.4634698571428571,0.12730564285714285,0.14884885714285714,0.6076136785714286,0.48521996428571423,0.2912406071428571,0.28459107142857143,0.11453692857142855,0.19328657142857142,0.20040249999999998,0.30144392857142854,0.0908777857142857,0.2243713214285714,0.2756895714285714,0.20432689285714284,0.04454778571428571,0.19471646428571426,0.10944703571428571,0.4220142142857143,0.261249,0.10191575,0.4398392857142857,0.30171046428571424,0.12276510714285713,0.05072107142857142,0.0824345357142857,1.2712332499999999,0.09427635714285713,0.0302875,0.8317278571428571,0.1973017857142857,0.05463482142857143,0.46314232142857137,0.13059117857142857,0.14812024999999998,0.6113637857142857,0.47964175,0.2886471428571428,0.2702687857142857,0.10958289285714284,0.21486899999999998,0.2050315357142857,0.29771964285714286,0.08775042857142856,0.2330830714285714,0.27060064285714286,0.21156824999999999,0.04649432142857142,0.20619875,0.10565028571428571,0.4133084285714285,0.26713992857142854,0.09362342857142857,0.46019471428571423,0.3162823214285714,0.12254271428571428,0.05240782142857142,0.08645103571428571,1.3370090357142856,0.08938967857142857,0.029388499999999998,0.8415234999999999,0.20089932142857142,0.06010203571428571,0.4829128214285714,0.12910807142857142,0.16218010714285713,0.6363764999999999,0.5102853928571428,0.29000467857142853,0.3014857857142857,0.10950532142857142,0.2414105714285714,0.2004838214285714,0.3001032857142857,0.09346478571428571,0.24157239285714283,0.28928371428571426,0.22587921428571428,0.04748692857142857,0.209081,0.1114635357142857,0.43909875,0.2761825357142857,0.09725025,0.4757853214285714,0.33154671428571425,0.12288664285714285,0.05830196428571428,0.09341882142857143,1.396321107142857,0.10930075,0.03471367857142857,0.8347189642857142,0.2090450714285714,0.05634517857142857,0.48711357142857137,0.13758074999999997,0.15751610714285713,0.6522045357142857,0.4961366785714285,0.2894452857142857,0.2994492857142857,0.10907014285714285,0.25056871428571426,0.1998132857142857,0.31273425,0.09309507142857142,0.23124842857142855,0.3031525,0.23023164285714284,0.04785660714285714,0.21217524999999995,0.11061267857142856,0.4411116785714285,0.28145571428571425,0.09845460714285713,0.4895563214285714,0.3312107857142857,0.12403396428571427,0.058406571428571426,0.09513057142857143,1.4117350714285712,0.11593996428571428,0.032689642857142855,0.8178050714285714,0.21234346428571427,0.05870971428571428,0.4867282142857142,0.137678,0.1640615357142857,0.6330953928571428,0.49897753571428566,0.2954320714285714,0.3171125714285714,0.12056199999999999,0.19332417857142856,0.1943525714285714,0.31605917857142857,0.09817082142857142,0.24336407142857142,0.29501042857142856,0.23752714285714285,0.050903142857142855,0.21653642857142855,0.11119060714285714,0.4488308214285714,0.2874031071428571,0.10129296428571427,0.47679517857142856,0.33114699999999997,0.13184196428571426,0.06011439285714285,0.0944832857142857,1.39999275,0.12996621428571428,0.03874803571428571,0.865070107142857,0.21338614285714283,0.06160146428571428,0.4940843571428571,0.13592935714285714,0.16502560714285713,0.6443398214285714,0.5008017142857143,0.29150439285714286,0.3210628571428571,0.11490817857142857,0.2603523214285714,0.19061592857142856,0.3302975357142857,0.09882060714285713,0.25802689285714286,0.29981860714285713,0.24001774999999997,0.05342378571428571,0.21790617857142855,0.11006149999999999,0.4520035357142857,0.2982721071428571,0.09943335714285714,0.49288924999999995,0.3207818214285714,0.1276657857142857,0.059586464285714284,0.09831689285714285,1.3519694999999998,0.1282422857142857,0.03241067857142857,0.8777174642857142,0.21425085714285713,0.06486889285714285,0.5061190357142856,0.1394865357142857,0.16735571428571427,0.6401367499999999,0.5097006071428571,0.2977760357142857,0.32916475,0.11591564285714284,0.23996164285714283,0.19328039285714285,0.34983546428571427,0.09944449999999999,0.25790175,0.3179977857142857,0.24909225,0.0532845,0.22073239285714286,0.11671696428571428,0.46425453571428565,0.299245,0.105055,0.5061168928571428,0.3223732857142857,0.13735060714285713,0.05866403571428571,0.09887874999999999,1.3362823214285713,0.12578921428571427,0.03804175,0.8897457499999999,0.21822660714285713,0.06711782142857142,0.5345103214285714,0.14018485714285714,0.17063275,0.6186233214285713,0.5306080714285714,0.28628224999999996,0.3269438571428571,0.12059439285714285,0.24673339285714285,0.1993000357142857,0.37229064285714286,0.10198449999999999,0.31596567857142854,0.31660414285714283,0.26370725,0.053714678571428566,0.23054746428571427,0.1245135,0.47538725,0.3043762857142857,0.10764321428571427,0.5128845,0.31280389285714283,0.13451082142857143,0.07061982142857143,0.10569528571428571,1.3628690357142856,0.13575817857142855,0.03872621428571429,0.9335905357142856,0.21674289285714285,0.06472003571428571,0.5242699285714285,0.13954160714285713,0.16731542857142856,0.6156393571428571,0.5136801785714286,0.29020767857142854,0.32217221428571424,0.11835792857142856,0.22875110714285712,0.18608692857142856,0.37499374999999996,0.10323807142857142,0.2975143928571428,0.3227618214285714,0.26336692857142857,0.057785249999999996,0.23963285714285712,0.13541989285714284,0.4650375714285714,0.3075352857142857,0.09942667857142856,0.49036364285714285,0.3366680357142857,0.13831685714285713,0.07212989285714286,0.11060724999999999,1.3495133928571428,0.14119785714285712,0.039557357142857144,0.9253280714285713,0.21374564285714284,0.0668540357142857,0.5403308928571429,0.1500557857142857,0.16775446428571428,0.6462618214285714,0.5482116071428571,0.2952491428571428,0.3385801785714285,0.11317985714285714,0.2331417857142857,0.19609967857142857,0.3679345357142857,0.10644707142857142,0.29755992857142854,0.3275455714285714,0.2786296071428571,0.05515414285714285,0.24304064285714283,0.13081471428571428,0.49213439285714283,0.30778746428571424,0.11023792857142856,0.5369638214285714,0.34606,0.13973175,0.07316510714285714,0.10614817857142857,1.3288458928571427,0.14320417857142856,0.03636875,0.9447421071428571,0.22578389285714284,0.06956303571428571,0.5575919642857142,0.15140867857142856,0.1693822142857143,0.6392652499999999,0.5530427857142857,0.3009063928571428,0.339704,0.12306896428571427,0.23619742857142856,0.1949247857142857,0.41001,0.11090732142857142,0.30655389285714285,0.3539235,0.29405424999999996,0.06075371428571428,0.2518867857142857,0.1339098214285714,0.5076218571428571,0.33697371428571427,0.11129349999999999,0.5479798214285714,0.36476246428571424,0.15585067857142856,0.06610210714285714,0.10986785714285713,1.3502051071428571,0.1443232142857143,0.044574142857142854,1.0061374285714284,0.22812614285714283,0.07043999999999999,0.5500553571428571,0.15630064285714285,0.1709409642857143,0.6368539999999999,0.5499109999999999,0.29609571428571424,0.34082342857142855,0.12957985714285714,0.23899471428571428,0.19033699999999998,0.40759928571428566,0.11463439285714284,0.3119607857142857,0.35280199999999995,0.29827125,0.05819535714285714,0.25691510714285715,0.1373090714285714,0.4978908214285714,0.33763525,0.11301196428571428,0.5525383928571428,0.3658231071428571,0.15740632142857142,0.06719303571428571,0.10970121428571428,1.391744357142857,0.15065125,0.04776003571428571,1.0300296428571427,0.24669075,0.07132821428571429,0.5446134642857142,0.15631167857142855,0.16613671428571428,0.6369913214285714,0.5629430357142857,0.29704346428571426,0.3503279285714285,0.12232364285714285,0.24510371428571429,0.19398171428571429,0.4184341428571428,0.11860028571428571,0.33148503571428567,0.36293867857142853,0.30603621428571426,0.05709285714285714,0.26225942857142853,0.14115967857142855,0.5050641785714285,0.33847142857142853,0.1106407857142857,0.5703786428571428,0.3769555357142857,0.15391575,0.06485310714285714,0.11520264285714285,1.369952857142857,0.15005932142857142,0.04714232142857143,1.0156635714285713,0.25078767857142853,0.07355267857142857,0.5511401071428571,0.1497575714285714,0.16618935714285712,0.6676418928571428,0.5730923928571429,0.3049150714285714,0.35495442857142856,0.12828067857142855,0.2540401428571428,0.19707021428571428,0.4195804285714285,0.12113585714285714,0.32477871428571425,0.36535399999999996,0.31658167857142855,0.054121678571428564,0.2793048214285714,0.14017392857142857,0.50988325,0.34083224999999995,0.11400417857142857,0.5796152857142857,0.38331192857142854,0.16113317857142856,0.07119585714285714,0.10889264285714285,1.4160947857142856,0.1408110714285714,0.05233425,1.0711381071428572,0.2554005357142857,0.07496835714285714,0.5489289285714285,0.1576747857142857,0.17073564285714285,0.68039325,0.5893196785714285,0.30619839285714284,0.37448278571428567,0.12569149999999998,0.25946878571428567,0.1985615357142857,0.4377171071428571,0.12303496428571428,0.3345245714285714,0.36776389285714284,0.3251217142857143,0.05927971428571428,0.262036,0.14244239285714286,0.5192953928571428,0.34114146428571424,0.11428935714285714,0.588231607142857,0.37476317857142855,0.1662825,0.07477642857142856,0.1148732857142857,1.458643857142857,0.16519614285714285,0.04576378571428571,1.1077084642857142,0.2579389285714285,0.08265442857142856,0.5699790357142857,0.1651685,0.17229317857142856,0.7004391785714286,0.6218932142857142,0.31044389285714286,0.3667285357142857,0.12036492857142857,0.24189264285714285,0.1912418214285714,0.43696017857142855,0.1240587857142857,0.3562395357142857,0.3863844285714285,0.34654599999999997,0.06260782142857142,0.30746964285714284,0.1422840714285714,0.5411821785714286,0.3547428214285714,0.11870774999999999,0.6129430714285714,0.3862692857142857,0.16602535714285713,0.07495689285714285,0.11601232142857143,1.4946,0.16070239285714286,0.055495678571428564,1.1379606785714285,0.2505110357142857,0.08412992857142856,0.5775248214285714,0.16440110714285713,0.16361767857142856,0.7366604999999999,0.6611540714285714,0.3145265357142857,0.3765281071428571,0.11006332142857142,0.2573920714285714,0.1905923214285714,0.4388136428571428,0.1298127857142857,0.35829217857142853,0.4144473928571428,0.37175149999999996,0.06876778571428571,0.6331954999999999,0.14589171428571426,0.5649969285714286,0.3606100357142857,0.1276837142857143,0.7482181428571428,0.3952280714285714,0.15320721428571427,0.07407971428571428,0.12255603571428571,1.492214107142857,0.16129510714285714,0.05554749999999999,1.188131107142857,0.27121796428571426,0.08315885714285713,0.5842238214285714,0.1839680357142857,0.18547799999999998,0.8203913928571428,0.6969985714285714,0.32074149999999996,0.39713875,0.1129557857142857,0.24276192857142853,0.17878585714285714,0.46866017857142855,0.14091628571428572,0.3764000714285714,0.44114935714285713,0.40356217857142856,0.07829171428571428,1.3211605357142857,0.15646121428571427,0.6307934285714285,0.3721361071428571,0.14724821428571427,0.8204682857142857,0.4132765714285714,0.17118599999999998,0.08449192857142857,0.14435114285714284,1.4896556428571428,0.19627735714285713,0.05792189285714285,1.26951525,0.28375225,0.08219857142857143,0.5996903214285714,0.19699821428571426,0.1818227857142857,0.8479217142857142,0.7175282857142856,0.3321125,0.3844851071428571,0.1043725357142857,0.24724249999999998,0.17716971428571426,0.46858324999999995,0.14606457142857143,0.39107675,0.4493662857142857,0.42243878571428567,0.08616239285714285,1.1991224285714286,0.163124,0.6389154642857142,0.36770621428571426,0.16062549999999998,0.8599472499999999,0.40653924999999996,0.17552346428571428,0.08256374999999999,0.14903442857142857,1.4872063928571428,0.19487414285714286,0.06144349999999999,1.2338239642857143,0.2760895357142857,0.08680832142857142,0.6376862499999999,0.19188217857142856,0.19099575,0.8307359285714285,0.7232560714285714,0.3186228571428571,0.41199217857142856,0.11547746428571429,0.24827967857142857,0.1894220714285714,0.47708492857142853,0.1475700357142857,0.37591225,0.46127575,0.42250117857142855,0.0846855357142857,1.352547464285714,0.1611088214285714,0.6607236785714286,0.38294392857142856,0.167285,0.8600625,0.4338700357142857,0.18191167857142856,0.09260721428571428,0.1501067142857143,1.4900400714285713,0.1929833571428571,0.05653153571428571,1.308886464285714,0.2970472142857143,0.08672049999999999,0.6552813928571428,0.19953603571428571,0.1958225714285714,0.8387706428571428,0.7395199285714286,0.3146912142857143,0.4159036785714285,0.11909507142857143,0.2481955714285714,0.19179546428571428,0.47652949999999994,0.14656864285714286,0.37486974999999995,0.48403396428571427,0.4251955357142857,0.09404828571428571,1.1142781428571429,0.1639627857142857,0.6592213571428571,0.3820178928571428,0.16776975,0.8851059642857142,0.44732946428571424,0.18471121428571427,0.08998064285714286,0.1561867142857143,1.5115509999999999,0.19519735714285713,0.057548999999999996,1.3867058928571427,0.31238121428571425,0.09009496428571429,0.6541166785714285,0.20136914285714283,0.19786160714285714,0.88174,0.7574564642857142,0.32502224999999996,0.41751214285714283,0.12158603571428571,0.27152496428571427,0.20288871428571428,0.46606664285714283,0.15083578571428571,0.3865318214285714,0.4840279285714285,0.45491285714285706,0.10095314285714285,1.1153985,0.1655397857142857,0.6851025,0.37855778571428567,0.17345514285714284,0.8896689642857142,0.43734324999999996,0.1858422857142857,0.09297821428571428,0.16014646428571427,1.5526465357142856,0.19939546428571428,0.05556028571428571,1.4297715357142855,0.3180608571428571,0.08865810714285713,0.6622504642857142,0.19915632142857143,0.20079246428571426,0.8799643214285714,0.7707318928571428,0.32073196428571427,0.42454746428571427,0.12177571428571428,0.24811321428571426,0.20715792857142856,0.48326332142857137,0.14523571428571427,0.38162910714285714,0.49505524999999995,0.4594831428571428,0.09550582142857142,1.3520990357142855,0.1653282142857143,0.6926832857142856,0.3866726428571428,0.17660817857142855,0.9097959999999999,0.4679075,0.18939275,0.08956832142857142,0.16132085714285713,1.5708409285714284,0.23903242857142856,0.061136928571428564,1.4573963928571427,0.3188717857142857,0.09545607142857142,0.6738362499999999,0.20705367857142856,0.20607874999999998,0.8570729285714285,0.7666069642857142,0.32180317857142854,0.4073478214285714,0.12151996428571427,0.2477580357142857,0.20750289285714285,0.48770149999999995,0.14863896428571427,0.3926124642857143,0.5007329642857142,0.4519742857142857,0.09733607142857142,1.2723927857142856,0.16709046428571428,0.6980887499999999,0.38847742857142853,0.1793108214285714,0.8903856785714285,0.4740330357142857,0.19452624999999998,0.08941792857142856,0.1587802142857143,1.5745045,0.22131349999999997,0.05881060714285714,1.4689289642857142,0.32369664285714284,0.09583225,0.689022107142857,0.2125332857142857,0.20446514285714285,0.8959487142857142,0.7813224285714285,0.3430282142857143,0.4238750357142857,0.12781321428571427,0.17295257142857143,0.20696232142857143,0.504678,0.15224746428571428,0.4020435357142857,0.5161907857142857,0.48534167857142857,0.10924532142857142,1.2204033928571427,0.169735,0.71397525,0.3855670357142857,0.17101589285714286,0.9252267857142856,0.4766227857142857,0.19273546428571428,0.095134,0.16453924999999997,1.5770996071428571,0.23905114285714282,0.06106596428571428,1.5641838928571428,0.3389703928571428,0.09817671428571428,0.6923553928571428,0.21465492857142857,0.21603964285714286,0.9300389285714284,0.7914793214285714,0.32972214285714285,0.4230058214285714,0.12830942857142857,0.18424735714285712,0.21445892857142856,0.5104634285714286,0.15800392857142856,0.4167274285714285,0.5251634285714285,0.4793801785714285,0.10798521428571428,1.162067714285714,0.16866414285714285,0.7506483928571428,0.4003056428571428,0.1748522857142857,0.9446072499999999,0.5089621071428571,0.19485992857142856,0.09774114285714285,0.16687889285714286,1.5699547857142857,0.20611439285714284,0.061013,1.5755564999999998,0.3720013214285714,0.10215989285714284,0.7136739642857143,0.21323575,0.22237485714285712,0.9433211428571427,0.8152258214285714,0.3454042857142857,0.43466825,0.12642546428571427,0.18602171428571426,0.21647610714285714,0.5269166428571428,0.15819999999999998,0.43675003571428567,0.5387345,0.4280285714285714,0.11338185714285713,1.2683476785714285,0.17199896428571426,0.7540623571428571,0.40008042857142856,0.17326610714285715,0.9764259285714285,0.5256495357142856,0.193987,0.10485835714285713,0.1763020357142857,1.5513354642857142,0.2756230357142857,0.0628555,1.619446714285714,0.3898936071428571,0.10376946428571428,0.7306343214285713,0.22048517857142855,0.23720824999999998,0.9642927142857142,0.8470878928571428,0.35099492857142855,0.42919089285714285,0.13045067857142856,0.1995335357142857,0.22206292857142856,0.5104024285714285,0.15685975,0.4557213928571428,0.527911857142857,0.4364762857142857,0.11774614285714285,1.0698994285714285,0.17053025,0.7658027142857142,0.4002441785714285,0.17785917857142855,1.0159275357142856,0.5339965,0.19683374999999997,0.10077342857142857,0.18645939285714283,1.5648075357142857,0.28948982142857144,0.058687642857142855,1.6764207142857142,0.37878,0.10073464285714286,0.754779,0.21648967857142856,0.2312530714285714,0.9625348214285714,0.8589169642857142,0.3642445714285714,0.45702942857142853,0.1357685357142857,0.30934192857142856,0.21290814285714285,0.5125194999999999,0.16703271428571428,0.4471278214285714,0.5230486428571428,0.5120220714285714,0.1156507857142857,1.1143965357142855,0.1721250357142857,0.7692956428571428,0.4051690357142857,0.16639099999999998,1.0207709285714286,0.53923225,0.21092585714285714,0.09842835714285714,0.17220907142857142,1.5668153214285714,0.2951849642857143,0.06462314285714285,1.786015107142857,0.3895334642857143,0.10464810714285713,0.7620551428571428,0.23659939285714285,0.23634214285714283,0.9944192142857142,0.8836771428571428,0.3810793928571428,0.46111196428571427,0.13378649999999997,0.23496767857142856,0.21082067857142855,0.5257278928571428,0.1752210357142857,0.4646543214285714,0.5218197499999999,0.5330385714285714,0.11834946428571427,1.284184,0.17727010714285713,0.8026847142857142,0.41549621428571426,0.1818945,1.0833300714285714,0.5541464285714285,0.20882992857142857,0.1084,0.18154796428571426,1.6167537499999998,0.31570974999999996,0.06676549999999999,1.87534775,0.39548425,0.10485789285714285,0.7824239999999999,0.23682014285714284,0.23399782142857142,0.9993082857142856,0.8933199285714285,0.37101835714285714,0.4408657857142857,0.13184846428571428,0.18440660714285714,0.2155003214285714,0.551708,0.17439549999999998,0.4778871071428571,0.5216920714285714,0.5341451071428571,0.12124678571428571,1.2099655,0.17753746428571426,0.81457825,0.44138817857142854,0.1809347857142857,1.1105370714285714,0.5528371428571428,0.21375567857142855,0.10696635714285713,0.18316864285714285,1.6034631785714284,0.3209187857142857,0.06834192857142857,1.9059298214285711,0.3808411785714285,0.11103360714285714,0.7723881428571427,0.2314548214285714,0.23433525,1.023122607142857,0.8954148571428571,0.37992242857142855,0.4578158214285714,0.13726921428571429,0.20219817857142855,0.2188456071428571,0.5575427142857142,0.17684110714285714,0.4570600714285714,0.5298964285714285,0.5328462142857142,0.11407282142857142,1.14174925,0.18269292857142855,0.7934764642857143,0.44853664285714284,0.18025571428571427,1.0822740357142857,0.5663604999999999,0.2238422857142857,0.10557917857142857,0.17630325,1.583390857142857,0.2986846071428571,0.06791114285714285,1.987023214285714,0.39663471428571423,0.10729360714285713,0.7302402142857143,0.2312155,0.23475317857142855,1.0015911071428572,0.9543262857142857,0.3658268214285714,0.4534636428571428,0.11756692857142856,0.19507892857142856,0.22355007142857142,0.5525180714285713,0.18051217857142857,0.49296689285714285,0.5455774285714285,0.5237072857142857,0.10626496428571428,1.2544100357142856,0.1844167857142857,0.8010585714285714,0.41990671428571424,0.18054125,1.1459623928571427,0.5563666428571429,0.2141408214285714,0.10714103571428571,0.17237910714285712,1.5182706785714284,0.3057782142857142,0.06756935714285714,1.9757352857142856,0.40486017857142853,0.10520160714285713,0.7253286785714286,0.23706571428571427,0.24398335714285713,1.0078715714285713,0.9826723571428571,0.36828792857142856,0.466927,0.114768,0.20720599999999997,0.22328696428571426,0.5403335357142857,0.18928335714285713,0.4714553214285714,0.548897,0.5374950714285714,0.11213914285714285,1.2474543928571427,0.18367739285714285,0.8276849999999999,0.41689810714285713,0.19079492857142857,1.1291616785714285,0.5584489642857142,0.21929924999999997,0.11115821428571428,0.18608217857142856,1.4974703214285714,0.32732574999999997,0.06802092857142857,1.95634275,0.4227363571428571,0.11456039285714285,0.7453068214285714,0.24061585714285713,0.2457842857142857,1.0265603214285715,0.9783913571428571,0.38121814285714284,0.46694199999999997,0.1148957857142857,0.2093742857142857,0.22523185714285712,0.5645106428571428,0.18836542857142854,0.46849314285714283,0.5492143214285714,0.5466479285714285,0.10679996428571428,1.3630450357142856,0.18211589285714286,0.8316653214285714,0.4377826071428571,0.19021985714285713,1.1395576785714285,0.5752259999999999,0.22467435714285713,0.11069703571428571,0.18753892857142856,1.491910857142857,0.29333175,0.07117642857142857,2.0162342142857144,0.42033864285714284,0.11598232142857141,0.7620406428571428,0.23790646428571427,0.24256092857142855,1.0332644999999998,0.9601289285714285,0.3791427142857143,0.475456,0.11243821428571428,0.2006083214285714,0.22348274999999998,0.5711370357142856,0.19183664285714286,0.46472717857142853,0.5414797142857143,0.5488014642857143,0.11576292857142856,0.7605115,0.19248146428571428,0.8259424999999999,0.4583740357142857,0.19024967857142855,1.1868635357142856,0.5907956428571428,0.21383924999999998,0.11392164285714285,0.18760989285714283,1.503013107142857,0.23122157142857142,0.07368014285714285,2.026845142857143,0.41666925,0.12152364285714284,0.7788071785714286,0.25165446428571425,0.2515549642857143,1.0517427499999998,1.0082218214285714,0.39639564285714285,0.48734599999999995,0.11026889285714285,0.209918,0.2319993214285714,0.5800681071428571,0.1963538214285714,0.47586474999999995,0.5287176428571428,0.5631173928571428,0.12224071428571427,0.8551513571428571,0.19282760714285713,0.8450344642857143,0.46556274999999997,0.19600089285714284,1.2143424642857141,0.5998118214285714,0.23158964285714284,0.11705982142857141,0.19195974999999998,1.5106780714285712,0.23873914285714284,0.07345478571428571,2.016795607142857,0.43576278571428567,0.11809303571428571,0.79481525,0.2525903214285714,0.28486374999999997,1.0458574999999999,1.029119607142857,0.3853663571428571,0.4883878214285714,0.11985021428571427,0.20761760714285712,0.23038217857142856,0.5880755,0.2082657857142857,0.47932146428571426,0.5372591785714286,0.55855925,0.11981292857142857,0.8269328928571428,0.19027164285714285,0.8317096785714285,0.47423757142857137,0.184857,1.2001160357142857,0.6086919285714285,0.23205242857142855,0.11930089285714285,0.1980513214285714,1.4950056785714285,0.24760992857142855,0.07719257142857142,2.080227107142857,0.4251636428571428,0.13066278571428572,0.8266825,0.2582115,0.2888308214285714,1.029739607142857,1.0041723928571429,0.38760360714285713,0.4970420714285714,0.11816692857142856,0.20330171428571425,0.2382325357142857,0.5857010357142857,0.21826942857142856,0.4956016785714285,0.5201949285714286,0.5738222142857142,0.12626464285714284,0.7569567142857142,0.190989,0.8532683571428571,0.4826148928571428,0.19039096428571428,1.23960925,0.6182098571428571,0.2382150357142857,0.11710303571428571,0.19226335714285714,1.5192836428571428,0.2405495,0.0760945357142857,2.1314754285714286,0.44574549999999996,0.12410396428571428,0.8444594285714285,0.2611999642857143,0.2934785,1.0585989285714286,1.0381345,0.40980121428571425,0.5156299642857143,0.11919832142857142,0.20085235714285712,0.2394637857142857,0.6048819642857143,0.23098410714285714,0.5103148571428571,0.5393673214285714,0.5910317142857142,0.12803475,0.8308161428571428,0.1927137857142857,0.9041724642857142,0.49918749999999995,0.2007435,1.2685712142857142,0.6127179642857142,0.24240560714285714,0.11765278571428571,0.2052345,1.5518846428571427,0.24883196428571427,0.07814907142857141,2.2716935357142853,0.44923196428571427,0.12857192857142857,0.8377808928571427,0.2709852857142857,0.2969617142857143,1.088077607142857,1.0132857142857141,0.41525803571428566,0.50073125,0.11751057142857141,0.2029577857142857,0.23562796428571428,0.6114446071428571,0.22634542857142856,0.5130063571428571,0.5373704285714286,0.5677942142857142,0.135952,0.7128685357142857,0.19364039285714285,0.9115231428571429,0.5287523571428571,0.1965462857142857,1.2826702142857143,0.6074096785714286,0.2506055,0.12490549999999999,0.19159410714285713,1.5456323214285712,0.2699955357142857,0.07975389285714285,2.2657892142857143,0.4544697857142857,0.1336632857142857,0.8366261428571428,0.2659466071428571,0.2881256071428571,1.0866283928571427,1.0305920357142857,0.4188085714285714,0.49817382142857136,0.11993946428571428,0.19995417857142855,0.23018067857142854,0.619217107142857,0.23229689285714286,0.5109967142857142,0.5498095357142857,0.5866800357142857,0.14061510714285713,0.7508440357142857,0.19144317857142856,0.9166937857142856,0.5348661071428571,0.20544885714285713,1.2763221428571427,0.6099177499999999,0.25953364285714287,0.12503039285714285,0.19871699999999998,1.5350774642857141,0.24926760714285712,0.07997225,2.2117563928571427,0.4539003571428571,0.13129007142857144,0.8367069642857142,0.2750950357142857,0.2925034285714286,1.0745440714285714,1.0543979285714284,0.41276021428571424,0.5002697857142857,0.12360003571428571,0.20302160714285714,0.23546625,0.6154556428571428,0.23657489285714284,0.517168,0.5636214642857142,0.5724095,0.12748314285714285,0.9017563214285713,0.19354696428571427,0.8827207142857142,0.5354987142857143,0.20586657142857143,1.271914,0.6172443214285714,0.2622979642857143,0.13118339285714284,0.1987557857142857,1.5184738214285713,0.27669210714285714,0.07807435714285714,2.217674964285714,0.4585504642857142,0.13044114285714284,0.8464194642857142,0.2683225357142857,0.2866015357142857,1.0835123928571428,1.0574274285714285,0.42798342857142857,0.4700625357142857,0.12073914285714285,0.20092939285714284,0.23840617857142857,0.6002827857142856,0.22630699999999998,0.550003857142857,0.5529168571428571,0.5733678571428571,0.13159735714285714,1.8580615714285713,0.1914282857142857,0.8731747142857142,0.5398079285714286,0.19226435714285714,1.0761241071428571,0.6720817499999999,0.26320525,0.12510821428571428,0.1967553214285714,1.5511005,0.287408,0.07708921428571427,2.255060857142857,0.46122042857142853,0.12505167857142857,0.8409670357142857,0.28509924999999997,0.2856120714285714,1.0725560357142856,1.1026611785714284,0.42935692857142854,0.4874356428571428,0.12001657142857142,0.19781860714285715,0.2396545357142857,0.6009442142857142,0.23263592857142854,0.5691697499999999,0.5542674999999999,0.5733579285714285,0.13212989285714286,1.8590426428571427,0.19377335714285712,0.8990582857142857,0.5657227857142857,0.4760298571428571,1.0817764285714284,0.6427679285714285,0.26414771428571426,0.12950939285714286,0.19600885714285712,1.5302247142857142,0.2915832857142857,0.080593,2.302645607142857,0.46731249999999996,0.12390157142857142,0.8463969285714286,0.2856915,0.2916245714285714,1.0704850714285714,1.0834706785714285,0.43827489285714283,0.5066708571428571,0.12233417857142856,0.1897523214285714,0.24430564285714285,0.6040248571428571,0.2354190714285714,0.5827829285714285,0.5763440714285714,0.5624396785714285,0.13203385714285715,1.9185706428571427,0.19180989285714284,0.9095002142857143,0.5778291428571428,0.4179305,1.0878142142857141,0.7411429285714285,0.26894975,0.1338565357142857,0.2025592857142857,1.5245500357142856,0.2967378571428571,0.07976210714285714,2.2909170714285714,0.4656998928571428,0.09186373129215074,0.6461176514208995,0.20027756047312736,0.2073479307817109,0.8715760016115423,0.789303897732843,0.3437333899085934,0.4050132283824315,0.125816838117505,0.21080972858392064,0.21683587811638377,0.49106861601664986,0.15404164056166167,0.39746710742896263,0.47602503241061034,0.4145026864386895,0.10147664942715291,0.9896111346805663,0.16907973769451923,0.6831524202293716,0.39847685311853664,0.15444419687674335,0.8976789639014442,0.4846577724685202,0.19072926846823812,0.0936630351037811,0.16448052407055563,1.5094584178382005,0.2058478872936487,0.06080287373016481,1.3541337496338421,0.3189767435047284,0.0,0.0,0.0,0.0,0.0,0.0,0.0,0.0,0.0,0.0,0.0,0.0,0.0,0.0,0.0,0.0,0.0,0.0,0.0,0.0,0.0,0.0,0.0,0.0,0.0,0.0,0.0,0.0,0.0,0.0,0.0,0.0,0.0,0.0,0.0,0.0,0.0,0.0,0.0,0.0,0.0,0.0,0.0,0.0,0.0,0.0,0.0,0.0,0.0,0.0,0.0,0.0,0.0,0.0,0.0,0.0,0.0,0.0,0.0,0.0,0.0,0.0,0.0,0.0,0.0,0.0,0.0,0.0,0.0,0.0,0.0,0.0,0.0,0.0,0.0,0.0,0.0,0.0,0.0,0.0,0.0,0.0,0.0,0.0,0.0,0.0,0.0,0.0,0.0,0.0,0.0,0.0,0.0,0.0,0.0,0.0,0.0,0.0,0.0,0.0,0.0,0.0,0.0,0.0,0.0,0.0,0.0,0.0,0.0,0.0,0.0,0.0,0.0,0.0,0.0,0.0,0.0,0.0,0.0,0.0,0.0,0.0,0.0,0.0,0.0,0.0,0.0,0.0,0.0,0.0,0.0,0.0,0.0,0.0,0.0,0.0,0.0,0.0,0.0,0.0,0.0,0.0,0.0,0.0,0.0,0.0,0.0,0.0,0.0,0.0,0.0,0.0,0.0,0.0,0.0,0.0,0.0,0.0,0.0,0.0,0.0,0.0,0.0,0.0,0.0,0.0,0.0,0.0,0.0,0.0,0.0,0.0,0.0,0.0,0.0,0.0,0.0,0.0,0.0,0.0,0.0,0.0,0.0,0.0,0.0,0.0,0.0,0.0,0.0,0.0,0.0,0.0,0.0,0.0,0.0,0.0,0.0,0.0,0.0,0.0,0.0,0.0,0.0,0.0,0.0,0.0,0.0,0.0,0.0,0.0,0.0,0.0,0.0,0.0,0.0,0.0,0.0,0.0,0.0,0.0,0.0,0.0,0.0,0.0,0.0,0.0,0.0,0.0,0.0,0.0,0.0,0.0,0.0,0.0,0.0,0.0,0.0,0.0,0.0,0.0,0.0,0.0,0.0,0.0,0.0,0.0,0.0,0.0,0.0,0.0,0.0,0.0,0.0,0.0,0.0,0.0,0.0,0.0,0.0,0.0,0.0,0.0,0.0,0.0,0.0,0.0,0.0,0.0,0.0,0.0,0.0,0.0,0.0,0.0,0.0,0.0,0.0,0.0,0.0,0.0,0.0,0.0,0.0,0.0,0.0,0.0,0.0,0.0,0.0,0.0,0.0,0.0,0.0,0.0,0.0,0.0,0.0,0.0,0.0,0.0,0.0,0.0,0.0,0.0,0.0,0.0,0.0,0.0,0.0,0.0,0.0,0.0,0.0,0.0,0.0,0.0,0.0,0.0,0.0,0.0,0.0,0.0,0.0,0.0,0.0,0.0,0.0,0.0,0.0,0.0,0.0,0.0,0.0,0.0,0.0,0.0,0.0,0.0,0.0,0.0,0.0,0.0,0.0,0.0,0.0,0.0,0.0,0.0,0.0,0.0,0.0,0.0,0.0,0.0,0.0,0.0,0.0,0.0,0.0,0.0,0.0,0.0,0.0,0.0,0.0,0.0,0.0,0.0,0.0,0.0,0.0,0.0,0.0,0.0,0.0,0.0,0.0,0.0,0.0,0.0,0.0,0.0,0.0,0.0,0.0,0.0,0.0,0.0,0.0,0.0,0.0,0.0,0.0,0.0,0.0,0.0,0.0,0.0,0.0,0.0,0.0,0.0,0.0,0.0,0.0,0.0,0.0,0.0,0.0,0.0,0.0,0.0,0.0,0.0,0.0,0.0,0.0,0.0,0.0,0.0,0.0,0.0,0.0,0.0,0.0,0.0,0.0,0.0,0.0,0.0,0.0,0.0,0.0,0.0,0.0,0.0,0.0,0.0,0.0,0.0,0.0,0.0,0.0,0.0,0.0,0.0,0.0,0.0,0.0,0.0,0.0,0.0,0.0,0.0,0.0,0.0,0.0,0.0,0.0,0.0,0.0,0.0,0.0,0.0,0.0,0.0,0.0,0.0,0.0,0.0,0.0,0.0,0.0,0.0,0.0,0.0,0.0,0.0,0.0,0.0,0.0,0.0,0.0,0.0,0.0,0.0,0.0,0.0,0.0,0.0,0.0,0.0,0.0,0.0,0.0,0.0,0.0,0.0,0.0,0.0,0.0,0.0,0.0,0.0,0.0,0.0,0.0,0.0,0.0,0.0,0.0,0.0,0.0,0.0,0.0,0.0,0.0,0.0,0.0,0.0,0.0,0.0,0.0,0.0,0.0,0.0,0.0,0.0,0.0,0.0,0.0,0.0,0.0,0.0,0.0,0.0,0.0,0.0,0.0,0.0,0.0,0.0,0.0,0.0,0.0,0.0,0.0,0.0,0.0,0.0,0.0,0.0,0.0,0.0,0.0,0.0,0.0,0.0,0.0,0.0,0.0,0.0,0.0,0.0,0.0,0.0,0.0,0.0,0.0,0.0,0.0,0.0,0.0,0.0,0.0,0.0,0.0,0.0,0.0,0.0,0.0,0.0,0.0,0.0,0.0,0.0,0.0,0.0,0.0,0.0,0.0,0.0,0.0,0.0,0.0,0.0,0.0,0.0,0.0,0.0,0.0,0.0,0.0,0.0,0.0,0.0,0.0,0.0,0.0,0.0,0.0,0.0,0.0,0.0,0.0,0.0,0.0,0.0,0.0,0.0,0.0,0.0,0.0,0.0,0.0,0.0,0.0,0.0,0.0,0.0,0.0,0.0,0.0,0.0,0.0,0.0,0.0,0.0,0.0,0.0,0.0,0.0,0.0,0.0,0.0,0.0,0.0,0.0,0.0,0.0,0.0,0.0,0.0,0.0,0.0,0.0,0.0,0.0,0.0,0.0,0.0,0.0,0.0,0.0,0.0,0.0,0.0,0.0,0.0,0.0,0.0,0.0,0.0,0.0,0.0,0.0,0.0,0.0,0.0,0.0,0.0,0.0,0.0,0.0,0.0,0.0,0.0,0.0,0.0,0.0,0.0,0.0,0.0,0.0,0.0,0.0,0.0,0.0,0.0,0.0,0.0,0.0,0.0,0.0,0.0,0.0,0.0,0.0,0.0,0.0,0.0,0.0,0.0,0.0,0.0,0.0,0.0,0.0,0.0,0.0,0.0,0.0,0.0,0.0,0.0,0.0,0.0,0.0,0.0,0.0,0.0,0.0,0.0,0.0,0.0,0.0,0.0,0.0,0.0,0.0,0.0,0.0,0.0,0.0,0.0,0.0,0.0,0.0,0.0,0.0,0.0,0.0,0.0,0.0,0.0,0.0,0.0,0.0,0.0,0.0,0.0,0.0,0.0,0.0,0.0,0.0,0.0,0.0,0.0,0.0,0.0,0.0,0.0,0.0,0.0,0.0,0.0,0.0,0.0,0.0,0.0,0.0,0.0,0.0,0.0,0.0,0.0,0.0,0.0,0.0,0.0,0.0,0.0,0.0,0.0,0.0,0.0,0.0,0.0,0.0,0.0,0.0,0.0,0.0,0.0,0.0,0.0,0.0,0.0,0.0,0.0,0.0,0.0,0.0,0.0,0.0,0.0,0.0,0.0,0.0,0.0,0.0,0.0,0.0,0.0,0.0,0.0,0.0,0.0,0.0,0.0,0.0,0.0,0.0,0.0,0.0,0.0,0.0,0.0,0.0,0.0,0.0,0.0,0.0,0.0,0.0,0.0,0.0,0.0,0.0,0.0,0.0,0.0,0.0,0.0,0.0,0.0,0.0,0.0,0.0,0.0,0.0,0.0,0.0,0.0,0.0,0.0,0.0,0.0,0.0,0.0,0.0,0.0,0.0,0.0,0.0,0.0,0.0,0.0,0.0,0.0,0.0,0.0,0.0,0.0,0.0,0.0,0.0,0.0,0.0,0.0,0.0,0.0,0.0,0.0,0.0,0.0,0.0,0.0,0.0,0.0,0.0,0.0,0.0,0.0,0.0,0.0,0.0,0.0,0.0,0.0,0.0,0.0,0.0,0.0,0.0,0.0,0.0,0.0,0.0,0.0,0.0,0.0,0.0,0.0,0.0,0.0,0.0,3.1530754675349675,4.007756407016916,4.532882151262404,4.566723130874996,4.6756337196077995,4.543953897443361,1.8597583918249696,4.910008683650298,0.7845991248323863,2.592236859437536,3.6791516979903105,4.313523799240375,3.782882726582427,4.836004636250924,3.178797979733823,4.573488008351622,3.2101133044458248,1.2922467733521708,2.2294340466473157,4.318354726953578,3.8046592223017237,3.778384069195258,4.3713460965088755,3.206674432566464,4.017703172425068,2.6793574554433053,4.137068419082251,3.2100057886399425,3.8543600719987694,2.954818611262152,4.713794811791649,4.555612182387677,3.0850774274891957,3.962540625648098,4.424898633214523,4.457737716020011,4.532902977847233,4.410770568450242,1.8592034036116658,4.808546464087741,0.7893296016695879,2.557959810260377,3.6035688458776574,4.2854777880905806,3.695239705476651,4.738929013241473,3.1269896867672435,4.4733252065928175,3.179744415690717,1.3108769934493603,2.198085595008395,4.219185433835942,3.7733681645882884,3.667082565511231,4.27136027469552,3.142433439385525,3.952117920997791,2.6189127114335604,4.048034527301881,3.1800247116058804,3.771799071276996,2.9478344563119925,4.602300012086323,4.433495398682508,3.1547341611866284,4.019347632659362,4.559571672862173,4.525307384283122,4.6478088039428105,4.359291070876758,1.8981760652326378,4.8367080110045375,0.968793111605917,2.794324058346103,3.729290837987212,4.235679214534443,3.9339471859901014,4.880040079554332,3.003907159365211,4.604232385472884,3.189149781944506,1.3714645664079936,2.301561618753555,4.349759951172359,3.6229654497773693,3.6074478605873472,4.442834154384045,2.971458327637665,4.0616143811227285,2.5611165221877,4.138012737861461,3.395334145409052,3.841169076981409,2.9547155829524483,4.711732024862294,4.577280794096278,3.2353987115040717,4.121881351245393,4.676825299426456,4.660342288718784,4.746377232828515,4.475105258250112,1.9928431800045638,4.96511529781464,0.9813754755710373,2.8243868193170187,3.791525068902627,4.35385266275136,4.025995961805746,4.983465682252684,3.0905907998135778,4.726678551397572,3.2903747395296126,1.4342048373091627,2.3571056487313182,4.460829485823148,3.7153472208222764,3.700860651138917,4.561249616721801,3.0463883641203187,4.153049739223542,2.7259184500896994,4.238122218960541,3.443678091325656,3.9354230889640824,2.9823835858343872,4.843364532708048,4.674120858075546,3.4223911124010553,4.367105826850397,4.893432356034909,4.918714460756225,4.918299125725283,4.6730391758876655,2.1977996379442057,5.225806838005254,0.9897324246406712,3.0585348541296793,4.020685838539059,4.615195269599105,4.293993111256122,5.317767543831791,3.223096355794103,4.972519010644709,3.4955715316556266,1.5667076892855805,2.603681597095748,4.687741835771631,3.950762420998205,3.937986979633395,4.785886633511664,3.1825579377179714,4.350254047514438,2.9104533254832066,4.47547731770893,3.6694227947684355,4.195713009753101,3.215100304974843,5.055864253102516,4.909465213343853,3.6368649168837464,4.707560828125766,5.151213271684801,5.1813843769224315,5.139898004044546,4.926018033383105,2.406037030910518,5.517462228399472,1.0305879591134328,3.2193937917354405,4.246214566845237,4.925476910382354,4.519441018605481,5.635189366355414,3.4542792602470707,5.251616027918762,3.7055721194025617,1.799208985596656,2.7649740958707762,4.954975696641208,4.249550951215715,4.151571235803058,5.059135925476818,3.4255216932929375,4.630926889344051,3.1627464590433356,4.71950677308154,3.864999315599301,4.432154488798703,3.36893856631539,5.338011973836471,5.185962140812752,3.8298845314303773,4.959472271369894,5.362877512341995,5.416202866676994,5.296938116921414,5.147792349790155,2.54352954139446,5.7838060346744,1.0435268143775511,3.299739396138581,4.4075384780935165,5.16344759004886,4.700336362002036,5.900908628226268,3.5733855208427396,5.476655768724664,3.8555636990187065,1.8878681714461032,2.8885718683789294,5.161766447409905,4.450388980771332,4.29638136822884,5.265464003883088,3.571482500283748,4.824097640460701,3.314312482446986,4.930714278678944,4.0512088325155045,4.60843617984191,3.4963338652051883,5.56904226890016,5.415968124601246,3.94861125340693,5.2248933103536706,5.57184987663758,5.625367721545845,5.430461183894463,5.372707315189489,2.800485390599492,6.092845030233757,1.1069702989427275,3.4635017897975784,4.744188220686133,5.401851715820628,4.970931058343066,6.097073758972576,3.641081529382882,5.6801889309532205,3.8877283226549335,1.9166952140462037,3.0421418119671904,5.330339298895689,4.607650143107404,4.412718889707838,5.46678425517551,3.7674900853949813,5.0156412254629466,3.4845549931840685,5.071455816941085,4.291442050223321,4.760277102658908,3.6937144860703057,5.813145836998122,5.627723921686886,3.993344640442936,5.444324014621781,5.781449075110928,5.818543719581105,5.648619510399899,5.606307564795532,2.9691777245476354,6.301803989572808,1.2466163243236377,3.630573297657969,4.893122074440152,5.614466845411694,5.160601389844303,6.291042571012211,3.9751030720340252,5.868806104633315,3.846516319895975,1.9836983301635502,3.229003339065362,5.483249154808861,4.832464577085934,4.665924400279504,5.6450221723734275,4.002396530074647,5.152844695167376,3.6065882749411124,5.278066170363397,4.426919180147796,4.970190126698356,3.8554590137873372,5.965296374038652,5.815702398090343,4.1054665849988385,5.559058337818528,5.928748812884665,5.923188874157628,5.81940809188993,5.718176541137361,3.0286907492866724,6.440039779007153,1.2553250355616812,3.7522315973304785,5.029239708146136,5.799231377051948,5.255210949601137,6.482804547495153,4.1017646768050025,5.981632827723687,3.920527903987649,2.1040809382300525,3.371657942974095,5.639154057722917,4.968049429931498,4.742100108169369,5.749726159175494,4.042579572972625,5.275327520483924,3.699495393711743,5.389181535007211,4.515657276891585,5.052824687838259,3.9255219924593496,6.061626439830408,5.9418833920205785,4.101665905863468,5.709542276310282,6.062259073234005,6.030371914938429,5.892542140350654,5.829110047121932,2.9966190513405464,6.587933258550936,1.2593611241440272,3.678893897088043,4.995044964251455,5.943779888450511,5.311583854642313,6.59696489691784,4.1698396026186355,6.092997674142238,3.939261175407343,2.1418367174577595,3.372758794825139,5.7467387984501155,5.077372787767942,4.813632189532692,5.854805945016527,4.191117813666088,5.356958447350255,3.8275275028285036,5.474220370029269,4.591295290688036,5.045218416334523,3.973431617784256,6.165408441776555,6.080886416731079,3.92209670963893,5.4431624434955195,5.742032531079478,5.770183423069449,5.5166745347432995,5.493870114739064,2.91668985206359,6.294730464410289,1.1861251750008446,3.542426238680118,4.715811469561566,5.629152291720574,5.066267880140864,6.287168975817136,4.007295506640159,5.859453679328033,3.8784614474370596,2.098928015406426,3.2363164504982227,5.523730501138719,4.9146735624984865,4.640354094745911,5.6527657727666325,4.056966750368826,5.1919642820158,3.7615961158626408,5.312907792585441,4.397620052949693,4.905296582534628,3.8663426878528036,5.944242273152926,5.7534471449812905,3.8900295222017838,5.35971875227539,5.641057319916317,5.705687609143961,5.392321746756276,5.356887752025839,2.920173552879136,6.169789964007059,1.103756630333136,3.5040005683241313,4.749266869694801,5.597128529438757,5.092115259797493,6.272208330928495,3.9079509480307437,5.774021969768728,3.8496350376889845,2.0669217658661063,3.197993486272726,5.457707442680405,4.908204054321624,4.62231967606445,5.5579524346576825,3.9963411027310762,5.142393983938353,3.7096970258900455,5.306690021437804,4.330955167473817,4.937168299240789,3.8743303389997292,5.829774484216394,5.666031662944576,3.9220036228592225,5.708290184331615,6.00779039692387,6.061732218169821,5.644115974298936,5.552988032699165,3.3032413115860524,6.545904036712229,1.4521986844226074,3.865610167386829,5.232969514758524,6.016525020575745,5.550705128329043,6.691368572651275,4.056360328545474,6.130599969494231,4.017294764247202,2.064704850702613,3.4220894491002407,5.709789376260123,5.239569286894974,4.799247532038191,5.91251229228761,4.162538181688641,5.495675837175781,4.000405381994545,5.656875479299111,4.646513275302413,5.290262713214751,4.17278619616719,6.201376114866647,6.049057388770619,4.050163694655479,6.071910664951201,6.380826841192067,6.470595623756906,5.915391596406284,5.7041312419115755,3.6350788703918133,6.938888034346881,1.7099978262108253,4.188264985774867,5.736659502321485,6.527355132347078,6.068050854423875,7.198913595585371,4.195498576474161,6.525306567328689,4.284553824133782,2.1199234336498143,3.6237242853811917,6.091764280064314,5.600538278618558,4.942576514571384,6.291050395364522,4.320948143046466,5.877052603764949,4.299325441875694,6.038100188806224,4.907787752753045,5.681650025189812,4.378298309691362,6.585097345068389,6.4155386366977405,4.151961095663385,6.04141766816075,6.4150882646774035,6.478210340958579,5.925610798858086,5.826722607103647,3.666166414400343,6.925479717944066,1.671043379221779,4.131335585181929,5.589095094324408,6.354455368007365,5.901758629040922,6.956534019961672,4.338582691299201,6.554109665109436,4.190476446904544,2.2079643921090395,3.7172881664771795,6.156997009900752,5.5843931533603435,5.03840891703692,6.336002404009235,4.491573931982813,5.891080148614828,4.308877250088116,6.038449971873755,5.034840229947589,5.613028108111193,4.43078323653689,6.6413568315202465,6.437765746071784,4.1239007590450205,6.040124279710837,6.367063310700704,6.491325037034501,5.869921258940128,5.72739886357266,3.7715632245868025,6.9136635997046625,1.694165594500272,4.254194221043844,5.594735451284247,6.341781436107397,5.9850681901509075,6.953026926633994,4.332982882894576,6.593622839891935,4.308794265928011,2.2546753841918075,3.8109092689026456,6.224802639918059,5.646151099841589,5.039496053258617,6.331156379898632,4.532178051605562,5.975739721171381,4.311611608080217,6.1367497493215595,5.210715273292199,5.636800331457974,4.583419493259965,6.672855913447567,6.390320150864558,4.483319907665279,6.6056394916785255,7.0066971392971285,7.1135398437651745,6.345222482696445,6.151261495009122,4.238201060816482,7.605660594416966,2.0259560461025568,4.678245879627035,6.259958421391816,6.9985016250259235,6.626361253199815,7.616391095279532,4.587508315675612,7.247599362140389,4.6140250801789,2.386649620624772,4.151437128705717,6.819038609864815,6.157778375036671,5.317002920508539,6.953272795398986,4.804690864902984,6.556112975454822,4.887015236499333,6.722496803291825,5.61256101729099,6.133187275688476,4.926703078440789,7.377047759570356,7.031696301631175,4.458127253701125,6.4645953120715305,6.88203012301999,7.018188731018006,6.200765148015114,5.949727362744981,4.210584445518989,7.4601126946066,1.99795441513933,4.616088787620291,6.2035156609934585,6.868970013307842,6.617943469790958,7.429443511812332,4.46662784867408,7.183676118208105,4.548750938807213,2.360499058822468,4.081445754363757,6.713224531572136,6.027089000810879,5.157226551083493,6.865229869345283,4.77198195400588,6.455715224505061,4.885086257500907,6.666615647287035,5.606495798000629,6.070678881769342,4.909374623453044,7.302152760077099,6.904652362185771,4.1156224101969165,6.246422107790303,6.592577759563913,6.72064393913243,5.984888022932532,5.669988046690948,4.144303379043199,7.204218506452651,2.008397923361666,4.601425571677097,5.986782989011203,6.6348160526989455,6.3659071590890575,7.158388363844165,4.348091408041906,6.882882148961124,4.301038434231118,2.298315640171477,4.056762454228689,6.457988498018,5.839434015349906,4.911015148498382,6.586284586974074,4.53923850549716,6.211827758114106,4.723584215667133,6.381277880583631,5.4040831635679005,5.8245199023447185,4.719791602518484,7.004161922577758,6.621335510620454,4.4951715116436946,6.735388608884469,7.128522350814685,7.320018011659021,6.34465039597206,6.126996464037114,4.634031293174891,7.725129582780681,2.3016770394565516,4.978448534954465,6.573381033346561,7.12740663269425,6.967913792482896,7.686032859149968,4.568737211211211,7.485803621736198,4.745902685860815,2.3573563386781022,4.28389668209721,6.9480304678437985,6.337415366972709,5.34963065375041,7.147631053068531,4.985959567981609,6.797415275842018,5.101420152162481,7.002045435277464,6.002730238700738,6.405877747808974,5.2716965952745145,7.616630393889862,7.177948289591982,4.804352749325518,6.88149506389228,7.48009953082422,7.735812803843763,6.598242395028719,6.298083107324615,4.66111074367339,8.023069585002796,2.315480899881521,5.0671627559173045,6.8933094906908154,7.453538708313577,7.315830901570661,7.945602571321503,4.6724222832398965,7.737691937115404,5.082760464173718,2.4686665066816746,4.267031992579937,7.251311948273851,6.404268738794491,5.472200455948022,7.376467135096832,5.065531309421928,6.95729025511899,5.2478934197105005,7.24220181324302,6.103853951468212,6.856480471475219,5.350582704830727,7.869713510879854,7.503956820989589,4.861735018827693,6.919317373127437,7.520700302084435,7.77409133035069,6.668944531233388,6.376854290953051,4.63958475379847,8.087343290880238,2.3219932233744887,5.1603255699189186,6.828582616737726,7.354790768074323,7.270505314622269,7.897878774363997,4.698503116255424,7.831344359962918,5.11894659778291,2.500765256175278,4.346139059544149,7.315082801438465,6.41401682318593,5.536462666931406,7.450187526712108,5.127432038826461,7.035563959523613,5.232256048891708,7.295440996144987,6.232321048547897,6.838662396135175,5.480401930534664,7.999951707637276,7.544970614494254,4.809915886831882,6.780943587432397,7.290675562863194,7.592598850795953,6.459900390011745,6.3242893370923365,4.5427783575469425,7.954227631028215,2.180685708286606,5.035187999395039,6.408675367990796,7.008778474544022,6.88382361415302,7.528149143017101,4.70372584841063,7.665944870165919,4.866595333887665,2.50149018241695,4.44252019074114,7.103262418927053,6.240940263003176,5.486134683890183,7.226520545506479,5.147977349696723,6.847870853357922,5.007174816005753,7.137462294676339,6.292273698329243,6.650744673526138,5.571695150070617,7.8328257284771166,7.31650806474403,5.070877309645245,7.072723062849156,7.669021267418044,7.97234527550419,6.595501248260347,6.685595984137368,4.782890113691521,8.303981046565115,2.1805679172651145,5.0007468229217436,6.754926948625027,7.429721103723388,7.225452015134322,7.913599301938902,4.820691814963457,7.980717217413621,5.206989454798211,2.5393212595292556,4.382042101182868,7.39824239963128,6.556909770673757,5.833293716796556,7.550515894067106,5.500628801772243,7.135339812541406,5.338440667798344,7.474303411721377,6.497918192990687,7.078769400136364,5.756352833276216,8.117034694282765,7.685056564083885,4.658829542250536,6.85148769473317,7.41788702399287,7.720193152881676,6.530095646263425,6.283481933892691,4.608324636795867,8.20845830434871,2.149600154885355,4.964537365838822,6.554958227624033,7.1770780260061215,6.90410222967346,7.668882661318124,4.7312087248155965,7.7903320047583104,4.941784034252621,2.500493233362044,4.469007441327253,7.133622539805011,6.322322536555604,5.45789760896078,7.306905927536004,5.337166989812417,6.960988780431093,5.301327751164241,7.292363241137609,6.191918992823596,6.657023244493796,5.458565716596988,7.913653197918649,7.44558669248887,4.709524498921574,6.8713364541452915,7.570084990416089,7.849199762066049,6.730883530925844,6.443820229890517,4.555147162719557,8.454815343444421,2.0913970763064897,4.8826306995919095,6.651154312888853,7.273884065559235,6.919912184992726,7.705609837383264,4.868144521126165,7.924556053153679,5.001404206592725,2.571487194895135,4.3874626974003545,7.256110059732946,6.30178043597107,5.544784958722859,7.416746509579447,5.487414909017971,7.034383402836594,5.410807561527715,7.396636198178509,6.150950235370325,6.725681487278662,5.386088303891216,8.055024009715453,7.5828572790271735,4.791253701954219,7.048710413264799,7.84940092846526,8.131394682054681,6.742253695602686,6.686547609480869,4.7868139573373965,8.732040211831912,2.134980536693497,4.8737505314806375,6.951785685190959,7.4748884661590775,7.092752127556458,7.880714331608385,4.813786168183625,8.150785026472546,5.134794639287693,2.493451155191978,4.294694138704043,7.546616766169415,6.45605214341688,5.776739839088973,7.704628893731396,5.699507832130638,7.244188968602163,5.653711898050715,7.6024816060983555,6.307813287756941,6.943978592480025,5.541224061466639,8.278987717976099,7.86350985808558,4.4017328662102955,6.563392453679144,7.433844525885212,7.604363006130886,6.587752803672548,6.244095789771252,4.228868322962384,8.183414876892101,2.095140177413967,4.677311525390622,6.4923110089833695,6.927055669070032,6.48013995280903,7.427859368129241,4.59507623634662,7.695216439534924,4.768193264539787,2.4197632806643963,4.121959916947723,7.211436080242507,6.093700899312645,5.3987056588201305,7.348050744422687,5.233201805970975,6.900614570656157,5.35337556136276,7.145894817784182,5.785651569256702,6.396969009305364,4.986482338273629,7.815094549473334,7.452202297432351,4.22899602099467,6.616414740932473,7.01233352654881,7.29502023009303,6.118729529538265,6.186825638635142,4.435298624230326,7.95238303997075,2.232543708903165,4.7923627923879915,6.25694122457005,6.854465505146169,6.5719508337952,7.320468843935377,4.450998693425215,7.3816569474403275,4.354276627582646,2.2322621012583492,4.190802918004746,6.801747159460945,5.975842024577855,5.276030147321507,6.990693646322154,4.93643012913219,6.567728376044632,4.84478798950874,6.778620307103067,5.9022007969977315,6.302876052409905,5.118536452138575,7.531847909963613,7.028654078388412,4.174509958513443,6.423200794788503,6.913157709302115,7.087723600428186,5.9910188287055055,6.106824708457729,4.227824071095195,7.776419800066627,2.212260237681731,4.61175101272433,6.085633877015358,6.656861614086559,6.220625632449301,7.078424495782628,4.262219095396253,7.23189355125167,4.20208125009953,2.1743188372018314,3.9839945164177464,6.771661984021936,5.813292221424752,5.195104125560051,6.8707978625526405,4.765183615916721,6.412792852849983,4.831644021150053,6.597326865263456,5.683603340225207,6.140053720161948,4.844086076067985,7.350903215615492,6.873619116881003,0.0,0.0,0.0,0.0,0.0,0.0,0.0,0.0,0.0,0.0,0.0,0.0,0.0,0.0,0.0,0.0,0.0,0.0,0.0,0.0,0.0,0.0,0.0,0.0,0.0,0.0,0.0,0.0,0.0,0.0,0.0,0.0,5.230817826028562,6.68288365402695,7.625224774141559,7.908330329945829,7.699254339436808,7.5566071621077135,4.351783820566773,9.138514347495187,1.999706657115996,4.395002354837265,7.844514204235126,7.949621622420199,6.85835871334557,6.823150565429557,5.272299940905224,8.184745784124994,6.452292151139365,2.3142471137574425,3.392394430765098,8.080582628822134,7.02912451000582,5.994003410484845,8.08328800913283,5.720682445270179,7.359339149393383,4.7540418937189415,6.789705304203787,6.201529237587859,6.656466068854367,4.792431821641223,7.86643451582576,8.143465236155258,5.238966614137977,6.699026729641402,7.644705791287997,7.927138920177284,7.715659222814165,7.570095234812195,4.374216895733536,9.161014731611228,2.013121547208667,4.413513721627792,7.864681598245064,7.968637062273358,6.8759119872856695,6.8318118843175,5.2929872077718585,8.207169362940412,6.466930781215024,2.3277135362850876,3.405483404217218,8.102245478801988,7.048546450284282,6.007980358150155,8.107830386354479,5.742582050409634,7.379576758741102,4.776409422035188,6.812362414827416,6.219746880064467,6.676825270179523,4.809250928951963,7.888864183193804,8.165265973944576,5.248227744459864,6.717044487979585,7.664798814881139,7.943836322156064,7.733680562653893,7.586218360925818,4.399985333751175,9.189286006536241,2.024831123248422,4.43180609750638,7.886357842503469,7.985449645341809,6.898048311232484,6.843026580471863,5.31173184975601,8.230015898643506,6.4800074821148765,2.343557824595962,3.419612284550298,8.125160922594798,7.0633014607154045,6.022051283878766,8.133007548372655,5.762832713793258,7.3994925517303125,4.799876578233424,6.829880195549984,6.2388962317231496,6.6935427285669515,4.818718485024847,7.91492941433496,8.190996477951382,5.2551225493128,6.73508519425169,7.681398056319112,7.960519191655101,7.748374355732641,7.598159787975108,4.422603357657698,9.21065987303577,2.0375009535747863,4.451130357702467,7.903945506737699,8.001219679634687,6.916748300308904,6.854128127501455,5.32853901526615,8.251541513363478,6.491781832117115,2.358149813493307,3.4348196087209564,8.14676524081121,7.081716433898912,6.035248027219412,8.1571404066795,5.783282266374178,7.420015525092895,4.820837730402471,6.849404896987061,6.259392343824148,6.710943330975511,4.831710650490218,7.936412230111474,8.211230871827013,5.2740156529525,6.759426334780857,7.711658845861127,7.988265588037785,7.7748103165151985,7.625118182387966,4.45060074316157,9.247324817119578,2.04814216770381,4.471303738192237,7.9353453212159195,8.03024542418409,6.943342312754622,6.871415500738684,5.3597295267941085,8.285183741773738,6.515942894748623,2.379070226082285,3.45193080539016,8.180159593499575,7.109705333751175,6.060546395666383,8.192735592066974,5.816752403635224,7.45158066168241,4.851886092134127,6.879431133992926,6.287873807583829,6.739894544477772,4.853080252495858,7.970725810986256,8.246527001835519,5.284921924519855,6.78088154308994,7.731497203205444,8.006956074137081,7.788704616913641,7.636470655325245,4.469368760352777,9.264982810046112,2.0566048797958545,4.493177382817747,7.955385084299592,8.04917209240274,6.963490935577741,6.892399741594663,5.371695851188611,8.304671398486816,6.527334764202892,2.393921521600931,3.471261583919058,8.20042642378117,7.130340378206563,6.072369836056767,8.213582625598782,5.828550397457134,7.472232485472534,4.870907688051215,6.898454144603124,6.30787379809285,6.757725291131306,4.86957806330304,7.990564275775618,8.266430309710346,5.303601314231992,6.806048017012132,7.757355533688498,8.03409819384877,7.811186397278059,7.655008880154004,4.4880324842190085,9.291065324618346,2.0659356762322605,4.515904785781439,7.982254239871065,8.077427611407082,6.988131591350673,6.915990354837265,5.3920419284595065,8.331512528808704,6.546995610690782,2.4110449279670503,3.491435376281506,8.226278074763844,7.15765754380624,6.0901595270627205,8.240392328244617,5.848420135022608,7.4985636099744815,4.896085354165734,6.925652583426602,6.331357628866902,6.784774112727761,4.891599910462461,8.016896832878183,8.292496850785692,5.360484507498769,6.870859974213189,7.821680908089717,8.100518746653535,7.8723069008371755,7.714570463535837,4.509958042709406,9.357560157765143,2.076828132694632,4.541850293235439,8.05070403563594,8.14444219205802,7.05545253364373,6.9821364213636565,5.448708978108072,8.398833292026682,6.606313651967588,2.4660800664368536,3.51384415096029,8.294116508215069,7.225633757621883,6.148211507543538,8.308465350047006,5.905918093029503,7.5672007540851505,4.959444976675472,6.992677192281864,6.397106291981913,6.849713177418633,4.914322066526391,8.085270020325021,8.358021634239154,5.375305580695707,6.884251383623584,7.839307729596634,8.121070401396786,7.8873269980749425,7.735285936159735,4.552172843264539,9.397668959842413,2.084905564758025,4.566646174508663,8.083595718135829,8.162323013654474,7.082758219814657,6.996498417692617,5.473957987017057,8.428884378206563,6.630480438554864,2.4777041122800734,3.537330993418991,8.322616374445987,7.245457543806241,6.169791912790437,8.337701214845325,5.926690225007834,7.599185672023996,4.981274153019654,7.013591187536375,6.4211223689841965,6.870788984912925,4.939237928101356,8.117232553879214,8.386525081971616,5.355275101401262,6.876957744549403,7.8299794932175315,8.10984182029816,7.870763358553074,7.710318070466043,4.569859103729239,9.377316772171733,2.095051188610825,4.591884245870081,8.069425363298562,8.152709456954828,7.0700635689662885,6.985575822178448,5.45353248600976,8.413355327035859,6.608446359851367,2.461142675381654,3.557858494873976,8.307869218784976,7.235969339660652,6.149000973273044,8.322506371491247,5.908902499888078,7.583779824506424,4.972888746922147,7.001871170703317,6.407018397278058,6.859299849576935,4.96089718404441,8.103309268925997,8.372608834668934,5.381881482204414,6.914395069525899,7.869551984062318,8.147342412499441,7.904851263285132,7.739400504454492,4.59338321171151,9.411925212338273,2.10737920042978,4.6185597528763935,8.104758233782514,8.19142269185656,7.106167841160406,7.019464774499709,5.481845380668846,8.448429201235617,6.635552700362627,2.488728596857232,3.5805128710211753,8.343581907507723,7.271638298249541,6.177851505036487,8.3584446948113,5.940470979451135,7.616689397322827,5.00718837211801,7.036105916998702,6.441496667770963,6.89821782101446,4.988861136231365,8.142280712181583,8.410314629001208,5.404668487263285,6.946331467967945,7.90383919058065,8.181181215024399,7.934833236334333,7.758285535210637,4.6087445046335676,9.434056319111788,2.1201942606437747,4.648311733894435,8.133588019877333,8.228656131082957,7.131667278506513,7.049905896046917,5.497811935353897,8.476399158347137,6.652139481577652,2.505547745892465,3.604151228902717,8.370004208264314,7.3052096521466625,6.192402918923758,8.386448228499798,5.959850705108116,7.64226404620137,5.039410126695617,7.0692675471191295,6.4611403500917755,6.9295076688901815,5.017841303666562,8.170248878542328,8.437865102744325,5.42634409276089,6.976712061064601,7.934655724045306,8.211613990598558,7.962390531763441,7.792730308814971,4.6588838836012,9.485609674889197,2.13224437068541,4.67811713784304,8.174845883869812,8.262872911133993,7.168389318887943,7.076610476608318,5.53252109056722,8.517183655280476,6.6856284908447865,2.5217832296190177,3.630312455029771,8.41011312656131,7.335638595514169,6.223579173568519,8.42772650705108,5.9958854146931095,7.681479845458208,5.071046246138693,7.100333818686484,6.497267104266464,6.95723623172315,5.0493654295563415,8.211623606930205,8.479146962797152,5.45316201817612,7.0117545516407755,7.969682849979854,8.247865810986255,7.990549555446121,7.812450276223307,4.680775458656042,9.506065067824686,2.1426608147916015,4.711487425348077,8.204140637507274,8.298782524063213,7.195762243810718,7.1107239665129605,5.558350127590993,8.547321458566504,6.7107726015131846,2.5500181761203384,3.6593616609213413,8.439123508976138,7.374626110041635,6.248593992031159,8.457974119174464,6.022219663338855,7.712980410081927,5.1108424587008106,7.139751650624524,6.522947549805256,6.996608256256436,5.082729766754712,8.240899880019699,8.508050079240721,5.460454492546,7.0378103204548506,7.987238873975914,8.26708597967498,8.00267149250123,7.821779233021444,4.7079767707391325,9.522541931682857,2.155104549760487,4.742218307203295,8.221504872095625,8.319072474190804,7.218317672740296,7.136122928593813,5.568831159063437,8.566801948694991,6.720794000984912,2.564680306218382,3.6853345179746606,8.456886901911627,7.396219327931235,6.258882392443032,8.477408461655548,6.033417572995478,7.732110987509513,5.1282036083628055,7.160778812195012,6.547688728477414,7.014355353359896,5.104207619644535,8.258924310695258,8.525403211174284,5.487849875274208,7.073822263508976,7.9968859694677,8.306248408470251,8.005797891390966,7.82344172896987,4.74358830192058,9.535900680485293,2.1684630181313516,4.778157545776066,8.260939871065945,8.357185366700989,7.2537695096029005,7.1711002165017685,5.5976472697318345,8.608539262210682,6.749278876482965,2.587439972422438,3.71834946053633,8.470108694095,7.4376321753145005,6.2896191191296955,8.492528449657518,6.06414839503962,7.774219362492725,5.1670101743295875,7.200920924922774,6.581856914536419,7.052267121815821,5.138620739759144,8.299887482652101,8.537774396740833,5.496147975824864,7.095030500067153,8.015879566638313,8.328224501052066,8.019099264896807,7.8267881040426195,4.763773661637642,9.542531507364462,2.184295659399203,4.815115077226127,8.276107690379192,8.379489941531988,7.2658865032905045,7.190292466490576,5.598330614496128,8.621722625240633,6.74982821936697,2.592004894838161,3.752977225231678,8.482321076241215,7.4591054429869725,6.290415066302547,8.50559322917133,6.066459931056095,7.787963391681963,5.184783871424094,7.221932017728433,6.593475322558983,7.070203280655415,5.174926039127905,8.313858596946769,8.55038432555849,5.522695617137485,7.140073879930161,8.05746221318888,8.368944005730402,8.053061837131217,7.855191720284729,4.797153523570757,9.581422225724134,2.200993126024086,4.850113419707212,8.315468194296459,8.422747983704168,7.306908255898286,7.227682576532211,5.627925146617719,8.66053687854233,6.775781331423199,2.6218113444061424,3.7824138539642744,8.51948862676277,7.498380814612526,6.316336302995031,8.543824485651609,6.09828076536688,7.824353505663249,5.224643953977705,7.2598338835116625,6.630522642073689,7.106263789049559,5.201926847830953,8.354208777185836,8.590257700496933,5.53703809822268,7.166700611720463,8.078176763397055,8.392954969960156,8.067640397725746,7.867552239065228,4.822741261762994,9.602286858754532,2.2140438180597215,4.879058815597439,8.341553385145723,8.447078476429242,7.332175669427407,7.253178848010028,5.638724466132426,8.683125825491336,6.786520642879527,2.6324362268881227,3.809649978242378,8.539467894703854,7.521154746116309,6.3267686797689935,8.564176587903479,6.109861609168644,7.848273517661279,5.246887406545194,7.282319325066034,6.653536892331109,7.12661445870081,5.230726256883198,8.378604591664056,8.610779207771857,5.5574884720419035,7.200690531047141,8.108571947531003,8.424417978779603,8.091391506110936,7.894896685857546,4.858958875050365,9.64415035107669,2.226942274790706,4.908827935353897,8.379226717643371,8.482187118413394,7.36877296252854,7.283088940502306,5.661197833191565,8.71936456963782,6.810377203742669,2.6525959618570085,3.838752043336169,8.574640980973273,7.552749536285087,6.349787169270717,8.600455104624613,6.135607613914133,7.88349690611989,5.275281565116175,7.312859542105027,6.689002569369208,7.1547749649460535,5.253865260330393,8.414143331333662,8.646046666606974,5.568315351210995,7.220049629762277,8.12679841429019,8.44245928190894,8.105610985360613,7.901521967139723,4.877850587813941,9.652450131172493,2.235381375296593,4.937678013162018,8.39327249764964,8.500665566548776,7.382683742669114,7.301338172538837,5.679087415498947,8.732748112100998,6.826979254152303,2.671389533061736,3.8621994260643775,8.585618846756502,7.572178474280342,6.359490352330214,8.613380053722523,6.144719871961319,7.896866480727044,5.302518511886108,7.338634900837175,6.707479902404082,7.172691094596409,5.280219169987017,8.428828212383042,8.659355552670457,5.604381429914492,7.2646652232618525,8.170100492098312,8.488199287818418,8.148059412275597,7.945503993016072,4.924241818149259,9.703006361283968,2.2434272593454807,4.985048067869454,8.439830518511886,8.549830065989166,7.427596283475847,7.347216644312128,5.71403183954873,8.779713707839012,6.869173640148632,2.696866723373774,3.908279065765322,8.632526601244571,7.615678430048797,6.400391887899001,8.659623081523929,6.184289487934817,7.941846671083852,5.336024246765456,7.382593646953485,6.75284546232708,7.215760553879214,5.3313049917177775,8.474382517437435,8.705517280386802,5.629993642834759,7.29179021354703,8.195769691543179,8.519443452567488,8.172059363388101,7.969726623987106,4.97346467296414,9.732344898598738,2.2551965617585172,5.034123364820701,8.471679598871827,8.577792451985495,7.459254062765814,7.375988449657519,5.744692626583695,8.812857053319604,6.901274101266956,2.721158078524421,3.9564836996910953,8.666202963692529,7.653688319828087,6.43292391995344,8.693589187446838,6.212887012580024,7.980211666741281,5.370790598558445,7.418506925728612,6.784855441643909,7.250156619062542,5.374111545865604,8.506579451134888,8.732436065720552,5.683185566548776,7.362738546268523,8.266040977212697,8.578247486591753,8.24742888069123,8.043221440121771,5.047211555177508,9.817172982405873,2.2816855310919104,5.10157325101849,8.539591033173657,8.64744575439853,7.525482912477056,7.435495358194923,5.81239858530689,8.887818637596812,6.95836681738819,2.7661211442897433,4.01194092796705,8.739659099610511,7.709038497022877,6.492639584545821,8.758764712718808,6.272966025339123,8.045667408694095,5.42504698034651,7.473076872811927,6.857188203787437,7.304978560594529,5.422775878587098,8.574382151049827,8.801571657250301,5.730124904866365,7.4347593186193315,8.33358410261002,8.641792760890002,8.326358356986166,8.114770641536465,5.1276312351703455,9.901602045932757,2.314465868290281,5.17884228410261,8.613955844562833,8.721143068451449,7.593703573443166,7.4903951613914135,5.875115279580965,8.96500859112683,7.016227049290415,2.81318529793616,4.074456681738819,8.8151954201549,7.770282531226217,6.546134037695304,8.825753600752115,6.333168367282983,8.113178712450194,5.479072761785378,7.532192599722434,6.930102739848682,7.361076460581098,5.47900551909388,8.644868429063886,8.865067506827238,5.71857456238528,7.440715831490352,8.332821793795048,8.641112468460403,8.342631204190356,8.130310444912029,5.188868224381072,9.92759418041814,2.3379789017325514,5.2254051451851184,8.62965377302234,8.727704537583381,7.602990207100326,7.4847705715181085,5.885823149035233,8.98298210180418,7.022689689752429,2.8051004163495548,4.1090788166718895,8.83141945686529,7.771840243900255,6.547325230783006,8.833106258136723,6.340871397591441,8.12565463258271,5.470185059766307,7.527860160630344,6.946313091641671,7.356388109773023,5.50515879482473,8.653749581770157,8.866018588351166,5.738020325021265,7.48498656202713,8.36742398871827,8.668010853561356,8.39382391708824,8.171609617943323,5.231299853874737,9.970563228544567,2.363301698348032,5.2627019759144025,8.663952063213502,8.767342457447285,7.636739314679679,7.504740675650266,5.919554210502754,9.020077308322515,7.043134691319335,2.8323266329408603,4.134367660652728,8.867015518467117,7.794938390831356,6.5635857993463755,8.859831656713077,6.376039398128666,8.151997154317948,5.492657742758651,7.546569979674978,6.984688491561087,7.374275795138112,5.515928549044187,8.682803959170883,8.892458183104266,5.760866007073465,7.521921446210324,8.400722502753279,8.698180388771993,8.441444390204593,8.210090636343287,5.2722807603527775,10.011426303621793,2.383862673769978,5.304622310247571,8.702170306845144,8.806184352777901,7.669270174508663,7.533013559922997,5.9561540045664145,9.061727418364148,7.075695733536285,2.8545056184805477,4.166846189909119,8.905894549133723,7.828522243094417,6.5895133634776375,8.89099183525093,6.406696805479697,8.18700171661369,5.514574383310203,7.5742956773067105,7.0257863340645565,7.401804510184895,5.538793213054573,8.713896877109727,8.91802942848189,5.778793750279805,7.55511921278596,8.432095064511797,8.719561098446523,8.484297526794109,8.244652059632001,5.313824679052693,10.04703656963782,2.403802975153333,5.348301878318485,8.730936968079867,8.839824475623406,7.693777217710525,7.554952917222545,5.983731638089269,9.093649095939472,7.09628865111698,2.8679752876393425,4.1994993175448805,8.936807067018847,7.849728784348838,6.606844070376505,8.912131509871513,6.429171914581188,8.210354580113712,5.5283816089895685,7.590184870663025,7.0573332075032456,7.419782614317052,5.561529838384743,8.737727942695976,8.941121021444241,5.793804002327976,7.582681916282401,8.454827934100372,8.74147375045888,8.521767397770516,8.277071082240228,5.350867438062408,10.075705581053857,2.4284767678739314,5.395089186730536,8.754098489680798,8.872442724090075,7.721971917804539,7.577829499395621,6.008709083583292,9.123911284595065,7.115054286609661,2.8862935935891123,4.2399417452657024,8.967137340018803,7.872685551506469,6.623598674844429,8.934170230738237,6.450195440927609,8.234938781573174,5.542508644849353,7.612941897479518,7.0913432763576125,7.439369886914088,5.580425589828535,8.756561076420288,8.955854070107893,5.814047544433003,7.597277703899359,8.473498962618077,8.755778454044858,8.539220479383982,8.297524907015266,5.3747728017191205,10.097798250794645,2.4239292864753548,5.411234009580516,8.777305254599991,8.887525099341898,7.743037298831535,7.599613582128307,6.030508437838564,9.143433116712181,7.141394613421677,2.893213233648207,4.253524087925863,8.985133991493933,7.885370824730268,6.644810200832699,8.951108770560056,6.4658503670143705,8.253360436585037,5.557611024578054,7.6240989536643236,7.111954912118906,7.454771034964408,5.594727062721046,8.772618772798495,8.979211881989524,5.386397457133904,7.617991956842906,8.492640935667279,8.728235552670457,8.610509709450687,8.292945202130992,5.392169545596992,10.48896342122935,2.4988735971706135,5.470029687961678,8.83649619644536,8.840263209920758,8.290555299279223,7.751364919192371,5.540799803017415,9.152625130500962,6.68507123427497,3.316004835027085,4.264450611093701,9.059031885212875,7.026567901687782,6.606375914402113,9.024877594126337,6.032113856829476,8.236223160675113,5.4599612660607955,7.634406820074316,7.241725349867932,7.533920201459462,4.699238859291758,8.789799254152303,8.989162140842549,5.386771724045306,7.599883517571742,8.465219388995836,8.70167377588754,8.589232139141336,8.355940031875363,5.435403542642253,10.461021163629852,2.525971765769799,5.46185042449747,8.803325698706182,8.81765393848771,8.275589104356001,7.707674859828983,5.611914751309486,9.138522896181223,6.662053178134933,3.319712584501052,4.291772385369566,9.019317941173837,6.98959537323723,6.65582216949456,8.98479300765546,6.043242084971124,8.301087698974795,5.453070457089135,7.5829017026458345,7.228236017907507,7.582525546492367,4.6650502036979,8.755125519631106,8.948517586605185,5.417851815373595,7.650636572503021,8.505850812553163,8.737266773514795,8.650273376012892,8.404438304159019,5.471145862022652,10.50720352419752,2.54958244706093,5.498883140976854,8.843200569458745,8.865095040515737,8.315222112190536,7.73822553073376,5.660628589336079,9.18535983883243,6.699961620629448,3.349747235528495,4.316084802793571,9.064793162913551,7.023285834266016,6.689969790034471,9.016480924027398,6.08242485920222,8.335962462282312,5.482852934592827,7.612873023234991,7.275953042933249,7.612437029144468,4.680843909208936,8.792144778618436,8.981625031114294,5.394363970094462,7.65517479518288,8.49299508438913,8.718973461073555,8.65790320992076,8.399543797287013,5.488975162286788,10.49934189013744,2.5766304338093744,5.52524025607736,8.828443363029951,8.860055611765233,8.300149223261853,7.724213475399561,5.658785879930161,9.181199032994583,6.683780874781752,3.339673725209294,4.32788331467968,9.058737986300757,7.0161242243810715,6.66796709495456,8.998066909611854,6.07433402874155,8.318069857187625,5.458177893181716,7.592519120741371,7.281885015892913,7.589071056990643,4.678035295697721,8.77335786363433,8.958306701884766,5.389005327483547,7.675100222948471,8.502026306128844,8.720949298473386,8.683093324976497,8.41164749071048,5.510893247974213,10.514659196848278,2.603419263106057,5.546465580874782,8.832589858978377,8.875343174105744,8.305144060527375,7.720275288534718,5.677900004476877,9.195757661279492,6.682944356001253,3.342264583426602,4.337062674486278,9.072043690737342,7.019996504454492,6.6640408112101,8.998182661951024,6.084670919102834,8.319361027890944,5.458577875274209,7.591084500156691,7.300173527331333,7.586743039799436,4.67543849218785,8.77561495635045,8.960350453507633,5.380124457178672,7.689538396382683,8.531653042037874,8.725400096700541,8.730074710122219,8.444948372655235,5.5342344074853385,10.5549853946367,2.6339904803688947,5.575623358553074,8.837701175627881,8.892267984062318,8.305810008506066,7.7150337395353,5.691505493127994,9.213265083046068,6.6779896476697855,3.3409174016206293,4.351824574472848,9.106772648072704,7.019934809508887,6.665121538254914,9.021136759636477,6.087701994000985,8.32296507856919,5.456142221426333,7.593688864216323,7.314703378251331,7.583844310337109,4.679380203250212,8.780040630344272,8.982532719702736,5.385272865648923,7.715272213815642,8.552195156019161,8.734037258360567,8.767048305502081,8.468587491605856,5.554787242691498,10.579346440435152,2.665797190312038,5.607918406231812,8.846502101446031,8.915006412678515,8.31462295921565,7.723326111832386,5.712321314411066,9.235938229842862,6.680920438733939,3.342298965841429,4.370230759726015,9.128621039530824,7.0294136616376415,6.670456426556834,9.030508732596141,6.094626358060617,8.331061012669561,5.459846568473832,7.599549672740296,7.339371528853472,7.587691410663921,4.684884487621435,8.789948616197341,8.991756611899538,5.36273913238125,7.719359015087075,8.545777660384116,8.72106214442405,8.783163343331692,8.473583247526525,5.579791678381161,10.584075064690872,2.699303116801719,5.644842338720508,8.83811211532435,8.918319430541255,8.307915087970631,7.707726045574607,5.708967157630837,9.238634593723418,6.662255321663607,3.3267278506513858,4.39001887630389,9.133165164525227,7.019825969467699,6.651686341048484,9.022517528763935,6.081181755831132,8.322981390517974,5.438991270089986,7.587488405784125,7.341868331467968,7.568079998209249,4.690093262300219,8.781330685409857,8.978597516228678,5.362632546895286,7.729176684424945,8.547596185700854,8.728686466401038,8.789187249854502,8.480572467206876,5.5873915566101084,10.5937632448404,2.701155840085956,5.649953870260107,8.84753590902986,8.925498070466043,8.316634534628642,7.711251484084702,5.7092835027085105,9.246493083225142,6.665312333795944,3.3348230827774543,4.394136670098939,9.14046102878632,7.026553771768814,6.656257975556252,9.031064517168822,6.0871826655325245,8.33132431391861,5.4401503872498544,7.593312333795944,7.349157684559251,7.5707661189953885,4.695499628419214,8.78897126740386,8.98569718404441,5.426814001522138,7.925098104132157,8.750127447016162,8.911190230738237,8.996440312665085,8.68543051546761,5.706314224470609,10.82128855549089,2.807584078434884,5.761313522496306,9.028919648654698,9.143531143483905,8.490928011460804,7.878882837981823,5.841240445180642,9.428513078031964,6.8009729055826655,3.349065512468102,4.398941436719344,9.312470789452478,7.1592873685812775,6.783995175001119,9.205795810717643,6.256095147244482,8.474536159376818,5.466365742221426,7.735558212114428,7.515716085060661,7.716004094730716,4.815974615749653,8.967480898240588,9.196063755383443,5.466703205981108,7.95907974714599,8.7850354797869,8.944519940547075,9.040151196311053,8.730665424721314,5.71644892653445,10.863779776693379,2.8144405927385057,5.803490813985763,9.07243962895644,9.174208493172763,8.525016573040247,7.943324041366343,5.824918314545373,9.459435859426064,6.826285176702332,3.3355068232976675,4.442618657474146,9.344328871021176,7.178558692393786,6.802540448224918,9.233961360612437,6.244284234767426,8.507810663562699,5.461031361060124,7.7595216865290775,7.548593221650177,7.7370716422079955,4.860385333393025,9.012391708465774,9.233632401486323,5.427204094730715,7.929020703944128,8.714713518556655,8.91335176899315,8.979561969109549,8.670112073420782,5.7283366658011365,10.806098460133411,2.8181450633478087,5.77110896109594,9.047140447866768,9.14233108582173,8.495459165689216,7.863269206428795,5.8221779014191695,9.428535066660697,6.790117732193222,3.3300635655638624,4.413904061601826,9.285200285803823,7.149355968303711,6.763838195997671,9.17816053113668,6.250623262926982,8.47870826807539,5.459846114697587,7.72696528916148,7.510566619689304,7.7025445451045345,4.827013662712092,8.983192890003133,9.172074702242915,5.424514635985137,7.950291705421498,8.725750271925504,8.928088777543985,8.993023116085418,8.676320525764426,5.7409306596230465,10.823226223038008,2.8278056426556835,5.787444340063572,9.065156287057349,9.158704867439674,8.513424899673188,7.875305538971213,5.832722746295384,9.443553511393652,6.801831435913507,3.33319863115011,4.423583431257555,9.299271915834714,7.16696918225366,6.768427576845593,9.195337720553342,6.2668698170748085,8.49710335246452,5.458360720956261,7.741336268254465,7.531420154183642,7.706385035770246,4.847430397278059,9.001259058244168,9.185155012042799,5.423905509961051,7.958169448717374,8.733384240318752,8.945304596678158,9.008303289430094,8.691616500693916,5.760149839996418,10.842980766262254,2.8471208040470968,5.810970370954022,9.078227952545104,9.17423615418364,8.527947341899091,7.884301874736983,5.840158077449971,9.461671655817701,6.806100468997627,3.3479067097640685,4.4394194017101665,9.31436837426691,7.180519039083135,6.7737610321887445,9.212661034874872,6.27403946707257,8.51147216618167,5.458533221829252,7.755585081971616,7.538013348972556,7.714754549670949,4.824704525048126,9.02016433612392,9.198021505842323,5.397678315619824,7.950060802077271,8.701734545194071,8.911658814343912,8.978306926444912,8.655582503290503,5.7769847972422435,10.82580424479563,2.8606559949858976,5.8310410948650215,9.078724447150467,9.167808342033396,8.52315044885168,7.869515912432287,5.815239789407709,9.446876070018355,6.7906987319693775,3.326384283296772,4.4567628444285265,9.298574883645967,7.179003095133634,6.742070536598469,9.201959547656354,6.256174170927161,8.508028418140304,5.4310389817791105,7.7378339676769485,7.545611585083045,7.688718118637238,4.844867331154586,9.001959742848188,9.179837778394592,5.427676827147781,7.983480757845727,8.724729967676948,8.940874902090702,9.015048567309844,8.698585493486144,5.789899263464207,10.861126966378654,2.873111882526749,5.890535232484219,9.106514651385593,9.200376294399426,8.551384920445896,7.935427948605453,5.80833743868917,9.4811959425169,6.8170910761516765,3.3152738545014997,4.502053781976094,9.329329469848233,7.210962514572234,6.780944019698259,9.233871410126696,6.248103833460179,8.540888506424318,5.415996655235707,7.767167510766889,7.571181795585799,7.7205082888481,4.882148299592604,9.03014318699915,9.204084994762054,5.398017085911269,7.958846472131441,8.691931685006939,8.916265642118459,8.986864085956038,8.665251196131978,5.788189832475266,10.83228526158392,2.8656153503156196,5.881770338362358,9.08771195630568,9.173329330169674,8.535035464386445,7.904080944083807,5.786854992523615,9.454877645520884,6.801304327707391,3.3008950014773695,4.495955007744997,9.30115847105699,7.188903811971169,6.7517458552178,9.209342891525273,6.230687711330975,8.520150350002238,5.396130082284998,7.743794979092985,7.557201860948203,7.695815655101401,4.889705402157855,9.008737358105385,9.176462918386534,5.333644804584322,7.914822921609884,8.634347953977706,8.862630765098267,8.934315322917133,8.60460475480145,5.80396317858262,10.772477690289653,2.880101197116891,5.858555607288356,9.039336480279356,9.122220996552805,8.491928663652237,7.8110358418767065,5.771747206876483,9.404835643103372,6.753115304651475,3.283172619420692,4.464080757487577,9.248493683484801,7.146244741908045,6.689604484039934,9.159555774186327,6.216089603796392,8.471359366074227,5.373951005058871,7.689327922281416,7.514298722299324,7.638750419483368,4.858097979137753,8.956546266732328,9.123695058781394,5.336492366924833,7.914678211039979,8.638629645879035,8.874016618167166,8.937380883735507,8.610831105340914,5.814555204369432,10.787325907686798,2.882504275417469,5.859592801181896,9.049246129739894,9.132814934861441,8.501314285714285,7.803900577517124,5.7608290638850335,9.414404333616869,6.754119854949187,3.266803438241483,4.465147137037203,9.255277181358284,7.138374320633926,6.685609061198908,9.165644903075615,6.206612794914268,8.480349447105699,5.379809607377894,7.694385100953575,7.501590258315799,7.639384071271881,4.859975609974482,8.965662461386936,9.133635564310337,5.332958373998299,7.925553393920401,8.639690880601691,8.881590487531897,8.942070487531897,8.613136940502306,5.82345952634642,10.790779882705824,2.8929782370058645,5.866834740564982,9.062266478040918,9.14108633030398,8.516100156690692,7.807290379191476,5.7713365554908895,9.422655378967631,6.768870731074003,3.284108698571876,4.469017819760935,9.265290794645654,7.155283359448449,6.691743485696378,9.175301318887943,6.219488694094999,8.494233173658056,5.384072794018892,7.706132533464655,7.526803509871513,7.646089340556028,4.862827878408022,8.974650841205175,9.137544193042933,5.357735011505573,7.833822045574607,8.424614809687961,8.786156285624749,8.850902232349913,8.516989628150602,5.586509497246721,10.700509839459194,2.9048483287818416,5.916453987196132,8.724523658145678,9.05147872283655,8.427262332094731,7.749847244661324,5.762287282983391,9.384747818059722,6.7303880956260915,3.2763447911536914,4.511024839145811,9.223602305770694,7.11151532667771,6.767854810046112,9.13711042413932,6.138300675113041,8.454899612839682,5.4220117231499305,7.862489974123651,7.436527812687469,7.431722476250168,5.027961462685231,8.882938073689393,8.921905550611093,5.3101326948112995,7.805673120114609,8.400181423288714,8.768384159197744,8.83110117061378,8.480926260464699,5.596940892689259,10.683009673635672,2.918177062273358,5.891111447374311,8.696948365134082,9.0254304357792,8.403973362582262,7.682635285132291,5.77982615749653,9.367807787975108,6.692972346868425,3.2660566881855218,4.482754171106237,9.201322442404978,7.085003391681963,6.730029398576353,9.120509620808523,6.15463222115772,8.432421852173524,5.419196241393204,7.845657250302189,7.403458978376684,7.3983864350629,5.008561694050231,8.868416437480414,8.90093558347137,5.314282640282938,7.810156743340645,8.410890623091731,8.776518851054304,8.841902154810404,8.485866207279402,5.5940153718046295,10.692761439405471,2.918897055110355,5.894945068720061,8.708501474683262,9.032280690155348,8.41171944128576,7.68943494363612,5.785258195460447,9.378712164211846,6.709160226529972,3.279360656131083,4.480553958006895,9.215249825670412,7.091871193983077,6.7339855663697,9.1321701433496,6.157037618122398,8.441815304651476,5.417800128754981,7.853454617898554,7.421302126516542,7.406238606795899,5.00525136231365,8.877902802345883,8.914897930429332,5.2392758451000585,7.727634444912029,8.337767713121726,8.694738997537717,8.780633812239781,8.41431622259032,5.583551495545508,10.624238682902806,2.915101748668129,5.8909829142678065,8.654367060930294,8.959280409902851,8.343873261404843,7.619219846711734,5.707256501052066,9.311417892286341,6.620710892062497,3.2076620633030397,4.479008396830371,9.147251866768142,7.021415975466714,6.646689814746832,9.063400446792318,6.089458125621166,8.374712192326633,5.329662208532927,7.786839405470744,7.354912819089403,7.338461881183686,5.00384089161481,8.81384709459641,8.845381701213233,5.252317121368134,7.751651741773738,8.354899154765635,8.721024581994001,8.80733076903792,8.43388166683082,5.587363746608766,10.649302394950082,2.920292948918834,5.902274966199579,8.679573619554999,8.980855985853069,8.373116972735819,7.636777497246721,5.726598776559072,9.336521653400188,6.634945180821059,3.2234613042037874,4.4876437802748805,9.17231225464476,7.040011157988987,6.659832752473474,9.089107343510767,6.10737073698348,8.399297570846578,5.344341603080092,7.814145364910239,7.375967074360926,7.353777383534046,5.008937490262793,8.836633369387116,8.86460966969602,5.326162319917625,7.864685882974436,8.46027188682455,8.83324400949098,8.912621951739267,8.531835506648163,5.6179337565474325,10.76630455799794,2.9556016109593948,5.984715575950217,8.792766941666294,9.095588698930026,8.487690965483278,7.7866001335900075,5.782750405157362,9.451953923266329,6.724010718717822,3.2674099775260776,4.559804828938533,9.284579341182791,7.151351929802569,6.748645581770157,9.201870831714196,6.158651939114473,8.512789592514661,5.3908561753145,7.927177655728164,7.496408769127457,7.458735619286386,5.084930689528584,8.947423066660697,8.970051548909879,5.261403577920043,7.7969799699153866,8.387832258942561,8.765622657474147,8.860220027756636,8.47521288248198,5.60578023315575,10.698564434257062,2.9460659030308456,5.934187835967229,8.72366012696423,9.027041681514975,8.419420449836593,7.674690519049111,5.7696746123472265,9.382870692751936,6.668745310113264,3.2395684953216635,4.506730937010341,9.215664572861172,7.080878837623674,6.687582767247168,9.132911067018847,6.143751956305681,8.442369779648118,5.359683871424094,7.860293300980436,7.430841917356852,7.385853677217173,5.047340977212696,8.879659125218248,8.898969443703272,5.2758062040560505,7.818788212562117,8.40567077261942,8.787819459193267,8.879868642342302,8.49114446308815,5.615612314455835,10.718932539553208,2.9560102228589336,5.942775976183015,8.744670168957335,9.045418510274432,8.441746786229126,7.699927267762009,5.799055575233917,9.40300387052872,6.691369214129024,3.251142583516139,4.514905228275954,9.236217873841609,7.105849782513318,6.706934354479115,9.154910186506692,6.171012767515781,8.46381180248019,5.375855606213905,7.884111038724985,7.451313366880064,7.405177056901105,5.0534367109280565,8.902490198146573,8.919785443166047,5.259324364238707,7.804287725119757,8.391975977436541,8.771667255405829,8.864704700183552,8.473390949545596,5.616767293011595,10.704980889286833,2.957094541075346,5.944560200385012,8.732550168957335,9.032698543940548,8.425940325379415,7.682488312306934,5.777588878363254,9.387486412678514,6.674088803688947,3.235515427855128,4.514798772619421,9.219354535703093,7.088413539866589,6.6865816029010166,9.138312669024488,6.153052223485696,8.4463932178896,5.356967786721583,7.864202542687021,7.4393000667950036,7.385389646953485,5.053202439897927,8.886804563012042,8.906486895643999,0.0,0.0,0.0,0.0,0.0,0.0,0.0,0.0,0.0,0.0,0.0,0.0,0.0,0.0,0.0,0.0,0.0,0.0,0.0,0.0,0.0,0.0,0.0,0.0,0.0,0.0,0.0,0.0,0.0,0.0,0.0,0.0,0.3470058510307702,0.36590354236266864,0.5497217355436644,0.5304074136949593,0.5618396597923587,0.537641356591435,0.0861263207597585,0.5716541405437093,0.035048210583663225,0.2074603234123247,0.318721457971899,0.45436941339913,0.33182455066059363,0.5164790554305406,0.39176790640627224,0.5527775774318042,0.36397129022304775,0.17027309813003844,0.20144602724411687,0.5099603495326486,0.3890003909970411,0.47540089311719097,0.5369212349282034,0.35862529943284244,0.39659725377788063,0.32019137700718436,0.480933106240272,0.28944812036562445,0.44090045186600435,0.27159403723115494,0.5352458839622388,0.5309831621851463,0.38571214354396866,0.40209807612011983,0.5992444000095701,0.5783566281503921,0.6092822465045449,0.5832921983223225,0.1013363914720538,0.6231370003440186,0.03977909775288263,0.23711343438956162,0.35788688918238454,0.49978554308272016,0.3675901006355909,0.5693024561954032,0.4310681577775164,0.6032627716747556,0.4025359247642391,0.18985066860912989,0.2276563711946447,0.560278100384469,0.43313352525531074,0.5225007351474239,0.5866224553298834,0.3925973194066273,0.44106077945245614,0.3493630653984608,0.527161908181397,0.32218460285211603,0.4852129332444566,0.30726076108097433,0.5862316821580559,0.5803248971620529,0.43508470504338226,0.4510450163708146,0.6694846300916063,0.6466956600808318,0.6812819987847066,0.6522336632352642,0.11921719506176606,0.6954787780475805,0.046232357415966874,0.27248320065783677,0.40828342312073107,0.5612869435793695,0.41232743635332986,0.6368558531569435,0.47979621650203547,0.6730812465227951,0.45814123923586086,0.21036334713293503,0.2575880573029585,0.6278441451480339,0.48996735131686564,0.5830948449238955,0.6564425305282032,0.43910432570104496,0.4970516344899325,0.3914870179598744,0.588228211197892,0.3647063345232924,0.541000651685111,0.3483553579128154,0.6555664376477606,0.6493916748963856,0.501568489014511,0.49694759445950426,0.7547754068911042,0.729418072476464,0.7660469616190573,0.7345624613877847,0.1432012491212245,0.7820670792951689,0.05073921352740057,0.3066597245389528,0.47650851406713157,0.6370353171566409,0.4583874061948727,0.6961128875363848,0.5526720505141324,0.7585185183080688,0.5309317159584428,0.24152648264274157,0.28570792068709683,0.7105388840708406,0.5621098120461511,0.664796233840662,0.7402982966072109,0.5087904638082946,0.5700610355345741,0.454034478965989,0.6692661200624731,0.4047015881720643,0.6205525723792602,0.4046169853847714,0.7393363062740801,0.7320225256782249,0.586188496256204,0.5601026068717986,0.8566026500691186,0.8318362225186693,0.8700604630946733,0.8335738612753208,0.18040320751589514,0.8820401098865596,0.053416347805938964,0.3608614604282928,0.5630997033176248,0.7268704344068752,0.5260096255908683,0.7812615974653883,0.6327434190159765,0.8611205467993405,0.6165694201081939,0.2837363506383072,0.34235788682049323,0.811099351103904,0.6505943415485497,0.7640688324717085,0.8420062687356795,0.5881768284457558,0.6612377498007319,0.5337925024792326,0.7690751956667147,0.46647573205144294,0.7133357865863997,0.4819968641064331,0.8417334719480025,0.8315338642044654,0.6811516988043241,0.6524650603997055,0.971913443321674,0.94893498464512,0.9899224727299166,0.9450738069366857,0.23396640993688636,0.9980486378798853,0.06423300746206743,0.4364971786961885,0.6643646716961102,0.8407970685186349,0.6205467393722102,0.9016396384301999,0.7166302563452138,0.9747837524660757,0.715391085163711,0.332437545055873,0.4139860942273532,0.9227352546132437,0.7539084415815133,0.8669770549032324,0.953573249294181,0.6731067884728988,0.7699982913743352,0.6024577249963994,0.8732683375401882,0.555670445041832,0.8111295952067977,0.571596124069939,0.9577794912934018,0.9398150379339792,0.7027162393770828,0.6750265472712693,1.028139251358063,1.0027062509436504,1.0477944657979472,0.9966792238990551,0.21364278852372884,1.0544263173597335,0.078582844945013,0.43476759599495945,0.6898126510295176,0.8826609375469247,0.6421635340788421,0.9477222828976252,0.7419632798207637,1.0288953898933344,0.7465263138012916,0.30866092516309046,0.4088180240878053,0.9724945326662461,0.7827531194313121,0.905226523832611,1.006389016568021,0.6960905336998171,0.8077907614006219,0.6127920858298352,0.9171577825053464,0.567075116906105,0.8491232058874219,0.5851934736143988,1.0119611125778643,0.9924180844907791,0.7444610642819,0.7172871524844199,1.0899823539713929,1.0715618727079248,1.1141694906832817,1.0538326708397143,0.23343505768088121,1.1214147798834304,0.09453813944403844,0.46295651898906104,0.7424113392391156,0.9428093231577512,0.6937260763984981,1.003316658525544,0.7834331386541082,1.0934130014914842,0.7930146129000052,0.3250829645186007,0.4338731915110168,1.0360247820858093,0.8370250907385348,0.9571026089369697,1.0690850699178518,0.7433449215566238,0.8679123186674228,0.6475897966409635,0.9760874384425602,0.6072374651056096,0.9000699190340267,0.6194741928857904,1.0807460671893094,1.0499474159512194,0.7982169062605765,0.7696886845522491,1.1693884663918697,1.152774690687602,1.1958424363407563,1.1263256656412668,0.2694814732658173,1.1973792041650277,0.10025214516638216,0.5074386907223637,0.8022517849095526,1.010554779954583,0.7491009334169779,1.069704878568662,0.8502249803442147,1.171661772955844,0.8521232309742611,0.35687102782215346,0.48075462996238244,1.1164350154091571,0.9039475539175968,1.0288573747412197,1.1465434121954274,0.8108117873986906,0.9353411938121658,0.7032453941183939,1.0500756638869502,0.6611649041935606,0.9701752811246105,0.6733172090010867,1.1641461504285624,1.1262644747198731,0.8894108003769012,0.8470779931131696,1.284623667548469,1.2675734996986519,1.3081664744671455,1.2327019749785253,0.319701993487745,1.3141555066786803,0.11379225935186017,0.5705884780809,0.8951655161333429,1.1188686459632906,0.8199938987274914,1.1629544148880717,0.9421889833344997,1.2888256479407634,0.9427232692663278,0.4015362107585222,0.541697102729179,1.2267809306817097,1.0054914707223481,1.1289808458111783,1.2610580781151273,0.9000098636420735,1.038506840857758,0.7864075065296606,1.1607069629718567,0.7269426824900037,1.0798877813524919,0.7609711822416603,1.2783507260046139,1.239647387306478,0.9459621781000715,0.8944765540093284,1.3704829252699202,1.3508180368024985,1.3907493836095806,1.3106765226462391,0.34244430159989564,1.3986918141621936,0.12482356374165812,0.5965368788553153,0.9580064682544058,1.1968630271856024,0.8713196472857831,1.2212683873020913,1.0079016315102691,1.3699719280309641,1.0034071829685034,0.41813200499896563,0.5634510213817145,1.3035423049481323,1.0677893466729926,1.1978506590861466,1.3382625156501784,0.9646200143263897,1.104641098078223,0.8382811166653386,1.234202867444877,0.7657865619717993,1.15308298180598,0.8054603243095998,1.3595660908788272,1.3196093542448253,1.019135003858494,0.9732286863445875,1.4749203019941177,1.4579338784335574,1.488851513017772,1.406397007170915,0.3895735744314136,1.5089265227120963,0.1437179464842129,0.6509257280590635,1.0499450373631847,1.2997284283793606,0.951264741856995,1.3074633451074131,1.0853181987116445,1.4721010242440489,1.0790740377593424,0.4608122680881724,0.6156560397854776,1.4088282808945853,1.1624165402156936,1.2815823981982415,1.4399661524477188,1.047910640259608,1.2023820877669693,0.9188274295711713,1.3308256618242515,0.8344474968089173,1.2412192265374213,0.879203090545394,1.4699130936703118,1.4200886151891121,1.127902366700399,1.0713709280830195,1.6123525097064864,1.5943488567559272,1.6329016186759993,1.5426478866544253,0.4472242333016029,1.6482980492793686,0.15400352360629363,0.7255364732195644,1.1506278441624103,1.4252614383689926,1.042507028408022,1.4271541650933521,1.1963420318931308,1.6109564288551754,1.193142084396128,0.5229874588487345,0.6900627312945015,1.5394245833936908,1.2804415518187051,1.4073442223150363,1.5756687231548376,1.1594878350088202,1.3241360593749159,1.0200290499718627,1.4596711271722584,0.9248580687322197,1.357695135031978,0.9749826039002537,1.6082638844621397,1.5514113688267153,1.0645947614283169,0.9858747718587167,1.5484425973221487,1.5441025732320761,1.5711894008002556,1.4795928130602902,0.4143624248672518,1.5834192776427194,0.1561160938651436,0.6823577860703514,1.1169626280601306,1.362691738427864,0.9853256179535257,1.3282826449908656,1.145745950817771,1.5522149465992916,1.1394734428070086,0.454514080569108,0.6550472870736627,1.488228554913573,1.2211864470301468,1.3506298803833736,1.5165289874381755,1.112590990578694,1.271617512211992,0.977742670847725,1.4112136037067111,0.8709601994422691,1.3089580717298195,0.9488834483312828,1.5514209031382789,1.4852692914676329,1.2071840749028522,1.0930874253313758,1.7208713228656083,1.706819420256766,1.7445169118315038,1.6463661704349368,0.48165472665851333,1.7523483967523215,0.1766744273255984,0.7740454909223237,1.2765822039040295,1.5164560461696166,1.0955679862473882,1.4602852148405385,1.2688820306007491,1.7154949550894916,1.2829720429442057,0.4993657897250911,0.7330848491630167,1.6490294230234028,1.3621751225209071,1.4948567837498425,1.6790533249111634,1.237250388051003,1.4239636578648573,1.0894914492201138,1.560057499650537,0.9646042381092889,1.456152779737545,1.0756200650440075,1.717843639949817,1.6527833772630536,1.2655157315470988,1.1578714605469795,1.7974212232496922,1.78661639539676,1.8127282140519998,1.7124671141166332,0.48997543326559606,1.8415352383569215,0.19317705960196865,0.8073574491201961,1.3412437314065988,1.596247267241187,1.1544268594109603,1.5598088465743367,1.2921704017842741,1.7932264174614636,1.335261963706449,0.5026000816381834,0.7621029057255254,1.7159851515509104,1.424016005682157,1.5466602339897857,1.7491476460233297,1.2625150479790543,1.4853102485670437,1.1265850353102769,1.629594826939285,1.0100742571610724,1.5233354882829055,1.1248522898493758,1.7939391667245272,1.7366145297749345,1.3759470235291473,1.3021159062699261,1.9523623203392044,1.9365005474335288,1.9619331342742732,1.853340790594023,0.6167288396307227,1.9983550567682502,0.22723456345477375,0.9329327151901857,1.4862403597427756,1.7394975537922213,1.2917735436850886,1.691544923757735,1.4373867943566856,1.9492573710733607,1.4539936612229227,0.6078569324682364,0.8707495226782218,1.8765823001048612,1.5694224855232788,1.6787941638271338,1.9114609994290537,1.4107683659396628,1.6388451052781847,1.2651739637980755,1.776304765111559,1.1396859630307272,1.6584757390570213,1.2501369754639664,1.9526807540820672,1.8937456432879878,1.494873126383054,1.4365951841473574,2.115207339417848,2.101108019688901,2.1342873987558515,2.0240638665847888,0.7060347507126592,2.1726837039591893,0.24909103273308902,1.0301016278440285,1.62420126259024,1.8864466711468504,1.4161022672522952,1.8286104887034695,1.5601507937783694,2.10425723931868,1.5769993266634086,0.6864852491187826,0.9461026401249197,2.0273485945259466,1.6928265302947896,1.8115086869004666,2.06253955995091,1.5445987695685293,1.771409249369556,1.3791574526012278,1.9154438853946405,1.2473349908472866,1.7950488684894617,1.355514372409165,2.1144840350355194,2.0540797667211472,1.5879056230176274,1.567015441642297,2.226873199866104,2.2127259954989933,2.2385312301960307,2.130235418835705,0.8029793494602903,2.2909387459555766,0.2634461747478627,1.1421402249770087,1.7241811854767144,2.002986587179294,1.5418592299005305,1.9732964464341602,1.652666846768409,2.2200930551721596,1.6787267061857825,0.7792179967293678,1.0528579954829287,2.138106462976936,1.8014062860512896,1.9172584479544588,2.174379966468508,1.636789753655555,1.8773364874714928,1.463862141928469,2.02867722600738,1.3714934013615505,1.90180489024052,1.4541416745635036,2.2219731970296177,2.1622673647331054,1.6970865169114198,1.672149517195134,2.3390243798431607,2.3318841743176004,2.3449790314958636,2.23828130475145,0.9140446478973552,2.416654728667942,0.2886918083092271,1.2573671961974304,1.8765524406254785,2.129597201661305,1.651469682983619,2.074156316887477,1.7393773593945079,2.336815446919677,1.7827876120146635,0.8557384857321476,1.1588267425354015,2.259479310805987,1.9236984541998168,2.014862911401159,2.2895847226692627,1.7319670183379168,2.0033080766921194,1.5616158626734173,2.1430019154241866,1.4812614260121306,2.0237228641268654,1.5850746992128837,2.3451441372966975,2.279919793752538,1.6855984180677734,1.6444600655014918,2.313435163124185,2.317686574560532,2.358614418129824,2.2513377601761264,0.903132111076116,2.397126919552394,0.28278513120200705,1.2300366852700224,1.8577505072415854,2.1061538928351093,1.6243996747372569,2.026458747983454,1.7590913065098666,2.3225192368149967,1.7951782318153935,0.8513591413953159,1.1154223133921197,2.2454642588696623,1.9067106527196835,2.0126153609465223,2.276163095002064,1.7578778274236904,1.9847410891145534,1.5451723406832618,2.120226114498073,1.4543047549322523,1.9900083813311125,1.551734675186645,2.3210915805132104,2.2569482106483068,1.7179714027456539,1.656021933300477,2.342390410973,2.339405272200617,2.3911973004349245,2.2854644770207813,0.9474748144402617,2.430811831830888,0.2830968758403272,1.2253087458021679,1.8779016887542592,2.1308783899495114,1.6287203351283812,1.9817219459555615,1.828732116943108,2.348787136913821,1.8148957363835552,0.8972482182817078,1.114477673912877,2.2673117577351194,1.9206892112751774,2.0315841892868995,2.3033343658619523,1.8283617527327212,2.0004876571190975,1.6219445816877174,2.1415229310339146,1.454685622655103,2.0119837823487514,1.5736263868753533,2.3435408470470085,2.29261074229965,1.88585673582115,1.775841698723129,2.531975235147626,2.5152858833509053,2.5935289865184235,2.473912620941224,1.0328397101143845,2.613100910817874,0.2930638933492984,1.336059365745275,2.0433140850544045,2.3070369046232027,1.746164353587652,2.1254020321080636,2.0002544556945763,2.5361758489486697,1.9939987697028507,0.9819549708021081,1.2111131324574083,2.45244656520546,2.0944871373594913,2.2174023103640232,2.4937846558719006,1.9984229177338348,2.179941346964429,1.767391478285262,2.322682989870307,1.5698568739943142,2.18297805657506,1.7366758965550446,2.5329305903206056,2.47709920605283,1.967215370166158,1.9202551051131238,2.6690685134850356,2.6669615714243626,2.721447582568812,2.600417208620869,1.152088336774915,2.770630967920287,0.3568030758703618,1.475418497329904,2.1859874431715953,2.457725248499537,1.891262961638132,2.2810238960896374,2.0951350611078783,2.684390446883781,2.1044811898195075,1.039949839843552,1.3145252679705852,2.59498168182877,2.233359681542306,2.3237197379594723,2.633556902597159,2.1034822184482467,2.315557789696493,1.8458807566832658,2.4631426140131727,1.7132130422373015,2.3239097480877025,1.8681295674766834,2.678496590560268,2.6157959994082263,1.8849530780759232,1.8220169836921762,2.597705056340606,2.59648415090987,2.6590853764928193,2.533146296679899,1.0648342545670304,2.7015353509748294,0.375461649696326,1.369298514119089,2.1207777823917215,2.3993718479499755,1.7842951991598117,2.1453708249359487,2.0462207791514104,2.6137140434906105,2.027654622317473,0.9392181398258569,1.195818781545281,2.5250962650477624,2.162772034654571,2.2534017231217813,2.5614277227972395,2.0604936200062607,2.2460911971708786,1.7776389904465733,2.3940503236385227,1.6084654510973553,2.2559306182125534,1.7961133364436292,2.6077670339600325,2.5427156001720066,1.9068952962800356,1.874780509778797,2.6606161697959205,2.655962351180652,2.7182136934405094,2.583083748023126,1.1111842107564076,2.774909069063574,0.4231651066306784,1.398928862361271,2.181275315883769,2.476695985752114,1.830960221883136,2.1735897494629968,2.10695276629712,2.6765160634049034,2.0538650646266086,0.9475702846848459,1.2042707954543497,2.5860820312455646,2.2175296151719768,2.2850760669729295,2.6229945599985207,2.124053498023211,2.305960206576415,1.82302789799208,2.4469360697347566,1.6476274203366108,2.302683336534948,1.8394126360595895,2.672670961125128,2.6073587961116513,2.132399397200555,2.0666307367649734,2.8576889690981253,2.857248441215896,2.924383099513811,2.7897262104467146,1.2949277988439967,2.9881789596088484,0.4170218114409957,1.5878911529740587,2.3949152469730817,2.683750241678741,2.0203094969733235,2.356050861429941,2.2945217723560365,2.8770306767162346,2.2483518956718633,1.1423634697053815,1.403579638333046,2.7846252647519933,2.415808179512377,2.4756132155448074,2.819889073086909,2.32197617700771,2.5085718361803884,2.0432124383568113,2.6485996626215265,1.8298529609221013,2.5014672878975914,2.0400007701820586,2.880756040428405,2.809139214568887,2.2236303502147483,2.2205810355979767,2.996430348032518,3.0116772627641892,3.0789727292930835,2.935632699234064,1.443202032483696,3.1396435008827943,0.46565868616246225,1.7322691024347971,2.5410204129542246,2.8360331553342535,2.1798496575024284,2.5097832362497168,2.4476832310242136,3.0296358901293323,2.3984224779072294,1.2497222560171348,1.5076043419009952,2.9347620007927686,2.564670317471438,2.6193752709194102,2.9671618474400123,2.474079048919093,2.6601624634786694,2.1349211115735636,2.8049261939174337,1.9844620286637678,2.6485884065848015,2.183711013946613,3.033153172342129,2.951207631828816,2.18941278310301,2.241352636951416,2.9660195467196817,2.965026232676569,3.04896875859927,2.9028912125061903,1.4469635029752252,3.103325213296866,0.4640688910013733,1.743606261094996,2.509152825368207,2.804139494625691,2.1835864471761566,2.539304014082457,2.400425426869095,2.987609296945093,2.3709509086896334,1.2462713255856643,1.5112183899228446,2.892007751711955,2.528316264753963,2.5795413374338936,2.9270255016959,2.426078772141209,2.62289243499399,2.074493341665788,2.7551999559051352,2.0036260691698597,2.5994276496468465,2.1571126424139693,2.9937308705264756,2.918306487683647,2.1896384112744123,2.31603761876513,2.9130039330972703,2.9112987329013578,2.9974457862889055,2.881693799120701,1.5278815826456233,3.0814114183926202,0.47699029897958817,1.8270350341194095,2.549901983894814,2.7967462712034017,2.227110469237186,2.587605601214833,2.343511634181065,2.934957931317963,2.3760271446163967,1.2777583085176472,1.5532640826583295,2.8426881740342163,2.5220578515136194,2.52717976359516,2.8747118484582574,2.3739790488740495,2.605698034586175,2.036928230886426,2.706130605760569,2.047646595410004,2.57905876565258,2.18818286320483,2.94409147453316,2.896549688940051,2.2065053143825235,2.3992845700603094,2.894583921689452,2.8803826110976942,2.9559936954794095,2.8501605354971273,1.6178616727507205,3.06185830504192,0.4805246096386262,1.9155602073043045,2.581825629773191,2.8193801714077464,2.2887167468014047,2.659473575797915,2.343262845704442,2.918481949908571,2.383111717830475,1.3464666176789857,1.6311979578732045,2.8270948307580985,2.5604274385993047,2.519710104027003,2.8576262055179056,2.373783701307912,2.634411917246078,2.0241567554104263,2.7050364000615295,2.1276479464293065,2.5879068709312167,2.2475268537855495,2.924028748516218,2.889728530864714,1.9005878812131805,2.3737210303322307,2.726478469963069,2.687712447882042,2.7842305347590512,2.6261812537181677,1.5954625588571183,2.934782130322261,0.5247071880674172,1.9379295798567413,2.3987027763817994,2.5675247212918286,2.3360498720718197,2.6521388636992804,2.045487933624562,2.7375390888140814,2.076013334043014,1.4129973386651347,1.6291006718586052,2.658927441340129,2.201206574024253,2.281657359864076,2.6879599436712303,2.1035223613469753,2.4310425289769424,1.7978209655756752,2.505385839781908,2.1736708967523866,2.3951109165872357,1.9335777144332964,2.7529400629737295,2.715882892404659,1.7537584479423214,2.2792301179442243,2.567223089968207,2.5266133564754294,2.6029022044851184,2.4656396214952574,1.4815004465979749,2.771409750333138,0.5201584531267369,1.8051603203084543,2.2525893268797166,2.45457240182869,2.227995251660022,2.587016184474549,1.8776158108112795,2.572102616592578,1.919944359345119,1.2283627154602943,1.51550409416848,2.4820065296826828,2.0964000195066514,2.1076254400919443,2.5135651917642785,1.9286024375929496,2.2777659475829237,1.624690577240673,2.342309776335144,2.044826824967826,2.2305143945038886,1.7932927762555604,2.591094322929193,2.5565295673763466,1.8675645267683891,2.4506034935741923,2.6575642755583484,2.6375344712640785,2.6844917972468507,2.547779483012938,1.6499247265805368,2.816880926132489,0.5479116377813136,1.9659173990585064,2.331396971410279,2.572449573971876,2.387991057447622,2.751290429277141,2.0182752228629597,2.6827226857138826,2.0627951594464005,1.3353648550809682,1.6738328841178567,2.584756241554674,2.2763602813526918,2.217842440316458,2.623149499798967,2.056864892636604,2.3871540203066055,1.7074684484266611,2.474719171948844,2.222098577461313,2.3581697787858915,1.9663231606795044,2.6872515842229303,2.6498124125593447,2.1147430583815363,2.7115028351027872,2.9114867422321082,2.8900505357262922,2.953019747111408,2.817582282699703,1.8776494107947668,3.077920294354693,0.5319834413482712,2.1952669257453357,2.581780648242362,2.836652403143207,2.6327555627975703,3.0091147671504865,2.269576548098012,2.931362103373963,2.3023750660952533,1.5852927690557825,1.8984642545118544,2.8337772521300413,2.523276648258092,2.472340658717068,2.8737213968843713,2.3144577734672334,2.6299845832593336,1.942725214141455,2.7166442570725766,2.4621304007323226,2.598004590665916,2.1984072396955265,2.9382942000683245,2.903273906426507,2.166238967689772,2.8035340346435684,2.9954292325515106,2.9922293771196027,3.031388128216278,2.8994300950360197,1.9469050366951375,3.1781188551185084,0.5655564526397971,2.253618551524418,2.658137838041979,2.927830346802047,2.723528204441627,3.1067303940293725,2.3335612723625903,3.0302704396245566,2.3677545535294735,1.6067497664493307,1.9570048474942652,2.9202182495856115,2.610082776598818,2.5400700010654647,2.9625927517282147,2.379770195795458,2.7111926145733407,2.006718550987761,2.80663389515515,2.5415619900100044,2.689982906721591,2.2592017919060954,3.0333353907424554,2.9929160352786575,2.1663345267627876,2.8423976297215594,3.047886259912067,3.0258841048138483,3.065914122386261,2.930579943502762,1.979467202016322,3.2241858096798586,0.6144466322421551,2.2904589219217497,2.709123449770016,2.971169081746134,2.7631897016229527,3.157028244435549,2.355866062869371,3.073466416670495,2.3841965578840822,1.5838322153063005,1.9627770964366376,2.9624807146215653,2.6530549054584576,2.5647713909199643,3.0054848483290364,2.4095949889342925,2.7508164585694184,2.0079198069940882,2.844390479394268,2.5915624439071046,2.731963984145711,2.288249222268649,3.0801204562797526,3.0426820107076757,2.175254065384427,2.872874048452739,3.0599245176449177,3.0559918456363184,3.0915578285148775,2.948032571397005,2.0137530884411583,3.2443062522397543,0.6355053538779099,2.312009467161585,2.738778968285444,2.996455311159301,2.809179363761128,3.1809736806042257,2.3735687951237585,3.0954338448868888,2.398767005271506,1.5944328643567673,1.9787015832936932,2.9799669139087674,2.678884840393277,2.5622347807023242,3.019871821670516,2.434027594924397,2.7737930656946426,2.013689394140371,2.8663810677360675,2.6207491525747426,2.755872172071705,2.3119350176078406,3.110931390655781,3.063056385162106,2.195813572495026,2.9297560945067582,3.110338325476487,3.1041346485312826,3.140158065104729,2.992436941292262,2.0584383386911544,3.2959830009498554,0.6556238427517608,2.3508787096779193,2.7913592040966804,3.0503780885527556,2.8621004973781683,3.232053955029307,2.426393527595832,3.1434581679167155,2.441166402750774,1.6140359125921366,1.9963358498658679,3.0322021213921446,2.7282629466568755,2.605975868341498,3.0704914390435043,2.489008726933948,2.821638193907285,2.0427892446057085,2.9154890077203315,2.66844385631232,2.799627798263825,2.3531345044539047,3.1581523727289094,3.1222979229362093,2.084985831492094,2.8129860551167702,2.976757626120196,2.974632666632771,2.9939836771410047,2.8490712939408054,1.9631084753949368,3.1560432944703343,0.6431966013623626,2.2500106948801926,2.6776861553766476,2.9245035909653065,2.750857020436255,3.099636321927214,2.2926011666307198,3.0126074555757665,2.310741329640008,1.514692955010551,1.924492507011191,2.9087776656812325,2.6150706136714605,2.472956000053006,2.9436547263546267,2.3648529516032077,2.7074448937879394,1.9472676178087227,2.793634331823311,2.570286115451145,2.678298120872567,2.2482638652579365,3.0247878015770535,2.992003515908429,2.118871501419746,2.869136067866662,3.035433149309924,3.038710702647016,3.0402142509755747,2.8983025784954304,2.029864462046178,3.2185359859156017,0.6691801762176083,2.3195479734391737,2.741574728618421,2.994952109153736,2.8118200003432845,3.1636633267269407,2.343462952784239,3.0748749421332895,2.3796669206965,1.562678457138869,1.9721653505033825,2.964659790223442,2.6803309940470847,2.53032689989254,3.0048154120967743,2.4206680682204764,2.7682376072140173,1.9905015001400321,2.8598945844415335,2.6374756752938517,2.7450154534902835,2.312948103169501,3.076296567811738,3.0459580956784325,2.2933047476848234,3.0421331651845893,3.215914389366045,3.216049783854758,3.2051299167099763,3.0598520320266522,2.1961344826450864,3.3936587305119446,0.6522491418591387,2.488787907185787,2.9222263504166768,3.1625028413522447,2.990903612422947,3.3382542614390247,2.4905515832818703,3.2487933404289326,2.5388958722550923,1.7417928791980923,2.1536042013273056,3.142196052387373,2.8466731444110898,2.690265546023121,3.17916524307043,2.580101438094631,2.936903643841959,2.1809625811860505,3.0305952976049997,2.807195880992555,2.918441242212063,2.4891776476821468,3.257150751519232,3.2265999118248354,2.3205043855625966,3.129236892325859,3.290880127282583,3.3005412313621374,3.2648699499304974,3.119625556442804,2.247074071176095,3.481596702452714,0.70833941101566,2.5598829647297032,3.004264748647695,3.2452896367387285,3.0772224831927013,3.4461130121029755,2.491867619646968,3.3329394623748563,2.5770187105015965,1.7335967080737194,2.209706123371458,3.223397867509336,2.9174772046892756,2.7388019210845718,3.262662239027295,2.5972267337590087,3.013834698933056,2.214654627969946,3.109924735265584,2.8716330674369024,2.990865187473272,2.5567477150789837,3.3464988255375436,3.306279268591624,2.414733792982764,3.322987699260906,3.4694526144548967,3.4825584354710974,3.4166044082606883,3.2617169599473836,2.4373451492864686,3.6724495010570397,0.7912783112450036,2.7318323695405082,3.1766872986372183,3.4276544015050976,3.255890466502907,3.6043763903419546,2.6408218922890736,3.5235350730011783,2.694200841347478,1.840360105461609,2.3550525686791244,3.402406096797282,3.102519263589396,2.8657646919265156,3.4424558596353054,2.7621005650783794,3.200717971619602,2.3651131300784605,3.2873261299775063,3.063834148025958,3.1503970727529103,2.73429234006211,3.5361132256238674,3.4842581860247686,2.4897789228381932,3.3735243618477613,3.5416556033088193,3.5365978390205837,3.5359276189763134,3.3820287354418954,2.507795948243769,3.7320429425515096,0.7715713659318434,2.796927067449754,3.2351471588029805,3.4822337432797505,3.3049307053768,3.6375215373769643,2.7651136634086773,3.583626825991691,2.802978105502623,1.929848227211842,2.393192727211028,3.4745945620228738,3.158853298640065,2.9848083683797832,3.5160797556283825,2.8933824452303787,3.2547857914561846,2.4086630024716986,3.3451166481338763,3.1363199901608305,3.196270973283834,2.7983029653666245,3.6006668807066236,3.5487266875479953,2.532136893362401,3.4563906674911684,3.5924082975396487,3.5983439643628463,3.5879694189136857,3.432070638591072,2.5661932782287122,3.811895809295694,0.81715418828045,2.873548894947837,3.336607390414538,3.579236402735553,3.412367920180613,3.7536624269255,2.7855164611629752,3.6625524823298874,2.876288324209648,1.9300568490542036,2.4504312633375767,3.5525673755582168,3.2533012468376685,3.0342016518979227,3.5872978362340864,2.929407898744047,3.3525183185286114,2.4142258628420925,3.4159788717943917,3.233118599022005,3.2604838111177448,2.885494952724929,3.6791189833272444,3.6135747008118853,2.56275208583879,3.5732743036999777,3.719191140639943,3.753354165656352,3.6840390782917782,3.514096517407717,2.702318981190327,3.9537190586467412,0.9092702245473685,2.99164252957087,3.447331056862631,3.7035381569840573,3.5378716968054325,3.842097728574387,2.8923362825861987,3.8161905477883837,2.9346305440648184,2.0028714574406816,2.5472022488942097,3.699578375940782,3.375720513906388,3.1114187474844326,3.7349594690927495,3.0512475336860225,3.483570359789824,2.545403818404661,3.5775459820442013,3.343415505275461,3.404173184516497,2.9928727747537307,3.831089786961092,3.739208821831303,2.3776975447459265,3.376355835885298,3.5064813674781683,3.5338784233078235,3.487454379351754,3.322065062620057,2.6271727181879116,3.7366797791127135,0.913734330807448,2.878032731189283,3.2894010484896254,3.507731197711797,3.3516854191022354,3.584895908439192,2.7726096192493457,3.60558969105201,2.796048480360464,1.9180456275311006,2.384070968867407,3.503844316939343,3.20450218057121,2.954258050327652,3.540696556900946,2.9273366970005,3.306106681063322,2.4032517215257916,3.384159489995482,3.1804462366193826,3.2166348952931587,2.8644444444824053,3.612885902139377,3.526926764039524,2.4718149127218543,3.4572988660954547,3.595876367362993,3.6184126384682065,3.6449692825755298,3.476854908986241,2.6329458509192314,3.8071657258979075,0.8774257844997317,2.942346661532072,3.3904177606428174,3.565540963946303,3.428488794831488,3.697213811469939,2.822381853126848,3.66611306031128,2.899224689538092,1.959109552840653,2.436111458135881,3.590322082712326,3.2511553736491137,3.0575531484487195,3.6196436624282655,2.992686084183537,3.364791168192581,2.371383205017353,3.4234549669284515,3.2579142779187307,3.2774305182998984,2.9156664568970077,3.6948152368584184,3.6326391720188997,2.6865652265341358,3.7921550879605155,3.933800028620916,3.9661669461730877,3.929553236262996,3.7486251960304346,2.952359291541438,4.177465554552808,1.0050172621198592,3.2512213940320613,3.7159340135264967,3.924792769585786,3.7739271583253746,4.058612630142968,3.090333955423352,4.028525800684038,3.173732329704283,2.1445374396504198,2.6848317968785365,3.9222410941381245,3.5869550791449227,3.3319228990182777,3.9606742924502343,3.2692432690384305,3.704388930345104,2.6490478144646024,3.7782712135000076,3.5804827553540775,3.6081873098590003,3.229706522218307,4.052142903594758,3.9676056894858385,2.750356951252123,3.926874707881568,4.074539999428675,4.117483002093027,4.026910545748135,3.8352810158765367,3.0851972809196413,4.323066310444638,1.0834214892728624,3.407939594875768,3.8582738156695635,4.059272890973686,3.915464611549103,4.197657902648946,3.167638587652793,4.184925818446487,3.2647713385039974,2.2108389789682854,2.8225474690618104,4.0736696683486855,3.7292958585805485,3.4227406106619656,4.115867363792315,3.3501738192136203,3.849504810850289,2.769271499127469,3.936882489548843,3.7223174024357846,3.7537703725298712,3.364600431253583,4.199170999854054,4.105095555121589,2.7964963164490353,3.911426898841613,4.051313685513471,4.117409328439447,4.039081764358385,3.8451813548809843,3.057833914261534,4.314996680815079,1.0297741443900523,3.398385944427734,3.846463624034981,4.046701100372712,3.9085964968589497,4.18109235610769,3.1626182001747063,4.181844337328525,3.261624969835308,2.268913870738372,2.8674557836860974,4.078788664735867,3.72597437832548,3.4198222746460214,4.115839491264685,3.3467294944527,3.8511811144742074,2.785644433802495,3.9398872275773504,3.7124082971080936,3.7321786835430304,3.354131138954127,4.2028157492474225,4.079508568643572,2.8296790404278864,3.9816517574692996,4.1193602735694155,4.1846348422190704,4.076887535453277,3.8646057274240304,3.0807710313949808,4.382889304744804,1.0546425859994009,3.41764121820609,3.90665043369641,4.106386652994509,3.975614705938437,4.249159368948763,3.165379012274039,4.244471614276448,3.2600159925880554,2.258004431224277,2.9075410660288714,4.136281600634639,3.767121073751533,3.4091835316846284,4.17633543825218,3.3583580752806195,3.9043823108288267,2.839004139278129,3.9856551611841833,3.7630957603422375,3.784692901129095,3.3688831307966134,4.269678684430866,4.165783479589271,2.881397416945999,4.095171406681077,4.220113239185488,4.293638174012593,4.16521675689485,3.9576496683612548,3.2120835079067493,4.507479671916936,1.1121769197232625,3.528121257037492,4.014249665445201,4.221523552904859,4.080597659695041,4.3298406940573875,3.276021458787628,4.359254806386166,3.3314112078746323,2.346832626419205,2.9842701049481573,4.239120721559389,3.8765404919427673,3.492689752851694,4.286624033832685,3.4754797982978567,4.012118898484404,2.9355009152434723,4.101696396021688,3.876570475134621,3.8869436300771842,3.4898813698907416,4.37857888371844,4.267833045226379,2.8710066380111123,4.054203334980918,4.180579667172617,4.256238921558327,4.182499165419577,3.970721171214303,3.1590607151849066,4.462589203535866,1.072344872313486,3.4867738525122345,3.96864841928876,4.180255957128825,4.030109003121231,4.292567770377218,3.290395727146028,4.316527674791317,3.325605991716485,2.344908171761557,2.939299266616378,4.204676144400754,3.8371298007583055,3.5023438443401718,4.250171897085044,3.485946212843842,3.9673442273138835,2.863512702927349,4.060907904301668,3.834755609730989,3.8461931551276107,3.4473576154846994,4.3366481299382365,4.226824999293621,2.8913181846914973,4.064762111315836,4.209789409016526,4.264657041666789,4.19105353359684,3.9803805715501603,3.1576474043151443,4.4921486776585695,1.0841798902359123,3.4776897063561236,4.005888321449134,4.196702561321694,4.056180330037344,4.293541408383355,3.2677115781006556,4.334414298441424,3.3157510521320854,2.321588020138869,2.934997967766426,4.217616956356395,3.8270617570920575,3.4807972854110516,4.267699277161068,3.476423703773746,3.990227726239611,2.8766447838935036,4.06254484164628,3.842821431785583,3.8294346910352375,3.4372493742560724,4.36770007994352,4.25470662734244,2.8546136942824014,4.126132890683159,4.257396295959967,4.3365044938253945,4.217065760296357,3.9970538939507696,3.205163196083964,4.574588432771208,1.167160986487524,3.511767440794248,4.074976511510588,4.266887136255789,4.131402306330781,4.344934784687646,3.267633379231889,4.40917820233838,3.3140523617655213,2.2834947835175563,2.9454329000059185,4.287964635754401,3.878735926361173,3.468327864542332,4.336152438880917,3.491954271781693,4.056229253105043,2.8804125245214682,4.122937389822345,3.904232498262975,3.871734574778151,3.4687325850365744,4.43311575057832,4.318968315059492,2.7297250779201785,4.021437386629287,4.16543303920043,4.25254291222622,4.097251561575277,3.8872987841269517,3.122637693484046,4.475872180451067,1.1924274825028467,3.430131689075435,3.9698787175169388,4.157865514796152,4.024121764740527,4.228210167014722,3.1608214331503763,4.314612426103702,3.220427080822119,2.175281278351964,2.842358124625352,4.194569596486574,3.78236125748185,3.3703853303355706,4.245937204633947,3.3974715468936094,3.956134741362388,2.783357958873118,4.040429036504106,3.8210575222721177,3.791014100426488,3.403598093608442,4.331298932333773,4.217256941017883,2.6411059086111037,3.9284210215255397,4.099322206253074,4.163825400493344,4.002792130954319,3.8096537388719725,3.04011499077786,4.4009448741373465,1.1982197151450404,3.3441562299201277,3.892244819510828,4.066343030286938,3.9330598702125457,4.145386730979218,3.087763758708323,4.229663131687397,3.1492224915289078,2.0610574253879905,2.7321485012963724,4.11137996596233,3.694394015853712,3.3050627328364124,4.1606221332584905,3.310797263141009,3.876155492618974,2.686307463868548,3.952041713896068,3.7439083809749896,3.7167928864581086,3.3271346493611276,4.24719301694096,4.150312342836668,2.6181988633181277,4.063228150577882,4.246705470048236,4.331083150991775,4.1021457738409675,3.8951701576885998,3.1531210589941447,4.575059318219367,1.3700635574348756,3.453992574962693,4.041835196685149,4.206017164391502,4.076877455404286,4.268013698340279,3.1312752333038967,4.396155065307467,3.189856174533353,2.0212356682305166,2.764280358680107,4.273110383866591,3.816641929282177,3.3513442089584053,4.321852346038753,3.379470435802776,4.022653532905992,2.752593945148978,4.106979449710548,3.8645302763027507,3.854891934418807,3.433172929475506,4.426307310432717,4.316217438258367,0.0,0.0,0.0,0.0,0.0,0.0,0.0,0.0,0.0,0.0,0.0,0.0,0.0,0.0,0.0,0.0,0.0,0.0,0.0,0.0,0.0,0.0,0.0,0.0,0.0,0.0,0.0,0.0,0.0,0.0,0.0,0.0,0.36466612720504943,0.34837983077504037,0.37497723400365024,0.36421283030124174,0.3647582739496047,0.36876056035492644,0.3448970633190429,0.36203063678386477,0.34256873640107177,0.3461835629218511,0.3507909277969159,0.35276193263232886,0.35264109966640395,0.3518876742828839,0.37166019436455633,0.35837342513989223,0.35867482975394815,0.40368991746237265,0.34158517799236365,0.3612047829327556,0.3474721475966986,0.3731365046053604,0.3596716436087694,0.3641355390734682,0.3538166909424395,0.3826605895142735,0.3584605342885658,0.3463201361404955,0.3636858120952433,0.35610771038738637,0.3622575929222636,0.3642717813805029,0.372642175109241,0.3383786273606634,0.34375455192052096,0.33397886262451254,0.34038293822801247,0.3435481093726647,0.3233857668869997,0.33712651514859604,0.32446890003776235,0.32344735013280285,0.34012746707357494,0.3434308724276734,0.339742833426434,0.3445552138965313,0.3415328176136835,0.33479423217447174,0.3351399558559707,0.3115728589823878,0.3188390785995577,0.33918777631352487,0.33951504558450674,0.3347401135281896,0.3350122453116466,0.33911881795626503,0.3306034862921091,0.33300845011337077,0.3313337266448901,0.33137351831962614,0.34431544155667343,0.32398731947868975,0.33678855636768384,0.3404167232160102,0.3648450126773481,0.3496166087782855,0.3382925610152573,0.33495052819638943,0.33849491583196156,0.34293504133969194,0.34249825732742256,0.341680827534121,0.3449402096707486,0.3412192467211841,0.34866647657066824,0.3442172301084614,0.3451076051906649,0.3478639772052946,0.33766545757975747,0.3373626211949566,0.34037514390425594,0.302201707044196,0.3407378636121151,0.3395410319276872,0.3453336354318391,0.3344108492767697,0.3379247728948328,0.34211524215905703,0.3409069462961679,0.32837325740215617,0.3336160690202607,0.3479094881490091,0.3389735329855091,0.3364306892309711,0.34000477808861046,0.33580357337728095,0.300464368560177,0.3119095696341206,0.3119145110878459,0.3151065119363817,0.3145026181068746,0.31190505160521337,0.3168497133977937,0.31644318345291406,0.32195806585028147,0.3166995103592497,0.31095759574801496,0.3152410469693712,0.31300058992738156,0.3147126876468194,0.31549645563819056,0.3149754544964126,0.31205340899569467,0.34032897776714494,0.3160552168935403,0.31271988106889737,0.3120019852187517,0.31120461779144415,0.31345499010169675,0.31393236379361694,0.3165449452874603,0.3134404907380695,0.3131469686110405,0.3148441201135812,0.3062378460582054,0.3152766010110146,0.31472320224416034,0.3091867842610632,0.31438528348707995,0.30992609375842917,0.3074134916008691,0.3077176330962876,0.3078256638728053,0.30672929146638667,0.3081781323415702,0.3063743009476543,0.31169858481235735,0.30676960863646324,0.31051862812341857,0.30990008136263575,0.3072099045152938,0.3133235249402915,0.3054106350486068,0.3051913576614176,0.30245512425407955,0.30072827318336304,0.30842467217716724,0.30794952351838584,0.31142094909280543,0.3051813333771158,0.3065759281328144,0.30884391036282377,0.3076653499807193,0.30549445566368244,0.30711996213493226,0.31003284176936874,0.31349326229565755,0.3088063054248331,0.3081558478923749,0.3077045688555494,0.39586686087284895,0.36491183952261796,0.3754057061671921,0.37111547969244346,0.3682745715317515,0.3680168564035866,0.3498122990902139,0.3626022729316143,0.3448573124022226,0.35135490545141834,0.3685254458907154,0.3650329108535983,0.3658662622444736,0.36732088648256317,0.3690956792093968,0.3629805499565979,0.3675644685327448,0.35355235474995955,0.3462346178513843,0.36623337256356936,0.3629519339698981,0.365935109803894,0.36225148392813067,0.36725652189358926,0.36060817018900854,0.3680873271084154,0.3673994674743178,0.35546440288955267,0.3795797080228218,0.3583355810900722,0.36453400534837666,0.3722588246243227,0.3016086745428063,0.30267581261593246,0.3216381873898699,0.3224231187862749,0.31525758948620236,0.31569104836293094,0.31100755563594595,0.31503282848716985,0.3119339698980418,0.31148488396815277,0.30747246819103113,0.3077715727375313,0.3092005178831526,0.3067056059870431,0.31857851368920975,0.31666629885192765,0.316305399551673,0.3472988218627376,0.316264528001055,0.3185368920185003,0.3067744726762691,0.3290380461169319,0.31764631261637255,0.31490699111554965,0.3170701068904662,0.3395163452960902,0.3223433441996317,0.30962507417597246,0.3168088533357995,0.3210651299414949,0.31812655769542003,0.317482633248049,0.3338354642067218,0.3056366269539923,0.3220818826351125,0.321568072122845,0.31543598978665155,0.3172951000740677,0.30415290246216636,0.3133217236697776,0.30756568762556796,0.30507018337944725,0.3134260226475796,0.3132893447059636,0.3129288067283046,0.31141520399005435,0.31720293605697114,0.31598332818392705,0.31835833795319085,0.322311897943244,0.3107509905114696,0.31741958260350056,0.31351454927981875,0.323159908150796,0.3154577331822841,0.31746342516022674,0.31274602232686066,0.32890333707829156,0.3210477693262125,0.3083821546096996,0.32565294122180355,0.3108534388562568,0.3153616781880256,0.31769405278570156,0.340683821546097,0.38161390317078947,0.3400425172138383,0.35783044404037717,0.3557494410387351,0.35667697944021215,0.38632052270657413,0.36112802548057044,0.3880927416256758,0.3829077673529946,0.36944947124587846,0.3702079399479121,0.3754197794472085,0.3721708425900043,0.355445122648331,0.365091990466242,0.35733558759421935,0.32212472821689175,0.375249500998004,0.3580681989578483,0.3725421805038572,0.350073882786718,0.3588485600461649,0.36035132547473725,0.36825105687381143,0.3383426644556559,0.35967042748479877,0.37729984747948825,0.35313157468846096,0.3655199405111347,0.36213312371396206,0.35483849713405874,0.36350153746560937,0.36373409798559503,0.34663588393650396,0.3500484325466714,0.34676561835873787,0.3506537132875697,0.3620608632584681,0.35581547115978257,0.35484581206138094,0.36021414029867715,0.3652163416235273,0.36100726195058086,0.3622745354974446,0.352763988811893,0.34432167155894017,0.3543920349309571,0.3611197195411745,0.32124048026156854,0.350514226801652,0.3492902654579302,0.35713416410422405,0.34115400221882913,0.35190510052785506,0.3466490881125028,0.35554463787996726,0.3448332477231202,0.35029193543415105,0.3570691050331769,0.3555356468530122,0.35966075268646597,0.352240096383809,0.3556803043387128,0.31936451421481366,0.29836750615193736,0.318038784903286,0.30982272339264244,0.3111154176412196,0.31087149039856765,0.3012637152827361,0.31091701731671795,0.3000763837689986,0.3011236386086686,0.3090361647647077,0.30790893428084803,0.3038012901833648,0.300930620331818,0.3105443959588881,0.3120733349026763,0.31153024600597545,0.3238237977628762,0.30998063932195674,0.31283687451352127,0.306423002643362,0.31387319368313904,0.3148937505823734,0.3079259192009302,0.30733779117012655,0.31945150044603315,0.30709449826216295,0.30538961389260794,0.30943723877855617,0.301541062020104,0.3098328439645805,0.3145264659457648,0.29021200841560124,0.3361308864302877,0.3191799610537357,0.33469888521843444,0.33119699660757673,0.32731246916307455,0.3579625970256475,0.3336030561142837,0.3565010519501538,0.35346946805911234,0.336331095852054,0.3295760834600963,0.3399032797526134,0.3323656232638269,0.32306851706950596,0.3340977662085447,0.33154425561101575,0.33836158470368316,0.3632765699831568,0.33105275803552725,0.3370450882019745,0.3304211787939984,0.33663143818832447,0.32964376674030543,0.3449922120580804,0.32614973734473873,0.3364021956087825,0.3429174084263905,0.3142444840049631,0.34418349310917123,0.3355143524313756,0.32524733903350717,0.3344062145978314,0.3760137936185841,0.3514080664311177,0.3660329579315138,0.36180783552536866,0.3581914883982283,0.3937761995881052,0.3713140723058388,0.38861340382298476,0.3903650885827709,0.3781468722786089,0.3720414779474742,0.3772084427483307,0.3660452068835303,0.3597959548297405,0.37233555003016083,0.37546149793569855,0.37112895243590377,0.40080463697230173,0.36673753063830056,0.37367246048443653,0.3570052609235114,0.3686247161696264,0.3632540675625239,0.3809969935718439,0.3525522398211802,0.3706813207561711,0.38134021882524877,0.355699283543595,0.3767136632934449,0.3664420348492205,0.3628855348926657,0.3118987970005935,0.30386847407056994,0.3229877962324574,0.3159513246956009,0.31612430157759885,0.3139819394550808,0.3091671915839757,0.3166009443668969,0.3136899174623726,0.31265418289018154,0.3055507517782967,0.30754495729015874,0.3083754026384894,0.3084386938653406,0.31906907731771766,0.31670886957657174,0.31652938372823075,0.3460730712488068,0.3244794495093897,0.3164595198277833,0.3088050062038087,0.32616447481066074,0.31951579233016364,0.3126880056630313,0.31285288710438414,0.33006982509716176,0.3182576931079925,0.30866718651149794,0.3098487709266153,0.30605286512296026,0.31458537365423594,0.31516541911020135,0.32558666450882023,0.3146438723384832,0.3465522435158385,0.33794414350948343,0.3382208384058188,0.33409682902886284,0.3211173572304253,0.33477890783747827,0.32067747388106677,0.3230206359935138,0.32421401726790955,0.3219446704517659,0.3227632572692454,0.32054877959069583,0.3390838704440859,0.3348465078442624,0.3358063631219448,0.3806492772387071,0.3324728321135507,0.33831676598999105,0.32334224523925126,0.3455415842814958,0.3380482769105524,0.33565615418251615,0.3326429937208381,0.3582483290371862,0.33733112924729697,0.32253721059110285,0.33204363473824555,0.32723657084347474,0.3334327638159974,0.33829325051156206,0.2797151642660625,0.3000607834919212,0.30175678301373815,0.3044912229065981,0.3037288056583225,0.30198221692998567,0.30957601313888744,0.30383966769913634,0.3086813909718102,0.30602297894936153,0.29615713232479707,0.2977111000755493,0.29871167719776953,0.2963547679415943,0.3025381058694249,0.3052671458884034,0.30309587839846475,0.3144174635452949,0.3113027398656142,0.30498815814470226,0.2987282803761846,0.30614086163747717,0.3079995379157056,0.2996975623206089,0.3026633847991134,0.3099300810834266,0.30809093685216443,0.3047264324749355,0.3030053470921735,0.3165274644140442,0.3043961580057389,0.3048461154851428,0.3688406969844096,0.3744748410317273,0.3714977125395228,0.3763333494642935,0.3727570566103691,0.3747644646263467,0.3789891423653312,0.3740443147114181,0.37434699669729615,0.3784471861787818,0.3750075139296697,0.37155153471903535,0.37523776190716507,0.3698812775758884,0.3708091400470404,0.3740541963268386,0.3737799845966492,0.3610447729687511,0.3786343079606553,0.37290416562230083,0.37211160561759365,0.37544973947522114,0.3742588873576898,0.37584479652721225,0.377530183805134,0.374743814368912,0.3746453461320603,0.3732711011228976,0.3746801682991803,0.37633888291250045,0.3753905946151455,0.3750695792240566,0.341328801855748,0.3621787264002833,0.3386582491558381,0.34584845280292625,0.34647809447954386,0.3475350016741686,0.367110461994224,0.35264198985662315,0.3609154813496131,0.3621937153779352,0.35607744613732645,0.35395976527754075,0.35696067179793284,0.3525461198814493,0.34392356703239535,0.3515062371162671,0.34788938511705747,0.32954256000337756,0.3666734998471526,0.3475519696648867,0.35444648720576866,0.3392859404575104,0.34956763513649747,0.34922022212076254,0.3564196431960904,0.3370259090123709,0.34910988833144524,0.3617335926018561,0.3434693033495429,0.36718613647109605,0.3511875142893108,0.34646522922794815,0.38478329826832824,0.3965788213692406,0.37445366212257214,0.38448794363729205,0.38230890193970407,0.38087629755097746,0.39748251748956226,0.3851799243640561,0.3905441968915023,0.3959150757460022,0.3976172971211466,0.39006343723758213,0.39658470247614547,0.38797837576280697,0.37715932710164435,0.3856942164576896,0.3921955645105092,0.34736583572824137,0.3907862010856023,0.381918655094752,0.3924335709533315,0.3682158429489854,0.38072533377922607,0.3847367616317522,0.3927729309822267,0.3661752651599046,0.38662970528881574,0.39362966356978335,0.3804252315372932,0.39056063057472007,0.3811895091963527,0.38341041986880087,0.34924701947456444,0.3950312265282326,0.3478360666850943,0.3686483947843582,0.3657599931828545,0.36452256268681815,0.4095428644565665,0.3766801419683157,0.400232687777598,0.4023124498221364,0.3867195852824596,0.3808967034461252,0.38742593279004334,0.3811929948456895,0.3618635280888756,0.3767864148852173,0.3778158461685026,0.35049290373424713,0.3970015524506543,0.3689809570049092,0.3856201111290932,0.35556665751927413,0.37232986933585743,0.37005663469808353,0.3861803634258725,0.3500000390914216,0.37455523316301764,0.3945934175874296,0.3655029708921925,0.39704205790856023,0.37027504835888075,0.36472826988894097,0.37267950585315857,0.37627494046655724,0.36227275520370755,0.37124150517951154,0.3694250531963641,0.3717620025850281,0.382154881696974,0.37099767646174836,0.37330492168815527,0.379063630631084,0.3691895047925844,0.36942516300239214,0.3728188162223318,0.3741840152618596,0.37441916846410617,0.3732940139377266,0.3745450526696546,0.37001545004669195,0.37843537292639096,0.3697286224965561,0.3730847247589763,0.3700461256436264,0.36933569388659215,0.37712241649732525,0.37196906059181517,0.3717721291790545,0.3712345579112047,0.37466548125230764,0.37530585088326757,0.37927388466310624,0.37007650886863896,0.36930899908456255,0.33665231698764636,0.36113878687531387,0.35622819894771574,0.3699943356530183,0.36165535429399426,0.3608949520568254,0.3791869678766474,0.3651728243962526,0.3711456973440507,0.37195704616204794,0.363991173380395,0.3589840977061058,0.36461219670510775,0.35724309611734767,0.3585715597929245,0.36356388479891477,0.36087541994791333,0.38563258911085,0.3708285494153758,0.3612117223259226,0.3618363260174039,0.3615111240052662,0.3636966319361529,0.3624619052043472,0.3684089668895058,0.3668822480381971,0.36197307938325907,0.363985694175814,0.354579590447854,0.36623050340556507,0.3629435174201642,0.3612405298431719,0.3501226735717754,0.3953374804033487,0.37579659464456244,0.40105034058362704,0.38788166785344413,0.3883347563657018,0.4238040155252789,0.39682218155209675,0.41601966665838924,0.41440642635288644,0.4038893344442247,0.396226141653096,0.40698360340527623,0.38975279035159277,0.38430706017779587,0.3989463912012565,0.3989954076895089,0.41316986864500543,0.4237666775224993,0.39146222498517913,0.3988119690948434,0.38932755034388733,0.39396064174706896,0.38903404426772326,0.408661308293235,0.39231023786087577,0.3990410671043157,0.401649100107184,0.38938529740176453,0.40696634817275895,0.39422241395740115,0.39239008881350157,0.33023056589523664,0.35026805847763937,0.3372242479881185,0.34914971329201694,0.3415823354152429,0.34135585408390173,0.36716470080506713,0.3523584784260309,0.359242910575246,0.36257968641413524,0.3640922016969922,0.35248229937755005,0.3594637425236711,0.34443417832639395,0.33710947556907017,0.3525852993031137,0.3583245240399019,0.3383700870878689,0.3702539365713019,0.3460537079912615,0.35203406160651673,0.33656829994535026,0.3522172264806996,0.33841955508889937,0.3563911430677898,0.33761073622437854,0.34703426159264483,0.35493513954891204,0.33969199631624786,0.3469401419736045,0.34730008554319935,0.3461721492027293,0.35804607002211797,0.3647588959295547,0.3446329059174166,0.35771563986494426,0.34355657337416756,0.34469840650126066,0.36689431682475016,0.35542419454446966,0.35470937404470343,0.36237735022800194,0.37052895496009275,0.3629329271852445,0.3652591329981711,0.358239785784696,0.3422263609066609,0.3548566536098008,0.3607288083407653,0.3135585468311321,0.3589757640057042,0.34704218816708127,0.3625201891058179,0.3365440788117175,0.35263031780233745,0.34770906141214314,0.36159223945152097,0.3340863904779552,0.35240445421021777,0.3649735385159991,0.3523602846956141,0.36535428684953175,0.3482157702145727,0.35264062062869034,0.35811468953983927,0.36452207680167154,0.35354159734425755,0.3661084412643061,0.35774583932408416,0.35969447410069816,0.3748650795374994,0.3639189760674136,0.3664416100231969,0.37230842871755165,0.3726369598854629,0.36220604422402886,0.36846658871914817,0.36341869700402635,0.35474762580734126,0.36307782508755565,0.3678676153539194,0.3453728657061123,0.37579408796175273,0.3617465753479441,0.3677541973571914,0.35707801908010195,0.36250752534285474,0.3606479476915435,0.3683383092464929,0.3556497398205287,0.3620004884301292,0.3661985645982652,0.3638148940544151,0.37014793100738863,0.36138692153362817,0.3613570227200982,0.3758867130603658,0.43640846354918217,0.38123676111064175,0.41118542922104917,0.40078528602976526,0.39935627856537864,0.45219083800890786,0.4131545129182667,0.4418102205153104,0.44441937331158893,0.43006505057403266,0.42509302683304,0.4335324229483492,0.4221434671421063,0.39623189772203676,0.4129448963085668,0.4124865017207991,0.3551135097607371,0.4400920980861101,0.40466611529485785,0.4294132707557858,0.38396614526528616,0.40988758764207867,0.40873068190141365,0.4290419696856823,0.3720637065078617,0.411306356880833,0.43730888346157815,0.407979407979408,0.43368546425961013,0.41100904894318074,0.4029437308588929,0.3946924169678661,0.4136600101944414,0.40086106985582376,0.40701093507209224,0.40459765326179004,0.4028081110088628,0.42294427000089213,0.41036953635896384,0.42067246138353925,0.42393368535848286,0.41085706536305344,0.4131629481380323,0.41194760834332506,0.40975560549662354,0.40734877346012877,0.41101554368302123,0.4090927212089144,0.4153976418490868,0.4213464234122917,0.4067420613644493,0.41370523534655274,0.40162689561283677,0.407741079986589,0.40949073147298654,0.4125790219014485,0.3967257025314823,0.40531124332049273,0.4160795575690786,0.40037435700395496,0.41059690999810766,0.40579857714246087,0.4052497086642537,0.3917378216539894,0.36781829820061057,0.39827504164118555,0.3873532857065792,0.38840254284731573,0.3901356553302662,0.37128160911183106,0.3869881376243652,0.3615750705795617,0.36968454188602135,0.37237924902595565,0.37542338854885,0.37797963388254585,0.3766182669625784,0.3976223865541561,0.38510439599511465,0.38656038985858077,0.4356742742482134,0.3836129992267717,0.38777973234315655,0.37472776484453135,0.3974123799991088,0.3866436823323051,0.38954263553175494,0.3818879977562613,0.4049182969744022,0.38543458449895585,0.37456190846160914,0.38460547534275086,0.3729222794474644,0.3824768427843706,0.38920486857932585,0.4236133139127152,0.4232385950469783,0.42980173950114603,0.4299268355181529,0.4316639192493535,0.4328076886931077,0.431628091845011,0.4343648115742989,0.4204515279822167,0.42891201600130807,0.43123571532753174,0.4271657722237044,0.43145546176367605,0.42777049109534143,0.4333133344848447,0.4303743560517513,0.4356361969371589,0.4627533124116046,0.43161933105046885,0.4290875401247515,0.42459275515036,0.4281851910163223,0.42939948740248146,0.43161434230101775,0.4304167499169163,0.43314572382848876,0.4233278062600668,0.425375195691064,0.42117960828664425,0.4090528111767986,0.4261310719616109,0.4275986236728112,0.3650822894751039,0.3994067499211443,0.3768605093431547,0.38680415954896413,0.38883747016417985,0.38711882720438606,0.41351283995657023,0.394971405431267,0.41265847265473016,0.40940348557414435,0.3969906012716108,0.39262081222820705,0.39962688026564314,0.3949055360806858,0.38827559504577036,0.39205091474178305,0.38669601485437904,0.3914253748671869,0.4169189925926453,0.38853655126079667,0.3952310412498437,0.38299711703773154,0.39114189359398943,0.38928767382834867,0.398860247280906,0.3749406787678072,0.3881015967370491,0.40431861164945,0.37645519771268277,0.4000811720026232,0.3904049372933035,0.38378355480334736,0.3275067882253511,0.3688500438979482,0.3754621034351839,0.3892686851201073,0.3808099661533241,0.3793211200404478,0.39096459174919906,0.3835946254878703,0.3858316085546625,0.38441655276773284,0.3750334620946255,0.37243480863241346,0.3770868743270714,0.36408394232945135,0.3831302124241475,0.3828918343551578,0.37921292987288663,0.4273330034017356,0.3897195369021717,0.38388033063702137,0.3729652648371212,0.3884552374882042,0.3850201072446582,0.37676334688712376,0.382639869695758,0.40003897675337413,0.385029717408353,0.3764106010513197,0.37677454186436227,0.37539486487443524,0.3838295278536511,0.3837673872195288,0.343019834205463,0.38838250126585,0.36668147969615833,0.38284773665629607,0.37717770035840903,0.377414456613176,0.4040412265504728,0.3850313927994505,0.39996029510625325,0.3941256567154771,0.3863896446244608,0.3821119682586134,0.385323414231445,0.3794411480653996,0.38243484474971046,0.3839164949905969,0.37986647860389744,0.3843248090579515,0.4058702787694804,0.3797069408840764,0.3868038050539847,0.3792799340605902,0.3819160802843438,0.38172815286441697,0.3891001541176193,0.37514728996114055,0.37926180383074637,0.3917254394335233,0.37316866695609213,0.371491998464524,0.3841481187285294,0.37765859323431206,0.47310239580898267,0.4334572412471998,0.47176495177660993,0.46108370963425566,0.4585550685702294,0.4583057760075987,0.4307704438733558,0.44415097654415897,0.4316858062082613,0.4245421254294097,0.42927990498449586,0.4358949069145116,0.4328799589027521,0.44262653675827335,0.46835552090180455,0.44720916857144405,0.4476974750627446,0.4927259464619528,0.4403487707839006,0.45594934622593597,0.43256130889065025,0.466476799632228,0.448885418897395,0.45763690913391514,0.43998770095053724,0.4844548271260065,0.45374312935690186,0.433348618665984,0.4627608361141296,0.42099633783970997,0.4559009779668463,0.4558533213732739,0.43668430706155265,0.4428152858766632,0.44224219071338994,0.4503927614904192,0.4492926874038855,0.45254165175271877,0.45336156768219116,0.4514485638199149,0.4565179663196131,0.4508602837477442,0.4509182235572313,0.4459156720097168,0.4484356772759806,0.44193206538198376,0.4468366286747873,0.4472548286120007,0.44390079202475696,0.47867326451679487,0.4496915674310884,0.449653264947167,0.4402967558524445,0.45064292909255166,0.4462312453330418,0.44458320498922227,0.4458872928184306,0.45900867673192597,0.44770945229804304,0.4440351706437717,0.4573022897873198,0.4372002874292414,0.4481877459388153,0.4484040658653266,0.38485191778604955,0.4075548702120559,0.372265527202335,0.3834212692602531,0.38304138900223805,0.38669758529892284,0.4167278387052076,0.39751367248209507,0.41028966841092596,0.4129566791921495,0.40365703690981714,0.3968236802166546,0.4011090620788564,0.39508735074603346,0.3822594335257084,0.39248173701298705,0.3998484496135471,0.3534367223250327,0.4057414300528074,0.38648654218891304,0.40139529666535656,0.3774121777010023,0.3889770424051862,0.38951508102231047,0.4007246714207793,0.3681582682656622,0.38850087074196893,0.3998666373816075,0.38622512857168545,0.39768527522137953,0.387084434000174,0.3835123756142406,0.41987959216701737,0.43628822005376594,0.42842061119841846,0.43856653098023307,0.4384950691593775,0.4448813733528975,0.4561790524233286,0.4455011330611693,0.4520647047817707,0.4474787279102179,0.4414104682710329,0.43520060042699704,0.4369411462153398,0.44123750471055867,0.4433119723580088,0.4370504079055726,0.4279076539364475,0.457561727309189,0.45123992969302357,0.4373791793982026,0.4363983206474225,0.4448726078981872,0.43849365904256127,0.4443124408182098,0.4443751647760298,0.44365659593464857,0.4368392828013765,0.43985665053030326,0.4385956048006947,0.4317711310666577,0.43877649346768255,0.4334606377448175,0.5082629695563827,0.5208094515354995,0.5029899086122922,0.5105299979947744,0.5131046882863314,0.5115172655187518,0.525273709401043,0.5133351456541015,0.5210330465195735,0.5199337648421833,0.5139457568285627,0.5147954822007402,0.5189402275492193,0.5213191255257125,0.5133231862582794,0.5144915786991012,0.509886602243909,0.4929944040071611,0.5302859382051,0.5119260714687209,0.5154214564436123,0.5001387176545014,0.5098952543413622,0.5135246622302998,0.5173079024786326,0.5024433367052477,0.5143634422298078,0.5204140942988249,0.5146430238897092,0.5048647267254172,0.5104577436412339,0.508694449792978,0.5201211990433547,0.44879758056404767,0.5017599724981422,0.47504490791299536,0.48209618581820046,0.48142793783774607,0.4356612997287531,0.47120570400650874,0.43529230577883277,0.43644451803486684,0.4595801006921623,0.46606827753319024,0.4575411521271817,0.47189611037664936,0.48389131287211284,0.4690502840624473,0.4695052401153497,0.4852460374980553,0.4414735636691725,0.4805208885497289,0.4591816660116062,0.48021689400562095,0.47357867160262374,0.4727558997166125,0.4579298767992809,0.49227966576313364,0.463042966282915,0.45308493227654906,0.48060173854656324,0.4321221022260121,0.4716509789760432,0.4813212277832656,0.48919861178543816,0.42862429111680617,0.4985759259035716,0.4717227960801843,0.4757005659418986,0.4766195411820221,0.43213609939129494,0.4642105290060942,0.4292146081068237,0.4301444268703868,0.4373350308636879,0.4425912499501623,0.44053643760761785,0.4474274248974848,0.4815441429653373,0.4630692763324092,0.46907685541269445,0.5273808937438201,0.44678303624411414,0.4739968744429212,0.43644589328421673,0.4949359045883389,0.4689796717940431,0.4662703691402392,0.44760050948744995,0.5183462854381886,0.46873458222367553,0.43537527845911084,0.4773388046484711,0.42788169717546265,0.4668315514585832,0.47646085411775413,0.5355655535775297,0.4693031855307305,0.5137960772797294,0.4929237448337484,0.4971310779269703,0.5017996551717432,0.4615583800728218,0.48850385502565524,0.4578599332865801,0.460749379430253,0.47489683744602484,0.47686955891112653,0.4745937876292088,0.48426429433165963,0.496219472445232,0.48515118215776565,0.4874649208027665,0.5024820707195089,0.4632083580586575,0.4937275590214611,0.4736777682729779,0.5049546478080714,0.49002457780900904,0.491267841523428,0.4776243594606869,0.5154306163939073,0.4870715248121151,0.4671098822595829,0.5061660952165659,0.460145798442734,0.48839971500279467,0.498937792035566,0.5202269335203468,0.4878847134042897,0.5230541655837083,0.5100449608013892,0.5113911596817123,0.513833210578807,0.49307516670760776,0.5070531564400858,0.48741721511931096,0.4908494125383876,0.4961900328260465,0.49260598165579306,0.49617625343999217,0.4949162513458921,0.5130919187393396,0.5049905414800625,0.5085346114091814,0.5459698112587986,0.5016704339069609,0.5109254790529996,0.4882451980545395,0.5218159186914069,0.5102285936297913,0.5065203977556103,0.4996280394309337,0.5308418611269432,0.5077645578144135,0.4911247527265492,0.5210717272019668,0.4834942887082726,0.5062090887595594,0.5135847170053186,0.48398784413155677,0.49099418157052893,0.4927225422959619,0.49405820617074586,0.49381063983403894,0.4957828464668799,0.49551099148008276,0.4961604618813639,0.49151753442921114,0.48968059414519444,0.48506173318619855,0.48690560756275225,0.48560615540828506,0.48841147032015303,0.5025568288876535,0.4919272665109118,0.4865130769704601,0.5128075224404306,0.4936439090930109,0.49099152748181224,0.4858639845148828,0.49793366934085503,0.4924315232099664,0.4944830016960148,0.48759981849338857,0.497428800839371,0.4887707302805678,0.4863780106220226,0.497508246973602,0.46704809146690096,0.49319199108677303,0.4908013087562387,0.49515491539443646,0.4699491829132548,0.49321817862435746,0.48219732935521953,0.4848708797310003,0.48704251915712216,0.47157844265540644,0.4852350671552113,0.4643057915700132,0.4660045474196584,0.48468237148305593,0.4749051915122173,0.4769513708498643,0.4777352245316318,0.4818002663158682,0.479735456948219,0.4850550466743613,0.49191347035658417,0.47757954061846286,0.4832881342000858,0.4703683487593668,0.4874078664058487,0.484600818058902,0.47905460228740504,0.48391414118709536,0.4909352466238694,0.48020892824343964,0.47483386304494096,0.48481436419310675,0.4656195929487582,0.478460797104082,0.4876953496702549,0.47028983474492464,0.4900765818131088,0.480628194755692,0.4858276878750638,0.4875639397004629,0.4891350146422484,0.5038688433061452,0.4963569040463689,0.4948083787380195,0.49858218229299606,0.5010201720723535,0.48800553192727747,0.49598899307707506,0.48658457742290084,0.4899082502818151,0.49171556588472765,0.492159633743275,0.507703746443658,0.5044591897286509,0.4905951830918226,0.48785400986957883,0.4928219940846862,0.4931750087438711,0.4871736640978645,0.49900427944340126,0.49009399923224456,0.4915884195022348,0.4944950137165707,0.49233103933702743,0.4861610352364139,0.49042738901678173,0.49148248346950185,0.511155994317671,0.4825178768292542,0.5087975436923559,0.4977601028543262,0.501907713276854,0.5058319475995074,0.4855801424883849,0.5007169939266684,0.4772587932243621,0.48322643908941904,0.4876099783028783,0.4847504353082239,0.4841918376059771,0.49274003064422234,0.5086887469791387,0.4928041176918423,0.4899165140788278,0.5232688559426389,0.4974804744864626,0.49886443242180756,0.48224956470585223,0.5112170488634952,0.49962415794751125,0.5016352704391261,0.4921045653580584,0.5166003285243067,0.49708322140422234,0.48937405170938114,0.50168517533787,0.4767748262024416,0.4948099135430188,0.5002363394876079,0.539620362877848,0.48363631710937105,0.5428276145514236,0.5189713709835232,0.5288545229995133,0.525001004576161,0.484997040390665,0.5166667064706923,0.481901399902897,0.4850177599226561,0.49841939458705936,0.49971990399765,0.4967093234960726,0.4942349278277423,0.5303007671738101,0.5144958955961951,0.5175795811099672,0.6016163744359527,0.5130284090763133,0.525641744815642,0.48952381312022036,0.5387330760671037,0.5218214294861002,0.5179947917205111,0.5073583502440075,0.5592885852714023,0.5203988901219441,0.4929424151579841,0.5219358855372542,0.4800178216257822,0.520028832572032,0.5275305794435474,0.5145125245005485,0.45790105389656294,0.5201535449164086,0.4938457782840709,0.4964206770778342,0.49597634972706006,0.45678794548334883,0.4886072407884254,0.44592772787757823,0.45140293982403884,0.46892049112536716,0.47199363217993767,0.47194565103404684,0.46689538700766253,0.4977905479230811,0.4857644283869958,0.4956948175447348,0.5485930606472132,0.47947811584039135,0.49715010505521323,0.46593105038314625,0.5141079767609318,0.4946442610664168,0.4888059082888936,0.47792240308457884,0.5347110713942269,0.49021600145223443,0.4624712295894931,0.4982738512678633,0.45131678626747324,0.49087158556576865,0.5045870768410422,0.5281783819747892,0.49700070470280056,0.5238639587375744,0.5159941264384952,0.5128904678467973,0.5132765216471892,0.49599382523460844,0.5093358262453666,0.4931140309471148,0.49074622976613125,0.4997493838903877,0.49773768276813557,0.5033206189480336,0.4983160591768377,0.5163589390207256,0.5059349569288499,0.5124232225964932,0.5420297673356773,0.5098229050740695,0.5140950887666641,0.4955828315055861,0.524159280342566,0.5131922128551598,0.5124331416138047,0.5072919327701431,0.5299648515998425,0.5171295943650789,0.5009320596480368,0.519657938520214,0.499876100542415,0.5098565182393241,0.5178337604675769,0.5906448004891119,0.5431787520170754,0.5422840554810244,0.5364183666129775,0.5368807935590613,0.5393619535321533,0.5259438684738086,0.5364576682564146,0.5227667802533073,0.5262665170488348,0.5542191160976448,0.5464946797577428,0.5524173875101054,0.5485942910014767,0.527774485067239,0.537810506522401,0.5446171339240521,0.4601719240719502,0.5244553775332219,0.539053467957293,0.5463569851802188,0.5301395485566275,0.537947377291961,0.5324465418988569,0.5373148854585981,0.522170512089804,0.5368140043685382,0.5343117097118186,0.5567407698545424,0.531187491773966,0.534544705057451,0.5464595632141457,0.4901224937512363,0.47069359489499984,0.5000765021590627,0.4885267346130546,0.48917200410010975,0.49348361249285677,0.475136527489909,0.4918946326190432,0.46646228938519363,0.46702354078102587,0.46922865544550746,0.4762545930707895,0.4734214795839531,0.4737663492977865,0.5007256639137374,0.48742819833295137,0.4894006719334787,0.5268912234285835,0.4760974697252143,0.4917526221983634,0.47209889764081386,0.5103852946732406,0.49184890886986704,0.4912213974431004,0.4792336828888725,0.5184099486104173,0.4870457042138234,0.47222093008769667,0.49360270647695803,0.45791372107856787,0.487712648909826,0.49211668295180666,0.5229559080038123,0.48223370173819285,0.5143283858587765,0.5057251329821998,0.5042531558054653,0.5045193479024723,0.4802516963070856,0.49701342017140115,0.4741283986081891,0.47830750906393743,0.4864586965677642,0.4891130032120312,0.48950332122113566,0.4924443627662191,0.507001277633179,0.500187077764735,0.5002808917065511,0.5180824015893009,0.4882444870019721,0.5061054614870453,0.49042685876637976,0.5175567490166554,0.5015909573544305,0.5045205787063536,0.4924717257177338,0.5328920302755242,0.5063189066457084,0.48135290113583534,0.5186776703992274,0.4876798841310994,0.5019643806705398,0.5053003809940319,0.5403876930823039,0.49774703612278465,0.5208233485762499,0.5134195579901595,0.5184645591306792,0.5179894977586093,0.498092472095202,0.5128687567017939,0.49159832362302425,0.49077978232345976,0.5115417222795324,0.5083176335662802,0.5085957597094598,0.5079297556168815,0.5132837288477843,0.5122483335292093,0.5198920288342508,0.534881881360663,0.5050355295415176,0.520869746118738,0.5073638496494784,0.5242169157572049,0.5167667401050635,0.5146101666146942,0.5119516097934262,0.5303309753387858,0.5126729817965651,0.5002349650178992,0.5223133045363585,0.49212988714573785,0.5115075568664107,0.519156565880294,0.5572469475463488,0.5138950104444117,0.5680005977612094,0.5471941739014213,0.5518830037013416,0.5518735150859589,0.5105270623741036,0.5407037644734127,0.5031534116451781,0.5012125892057206,0.512011310773073,0.5195747934412729,0.5199225775210902,0.5233044117101004,0.5564186838324344,0.5388414885888689,0.5376164922134155,0.6202763098948989,0.52858530686375,0.5497263920840239,0.5163079506366932,0.5680526285853675,0.5454654728606825,0.546802867567436,0.5261078532909871,0.5889490310409342,0.5389433175728888,0.5138868749572343,0.5478833998669328,0.5056991450263729,0.5453456721416517,0.5504811201964606,0.5805939832047617,0.5529829416506065,0.592925878746715,0.5841257112638982,0.5848075402368091,0.5818666261217291,0.5540974137222817,0.5769985383828012,0.5495423117728507,0.547897724499521,0.5645106878233482,0.5640639436118684,0.5678563253262645,0.5639455495817772,0.5872757151207133,0.5770878728167277,0.5778240228106454,0.623217079354804,0.5749045152937369,0.588545348214785,0.5601287738551213,0.5990179526376156,0.5822356017266198,0.5817553697263791,0.5719677690236573,0.6148286955270814,0.584542015206579,0.56110658786557,0.5965781516118343,0.5581335449070568,0.5810689707182437,0.5865239509780581,0.6176653539767313,0.5785964391877566,0.6058521429368231,0.5928986562324666,0.5978601061327329,0.5952420453365643,0.5711222207589768,0.5932169988436363,0.5672114217510925,0.5671072545649862,0.5909147137483323,0.5901264058772673,0.5910378284925563,0.5899338187436991,0.5994416634125749,0.5948831636846234,0.5981351974711002,0.6219903905467562,0.6002030323736911,0.5993864945670518,0.5860726914253861,0.6038371259830516,0.5960432158186649,0.5971376846395103,0.5946106589195412,0.6026748109734312,0.5975874193307631,0.5856128701413134,0.6083166036010348,0.5656722565669379,0.5916646943289373,0.6016886031056166,0.5821256226286167,0.5572257626613915,0.5781617213404083,0.5660841314664184,0.5706578571619192,0.5714478700257144,0.5559610275121899,0.5699094262073773,0.5428418365970761,0.5467887564261288,0.5552352489970113,0.5577806604928048,0.5593878807855291,0.5593411514983372,0.5779221559360823,0.5673316405024864,0.5739843043177864,0.6031486380939649,0.5705738822654991,0.5717183247474706,0.5532951200815872,0.5794983329463284,0.5702075570788147,0.57457907081903,0.5676172347853986,0.5903347437518227,0.5731281621694101,0.5583098471945778,0.5808023431900677,0.5514450670667649,0.5672650750347074,0.5723121280796007,0.6330143316969665,0.5470258026171201,0.6149169122262759,0.5855699774177893,0.5934720386997362,0.5907834021010953,0.5294681490855321,0.5770647780011086,0.5204289506572441,0.5215492767209922,0.556781369845955,0.5636884807015438,0.5597079704604575,0.5663225383210414,0.5923348222261864,0.5771109570594976,0.5804531377836896,0.6378683877837744,0.5589924805044566,0.5937479070086306,0.5610132520030725,0.6070738810276041,0.5856646854101945,0.5843919014468161,0.5613455595295488,0.6240059051501384,0.5778529500453955,0.5483552915813396,0.5976402568094186,0.5361091252778467,0.5824896522454265,0.5979463763974896,0.6169273704842567,0.5816252412509898,0.6221388233430521,0.6136148698703737,0.6129077909318384,0.6051105751934023,0.5822321881585707,0.6024489396635729,0.5716175644207081,0.5712811642971912,0.5931357542927261,0.5911781989959539,0.5993960194776305,0.5868118930618931,0.6093173929849205,0.6048065792919836,0.6076910139577358,0.6630321612943326,0.6061191281101461,0.6147501550012855,0.5840846135271286,0.6207630713895359,0.60923366538636,0.606080658941401,0.6013261853955468,0.641282749815684,0.6118207287736533,0.5840938749621385,0.6212535193448367,0.5758522146158639,0.6097959800201033,0.616959062805157,0.6264853356350363,0.5872051121003218,0.6321340445724423,0.6157733447040862,0.621859148355201,0.6203946710661384,0.5892408674462215,0.6107415279461812,0.5889635930841022,0.5804857757420281,0.5880452917172336,0.594495218234042,0.5985007866527087,0.5990897390897392,0.6277057234756516,0.6096210892851986,0.6012175893291323,0.7169764466366914,0.6195217522912134,0.6247195629665384,0.5874158915117,0.6448333723270264,0.6147322464388333,0.6251060353787826,0.6066442493962455,0.6619026928516646,0.6191649206986837,0.5863842529635943,0.6245596403717661,0.5796436777944352,0.6194582087892611,0.6220187134646386,0.6223396809983638,0.5697433138376252,0.6004256810236885,0.5816434017705373,0.5883142555031262,0.588102024726768,0.560862745009892,0.5821796544258652,0.5528894350937765,0.5530218482710558,0.5749337027972614,0.577419045699437,0.5749595853856285,0.5851685948916489,0.5872048365456047,0.5775555970222886,0.5840477274045245,0.586954938536558,0.5829594864325404,0.5894059729847339,0.5758899919594531,0.5984935314447487,0.5855609553873028,0.5925432643831213,0.5832183587922111,0.5965476215606391,0.5850393675096948,0.5678468849127533,0.5922017371306294,0.5573004865933715,0.5824366600500048,0.5900448412517024],\"y0\":\" \",\"yaxis\":\"y\",\"type\":\"box\"}],                        {\"template\":{\"data\":{\"bar\":[{\"error_x\":{\"color\":\"#2a3f5f\"},\"error_y\":{\"color\":\"#2a3f5f\"},\"marker\":{\"line\":{\"color\":\"#E5ECF6\",\"width\":0.5},\"pattern\":{\"fillmode\":\"overlay\",\"size\":10,\"solidity\":0.2}},\"type\":\"bar\"}],\"barpolar\":[{\"marker\":{\"line\":{\"color\":\"#E5ECF6\",\"width\":0.5},\"pattern\":{\"fillmode\":\"overlay\",\"size\":10,\"solidity\":0.2}},\"type\":\"barpolar\"}],\"carpet\":[{\"aaxis\":{\"endlinecolor\":\"#2a3f5f\",\"gridcolor\":\"white\",\"linecolor\":\"white\",\"minorgridcolor\":\"white\",\"startlinecolor\":\"#2a3f5f\"},\"baxis\":{\"endlinecolor\":\"#2a3f5f\",\"gridcolor\":\"white\",\"linecolor\":\"white\",\"minorgridcolor\":\"white\",\"startlinecolor\":\"#2a3f5f\"},\"type\":\"carpet\"}],\"choropleth\":[{\"colorbar\":{\"outlinewidth\":0,\"ticks\":\"\"},\"type\":\"choropleth\"}],\"contour\":[{\"colorbar\":{\"outlinewidth\":0,\"ticks\":\"\"},\"colorscale\":[[0.0,\"#0d0887\"],[0.1111111111111111,\"#46039f\"],[0.2222222222222222,\"#7201a8\"],[0.3333333333333333,\"#9c179e\"],[0.4444444444444444,\"#bd3786\"],[0.5555555555555556,\"#d8576b\"],[0.6666666666666666,\"#ed7953\"],[0.7777777777777778,\"#fb9f3a\"],[0.8888888888888888,\"#fdca26\"],[1.0,\"#f0f921\"]],\"type\":\"contour\"}],\"contourcarpet\":[{\"colorbar\":{\"outlinewidth\":0,\"ticks\":\"\"},\"type\":\"contourcarpet\"}],\"heatmap\":[{\"colorbar\":{\"outlinewidth\":0,\"ticks\":\"\"},\"colorscale\":[[0.0,\"#0d0887\"],[0.1111111111111111,\"#46039f\"],[0.2222222222222222,\"#7201a8\"],[0.3333333333333333,\"#9c179e\"],[0.4444444444444444,\"#bd3786\"],[0.5555555555555556,\"#d8576b\"],[0.6666666666666666,\"#ed7953\"],[0.7777777777777778,\"#fb9f3a\"],[0.8888888888888888,\"#fdca26\"],[1.0,\"#f0f921\"]],\"type\":\"heatmap\"}],\"heatmapgl\":[{\"colorbar\":{\"outlinewidth\":0,\"ticks\":\"\"},\"colorscale\":[[0.0,\"#0d0887\"],[0.1111111111111111,\"#46039f\"],[0.2222222222222222,\"#7201a8\"],[0.3333333333333333,\"#9c179e\"],[0.4444444444444444,\"#bd3786\"],[0.5555555555555556,\"#d8576b\"],[0.6666666666666666,\"#ed7953\"],[0.7777777777777778,\"#fb9f3a\"],[0.8888888888888888,\"#fdca26\"],[1.0,\"#f0f921\"]],\"type\":\"heatmapgl\"}],\"histogram\":[{\"marker\":{\"pattern\":{\"fillmode\":\"overlay\",\"size\":10,\"solidity\":0.2}},\"type\":\"histogram\"}],\"histogram2d\":[{\"colorbar\":{\"outlinewidth\":0,\"ticks\":\"\"},\"colorscale\":[[0.0,\"#0d0887\"],[0.1111111111111111,\"#46039f\"],[0.2222222222222222,\"#7201a8\"],[0.3333333333333333,\"#9c179e\"],[0.4444444444444444,\"#bd3786\"],[0.5555555555555556,\"#d8576b\"],[0.6666666666666666,\"#ed7953\"],[0.7777777777777778,\"#fb9f3a\"],[0.8888888888888888,\"#fdca26\"],[1.0,\"#f0f921\"]],\"type\":\"histogram2d\"}],\"histogram2dcontour\":[{\"colorbar\":{\"outlinewidth\":0,\"ticks\":\"\"},\"colorscale\":[[0.0,\"#0d0887\"],[0.1111111111111111,\"#46039f\"],[0.2222222222222222,\"#7201a8\"],[0.3333333333333333,\"#9c179e\"],[0.4444444444444444,\"#bd3786\"],[0.5555555555555556,\"#d8576b\"],[0.6666666666666666,\"#ed7953\"],[0.7777777777777778,\"#fb9f3a\"],[0.8888888888888888,\"#fdca26\"],[1.0,\"#f0f921\"]],\"type\":\"histogram2dcontour\"}],\"mesh3d\":[{\"colorbar\":{\"outlinewidth\":0,\"ticks\":\"\"},\"type\":\"mesh3d\"}],\"parcoords\":[{\"line\":{\"colorbar\":{\"outlinewidth\":0,\"ticks\":\"\"}},\"type\":\"parcoords\"}],\"pie\":[{\"automargin\":true,\"type\":\"pie\"}],\"scatter\":[{\"marker\":{\"colorbar\":{\"outlinewidth\":0,\"ticks\":\"\"}},\"type\":\"scatter\"}],\"scatter3d\":[{\"line\":{\"colorbar\":{\"outlinewidth\":0,\"ticks\":\"\"}},\"marker\":{\"colorbar\":{\"outlinewidth\":0,\"ticks\":\"\"}},\"type\":\"scatter3d\"}],\"scattercarpet\":[{\"marker\":{\"colorbar\":{\"outlinewidth\":0,\"ticks\":\"\"}},\"type\":\"scattercarpet\"}],\"scattergeo\":[{\"marker\":{\"colorbar\":{\"outlinewidth\":0,\"ticks\":\"\"}},\"type\":\"scattergeo\"}],\"scattergl\":[{\"marker\":{\"colorbar\":{\"outlinewidth\":0,\"ticks\":\"\"}},\"type\":\"scattergl\"}],\"scattermapbox\":[{\"marker\":{\"colorbar\":{\"outlinewidth\":0,\"ticks\":\"\"}},\"type\":\"scattermapbox\"}],\"scatterpolar\":[{\"marker\":{\"colorbar\":{\"outlinewidth\":0,\"ticks\":\"\"}},\"type\":\"scatterpolar\"}],\"scatterpolargl\":[{\"marker\":{\"colorbar\":{\"outlinewidth\":0,\"ticks\":\"\"}},\"type\":\"scatterpolargl\"}],\"scatterternary\":[{\"marker\":{\"colorbar\":{\"outlinewidth\":0,\"ticks\":\"\"}},\"type\":\"scatterternary\"}],\"surface\":[{\"colorbar\":{\"outlinewidth\":0,\"ticks\":\"\"},\"colorscale\":[[0.0,\"#0d0887\"],[0.1111111111111111,\"#46039f\"],[0.2222222222222222,\"#7201a8\"],[0.3333333333333333,\"#9c179e\"],[0.4444444444444444,\"#bd3786\"],[0.5555555555555556,\"#d8576b\"],[0.6666666666666666,\"#ed7953\"],[0.7777777777777778,\"#fb9f3a\"],[0.8888888888888888,\"#fdca26\"],[1.0,\"#f0f921\"]],\"type\":\"surface\"}],\"table\":[{\"cells\":{\"fill\":{\"color\":\"#EBF0F8\"},\"line\":{\"color\":\"white\"}},\"header\":{\"fill\":{\"color\":\"#C8D4E3\"},\"line\":{\"color\":\"white\"}},\"type\":\"table\"}]},\"layout\":{\"annotationdefaults\":{\"arrowcolor\":\"#2a3f5f\",\"arrowhead\":0,\"arrowwidth\":1},\"autotypenumbers\":\"strict\",\"coloraxis\":{\"colorbar\":{\"outlinewidth\":0,\"ticks\":\"\"}},\"colorscale\":{\"diverging\":[[0,\"#8e0152\"],[0.1,\"#c51b7d\"],[0.2,\"#de77ae\"],[0.3,\"#f1b6da\"],[0.4,\"#fde0ef\"],[0.5,\"#f7f7f7\"],[0.6,\"#e6f5d0\"],[0.7,\"#b8e186\"],[0.8,\"#7fbc41\"],[0.9,\"#4d9221\"],[1,\"#276419\"]],\"sequential\":[[0.0,\"#0d0887\"],[0.1111111111111111,\"#46039f\"],[0.2222222222222222,\"#7201a8\"],[0.3333333333333333,\"#9c179e\"],[0.4444444444444444,\"#bd3786\"],[0.5555555555555556,\"#d8576b\"],[0.6666666666666666,\"#ed7953\"],[0.7777777777777778,\"#fb9f3a\"],[0.8888888888888888,\"#fdca26\"],[1.0,\"#f0f921\"]],\"sequentialminus\":[[0.0,\"#0d0887\"],[0.1111111111111111,\"#46039f\"],[0.2222222222222222,\"#7201a8\"],[0.3333333333333333,\"#9c179e\"],[0.4444444444444444,\"#bd3786\"],[0.5555555555555556,\"#d8576b\"],[0.6666666666666666,\"#ed7953\"],[0.7777777777777778,\"#fb9f3a\"],[0.8888888888888888,\"#fdca26\"],[1.0,\"#f0f921\"]]},\"colorway\":[\"#636efa\",\"#EF553B\",\"#00cc96\",\"#ab63fa\",\"#FFA15A\",\"#19d3f3\",\"#FF6692\",\"#B6E880\",\"#FF97FF\",\"#FECB52\"],\"font\":{\"color\":\"#2a3f5f\"},\"geo\":{\"bgcolor\":\"white\",\"lakecolor\":\"white\",\"landcolor\":\"#E5ECF6\",\"showlakes\":true,\"showland\":true,\"subunitcolor\":\"white\"},\"hoverlabel\":{\"align\":\"left\"},\"hovermode\":\"closest\",\"mapbox\":{\"style\":\"light\"},\"paper_bgcolor\":\"white\",\"plot_bgcolor\":\"#E5ECF6\",\"polar\":{\"angularaxis\":{\"gridcolor\":\"white\",\"linecolor\":\"white\",\"ticks\":\"\"},\"bgcolor\":\"#E5ECF6\",\"radialaxis\":{\"gridcolor\":\"white\",\"linecolor\":\"white\",\"ticks\":\"\"}},\"scene\":{\"xaxis\":{\"backgroundcolor\":\"#E5ECF6\",\"gridcolor\":\"white\",\"gridwidth\":2,\"linecolor\":\"white\",\"showbackground\":true,\"ticks\":\"\",\"zerolinecolor\":\"white\"},\"yaxis\":{\"backgroundcolor\":\"#E5ECF6\",\"gridcolor\":\"white\",\"gridwidth\":2,\"linecolor\":\"white\",\"showbackground\":true,\"ticks\":\"\",\"zerolinecolor\":\"white\"},\"zaxis\":{\"backgroundcolor\":\"#E5ECF6\",\"gridcolor\":\"white\",\"gridwidth\":2,\"linecolor\":\"white\",\"showbackground\":true,\"ticks\":\"\",\"zerolinecolor\":\"white\"}},\"shapedefaults\":{\"line\":{\"color\":\"#2a3f5f\"}},\"ternary\":{\"aaxis\":{\"gridcolor\":\"white\",\"linecolor\":\"white\",\"ticks\":\"\"},\"baxis\":{\"gridcolor\":\"white\",\"linecolor\":\"white\",\"ticks\":\"\"},\"bgcolor\":\"#E5ECF6\",\"caxis\":{\"gridcolor\":\"white\",\"linecolor\":\"white\",\"ticks\":\"\"}},\"title\":{\"x\":0.05},\"xaxis\":{\"automargin\":true,\"gridcolor\":\"white\",\"linecolor\":\"white\",\"ticks\":\"\",\"title\":{\"standoff\":15},\"zerolinecolor\":\"white\",\"zerolinewidth\":2},\"yaxis\":{\"automargin\":true,\"gridcolor\":\"white\",\"linecolor\":\"white\",\"ticks\":\"\",\"title\":{\"standoff\":15},\"zerolinecolor\":\"white\",\"zerolinewidth\":2}}},\"xaxis\":{\"anchor\":\"y\",\"domain\":[0.0,1.0],\"title\":{\"text\":\"variable\"}},\"yaxis\":{\"anchor\":\"x\",\"domain\":[0.0,1.0],\"title\":{\"text\":\"value\"}},\"legend\":{\"tracegroupgap\":0},\"margin\":{\"t\":60},\"boxmode\":\"group\"},                        {\"responsive\": true}                    ).then(function(){\n",
              "                            \n",
              "var gd = document.getElementById('374fd395-e22f-4541-ade5-85f68516a9bf');\n",
              "var x = new MutationObserver(function (mutations, observer) {{\n",
              "        var display = window.getComputedStyle(gd).display;\n",
              "        if (!display || display === 'none') {{\n",
              "            console.log([gd, 'removed!']);\n",
              "            Plotly.purge(gd);\n",
              "            observer.disconnect();\n",
              "        }}\n",
              "}});\n",
              "\n",
              "// Listen for the removal of the full notebook cells\n",
              "var notebookContainer = gd.closest('#notebook-container');\n",
              "if (notebookContainer) {{\n",
              "    x.observe(notebookContainer, {childList: true});\n",
              "}}\n",
              "\n",
              "// Listen for the clearing of the current output cell\n",
              "var outputEl = gd.closest('.output');\n",
              "if (outputEl) {{\n",
              "    x.observe(outputEl, {childList: true});\n",
              "}}\n",
              "\n",
              "                        })                };                            </script>        </div>\n",
              "</body>\n",
              "</html>"
            ]
          },
          "metadata": {}
        }
      ]
    },
    {
      "cell_type": "code",
      "source": [
        "df_one_hot = df_scaled_grp.copy(deep =True)\n",
        "df_one_hot"
      ],
      "metadata": {
        "colab": {
          "base_uri": "https://localhost:8080/",
          "height": 424
        },
        "id": "L0D2X7ys6Lt5",
        "outputId": "0e913646-7b26-4cf6-b1e6-b0b5cb56041f"
      },
      "execution_count": 24,
      "outputs": [
        {
          "output_type": "execute_result",
          "data": {
            "text/plain": [
              "      Date            Item     Yield  pesticide  land_use  fertilizer  \\\n",
              "0     1961         Almonds  0.036508        0.0  5.230818    0.347006   \n",
              "1     1961         Bananas  0.357571        0.0  6.682884    0.365904   \n",
              "2     1961          Barley  0.087678        0.0  7.625225    0.549722   \n",
              "3     1961           Beans  0.115841        0.0  7.908330    0.530407   \n",
              "4     1961        Cabbages  0.504602        0.0  7.699254    0.561840   \n",
              "...    ...             ...       ...        ...       ...         ...   \n",
              "1947  2021      Sugar cane  1.509458        0.0  0.000000    0.000000   \n",
              "1948  2021  Sunflower seed  0.205848        0.0  0.000000    0.000000   \n",
              "1949  2021             Tea  0.060803        0.0  0.000000    0.000000   \n",
              "1950  2021        Tomatoes  1.354134        0.0  0.000000    0.000000   \n",
              "1951  2021           Wheat  0.318977        0.0  0.000000    0.000000   \n",
              "\n",
              "      temperature  \n",
              "0        0.364666  \n",
              "1        0.348380  \n",
              "2        0.374977  \n",
              "3        0.364213  \n",
              "4        0.364758  \n",
              "...           ...  \n",
              "1947     0.567847  \n",
              "1948     0.592202  \n",
              "1949     0.557300  \n",
              "1950     0.582437  \n",
              "1951     0.590045  \n",
              "\n",
              "[1952 rows x 7 columns]"
            ],
            "text/html": [
              "\n",
              "  <div id=\"df-5acc467b-f709-4e0e-81a1-31c3a6827d9f\">\n",
              "    <div class=\"colab-df-container\">\n",
              "      <div>\n",
              "<style scoped>\n",
              "    .dataframe tbody tr th:only-of-type {\n",
              "        vertical-align: middle;\n",
              "    }\n",
              "\n",
              "    .dataframe tbody tr th {\n",
              "        vertical-align: top;\n",
              "    }\n",
              "\n",
              "    .dataframe thead th {\n",
              "        text-align: right;\n",
              "    }\n",
              "</style>\n",
              "<table border=\"1\" class=\"dataframe\">\n",
              "  <thead>\n",
              "    <tr style=\"text-align: right;\">\n",
              "      <th></th>\n",
              "      <th>Date</th>\n",
              "      <th>Item</th>\n",
              "      <th>Yield</th>\n",
              "      <th>pesticide</th>\n",
              "      <th>land_use</th>\n",
              "      <th>fertilizer</th>\n",
              "      <th>temperature</th>\n",
              "    </tr>\n",
              "  </thead>\n",
              "  <tbody>\n",
              "    <tr>\n",
              "      <th>0</th>\n",
              "      <td>1961</td>\n",
              "      <td>Almonds</td>\n",
              "      <td>0.036508</td>\n",
              "      <td>0.0</td>\n",
              "      <td>5.230818</td>\n",
              "      <td>0.347006</td>\n",
              "      <td>0.364666</td>\n",
              "    </tr>\n",
              "    <tr>\n",
              "      <th>1</th>\n",
              "      <td>1961</td>\n",
              "      <td>Bananas</td>\n",
              "      <td>0.357571</td>\n",
              "      <td>0.0</td>\n",
              "      <td>6.682884</td>\n",
              "      <td>0.365904</td>\n",
              "      <td>0.348380</td>\n",
              "    </tr>\n",
              "    <tr>\n",
              "      <th>2</th>\n",
              "      <td>1961</td>\n",
              "      <td>Barley</td>\n",
              "      <td>0.087678</td>\n",
              "      <td>0.0</td>\n",
              "      <td>7.625225</td>\n",
              "      <td>0.549722</td>\n",
              "      <td>0.374977</td>\n",
              "    </tr>\n",
              "    <tr>\n",
              "      <th>3</th>\n",
              "      <td>1961</td>\n",
              "      <td>Beans</td>\n",
              "      <td>0.115841</td>\n",
              "      <td>0.0</td>\n",
              "      <td>7.908330</td>\n",
              "      <td>0.530407</td>\n",
              "      <td>0.364213</td>\n",
              "    </tr>\n",
              "    <tr>\n",
              "      <th>4</th>\n",
              "      <td>1961</td>\n",
              "      <td>Cabbages</td>\n",
              "      <td>0.504602</td>\n",
              "      <td>0.0</td>\n",
              "      <td>7.699254</td>\n",
              "      <td>0.561840</td>\n",
              "      <td>0.364758</td>\n",
              "    </tr>\n",
              "    <tr>\n",
              "      <th>...</th>\n",
              "      <td>...</td>\n",
              "      <td>...</td>\n",
              "      <td>...</td>\n",
              "      <td>...</td>\n",
              "      <td>...</td>\n",
              "      <td>...</td>\n",
              "      <td>...</td>\n",
              "    </tr>\n",
              "    <tr>\n",
              "      <th>1947</th>\n",
              "      <td>2021</td>\n",
              "      <td>Sugar cane</td>\n",
              "      <td>1.509458</td>\n",
              "      <td>0.0</td>\n",
              "      <td>0.000000</td>\n",
              "      <td>0.000000</td>\n",
              "      <td>0.567847</td>\n",
              "    </tr>\n",
              "    <tr>\n",
              "      <th>1948</th>\n",
              "      <td>2021</td>\n",
              "      <td>Sunflower seed</td>\n",
              "      <td>0.205848</td>\n",
              "      <td>0.0</td>\n",
              "      <td>0.000000</td>\n",
              "      <td>0.000000</td>\n",
              "      <td>0.592202</td>\n",
              "    </tr>\n",
              "    <tr>\n",
              "      <th>1949</th>\n",
              "      <td>2021</td>\n",
              "      <td>Tea</td>\n",
              "      <td>0.060803</td>\n",
              "      <td>0.0</td>\n",
              "      <td>0.000000</td>\n",
              "      <td>0.000000</td>\n",
              "      <td>0.557300</td>\n",
              "    </tr>\n",
              "    <tr>\n",
              "      <th>1950</th>\n",
              "      <td>2021</td>\n",
              "      <td>Tomatoes</td>\n",
              "      <td>1.354134</td>\n",
              "      <td>0.0</td>\n",
              "      <td>0.000000</td>\n",
              "      <td>0.000000</td>\n",
              "      <td>0.582437</td>\n",
              "    </tr>\n",
              "    <tr>\n",
              "      <th>1951</th>\n",
              "      <td>2021</td>\n",
              "      <td>Wheat</td>\n",
              "      <td>0.318977</td>\n",
              "      <td>0.0</td>\n",
              "      <td>0.000000</td>\n",
              "      <td>0.000000</td>\n",
              "      <td>0.590045</td>\n",
              "    </tr>\n",
              "  </tbody>\n",
              "</table>\n",
              "<p>1952 rows × 7 columns</p>\n",
              "</div>\n",
              "      <button class=\"colab-df-convert\" onclick=\"convertToInteractive('df-5acc467b-f709-4e0e-81a1-31c3a6827d9f')\"\n",
              "              title=\"Convert this dataframe to an interactive table.\"\n",
              "              style=\"display:none;\">\n",
              "        \n",
              "  <svg xmlns=\"http://www.w3.org/2000/svg\" height=\"24px\"viewBox=\"0 0 24 24\"\n",
              "       width=\"24px\">\n",
              "    <path d=\"M0 0h24v24H0V0z\" fill=\"none\"/>\n",
              "    <path d=\"M18.56 5.44l.94 2.06.94-2.06 2.06-.94-2.06-.94-.94-2.06-.94 2.06-2.06.94zm-11 1L8.5 8.5l.94-2.06 2.06-.94-2.06-.94L8.5 2.5l-.94 2.06-2.06.94zm10 10l.94 2.06.94-2.06 2.06-.94-2.06-.94-.94-2.06-.94 2.06-2.06.94z\"/><path d=\"M17.41 7.96l-1.37-1.37c-.4-.4-.92-.59-1.43-.59-.52 0-1.04.2-1.43.59L10.3 9.45l-7.72 7.72c-.78.78-.78 2.05 0 2.83L4 21.41c.39.39.9.59 1.41.59.51 0 1.02-.2 1.41-.59l7.78-7.78 2.81-2.81c.8-.78.8-2.07 0-2.86zM5.41 20L4 18.59l7.72-7.72 1.47 1.35L5.41 20z\"/>\n",
              "  </svg>\n",
              "      </button>\n",
              "      \n",
              "  <style>\n",
              "    .colab-df-container {\n",
              "      display:flex;\n",
              "      flex-wrap:wrap;\n",
              "      gap: 12px;\n",
              "    }\n",
              "\n",
              "    .colab-df-convert {\n",
              "      background-color: #E8F0FE;\n",
              "      border: none;\n",
              "      border-radius: 50%;\n",
              "      cursor: pointer;\n",
              "      display: none;\n",
              "      fill: #1967D2;\n",
              "      height: 32px;\n",
              "      padding: 0 0 0 0;\n",
              "      width: 32px;\n",
              "    }\n",
              "\n",
              "    .colab-df-convert:hover {\n",
              "      background-color: #E2EBFA;\n",
              "      box-shadow: 0px 1px 2px rgba(60, 64, 67, 0.3), 0px 1px 3px 1px rgba(60, 64, 67, 0.15);\n",
              "      fill: #174EA6;\n",
              "    }\n",
              "\n",
              "    [theme=dark] .colab-df-convert {\n",
              "      background-color: #3B4455;\n",
              "      fill: #D2E3FC;\n",
              "    }\n",
              "\n",
              "    [theme=dark] .colab-df-convert:hover {\n",
              "      background-color: #434B5C;\n",
              "      box-shadow: 0px 1px 3px 1px rgba(0, 0, 0, 0.15);\n",
              "      filter: drop-shadow(0px 1px 2px rgba(0, 0, 0, 0.3));\n",
              "      fill: #FFFFFF;\n",
              "    }\n",
              "  </style>\n",
              "\n",
              "      <script>\n",
              "        const buttonEl =\n",
              "          document.querySelector('#df-5acc467b-f709-4e0e-81a1-31c3a6827d9f button.colab-df-convert');\n",
              "        buttonEl.style.display =\n",
              "          google.colab.kernel.accessAllowed ? 'block' : 'none';\n",
              "\n",
              "        async function convertToInteractive(key) {\n",
              "          const element = document.querySelector('#df-5acc467b-f709-4e0e-81a1-31c3a6827d9f');\n",
              "          const dataTable =\n",
              "            await google.colab.kernel.invokeFunction('convertToInteractive',\n",
              "                                                     [key], {});\n",
              "          if (!dataTable) return;\n",
              "\n",
              "          const docLinkHtml = 'Like what you see? Visit the ' +\n",
              "            '<a target=\"_blank\" href=https://colab.research.google.com/notebooks/data_table.ipynb>data table notebook</a>'\n",
              "            + ' to learn more about interactive tables.';\n",
              "          element.innerHTML = '';\n",
              "          dataTable['output_type'] = 'display_data';\n",
              "          await google.colab.output.renderOutput(dataTable, element);\n",
              "          const docLink = document.createElement('div');\n",
              "          docLink.innerHTML = docLinkHtml;\n",
              "          element.appendChild(docLink);\n",
              "        }\n",
              "      </script>\n",
              "    </div>\n",
              "  </div>\n",
              "  "
            ]
          },
          "metadata": {},
          "execution_count": 24
        }
      ]
    },
    {
      "cell_type": "code",
      "source": [
        "df_one_hot.dtypes\n",
        "df_one_hot['Date'] = pd.to_numeric(df_one_hot['Date'])"
      ],
      "metadata": {
        "id": "xv0cFL_SDmGz"
      },
      "execution_count": 25,
      "outputs": []
    },
    {
      "cell_type": "code",
      "source": [
        "# Get one hot encoding of columns B\n",
        "one_hot = pd.get_dummies(df_one_hot['Item'])\n",
        "# Drop column B as it is now encoded\n",
        "df_one_hot = df_one_hot.drop('Item',axis = 1)\n",
        "# Join the encoded df\n",
        "df_one_hot = df_one_hot.join(one_hot)\n",
        "df_one_hot.columns\n"
      ],
      "metadata": {
        "colab": {
          "base_uri": "https://localhost:8080/"
        },
        "id": "tjM9VMc-4JRh",
        "outputId": "cc67d2d3-aca5-4b12-be1a-4028688f02aa"
      },
      "execution_count": 26,
      "outputs": [
        {
          "output_type": "execute_result",
          "data": {
            "text/plain": [
              "Index(['Date', 'Yield', 'pesticide', 'land_use', 'fertilizer', 'temperature',\n",
              "       'Almonds', 'Bananas', 'Barley', 'Beans', 'Cabbages', 'Carrots',\n",
              "       'Cassava, fresh', 'Cereals', 'Cocoa beans', 'Coffee, green', 'Cotton',\n",
              "       'Fruits', 'Groundnuts', 'Lemons', 'Lettuce', 'Maize', 'Millet',\n",
              "       'Mushrooms', 'Oil palm', 'Onions', 'Oranges', 'Peas, green', 'Potatoes',\n",
              "       'Pumpkins', 'Rice', 'Rye', 'Soya beans', 'Sugar cane', 'Sunflower seed',\n",
              "       'Tea', 'Tomatoes', 'Wheat'],\n",
              "      dtype='object')"
            ]
          },
          "metadata": {},
          "execution_count": 26
        }
      ]
    },
    {
      "cell_type": "code",
      "source": [
        "columns = ['Date', 'pesticide', 'land_use', 'fertilizer', 'temperature',\n",
        "       'Almonds', 'Bananas', 'Barley', 'Beans', 'Cabbages', 'Carrots',\n",
        "       'Cassava, fresh', 'Cereals', 'Cocoa beans', 'Coffee, green', 'Cotton',\n",
        "       'Fruits', 'Groundnuts', 'Lemons', 'Lettuce', 'Maize', 'Millet',\n",
        "       'Mushrooms', 'Oil palm', 'Onions', 'Oranges', 'Peas, green', 'Potatoes',\n",
        "       'Pumpkins', 'Rice', 'Rye', 'Soya beans', 'Sugar cane', 'Sunflower seed',\n",
        "       'Tea', 'Tomatoes', 'Wheat']"
      ],
      "metadata": {
        "id": "DDmfYvXG6sH8"
      },
      "execution_count": 27,
      "outputs": []
    },
    {
      "cell_type": "code",
      "source": [
        "from sklearn.model_selection import train_test_split\n",
        "\n",
        "X= df_one_hot[columns]\n",
        "y=df_one_hot['Yield']\n",
        "\n",
        "# using the train test split function\n",
        "X_train, X_test,y_train, y_test = train_test_split(X,y ,\n",
        "                                   random_state=99, \n",
        "                                   test_size=0.25, \n",
        "                                   shuffle=True)\n",
        "  \n",
        "# # printing out train and test sets\n",
        "  \n",
        "# print('X_train : ')\n",
        "# print(X_train.head())\n",
        "# print('')\n",
        "# print('X_test : ')\n",
        "# print(X_test.head())\n",
        "# print('')\n",
        "# print('y_train : ')\n",
        "# print(y_train.head())\n",
        "# print('')\n",
        "# print('y_test : ')\n",
        "# print(y_test.head())"
      ],
      "metadata": {
        "id": "kgsxQMph7U0n"
      },
      "execution_count": 28,
      "outputs": []
    },
    {
      "cell_type": "markdown",
      "source": [
        "### Random Forest"
      ],
      "metadata": {
        "id": "yf0DddP89DrA"
      }
    },
    {
      "cell_type": "code",
      "source": [
        "# Fitting Random Forest Regression to the dataset\n",
        "# import the regressor\n",
        "from sklearn.ensemble import RandomForestRegressor\n",
        "\n",
        "# create regressor object\n",
        "regressor = RandomForestRegressor(n_estimators = 300, max_features = 'sqrt', max_depth = 5, random_state = 18).fit(X_train, y_train)\n"
      ],
      "metadata": {
        "id": "AJFwlg7C78ZV"
      },
      "execution_count": 34,
      "outputs": []
    },
    {
      "cell_type": "markdown",
      "source": [],
      "metadata": {
        "id": "bI1gNv7YFGY2"
      }
    },
    {
      "cell_type": "code",
      "source": [
        "import pprint\n",
        "\n",
        "print(regressor.get_params())"
      ],
      "metadata": {
        "colab": {
          "base_uri": "https://localhost:8080/"
        },
        "id": "O7Stm2lopGjK",
        "outputId": "64486267-2fea-4629-9ea5-19d6908765fd"
      },
      "execution_count": 31,
      "outputs": [
        {
          "output_type": "stream",
          "name": "stdout",
          "text": [
            "{'bootstrap': True, 'ccp_alpha': 0.0, 'criterion': 'squared_error', 'max_depth': 5, 'max_features': 'sqrt', 'max_leaf_nodes': None, 'max_samples': None, 'min_impurity_decrease': 0.0, 'min_samples_leaf': 1, 'min_samples_split': 2, 'min_weight_fraction_leaf': 0.0, 'n_estimators': 300, 'n_jobs': None, 'oob_score': False, 'random_state': 18, 'verbose': 0, 'warm_start': False}\n"
          ]
        }
      ]
    },
    {
      "cell_type": "code",
      "source": [
        "from sklearn.metrics import mean_squared_error\n",
        "\n",
        "prediction = regressor.predict(X_train)\n",
        "mse = mean_squared_error(y_train, prediction)\n",
        "rmse = mse**.5\n",
        "\n",
        "print(\"Train Root Mean Squared Error of Random Forest is: \", round(rmse, 5))"
      ],
      "metadata": {
        "colab": {
          "base_uri": "https://localhost:8080/"
        },
        "id": "jThECkffBdGV",
        "outputId": "4f03a981-093e-4955-d29c-9dcb9653e9fd"
      },
      "execution_count": 35,
      "outputs": [
        {
          "output_type": "stream",
          "name": "stdout",
          "text": [
            "Train Root Mean Squared Error of Random Forest is:  0.21067\n"
          ]
        }
      ]
    },
    {
      "cell_type": "code",
      "source": [
        "from sklearn.metrics import mean_squared_error\n",
        "y_test_pred_rf = regressor.predict(X_test)\n",
        "mse = mean_squared_error(y_test, y_test_pred_rf)\n",
        "rmse = mse**.5\n",
        "\n",
        "print(\"Test Root Mean Squared Error of Random Forest is: \", round(rmse, 5))"
      ],
      "metadata": {
        "colab": {
          "base_uri": "https://localhost:8080/"
        },
        "id": "cx6LSM8c_Cfn",
        "outputId": "6e3b0841-8d06-4326-a793-10832f149323"
      },
      "execution_count": 36,
      "outputs": [
        {
          "output_type": "stream",
          "name": "stdout",
          "text": [
            "Test Root Mean Squared Error of Random Forest is:  0.20233\n"
          ]
        }
      ]
    },
    {
      "cell_type": "markdown",
      "source": [
        "### LightGBM"
      ],
      "metadata": {
        "id": "HrymlWh4_8L_"
      }
    },
    {
      "cell_type": "code",
      "source": [
        "hyper_params = {\n",
        "    'task': 'train',\n",
        "    'boosting_type': 'gbdt',\n",
        "    'objective': 'regression',\n",
        "    'metric': ['l1','l2'],\n",
        "    'learning_rate': 0.01,\n",
        "    'feature_fraction': 0.7,\n",
        "    'bagging_fraction': 0.7,\n",
        "    'bagging_freq': 4,\n",
        "    'verbose': 0,\n",
        "    \"max_depth\": 4,\n",
        "    \"num_leaves\": 4,  \n",
        "    \"max_bin\": 8,\n",
        "    \"num_iterations\": 200\n",
        "}"
      ],
      "metadata": {
        "id": "DI-aeBci_wyS"
      },
      "execution_count": null,
      "outputs": []
    },
    {
      "cell_type": "code",
      "source": [
        "import lightgbm as lgb\n",
        "gbm = lgb.LGBMRegressor(**hyper_params)\n",
        "gbm.fit(X_train, y_train,eval_set=[(X_test, y_test)],eval_metric='l1',early_stopping_rounds=10)"
      ],
      "metadata": {
        "colab": {
          "base_uri": "https://localhost:8080/"
        },
        "id": "zAPG0S_rAl47",
        "outputId": "c5eec421-91b1-4eea-83ab-b592eb3cf680"
      },
      "execution_count": null,
      "outputs": [
        {
          "output_type": "stream",
          "name": "stderr",
          "text": [
            "/usr/local/lib/python3.8/dist-packages/lightgbm/engine.py:118: UserWarning:\n",
            "\n",
            "Found `num_iterations` in params. Will use it instead of argument\n",
            "\n"
          ]
        },
        {
          "output_type": "stream",
          "name": "stdout",
          "text": [
            "[1]\tvalid_0's l1: 0.261332\tvalid_0's l2: 0.123635\n",
            "Training until validation scores don't improve for 10 rounds.\n",
            "[2]\tvalid_0's l1: 0.26071\tvalid_0's l2: 0.123143\n",
            "[3]\tvalid_0's l1: 0.259776\tvalid_0's l2: 0.122354\n",
            "[4]\tvalid_0's l1: 0.259003\tvalid_0's l2: 0.121614\n",
            "[5]\tvalid_0's l1: 0.25792\tvalid_0's l2: 0.120464\n",
            "[6]\tvalid_0's l1: 0.257037\tvalid_0's l2: 0.119674\n",
            "[7]\tvalid_0's l1: 0.256218\tvalid_0's l2: 0.118878\n",
            "[8]\tvalid_0's l1: 0.255438\tvalid_0's l2: 0.118087\n",
            "[9]\tvalid_0's l1: 0.254677\tvalid_0's l2: 0.117356\n",
            "[10]\tvalid_0's l1: 0.253885\tvalid_0's l2: 0.116652\n",
            "[11]\tvalid_0's l1: 0.253071\tvalid_0's l2: 0.115921\n",
            "[12]\tvalid_0's l1: 0.252307\tvalid_0's l2: 0.115241\n",
            "[13]\tvalid_0's l1: 0.251344\tvalid_0's l2: 0.114264\n",
            "[14]\tvalid_0's l1: 0.250559\tvalid_0's l2: 0.113517\n",
            "[15]\tvalid_0's l1: 0.249694\tvalid_0's l2: 0.112602\n",
            "[16]\tvalid_0's l1: 0.248751\tvalid_0's l2: 0.11167\n",
            "[17]\tvalid_0's l1: 0.248072\tvalid_0's l2: 0.110954\n",
            "[18]\tvalid_0's l1: 0.247202\tvalid_0's l2: 0.110057\n",
            "[19]\tvalid_0's l1: 0.246467\tvalid_0's l2: 0.109393\n",
            "[20]\tvalid_0's l1: 0.245811\tvalid_0's l2: 0.108703\n",
            "[21]\tvalid_0's l1: 0.245096\tvalid_0's l2: 0.108034\n",
            "[22]\tvalid_0's l1: 0.244288\tvalid_0's l2: 0.107367\n",
            "[23]\tvalid_0's l1: 0.243459\tvalid_0's l2: 0.106553\n",
            "[24]\tvalid_0's l1: 0.243133\tvalid_0's l2: 0.106325\n",
            "[25]\tvalid_0's l1: 0.2423\tvalid_0's l2: 0.105483\n",
            "[26]\tvalid_0's l1: 0.241587\tvalid_0's l2: 0.10487\n",
            "[27]\tvalid_0's l1: 0.241269\tvalid_0's l2: 0.10455\n",
            "[28]\tvalid_0's l1: 0.240698\tvalid_0's l2: 0.104022\n",
            "[29]\tvalid_0's l1: 0.240078\tvalid_0's l2: 0.103391\n",
            "[30]\tvalid_0's l1: 0.239284\tvalid_0's l2: 0.102606\n",
            "[31]\tvalid_0's l1: 0.238646\tvalid_0's l2: 0.102056\n",
            "[32]\tvalid_0's l1: 0.238062\tvalid_0's l2: 0.101451\n",
            "[33]\tvalid_0's l1: 0.237392\tvalid_0's l2: 0.100824\n",
            "[34]\tvalid_0's l1: 0.236558\tvalid_0's l2: 0.10006\n",
            "[35]\tvalid_0's l1: 0.23579\tvalid_0's l2: 0.0993232\n",
            "[36]\tvalid_0's l1: 0.235104\tvalid_0's l2: 0.0987746\n",
            "[37]\tvalid_0's l1: 0.23449\tvalid_0's l2: 0.098226\n",
            "[38]\tvalid_0's l1: 0.23393\tvalid_0's l2: 0.0976149\n",
            "[39]\tvalid_0's l1: 0.233486\tvalid_0's l2: 0.0971894\n",
            "[40]\tvalid_0's l1: 0.233048\tvalid_0's l2: 0.0967725\n",
            "[41]\tvalid_0's l1: 0.232393\tvalid_0's l2: 0.0962156\n",
            "[42]\tvalid_0's l1: 0.231857\tvalid_0's l2: 0.0956938\n",
            "[43]\tvalid_0's l1: 0.231463\tvalid_0's l2: 0.0953945\n",
            "[44]\tvalid_0's l1: 0.230699\tvalid_0's l2: 0.0947138\n",
            "[45]\tvalid_0's l1: 0.230296\tvalid_0's l2: 0.0943847\n",
            "[46]\tvalid_0's l1: 0.229496\tvalid_0's l2: 0.093679\n",
            "[47]\tvalid_0's l1: 0.22876\tvalid_0's l2: 0.0930206\n",
            "[48]\tvalid_0's l1: 0.228243\tvalid_0's l2: 0.0925338\n",
            "[49]\tvalid_0's l1: 0.227671\tvalid_0's l2: 0.0920329\n",
            "[50]\tvalid_0's l1: 0.227096\tvalid_0's l2: 0.0915302\n",
            "[51]\tvalid_0's l1: 0.226614\tvalid_0's l2: 0.0910474\n",
            "[52]\tvalid_0's l1: 0.225815\tvalid_0's l2: 0.0903711\n",
            "[53]\tvalid_0's l1: 0.225058\tvalid_0's l2: 0.0897412\n",
            "[54]\tvalid_0's l1: 0.224341\tvalid_0's l2: 0.0891251\n",
            "[55]\tvalid_0's l1: 0.223631\tvalid_0's l2: 0.0885218\n",
            "[56]\tvalid_0's l1: 0.223094\tvalid_0's l2: 0.0881108\n",
            "[57]\tvalid_0's l1: 0.222617\tvalid_0's l2: 0.0876527\n",
            "[58]\tvalid_0's l1: 0.221968\tvalid_0's l2: 0.0871044\n",
            "[59]\tvalid_0's l1: 0.221412\tvalid_0's l2: 0.0866547\n",
            "[60]\tvalid_0's l1: 0.220942\tvalid_0's l2: 0.0862181\n",
            "[61]\tvalid_0's l1: 0.220576\tvalid_0's l2: 0.0859548\n",
            "[62]\tvalid_0's l1: 0.219967\tvalid_0's l2: 0.0854135\n",
            "[63]\tvalid_0's l1: 0.219437\tvalid_0's l2: 0.0849798\n",
            "[64]\tvalid_0's l1: 0.218838\tvalid_0's l2: 0.0844534\n",
            "[65]\tvalid_0's l1: 0.218316\tvalid_0's l2: 0.0840227\n",
            "[66]\tvalid_0's l1: 0.217733\tvalid_0's l2: 0.0835115\n",
            "[67]\tvalid_0's l1: 0.217179\tvalid_0's l2: 0.0830405\n",
            "[68]\tvalid_0's l1: 0.216702\tvalid_0's l2: 0.0826654\n",
            "[69]\tvalid_0's l1: 0.216245\tvalid_0's l2: 0.0822532\n",
            "[70]\tvalid_0's l1: 0.215704\tvalid_0's l2: 0.0818331\n",
            "[71]\tvalid_0's l1: 0.21517\tvalid_0's l2: 0.081421\n",
            "[72]\tvalid_0's l1: 0.214508\tvalid_0's l2: 0.0808726\n",
            "[73]\tvalid_0's l1: 0.213973\tvalid_0's l2: 0.0804413\n",
            "[74]\tvalid_0's l1: 0.213445\tvalid_0's l2: 0.0800188\n",
            "[75]\tvalid_0's l1: 0.212997\tvalid_0's l2: 0.0796733\n",
            "[76]\tvalid_0's l1: 0.212476\tvalid_0's l2: 0.0792638\n",
            "[77]\tvalid_0's l1: 0.211973\tvalid_0's l2: 0.0788443\n",
            "[78]\tvalid_0's l1: 0.211597\tvalid_0's l2: 0.0785916\n",
            "[79]\tvalid_0's l1: 0.211086\tvalid_0's l2: 0.0781895\n",
            "[80]\tvalid_0's l1: 0.210579\tvalid_0's l2: 0.0777538\n",
            "[81]\tvalid_0's l1: 0.210252\tvalid_0's l2: 0.0775096\n",
            "[82]\tvalid_0's l1: 0.209927\tvalid_0's l2: 0.0772571\n",
            "[83]\tvalid_0's l1: 0.209464\tvalid_0's l2: 0.0768708\n",
            "[84]\tvalid_0's l1: 0.208992\tvalid_0's l2: 0.0764979\n",
            "[85]\tvalid_0's l1: 0.208621\tvalid_0's l2: 0.0762587\n",
            "[86]\tvalid_0's l1: 0.208167\tvalid_0's l2: 0.0759102\n",
            "[87]\tvalid_0's l1: 0.207705\tvalid_0's l2: 0.0756184\n",
            "[88]\tvalid_0's l1: 0.207229\tvalid_0's l2: 0.0752492\n",
            "[89]\tvalid_0's l1: 0.206954\tvalid_0's l2: 0.0749829\n",
            "[90]\tvalid_0's l1: 0.206441\tvalid_0's l2: 0.0746107\n",
            "[91]\tvalid_0's l1: 0.206006\tvalid_0's l2: 0.0742863\n",
            "[92]\tvalid_0's l1: 0.205673\tvalid_0's l2: 0.0739677\n",
            "[93]\tvalid_0's l1: 0.20531\tvalid_0's l2: 0.0737159\n",
            "[94]\tvalid_0's l1: 0.204955\tvalid_0's l2: 0.0734566\n",
            "[95]\tvalid_0's l1: 0.204559\tvalid_0's l2: 0.0731459\n",
            "[96]\tvalid_0's l1: 0.204222\tvalid_0's l2: 0.0728948\n",
            "[97]\tvalid_0's l1: 0.203796\tvalid_0's l2: 0.0725755\n",
            "[98]\tvalid_0's l1: 0.203396\tvalid_0's l2: 0.0722266\n",
            "[99]\tvalid_0's l1: 0.203003\tvalid_0's l2: 0.0718847\n",
            "[100]\tvalid_0's l1: 0.202639\tvalid_0's l2: 0.0715649\n",
            "[101]\tvalid_0's l1: 0.202186\tvalid_0's l2: 0.0711872\n",
            "[102]\tvalid_0's l1: 0.201881\tvalid_0's l2: 0.070909\n",
            "[103]\tvalid_0's l1: 0.20145\tvalid_0's l2: 0.0706154\n",
            "[104]\tvalid_0's l1: 0.201004\tvalid_0's l2: 0.0702495\n",
            "[105]\tvalid_0's l1: 0.200606\tvalid_0's l2: 0.069933\n",
            "[106]\tvalid_0's l1: 0.200233\tvalid_0's l2: 0.0696485\n",
            "[107]\tvalid_0's l1: 0.19986\tvalid_0's l2: 0.0693619\n",
            "[108]\tvalid_0's l1: 0.199371\tvalid_0's l2: 0.0689834\n",
            "[109]\tvalid_0's l1: 0.198863\tvalid_0's l2: 0.0685857\n",
            "[110]\tvalid_0's l1: 0.1985\tvalid_0's l2: 0.0682641\n",
            "[111]\tvalid_0's l1: 0.19812\tvalid_0's l2: 0.0680642\n",
            "[112]\tvalid_0's l1: 0.197646\tvalid_0's l2: 0.0676812\n",
            "[113]\tvalid_0's l1: 0.197152\tvalid_0's l2: 0.0673516\n",
            "[114]\tvalid_0's l1: 0.196665\tvalid_0's l2: 0.0670282\n",
            "[115]\tvalid_0's l1: 0.196376\tvalid_0's l2: 0.066776\n",
            "[116]\tvalid_0's l1: 0.196107\tvalid_0's l2: 0.0665609\n",
            "[117]\tvalid_0's l1: 0.195744\tvalid_0's l2: 0.0662582\n",
            "[118]\tvalid_0's l1: 0.195445\tvalid_0's l2: 0.0660639\n",
            "[119]\tvalid_0's l1: 0.19502\tvalid_0's l2: 0.0658058\n",
            "[120]\tvalid_0's l1: 0.194727\tvalid_0's l2: 0.0655681\n",
            "[121]\tvalid_0's l1: 0.194449\tvalid_0's l2: 0.0652977\n",
            "[122]\tvalid_0's l1: 0.194064\tvalid_0's l2: 0.065037\n",
            "[123]\tvalid_0's l1: 0.193754\tvalid_0's l2: 0.0647771\n",
            "[124]\tvalid_0's l1: 0.193375\tvalid_0's l2: 0.0645234\n",
            "[125]\tvalid_0's l1: 0.193169\tvalid_0's l2: 0.064322\n",
            "[126]\tvalid_0's l1: 0.192968\tvalid_0's l2: 0.064125\n",
            "[127]\tvalid_0's l1: 0.192546\tvalid_0's l2: 0.0638474\n",
            "[128]\tvalid_0's l1: 0.192347\tvalid_0's l2: 0.0636563\n",
            "[129]\tvalid_0's l1: 0.192\tvalid_0's l2: 0.0634005\n",
            "[130]\tvalid_0's l1: 0.19166\tvalid_0's l2: 0.0631501\n",
            "[131]\tvalid_0's l1: 0.191323\tvalid_0's l2: 0.0629048\n",
            "[132]\tvalid_0's l1: 0.19099\tvalid_0's l2: 0.0626646\n",
            "[133]\tvalid_0's l1: 0.190667\tvalid_0's l2: 0.0624323\n",
            "[134]\tvalid_0's l1: 0.190223\tvalid_0's l2: 0.0621642\n",
            "[135]\tvalid_0's l1: 0.18992\tvalid_0's l2: 0.0619542\n",
            "[136]\tvalid_0's l1: 0.189505\tvalid_0's l2: 0.0617005\n",
            "[137]\tvalid_0's l1: 0.189373\tvalid_0's l2: 0.0615451\n",
            "[138]\tvalid_0's l1: 0.188941\tvalid_0's l2: 0.0612687\n",
            "[139]\tvalid_0's l1: 0.188788\tvalid_0's l2: 0.0611226\n",
            "[140]\tvalid_0's l1: 0.188363\tvalid_0's l2: 0.0608521\n",
            "[141]\tvalid_0's l1: 0.187997\tvalid_0's l2: 0.06058\n",
            "[142]\tvalid_0's l1: 0.187655\tvalid_0's l2: 0.0603502\n",
            "[143]\tvalid_0's l1: 0.187386\tvalid_0's l2: 0.0601585\n",
            "[144]\tvalid_0's l1: 0.187064\tvalid_0's l2: 0.0599771\n",
            "[145]\tvalid_0's l1: 0.18678\tvalid_0's l2: 0.0597825\n",
            "[146]\tvalid_0's l1: 0.186396\tvalid_0's l2: 0.0595415\n",
            "[147]\tvalid_0's l1: 0.186025\tvalid_0's l2: 0.0592821\n",
            "[148]\tvalid_0's l1: 0.185658\tvalid_0's l2: 0.0590278\n",
            "[149]\tvalid_0's l1: 0.185334\tvalid_0's l2: 0.0588085\n",
            "[150]\tvalid_0's l1: 0.185062\tvalid_0's l2: 0.058626\n",
            "[151]\tvalid_0's l1: 0.184808\tvalid_0's l2: 0.0584738\n",
            "[152]\tvalid_0's l1: 0.184565\tvalid_0's l2: 0.0583142\n",
            "[153]\tvalid_0's l1: 0.184247\tvalid_0's l2: 0.0581573\n",
            "[154]\tvalid_0's l1: 0.183864\tvalid_0's l2: 0.057925\n",
            "[155]\tvalid_0's l1: 0.183492\tvalid_0's l2: 0.0576963\n",
            "[156]\tvalid_0's l1: 0.183118\tvalid_0's l2: 0.0574715\n",
            "[157]\tvalid_0's l1: 0.18277\tvalid_0's l2: 0.0572528\n",
            "[158]\tvalid_0's l1: 0.182503\tvalid_0's l2: 0.0570531\n",
            "[159]\tvalid_0's l1: 0.182155\tvalid_0's l2: 0.056838\n",
            "[160]\tvalid_0's l1: 0.181887\tvalid_0's l2: 0.0566356\n",
            "[161]\tvalid_0's l1: 0.181542\tvalid_0's l2: 0.0564095\n",
            "[162]\tvalid_0's l1: 0.181202\tvalid_0's l2: 0.0561911\n",
            "[163]\tvalid_0's l1: 0.180862\tvalid_0's l2: 0.0559699\n",
            "[164]\tvalid_0's l1: 0.180607\tvalid_0's l2: 0.0557913\n",
            "[165]\tvalid_0's l1: 0.180405\tvalid_0's l2: 0.0556256\n",
            "[166]\tvalid_0's l1: 0.180141\tvalid_0's l2: 0.0554677\n",
            "[167]\tvalid_0's l1: 0.179879\tvalid_0's l2: 0.0553133\n",
            "[168]\tvalid_0's l1: 0.179727\tvalid_0's l2: 0.0551963\n",
            "[169]\tvalid_0's l1: 0.179588\tvalid_0's l2: 0.0550806\n",
            "[170]\tvalid_0's l1: 0.179277\tvalid_0's l2: 0.054884\n",
            "[171]\tvalid_0's l1: 0.178944\tvalid_0's l2: 0.054676\n",
            "[172]\tvalid_0's l1: 0.178627\tvalid_0's l2: 0.0544783\n",
            "[173]\tvalid_0's l1: 0.178399\tvalid_0's l2: 0.0543264\n",
            "[174]\tvalid_0's l1: 0.178123\tvalid_0's l2: 0.0541628\n",
            "[175]\tvalid_0's l1: 0.17793\tvalid_0's l2: 0.0540096\n",
            "[176]\tvalid_0's l1: 0.177735\tvalid_0's l2: 0.0538816\n",
            "[177]\tvalid_0's l1: 0.177408\tvalid_0's l2: 0.0536847\n",
            "[178]\tvalid_0's l1: 0.177262\tvalid_0's l2: 0.0535649\n",
            "[179]\tvalid_0's l1: 0.176929\tvalid_0's l2: 0.0533589\n",
            "[180]\tvalid_0's l1: 0.176704\tvalid_0's l2: 0.053189\n",
            "[181]\tvalid_0's l1: 0.176373\tvalid_0's l2: 0.0529982\n",
            "[182]\tvalid_0's l1: 0.176135\tvalid_0's l2: 0.0528439\n",
            "[183]\tvalid_0's l1: 0.175899\tvalid_0's l2: 0.0526924\n",
            "[184]\tvalid_0's l1: 0.175573\tvalid_0's l2: 0.0525042\n",
            "[185]\tvalid_0's l1: 0.175249\tvalid_0's l2: 0.0523153\n",
            "[186]\tvalid_0's l1: 0.174945\tvalid_0's l2: 0.0521331\n",
            "[187]\tvalid_0's l1: 0.174653\tvalid_0's l2: 0.0519667\n",
            "[188]\tvalid_0's l1: 0.174423\tvalid_0's l2: 0.0518105\n",
            "[189]\tvalid_0's l1: 0.174123\tvalid_0's l2: 0.0516227\n",
            "[190]\tvalid_0's l1: 0.173841\tvalid_0's l2: 0.0514339\n",
            "[191]\tvalid_0's l1: 0.173551\tvalid_0's l2: 0.0512591\n",
            "[192]\tvalid_0's l1: 0.173264\tvalid_0's l2: 0.0510875\n",
            "[193]\tvalid_0's l1: 0.173059\tvalid_0's l2: 0.0509309\n",
            "[194]\tvalid_0's l1: 0.172798\tvalid_0's l2: 0.0507851\n",
            "[195]\tvalid_0's l1: 0.172556\tvalid_0's l2: 0.0506041\n",
            "[196]\tvalid_0's l1: 0.172202\tvalid_0's l2: 0.0504249\n",
            "[197]\tvalid_0's l1: 0.171916\tvalid_0's l2: 0.0502561\n",
            "[198]\tvalid_0's l1: 0.17174\tvalid_0's l2: 0.05015\n",
            "[199]\tvalid_0's l1: 0.17145\tvalid_0's l2: 0.0499833\n",
            "[200]\tvalid_0's l1: 0.171166\tvalid_0's l2: 0.0498198\n",
            "Did not meet early stopping. Best iteration is:\n",
            "[200]\tvalid_0's l1: 0.171166\tvalid_0's l2: 0.0498198\n"
          ]
        },
        {
          "output_type": "execute_result",
          "data": {
            "text/plain": [
              "LGBMRegressor(bagging_fraction=0.7, bagging_freq=4, feature_fraction=0.7,\n",
              "              learning_rate=0.01, max_bin=8, max_depth=4, metric=['l1', 'l2'],\n",
              "              num_iterations=200, num_leaves=4, objective='regression',\n",
              "              task='train', verbose=0)"
            ]
          },
          "metadata": {},
          "execution_count": 54
        }
      ]
    },
    {
      "cell_type": "code",
      "source": [
        "y_train_pred = gbm.predict(X_train, num_iteration=gbm.best_iteration_)"
      ],
      "metadata": {
        "id": "0zAJIqO6Az0r"
      },
      "execution_count": null,
      "outputs": []
    },
    {
      "cell_type": "code",
      "source": [
        "print('The rmse of prediction is:', round(mean_squared_error(y_train_pred, y_train) ** 0.5, 5))"
      ],
      "metadata": {
        "colab": {
          "base_uri": "https://localhost:8080/"
        },
        "id": "fc4Tvw9oA2GR",
        "outputId": "7b2d3030-9025-4a46-b9e4-99c8b817e9fe"
      },
      "execution_count": null,
      "outputs": [
        {
          "output_type": "stream",
          "name": "stdout",
          "text": [
            "The rmse of prediction is: 0.22606\n"
          ]
        }
      ]
    },
    {
      "cell_type": "code",
      "source": [
        "y_test_pred = np.expm1(gbm.predict(X_test, num_iteration=gbm.best_iteration_))"
      ],
      "metadata": {
        "id": "yU3wARjbBAd1"
      },
      "execution_count": null,
      "outputs": []
    },
    {
      "cell_type": "code",
      "source": [
        "print('The rmse of prediction is:', round(mean_squared_error(y_test_pred, y_test) ** 0.5, 5))"
      ],
      "metadata": {
        "colab": {
          "base_uri": "https://localhost:8080/"
        },
        "id": "ZohHtDRjBEdc",
        "outputId": "1d5696d6-bd63-4dd0-84cc-715283740d00"
      },
      "execution_count": null,
      "outputs": [
        {
          "output_type": "stream",
          "name": "stdout",
          "text": [
            "The rmse of prediction is: 0.2495\n"
          ]
        }
      ]
    },
    {
      "cell_type": "markdown",
      "source": [
        "### XGBoost Model"
      ],
      "metadata": {
        "id": "hHd74F7HJ28j"
      }
    },
    {
      "cell_type": "code",
      "source": [
        "pip install xgboost==1.0.1"
      ],
      "metadata": {
        "id": "cg8HUmtyJ-tN",
        "colab": {
          "base_uri": "https://localhost:8080/",
          "height": 311
        },
        "outputId": "cd2ee6bf-be32-4302-e6d5-58addba6f5e9"
      },
      "execution_count": 56,
      "outputs": [
        {
          "output_type": "stream",
          "name": "stdout",
          "text": [
            "Looking in indexes: https://pypi.org/simple, https://us-python.pkg.dev/colab-wheels/public/simple/\n",
            "Collecting xgboost==1.0.1\n",
            "  Downloading xgboost-1.0.1-py3-none-manylinux1_x86_64.whl (109.7 MB)\n",
            "\u001b[K     |████████████████████████████████| 109.7 MB 112.1 MB/s \n",
            "\u001b[?25hRequirement already satisfied: numpy in /usr/local/lib/python3.8/dist-packages (from xgboost==1.0.1) (1.21.6)\n",
            "Requirement already satisfied: scipy in /usr/local/lib/python3.8/dist-packages (from xgboost==1.0.1) (1.7.3)\n",
            "Installing collected packages: xgboost\n",
            "  Attempting uninstall: xgboost\n",
            "    Found existing installation: xgboost 0.90\n",
            "    Uninstalling xgboost-0.90:\n",
            "      Successfully uninstalled xgboost-0.90\n",
            "Successfully installed xgboost-1.0.1\n"
          ]
        },
        {
          "output_type": "display_data",
          "data": {
            "application/vnd.colab-display-data+json": {
              "pip_warning": {
                "packages": [
                  "xgboost"
                ]
              }
            }
          },
          "metadata": {}
        }
      ]
    },
    {
      "cell_type": "code",
      "source": [
        "# check xgboost version\n",
        "import xgboost as xg\n",
        "print(xgboost.__version__)"
      ],
      "metadata": {
        "colab": {
          "base_uri": "https://localhost:8080/",
          "height": 200
        },
        "id": "_vx-7qQHK8-N",
        "outputId": "7eb17ac2-b7f5-4c23-9455-aa23198f9ea6"
      },
      "execution_count": 58,
      "outputs": [
        {
          "output_type": "error",
          "ename": "NameError",
          "evalue": "ignored",
          "traceback": [
            "\u001b[0;31m---------------------------------------------------------------------------\u001b[0m",
            "\u001b[0;31mNameError\u001b[0m                                 Traceback (most recent call last)",
            "\u001b[0;32m<ipython-input-58-6f718043b762>\u001b[0m in \u001b[0;36m<module>\u001b[0;34m\u001b[0m\n\u001b[1;32m      1\u001b[0m \u001b[0;31m# check xgboost version\u001b[0m\u001b[0;34m\u001b[0m\u001b[0;34m\u001b[0m\u001b[0;34m\u001b[0m\u001b[0m\n\u001b[1;32m      2\u001b[0m \u001b[0;32mimport\u001b[0m \u001b[0mxgboost\u001b[0m \u001b[0;32mas\u001b[0m \u001b[0mxg\u001b[0m\u001b[0;34m\u001b[0m\u001b[0;34m\u001b[0m\u001b[0m\n\u001b[0;32m----> 3\u001b[0;31m \u001b[0mprint\u001b[0m\u001b[0;34m(\u001b[0m\u001b[0mxgboost\u001b[0m\u001b[0;34m.\u001b[0m\u001b[0m__version__\u001b[0m\u001b[0;34m)\u001b[0m\u001b[0;34m\u001b[0m\u001b[0;34m\u001b[0m\u001b[0m\n\u001b[0m",
            "\u001b[0;31mNameError\u001b[0m: name 'xgboost' is not defined"
          ]
        }
      ]
    },
    {
      "cell_type": "code",
      "source": [
        "# create an xgboost regression model\n",
        "xgb_r = xg.XGBRegressor(n_estimators=1000, max_depth=7, eta=0.1, subsample=0.7, colsample_bytree=0.8)"
      ],
      "metadata": {
        "id": "ND2wbhgLLHdl"
      },
      "execution_count": null,
      "outputs": []
    },
    {
      "cell_type": "code",
      "source": [
        "print(xgb_r.get_params())"
      ],
      "metadata": {
        "colab": {
          "base_uri": "https://localhost:8080/",
          "height": 165
        },
        "id": "0iQ-XwHwPuvJ",
        "outputId": "212f322c-fac0-4c2c-b973-4c52751140d2"
      },
      "execution_count": 54,
      "outputs": [
        {
          "output_type": "error",
          "ename": "NameError",
          "evalue": "ignored",
          "traceback": [
            "\u001b[0;31m---------------------------------------------------------------------------\u001b[0m",
            "\u001b[0;31mNameError\u001b[0m                                 Traceback (most recent call last)",
            "\u001b[0;32m<ipython-input-54-6e8ee5f10d2c>\u001b[0m in \u001b[0;36m<module>\u001b[0;34m\u001b[0m\n\u001b[0;32m----> 1\u001b[0;31m \u001b[0mprint\u001b[0m\u001b[0;34m(\u001b[0m\u001b[0mxgb_r\u001b[0m\u001b[0;34m.\u001b[0m\u001b[0mget_params\u001b[0m\u001b[0;34m(\u001b[0m\u001b[0;34m)\u001b[0m\u001b[0;34m)\u001b[0m\u001b[0;34m\u001b[0m\u001b[0;34m\u001b[0m\u001b[0m\n\u001b[0m",
            "\u001b[0;31mNameError\u001b[0m: name 'xgb_r' is not defined"
          ]
        }
      ]
    },
    {
      "cell_type": "code",
      "source": [
        "from sklearn.model_selection import RepeatedKFold\n",
        "from sklearn.model_selection import cross_val_score\n",
        "# define model evaluation method\n",
        "cv = RepeatedKFold(n_splits=10, n_repeats=3, random_state=1)\n",
        "# evaluate model\n",
        "scores = cross_val_score(xgb_r, X, y, scoring='neg_root_mean_squared_error', cv=cv, n_jobs=-1)"
      ],
      "metadata": {
        "id": "IqNG8IGiMxM3"
      },
      "execution_count": null,
      "outputs": []
    },
    {
      "cell_type": "code",
      "source": [
        "print('Mean RMSE: %.3f (%.3f)' % (scores.mean(), scores.std()) )"
      ],
      "metadata": {
        "colab": {
          "base_uri": "https://localhost:8080/"
        },
        "id": "3_N0e8QnM9YN",
        "outputId": "e127426b-22fc-4bf1-c0e2-096d3fe42f56"
      },
      "execution_count": null,
      "outputs": [
        {
          "output_type": "stream",
          "name": "stdout",
          "text": [
            "Mean RMSE: -0.040 (0.013)\n"
          ]
        }
      ]
    },
    {
      "cell_type": "code",
      "source": [
        "from sklearn.metrics import mean_squared_error as mean_squared_error\n",
        "\n",
        "# Fitting the model\n",
        "xgb_r.fit(X_train, y_train)\n",
        "\n",
        "# Predict the model\n",
        "pred = xgb_r.predict(X_train)\n",
        "\n",
        "# RMSE Computation\n",
        "rmse = np.sqrt(mean_squared_error(y_train, pred))\n",
        "print(\"RMSE : % f\" %(rmse))"
      ],
      "metadata": {
        "colab": {
          "base_uri": "https://localhost:8080/"
        },
        "id": "KbawfA4OOv76",
        "outputId": "01839b47-9042-4221-ce2d-3676ebbe6fb7"
      },
      "execution_count": null,
      "outputs": [
        {
          "output_type": "stream",
          "name": "stdout",
          "text": [
            "RMSE :  0.000635\n"
          ]
        }
      ]
    },
    {
      "cell_type": "code",
      "source": [
        "# Predict the model\n",
        "pred = xgb_r.predict(X_test)\n",
        "\n",
        "# RMSE Computation\n",
        "rmse = np.sqrt(mean_squared_error(y_test, pred))\n",
        "print(\"RMSE : % f\" %(rmse))"
      ],
      "metadata": {
        "colab": {
          "base_uri": "https://localhost:8080/"
        },
        "id": "dlhOspGtRscc",
        "outputId": "eb67fac9-ab05-4c5c-ee43-d35e0d8a2cde"
      },
      "execution_count": null,
      "outputs": [
        {
          "output_type": "stream",
          "name": "stdout",
          "text": [
            "RMSE :  0.051147\n"
          ]
        }
      ]
    },
    {
      "cell_type": "markdown",
      "source": [
        "##Train Test Split - LSTM"
      ],
      "metadata": {
        "id": "N5vsJnguXoZx"
      }
    },
    {
      "cell_type": "code",
      "source": [
        "# Importing Training Set\n",
        "dataset_train = df_scaled[(df_scaled['Area']=='India') & (df_scaled['Item'] == 'Rice')]\n",
        "cols = ['Date', 'pesticide', 'land_use', 'fertilizer', 'temperature', 'Yield']\n",
        "\n",
        "# Extract dates (will be used in visualization)\n",
        "datelist_train = list(dataset_train['Date'])\n",
        "\n",
        "print('Training set shape == {}'.format(dataset_train.shape))\n",
        "print('All timestamps == {}'.format(len(datelist_train)))\n",
        "print('Featured selected: {}'.format(cols))\n",
        "\n"
      ],
      "metadata": {
        "colab": {
          "base_uri": "https://localhost:8080/"
        },
        "id": "Ogwz0vC-PjDA",
        "outputId": "8ffe63bb-702e-4084-c93f-b93ce8888518"
      },
      "execution_count": 42,
      "outputs": [
        {
          "output_type": "stream",
          "name": "stdout",
          "text": [
            "Training set shape == (61, 9)\n",
            "All timestamps == 61\n",
            "Featured selected: ['Date', 'pesticide', 'land_use', 'fertilizer', 'temperature', 'Yield']\n"
          ]
        }
      ]
    },
    {
      "cell_type": "code",
      "source": [
        "df_1 = df_scaled[(df_scaled['Area']=='India') & (df_scaled['Item'] == 'Maize')]\n",
        "# df_1 = df_scaled.groupby(['Item', 'Date']).mean().reset_index()\n",
        "# df_1 = df_1[df_1['Item'] == 'Rice']\n",
        "# df_2_Date = df_1[['Date']]\n",
        "df_2_train = df_1.iloc[:54,:5]\n",
        "df_2_test = df_1.iloc[54:,:5]"
      ],
      "metadata": {
        "id": "rpEJe8WUXVA9"
      },
      "execution_count": 43,
      "outputs": []
    },
    {
      "cell_type": "code",
      "source": [
        "df_2_scaled = df_2_train\n",
        "df_2_scaled_y = list(df_2_scaled['Yield'])"
      ],
      "metadata": {
        "id": "BrS4h3Fua8d4"
      },
      "execution_count": 44,
      "outputs": []
    },
    {
      "cell_type": "code",
      "source": [
        "len(df_2_scaled_y)\n"
      ],
      "metadata": {
        "colab": {
          "base_uri": "https://localhost:8080/"
        },
        "id": "0npiAtF5vkmT",
        "outputId": "0508fad0-8632-4cfe-9cb4-fb388078eecd"
      },
      "execution_count": 45,
      "outputs": [
        {
          "output_type": "execute_result",
          "data": {
            "text/plain": [
              "54"
            ]
          },
          "metadata": {},
          "execution_count": 45
        }
      ]
    },
    {
      "cell_type": "code",
      "source": [
        "len(df_1)"
      ],
      "metadata": {
        "colab": {
          "base_uri": "https://localhost:8080/"
        },
        "id": "gszDiirw0wuq",
        "outputId": "af7be899-4136-4489-a35b-415cb4d1274c"
      },
      "execution_count": 46,
      "outputs": [
        {
          "output_type": "execute_result",
          "data": {
            "text/plain": [
              "61"
            ]
          },
          "metadata": {},
          "execution_count": 46
        }
      ]
    },
    {
      "cell_type": "code",
      "source": [
        "hops = 4\n",
        "records = 54\n",
        "no_cols = 5\n",
        "X_train = []\n",
        "y_train = []\n",
        "for i in range(4,54):\n",
        "  X_train.append(df_2_scaled[i-4:i])\n",
        "  y_train.append(df_2_scaled_y[i])\n",
        "X_train, y_train = np.array(X_train), np.array(y_train)"
      ],
      "metadata": {
        "id": "zeEBMYzcbEL4"
      },
      "execution_count": 47,
      "outputs": []
    },
    {
      "cell_type": "code",
      "source": [
        "X_train.shape, y_train.shape"
      ],
      "metadata": {
        "colab": {
          "base_uri": "https://localhost:8080/"
        },
        "id": "dmz1jTUnclYN",
        "outputId": "79b63c70-be54-4ca7-d4ff-1e3ea290bbda"
      },
      "execution_count": 48,
      "outputs": [
        {
          "output_type": "execute_result",
          "data": {
            "text/plain": [
              "((50, 4, 5), (50,))"
            ]
          },
          "metadata": {},
          "execution_count": 48
        }
      ]
    },
    {
      "cell_type": "code",
      "source": [
        "model=Sequential()\n",
        "model.add(LSTM(units=20, return_sequences=True, input_shape=(4,5)))\n",
        "model.add(Dropout(0.2))\n",
        "model.add(LSTM(units=50))\n",
        "model.add(Dropout(0.2))\n",
        "model.add(Dense(1))\n",
        "model.compile(optimizer='adam', loss='mean_squared_error')\n"
      ],
      "metadata": {
        "id": "kEFQY97Sgc6a"
      },
      "execution_count": 49,
      "outputs": []
    },
    {
      "cell_type": "code",
      "source": [
        "model.fit(X_train, y_train, epochs =20, batch_size=2, verbose=0)"
      ],
      "metadata": {
        "id": "xQeRM3cKhecH",
        "colab": {
          "base_uri": "https://localhost:8080/"
        },
        "outputId": "b4299c1b-48ae-406e-d5b8-3f69ba5fc321"
      },
      "execution_count": 50,
      "outputs": [
        {
          "output_type": "execute_result",
          "data": {
            "text/plain": [
              "<keras.callbacks.History at 0x7fb5ddce75e0>"
            ]
          },
          "metadata": {},
          "execution_count": 50
        }
      ]
    },
    {
      "cell_type": "code",
      "source": [
        "model.summary()"
      ],
      "metadata": {
        "colab": {
          "base_uri": "https://localhost:8080/"
        },
        "id": "aUmH3PqLMFmC",
        "outputId": "a8942986-b24f-4ba9-bd0b-d0b342377de9"
      },
      "execution_count": 51,
      "outputs": [
        {
          "output_type": "stream",
          "name": "stdout",
          "text": [
            "Model: \"sequential_79\"\n",
            "_________________________________________________________________\n",
            " Layer (type)                Output Shape              Param #   \n",
            "=================================================================\n",
            " lstm_158 (LSTM)             (None, 4, 20)             2080      \n",
            "                                                                 \n",
            " dropout_158 (Dropout)       (None, 4, 20)             0         \n",
            "                                                                 \n",
            " lstm_159 (LSTM)             (None, 50)                14200     \n",
            "                                                                 \n",
            " dropout_159 (Dropout)       (None, 50)                0         \n",
            "                                                                 \n",
            " dense_79 (Dense)            (None, 1)                 51        \n",
            "                                                                 \n",
            "=================================================================\n",
            "Total params: 16,331\n",
            "Trainable params: 16,331\n",
            "Non-trainable params: 0\n",
            "_________________________________________________________________\n"
          ]
        }
      ]
    },
    {
      "cell_type": "code",
      "source": [
        "full_df = pd.concat((df_2_test, df_2_train[-4:]), axis=0)\n",
        "full_df.shape"
      ],
      "metadata": {
        "colab": {
          "base_uri": "https://localhost:8080/"
        },
        "id": "wpChuNjOhrYn",
        "outputId": "ca98be73-efeb-42fe-f791-b39ba7b0fc21"
      },
      "execution_count": 52,
      "outputs": [
        {
          "output_type": "execute_result",
          "data": {
            "text/plain": [
              "(11, 5)"
            ]
          },
          "metadata": {},
          "execution_count": 52
        }
      ]
    },
    {
      "cell_type": "code",
      "source": [
        "hops = 4\n",
        "records = 11\n",
        "no_cols = 5\n",
        "X_train_pred = []\n",
        "for i in range(4,11):\n",
        "  X_train_pred.append(full_df[i-4:i])\n",
        "X_train_pred = np.array(X_train_pred)\n",
        "X_train_pred.shape"
      ],
      "metadata": {
        "colab": {
          "base_uri": "https://localhost:8080/"
        },
        "id": "GTiFmJlPiWLH",
        "outputId": "8ac40822-2744-4070-ab14-a59b1d4728b8"
      },
      "execution_count": null,
      "outputs": [
        {
          "output_type": "execute_result",
          "data": {
            "text/plain": [
              "(7, 4, 5)"
            ]
          },
          "metadata": {},
          "execution_count": 121
        }
      ]
    },
    {
      "cell_type": "code",
      "source": [
        "preds = model(X_train_pred, training=False)\n",
        "preds.numpy().reshape((len(preds)))"
      ],
      "metadata": {
        "colab": {
          "base_uri": "https://localhost:8080/"
        },
        "id": "qZowdSHUircX",
        "outputId": "51570151-3f25-4d1e-c78d-f0273c06a4fe"
      },
      "execution_count": null,
      "outputs": [
        {
          "output_type": "execute_result",
          "data": {
            "text/plain": [
              "array([0.00049825, 0.00054694, 0.00047139, 0.00020543, 0.00027534,\n",
              "       0.00040653, 0.00066871], dtype=float32)"
            ]
          },
          "metadata": {},
          "execution_count": 122
        }
      ]
    },
    {
      "cell_type": "code",
      "source": [
        "true = list(df_1['Yield'][-7:])"
      ],
      "metadata": {
        "id": "kWrxCBiEiwCr"
      },
      "execution_count": null,
      "outputs": []
    },
    {
      "cell_type": "code",
      "source": [
        "from sklearn.metrics import mean_squared_error\n",
        "import math\n",
        "\n",
        "math.sqrt(mean_squared_error(preds, true))"
      ],
      "metadata": {
        "colab": {
          "base_uri": "https://localhost:8080/"
        },
        "id": "vj805MkTjANh",
        "outputId": "ecf51ce0-f70b-4f4f-fc9f-b97c2cc4e671"
      },
      "execution_count": null,
      "outputs": [
        {
          "output_type": "execute_result",
          "data": {
            "text/plain": [
              "0.0005994152374174648"
            ]
          },
          "metadata": {},
          "execution_count": 124
        }
      ]
    },
    {
      "cell_type": "code",
      "source": [
        "len(list(df_1['Yield']))"
      ],
      "metadata": {
        "colab": {
          "base_uri": "https://localhost:8080/"
        },
        "id": "2m8W8RYLzAZN",
        "outputId": "83123438-61bb-47d1-f17f-066570c2b8d4"
      },
      "execution_count": null,
      "outputs": [
        {
          "output_type": "execute_result",
          "data": {
            "text/plain": [
              "61"
            ]
          },
          "metadata": {},
          "execution_count": 125
        }
      ]
    },
    {
      "cell_type": "code",
      "source": [
        "plt.plot(preds)\n",
        "plt.plot(true)"
      ],
      "metadata": {
        "colab": {
          "base_uri": "https://localhost:8080/",
          "height": 282
        },
        "id": "r7UAeU0vkJ1H",
        "outputId": "568ad748-4a04-4a7a-e1c8-332fd6b3b1e5"
      },
      "execution_count": null,
      "outputs": [
        {
          "output_type": "execute_result",
          "data": {
            "text/plain": [
              "[<matplotlib.lines.Line2D at 0x7f2c46e6b1f0>]"
            ]
          },
          "metadata": {},
          "execution_count": 126
        },
        {
          "output_type": "display_data",
          "data": {
            "text/plain": [
              "<Figure size 432x288 with 1 Axes>"
            ],
            "image/png": "[encoded data removed]"
          },
          "metadata": {
            "needs_background": "light"
          }
        }
      ]
    },
    {
      "cell_type": "markdown",
      "source": [
        "### LSTM FINAL"
      ],
      "metadata": {
        "id": "YSCHI3l3aHWh"
      }
    },
    {
      "cell_type": "code",
      "source": [
        "data_scaled_trim = data_scaled['Yield']"
      ],
      "metadata": {
        "id": "tOkgoMaSGXsg"
      },
      "execution_count": null,
      "outputs": []
    },
    {
      "cell_type": "code",
      "source": [
        "from sklearn.metrics import mean_squared_error\n",
        "import math"
      ],
      "metadata": {
        "id": "-Xm6CBLveeRj"
      },
      "execution_count": 37,
      "outputs": []
    },
    {
      "cell_type": "code",
      "source": [
        "def lstm(area, item, data):    \n",
        "    # Importing Training Set\n",
        "    # dataset_train = df_scaled[(df_scaled['Area']=='area') & (df_scaled['Item'] == 'item')]\n",
        "    # cols = ['Date', 'pesticide', 'land_use', 'fertilizer', 'temperature', 'Yield']\n",
        "\n",
        "    # # Extract dates (will be used in visualization)\n",
        "    # datelist_train = list(dataset_train['Date'])\n",
        "\n",
        "    # print('Training set shape == {}'.format(dataset_train.shape))\n",
        "    # print('All timestamps == {}'.format(len(datelist_train)))\n",
        "    # print('Featured selected: {}'.format(cols))\n",
        "    \n",
        "    df_1 = data[(data['Area']==area) & (data['Item'] == item)]\n",
        "    #print('df_1: ', df_1)\n",
        "    df_2_train = df_1.iloc[:54,:5]\n",
        "    #print('train',df_2_train)\n",
        "    df_2_test = df_1.iloc[54:,:5]\n",
        "    #print('test', df_2_test)\n",
        "\n",
        "    df_2_scaled = df_2_train\n",
        "    #print(df_2_train)\n",
        "    df_2_scaled_y = list(df_2_scaled['Yield'])\n",
        "\n",
        "\n",
        "\n",
        "    X_train = []\n",
        "    y_train = []\n",
        "    #print(len(df_2_scaled_y))\n",
        "    for i in range(4,54):\n",
        "        X_train.append(df_2_scaled[i-4:i])\n",
        "        y_train.append(df_2_scaled_y[i])\n",
        "    X_train, y_train = np.array(X_train), np.array(y_train)\n",
        "\n",
        "    # X_train.shape, y_train.shape\n",
        "\n",
        "    model=Sequential()\n",
        "    model.add(LSTM(units=20, return_sequences=True, input_shape=(4,5)))\n",
        "    model.add(Dropout(0.2))\n",
        "    model.add(LSTM(units=50))\n",
        "    model.add(Dropout(0.2))\n",
        "    model.add(Dense(1))\n",
        "    model.compile(optimizer='adam', loss='mean_squared_error')\n",
        "\n",
        "    model.fit(X_train, y_train, epochs =20, batch_size=2, verbose=0)\n",
        "\n",
        "    full_df = pd.concat((df_2_test, df_2_train[-4:]), axis=0)\n",
        "    full_df.shape\n",
        "\n",
        "    X_train_pred = []\n",
        "\n",
        "    for i in range(4,11):\n",
        "        X_train_pred.append(full_df[i-4:i])\n",
        "    X_train_pred = np.array(X_train_pred)\n",
        "    X_train_pred.shape\n",
        "\n",
        "    preds = model(X_train_pred, training=False)\n",
        "    preds.numpy().reshape((len(preds)))\n",
        "\n",
        "    true = list(df_1['Yield'][-7:])\n",
        "\n",
        "    rmse_model = math.sqrt(mean_squared_error(preds, true))\n",
        "\n",
        "    return rmse_model\n"
      ],
      "metadata": {
        "id": "GsVmMh-A6E6b"
      },
      "execution_count": 38,
      "outputs": []
    },
    {
      "cell_type": "code",
      "source": [
        "def lstm_final(data):\n",
        "   \n",
        "    item_list = []\n",
        "    area_list = []\n",
        "    rmse_list = []\n",
        "\n",
        "\n",
        "    area_list = data['Area'].unique()\n",
        "    item_list = data['Item'].unique()\n",
        "    \n",
        "\n",
        "    for area in area_list[:10]:\n",
        "      # print(area)\n",
        "      for item in item_list[:10]:\n",
        "        # print(item)\n",
        "        try:\n",
        "        #print(data.head())\n",
        "            rmse_final = lstm(area, item, data)\n",
        "            rmse_list.append(rmse_final)\n",
        "        except:\n",
        "           continue\n",
        "      \n",
        "\n",
        "    return np.mean(rmse_list)\n",
        "\n",
        "\n"
      ],
      "metadata": {
        "id": "r8XYD1Eze0VX"
      },
      "execution_count": 39,
      "outputs": []
    },
    {
      "cell_type": "code",
      "source": [
        "rmse_mean = lstm_final(df_scaled)"
      ],
      "metadata": {
        "id": "uUX7veyjhWEo"
      },
      "execution_count": 40,
      "outputs": []
    },
    {
      "cell_type": "code",
      "source": [
        "print(\"The Avg RMSE for the LSTM model is: \", rmse_mean)"
      ],
      "metadata": {
        "id": "PRnYE0qRjaE4",
        "colab": {
          "base_uri": "https://localhost:8080/"
        },
        "outputId": "e8e24114-b342-43ea-f44f-f5e31529e1a6"
      },
      "execution_count": 41,
      "outputs": [
        {
          "output_type": "stream",
          "name": "stdout",
          "text": [
            "The Avg RMSE for the LSTM model is:  0.0015657703476377233\n"
          ]
        }
      ]
    },
    {
      "cell_type": "code",
      "source": [],
      "metadata": {
        "id": "ZzZJTea7nQ0M"
      },
      "execution_count": null,
      "outputs": []
    }
  ],
  "metadata": {
    "colab": {
      "provenance": [],
      "collapsed_sections": [
        "h5IFOdBaC41b",
        "ldkFG0VxnFUp",
        "pbTQiWwo1xxY",
        "S1eNxhaCDt5I",
        "N5vsJnguXoZx"
      ],
      "toc_visible": true
    },
    "kernelspec": {
      "display_name": "Python 3",
      "language": "python",
      "name": "python3"
    },
    "language_info": {
      "codemirror_mode": {
        "name": "ipython",
        "version": 3
      },
      "file_extension": ".py",
      "mimetype": "text/x-python",
      "name": "python",
      "nbconvert_exporter": "python",
      "pygments_lexer": "ipython3",
      "version": "3.8.5"
    },
    "accelerator": "GPU",
    "gpuClass": "standard"
  },
  "nbformat": 4,
  "nbformat_minor": 0
}
